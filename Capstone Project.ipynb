{
 "cells": [
  {
   "cell_type": "markdown",
   "id": "949e91bc",
   "metadata": {},
   "source": [
    "### KNN Without feature scaling"
   ]
  },
  {
   "cell_type": "code",
   "execution_count": 1,
   "id": "3badfd0c",
   "metadata": {},
   "outputs": [],
   "source": [
    "import pandas as pd\n",
    "import numpy as np"
   ]
  },
  {
   "cell_type": "code",
   "execution_count": 2,
   "id": "611a2c01",
   "metadata": {},
   "outputs": [
    {
     "data": {
      "text/html": [
       "<div>\n",
       "<style scoped>\n",
       "    .dataframe tbody tr th:only-of-type {\n",
       "        vertical-align: middle;\n",
       "    }\n",
       "\n",
       "    .dataframe tbody tr th {\n",
       "        vertical-align: top;\n",
       "    }\n",
       "\n",
       "    .dataframe thead th {\n",
       "        text-align: right;\n",
       "    }\n",
       "</style>\n",
       "<table border=\"1\" class=\"dataframe\">\n",
       "  <thead>\n",
       "    <tr style=\"text-align: right;\">\n",
       "      <th></th>\n",
       "      <th>pc</th>\n",
       "      <th>ld</th>\n",
       "      <th>m0</th>\n",
       "      <th>m1</th>\n",
       "      <th>m2</th>\n",
       "      <th>m3</th>\n",
       "      <th>m4</th>\n",
       "      <th>m5</th>\n",
       "      <th>m6</th>\n",
       "      <th>m7</th>\n",
       "      <th>m8</th>\n",
       "      <th>m9</th>\n",
       "      <th>m10</th>\n",
       "      <th>m11</th>\n",
       "      <th>m12</th>\n",
       "      <th>m13</th>\n",
       "      <th>m14</th>\n",
       "      <th>ma</th>\n",
       "      <th>pred</th>\n",
       "    </tr>\n",
       "  </thead>\n",
       "  <tbody>\n",
       "    <tr>\n",
       "      <th>0</th>\n",
       "      <td>y</td>\n",
       "      <td>83.71</td>\n",
       "      <td>63.0</td>\n",
       "      <td>7.2</td>\n",
       "      <td>52.5</td>\n",
       "      <td>14.0232</td>\n",
       "      <td>130.8300</td>\n",
       "      <td>12.4280</td>\n",
       "      <td>188.8425</td>\n",
       "      <td>8.9520</td>\n",
       "      <td>201.1905</td>\n",
       "      <td>9.2896</td>\n",
       "      <td>141.9075</td>\n",
       "      <td>16.0968</td>\n",
       "      <td>150.3390</td>\n",
       "      <td>12.4880</td>\n",
       "      <td>173.1240</td>\n",
       "      <td>m78</td>\n",
       "      <td>0</td>\n",
       "    </tr>\n",
       "    <tr>\n",
       "      <th>1</th>\n",
       "      <td>y</td>\n",
       "      <td>108.94</td>\n",
       "      <td>31.5</td>\n",
       "      <td>12.8</td>\n",
       "      <td>84.0</td>\n",
       "      <td>13.2840</td>\n",
       "      <td>128.8350</td>\n",
       "      <td>13.5256</td>\n",
       "      <td>183.0990</td>\n",
       "      <td>8.8520</td>\n",
       "      <td>207.2385</td>\n",
       "      <td>8.4704</td>\n",
       "      <td>154.7805</td>\n",
       "      <td>13.3304</td>\n",
       "      <td>101.0205</td>\n",
       "      <td>12.5096</td>\n",
       "      <td>131.4075</td>\n",
       "      <td>m78</td>\n",
       "      <td>0</td>\n",
       "    </tr>\n",
       "    <tr>\n",
       "      <th>2</th>\n",
       "      <td>E</td>\n",
       "      <td>169.65</td>\n",
       "      <td>0.0</td>\n",
       "      <td>5.6</td>\n",
       "      <td>73.5</td>\n",
       "      <td>14.5472</td>\n",
       "      <td>128.9295</td>\n",
       "      <td>13.6424</td>\n",
       "      <td>174.4680</td>\n",
       "      <td>8.9800</td>\n",
       "      <td>190.3125</td>\n",
       "      <td>11.3056</td>\n",
       "      <td>156.7650</td>\n",
       "      <td>NaN</td>\n",
       "      <td>122.5350</td>\n",
       "      <td>11.7136</td>\n",
       "      <td>176.8200</td>\n",
       "      <td>m76</td>\n",
       "      <td>1</td>\n",
       "    </tr>\n",
       "    <tr>\n",
       "      <th>3</th>\n",
       "      <td>x</td>\n",
       "      <td>122.42</td>\n",
       "      <td>31.5</td>\n",
       "      <td>7.2</td>\n",
       "      <td>63.0</td>\n",
       "      <td>15.0152</td>\n",
       "      <td>119.8575</td>\n",
       "      <td>12.3344</td>\n",
       "      <td>186.8580</td>\n",
       "      <td>10.7208</td>\n",
       "      <td>193.8195</td>\n",
       "      <td>10.6096</td>\n",
       "      <td>175.7490</td>\n",
       "      <td>NaN</td>\n",
       "      <td>124.8030</td>\n",
       "      <td>13.8424</td>\n",
       "      <td>168.2625</td>\n",
       "      <td>m55</td>\n",
       "      <td>0</td>\n",
       "    </tr>\n",
       "    <tr>\n",
       "      <th>4</th>\n",
       "      <td>E</td>\n",
       "      <td>125.43</td>\n",
       "      <td>94.5</td>\n",
       "      <td>7.2</td>\n",
       "      <td>42.0</td>\n",
       "      <td>14.4176</td>\n",
       "      <td>135.4290</td>\n",
       "      <td>14.5824</td>\n",
       "      <td>187.8135</td>\n",
       "      <td>9.3088</td>\n",
       "      <td>203.1540</td>\n",
       "      <td>9.8280</td>\n",
       "      <td>172.7040</td>\n",
       "      <td>14.4720</td>\n",
       "      <td>120.2145</td>\n",
       "      <td>NaN</td>\n",
       "      <td>150.1185</td>\n",
       "      <td>m76</td>\n",
       "      <td>0</td>\n",
       "    </tr>\n",
       "  </tbody>\n",
       "</table>\n",
       "</div>"
      ],
      "text/plain": [
       "  pc      ld    m0    m1    m2       m3        m4       m5        m6       m7  \\\n",
       "0  y   83.71  63.0   7.2  52.5  14.0232  130.8300  12.4280  188.8425   8.9520   \n",
       "1  y  108.94  31.5  12.8  84.0  13.2840  128.8350  13.5256  183.0990   8.8520   \n",
       "2  E  169.65   0.0   5.6  73.5  14.5472  128.9295  13.6424  174.4680   8.9800   \n",
       "3  x  122.42  31.5   7.2  63.0  15.0152  119.8575  12.3344  186.8580  10.7208   \n",
       "4  E  125.43  94.5   7.2  42.0  14.4176  135.4290  14.5824  187.8135   9.3088   \n",
       "\n",
       "         m8       m9       m10      m11       m12      m13       m14   ma  \\\n",
       "0  201.1905   9.2896  141.9075  16.0968  150.3390  12.4880  173.1240  m78   \n",
       "1  207.2385   8.4704  154.7805  13.3304  101.0205  12.5096  131.4075  m78   \n",
       "2  190.3125  11.3056  156.7650      NaN  122.5350  11.7136  176.8200  m76   \n",
       "3  193.8195  10.6096  175.7490      NaN  124.8030  13.8424  168.2625  m55   \n",
       "4  203.1540   9.8280  172.7040  14.4720  120.2145      NaN  150.1185  m76   \n",
       "\n",
       "   pred  \n",
       "0     0  \n",
       "1     0  \n",
       "2     1  \n",
       "3     0  \n",
       "4     0  "
      ]
     },
     "execution_count": 2,
     "metadata": {},
     "output_type": "execute_result"
    }
   ],
   "source": [
    "df = pd.read_csv('Dataset\\Train_Data.csv')\n",
    "df.head()"
   ]
  },
  {
   "cell_type": "code",
   "execution_count": 3,
   "id": "c18cdf0e",
   "metadata": {},
   "outputs": [
    {
     "name": "stderr",
     "output_type": "stream",
     "text": [
      "C:\\Users\\yashw\\AppData\\Local\\Temp\\ipykernel_10068\\3988995985.py:3: FutureWarning: Dropping of nuisance columns in DataFrame reductions (with 'numeric_only=None') is deprecated; in a future version this will raise TypeError.  Select only valid columns before calling the reduction.\n",
      "  df.fillna(df.mean(), inplace=True)\n"
     ]
    },
    {
     "data": {
      "text/plain": [
       "(22584, 19)"
      ]
     },
     "execution_count": 3,
     "metadata": {},
     "output_type": "execute_result"
    }
   ],
   "source": [
    "# Removing NAN values\n",
    "# df.dropna(inplace=True)\n",
    "df.fillna(df.mean(), inplace=True)\n",
    "df.shape"
   ]
  },
  {
   "cell_type": "code",
   "execution_count": 4,
   "id": "c3297069",
   "metadata": {},
   "outputs": [],
   "source": [
    "# Separating the features and target variables\n",
    "x=df.drop(columns=['pred'])\n",
    "y=df.pred"
   ]
  },
  {
   "cell_type": "code",
   "execution_count": 5,
   "id": "91ad6883",
   "metadata": {},
   "outputs": [],
   "source": [
    "# Converting the string values in the 'pc' and 'ma' columns into numerical representations\n",
    "from sklearn.preprocessing import LabelEncoder\n",
    "label_encoder = LabelEncoder()\n",
    "x.pc = label_encoder.fit_transform(x.pc)\n",
    "x.ma = label_encoder.fit_transform(x.ma)"
   ]
  },
  {
   "cell_type": "code",
   "execution_count": 6,
   "id": "b52797af",
   "metadata": {},
   "outputs": [
    {
     "data": {
      "text/html": [
       "<div>\n",
       "<style scoped>\n",
       "    .dataframe tbody tr th:only-of-type {\n",
       "        vertical-align: middle;\n",
       "    }\n",
       "\n",
       "    .dataframe tbody tr th {\n",
       "        vertical-align: top;\n",
       "    }\n",
       "\n",
       "    .dataframe thead th {\n",
       "        text-align: right;\n",
       "    }\n",
       "</style>\n",
       "<table border=\"1\" class=\"dataframe\">\n",
       "  <thead>\n",
       "    <tr style=\"text-align: right;\">\n",
       "      <th></th>\n",
       "      <th>index</th>\n",
       "      <th>pc</th>\n",
       "      <th>ld</th>\n",
       "      <th>m0</th>\n",
       "      <th>m1</th>\n",
       "      <th>m2</th>\n",
       "      <th>m3</th>\n",
       "      <th>m4</th>\n",
       "      <th>m5</th>\n",
       "      <th>m6</th>\n",
       "      <th>m7</th>\n",
       "      <th>m8</th>\n",
       "      <th>m9</th>\n",
       "      <th>m10</th>\n",
       "      <th>m11</th>\n",
       "      <th>m12</th>\n",
       "      <th>m13</th>\n",
       "      <th>m14</th>\n",
       "      <th>ma</th>\n",
       "    </tr>\n",
       "  </thead>\n",
       "  <tbody>\n",
       "    <tr>\n",
       "      <th>0</th>\n",
       "      <td>0</td>\n",
       "      <td>E</td>\n",
       "      <td>156.46</td>\n",
       "      <td>73.5</td>\n",
       "      <td>8.8</td>\n",
       "      <td>105.0</td>\n",
       "      <td>13.2768</td>\n",
       "      <td>113.5365</td>\n",
       "      <td>13.9552</td>\n",
       "      <td>168.5460</td>\n",
       "      <td>8.5896</td>\n",
       "      <td>187.6560</td>\n",
       "      <td>8.3472</td>\n",
       "      <td>178.5945</td>\n",
       "      <td>14.3192</td>\n",
       "      <td>138.0435</td>\n",
       "      <td>12.7008</td>\n",
       "      <td>166.1100</td>\n",
       "      <td>m76</td>\n",
       "    </tr>\n",
       "    <tr>\n",
       "      <th>1</th>\n",
       "      <td>1</td>\n",
       "      <td>y</td>\n",
       "      <td>58.87</td>\n",
       "      <td>84.0</td>\n",
       "      <td>12.8</td>\n",
       "      <td>42.0</td>\n",
       "      <td>14.4440</td>\n",
       "      <td>126.6930</td>\n",
       "      <td>13.6688</td>\n",
       "      <td>190.6275</td>\n",
       "      <td>10.1712</td>\n",
       "      <td>202.5870</td>\n",
       "      <td>8.5416</td>\n",
       "      <td>166.9815</td>\n",
       "      <td>15.5944</td>\n",
       "      <td>142.5690</td>\n",
       "      <td>11.6832</td>\n",
       "      <td>177.7230</td>\n",
       "      <td>m78</td>\n",
       "    </tr>\n",
       "    <tr>\n",
       "      <th>2</th>\n",
       "      <td>2</td>\n",
       "      <td>w</td>\n",
       "      <td>139.68</td>\n",
       "      <td>126.0</td>\n",
       "      <td>3.2</td>\n",
       "      <td>73.5</td>\n",
       "      <td>14.2432</td>\n",
       "      <td>107.4885</td>\n",
       "      <td>13.8544</td>\n",
       "      <td>168.3255</td>\n",
       "      <td>10.2504</td>\n",
       "      <td>214.2735</td>\n",
       "      <td>11.3392</td>\n",
       "      <td>155.1795</td>\n",
       "      <td>16.0256</td>\n",
       "      <td>132.1005</td>\n",
       "      <td>13.0104</td>\n",
       "      <td>185.6085</td>\n",
       "      <td>m78</td>\n",
       "    </tr>\n",
       "    <tr>\n",
       "      <th>3</th>\n",
       "      <td>3</td>\n",
       "      <td>z</td>\n",
       "      <td>194.06</td>\n",
       "      <td>52.5</td>\n",
       "      <td>6.4</td>\n",
       "      <td>105.0</td>\n",
       "      <td>14.5480</td>\n",
       "      <td>138.6105</td>\n",
       "      <td>13.5080</td>\n",
       "      <td>196.6545</td>\n",
       "      <td>10.6304</td>\n",
       "      <td>213.4650</td>\n",
       "      <td>9.9224</td>\n",
       "      <td>191.1000</td>\n",
       "      <td>14.8256</td>\n",
       "      <td>128.0475</td>\n",
       "      <td>12.1984</td>\n",
       "      <td>180.2745</td>\n",
       "      <td>m75</td>\n",
       "    </tr>\n",
       "    <tr>\n",
       "      <th>4</th>\n",
       "      <td>4</td>\n",
       "      <td>x</td>\n",
       "      <td>173.14</td>\n",
       "      <td>42.0</td>\n",
       "      <td>8.0</td>\n",
       "      <td>136.5</td>\n",
       "      <td>14.9496</td>\n",
       "      <td>103.8765</td>\n",
       "      <td>13.8936</td>\n",
       "      <td>168.3570</td>\n",
       "      <td>9.6184</td>\n",
       "      <td>191.2050</td>\n",
       "      <td>9.9400</td>\n",
       "      <td>185.0310</td>\n",
       "      <td>13.8664</td>\n",
       "      <td>124.7610</td>\n",
       "      <td>NaN</td>\n",
       "      <td>157.6470</td>\n",
       "      <td>m55</td>\n",
       "    </tr>\n",
       "  </tbody>\n",
       "</table>\n",
       "</div>"
      ],
      "text/plain": [
       "   index pc      ld     m0    m1     m2       m3        m4       m5        m6  \\\n",
       "0      0  E  156.46   73.5   8.8  105.0  13.2768  113.5365  13.9552  168.5460   \n",
       "1      1  y   58.87   84.0  12.8   42.0  14.4440  126.6930  13.6688  190.6275   \n",
       "2      2  w  139.68  126.0   3.2   73.5  14.2432  107.4885  13.8544  168.3255   \n",
       "3      3  z  194.06   52.5   6.4  105.0  14.5480  138.6105  13.5080  196.6545   \n",
       "4      4  x  173.14   42.0   8.0  136.5  14.9496  103.8765  13.8936  168.3570   \n",
       "\n",
       "        m7        m8       m9       m10      m11       m12      m13       m14  \\\n",
       "0   8.5896  187.6560   8.3472  178.5945  14.3192  138.0435  12.7008  166.1100   \n",
       "1  10.1712  202.5870   8.5416  166.9815  15.5944  142.5690  11.6832  177.7230   \n",
       "2  10.2504  214.2735  11.3392  155.1795  16.0256  132.1005  13.0104  185.6085   \n",
       "3  10.6304  213.4650   9.9224  191.1000  14.8256  128.0475  12.1984  180.2745   \n",
       "4   9.6184  191.2050   9.9400  185.0310  13.8664  124.7610      NaN  157.6470   \n",
       "\n",
       "    ma  \n",
       "0  m76  \n",
       "1  m78  \n",
       "2  m78  \n",
       "3  m75  \n",
       "4  m55  "
      ]
     },
     "execution_count": 6,
     "metadata": {},
     "output_type": "execute_result"
    }
   ],
   "source": [
    "df_test = pd.read_csv('Dataset/Test_Data.csv')\n",
    "df_test.head()"
   ]
  },
  {
   "cell_type": "code",
   "execution_count": 7,
   "id": "78afe573",
   "metadata": {},
   "outputs": [
    {
     "name": "stderr",
     "output_type": "stream",
     "text": [
      "C:\\Users\\yashw\\AppData\\Local\\Temp\\ipykernel_10068\\594377900.py:2: FutureWarning: Dropping of nuisance columns in DataFrame reductions (with 'numeric_only=None') is deprecated; in a future version this will raise TypeError.  Select only valid columns before calling the reduction.\n",
      "  df_test.fillna(df.mean(), inplace=True)\n"
     ]
    }
   ],
   "source": [
    "# To replace NaN values with the median in multiple columns of a DataFrame\n",
    "df_test.fillna(df.mean(), inplace=True)"
   ]
  },
  {
   "cell_type": "code",
   "execution_count": 8,
   "id": "34f19531",
   "metadata": {},
   "outputs": [],
   "source": [
    "x_test=df_test.drop(columns=['index'])  # Remving 'index' column from test dataframe\n",
    "\n",
    "# Converting the string values in the 'pc' and 'ma' columns into numerical representations\n",
    "x_test.pc = label_encoder.fit_transform(x_test.pc)\n",
    "x_test.ma = label_encoder.fit_transform(x_test.ma)"
   ]
  },
  {
   "cell_type": "code",
   "execution_count": 9,
   "id": "d1af3b4f",
   "metadata": {},
   "outputs": [],
   "source": [
    "from sklearn.neighbors import KNeighborsClassifier\n",
    "from sklearn.preprocessing import StandardScaler\n",
    "from sklearn.metrics import classification_report,confusion_matrix\n",
    "from sklearn.model_selection import RepeatedStratifiedKFold,train_test_split,GridSearchCV"
   ]
  },
  {
   "cell_type": "code",
   "execution_count": 10,
   "id": "07868f21",
   "metadata": {},
   "outputs": [
    {
     "data": {
      "text/html": [
       "<style>#sk-container-id-1 {color: black;background-color: white;}#sk-container-id-1 pre{padding: 0;}#sk-container-id-1 div.sk-toggleable {background-color: white;}#sk-container-id-1 label.sk-toggleable__label {cursor: pointer;display: block;width: 100%;margin-bottom: 0;padding: 0.3em;box-sizing: border-box;text-align: center;}#sk-container-id-1 label.sk-toggleable__label-arrow:before {content: \"▸\";float: left;margin-right: 0.25em;color: #696969;}#sk-container-id-1 label.sk-toggleable__label-arrow:hover:before {color: black;}#sk-container-id-1 div.sk-estimator:hover label.sk-toggleable__label-arrow:before {color: black;}#sk-container-id-1 div.sk-toggleable__content {max-height: 0;max-width: 0;overflow: hidden;text-align: left;background-color: #f0f8ff;}#sk-container-id-1 div.sk-toggleable__content pre {margin: 0.2em;color: black;border-radius: 0.25em;background-color: #f0f8ff;}#sk-container-id-1 input.sk-toggleable__control:checked~div.sk-toggleable__content {max-height: 200px;max-width: 100%;overflow: auto;}#sk-container-id-1 input.sk-toggleable__control:checked~label.sk-toggleable__label-arrow:before {content: \"▾\";}#sk-container-id-1 div.sk-estimator input.sk-toggleable__control:checked~label.sk-toggleable__label {background-color: #d4ebff;}#sk-container-id-1 div.sk-label input.sk-toggleable__control:checked~label.sk-toggleable__label {background-color: #d4ebff;}#sk-container-id-1 input.sk-hidden--visually {border: 0;clip: rect(1px 1px 1px 1px);clip: rect(1px, 1px, 1px, 1px);height: 1px;margin: -1px;overflow: hidden;padding: 0;position: absolute;width: 1px;}#sk-container-id-1 div.sk-estimator {font-family: monospace;background-color: #f0f8ff;border: 1px dotted black;border-radius: 0.25em;box-sizing: border-box;margin-bottom: 0.5em;}#sk-container-id-1 div.sk-estimator:hover {background-color: #d4ebff;}#sk-container-id-1 div.sk-parallel-item::after {content: \"\";width: 100%;border-bottom: 1px solid gray;flex-grow: 1;}#sk-container-id-1 div.sk-label:hover label.sk-toggleable__label {background-color: #d4ebff;}#sk-container-id-1 div.sk-serial::before {content: \"\";position: absolute;border-left: 1px solid gray;box-sizing: border-box;top: 0;bottom: 0;left: 50%;z-index: 0;}#sk-container-id-1 div.sk-serial {display: flex;flex-direction: column;align-items: center;background-color: white;padding-right: 0.2em;padding-left: 0.2em;position: relative;}#sk-container-id-1 div.sk-item {position: relative;z-index: 1;}#sk-container-id-1 div.sk-parallel {display: flex;align-items: stretch;justify-content: center;background-color: white;position: relative;}#sk-container-id-1 div.sk-item::before, #sk-container-id-1 div.sk-parallel-item::before {content: \"\";position: absolute;border-left: 1px solid gray;box-sizing: border-box;top: 0;bottom: 0;left: 50%;z-index: -1;}#sk-container-id-1 div.sk-parallel-item {display: flex;flex-direction: column;z-index: 1;position: relative;background-color: white;}#sk-container-id-1 div.sk-parallel-item:first-child::after {align-self: flex-end;width: 50%;}#sk-container-id-1 div.sk-parallel-item:last-child::after {align-self: flex-start;width: 50%;}#sk-container-id-1 div.sk-parallel-item:only-child::after {width: 0;}#sk-container-id-1 div.sk-dashed-wrapped {border: 1px dashed gray;margin: 0 0.4em 0.5em 0.4em;box-sizing: border-box;padding-bottom: 0.4em;background-color: white;}#sk-container-id-1 div.sk-label label {font-family: monospace;font-weight: bold;display: inline-block;line-height: 1.2em;}#sk-container-id-1 div.sk-label-container {text-align: center;}#sk-container-id-1 div.sk-container {/* jupyter's `normalize.less` sets `[hidden] { display: none; }` but bootstrap.min.css set `[hidden] { display: none !important; }` so we also need the `!important` here to be able to override the default hidden behavior on the sphinx rendered scikit-learn.org. See: https://github.com/scikit-learn/scikit-learn/issues/21755 */display: inline-block !important;position: relative;}#sk-container-id-1 div.sk-text-repr-fallback {display: none;}</style><div id=\"sk-container-id-1\" class=\"sk-top-container\"><div class=\"sk-text-repr-fallback\"><pre>KNeighborsClassifier(metric=&#x27;euclidean&#x27;, n_neighbors=1, weights=&#x27;distance&#x27;)</pre><b>In a Jupyter environment, please rerun this cell to show the HTML representation or trust the notebook. <br />On GitHub, the HTML representation is unable to render, please try loading this page with nbviewer.org.</b></div><div class=\"sk-container\" hidden><div class=\"sk-item\"><div class=\"sk-estimator sk-toggleable\"><input class=\"sk-toggleable__control sk-hidden--visually\" id=\"sk-estimator-id-1\" type=\"checkbox\" checked><label for=\"sk-estimator-id-1\" class=\"sk-toggleable__label sk-toggleable__label-arrow\">KNeighborsClassifier</label><div class=\"sk-toggleable__content\"><pre>KNeighborsClassifier(metric=&#x27;euclidean&#x27;, n_neighbors=1, weights=&#x27;distance&#x27;)</pre></div></div></div></div></div>"
      ],
      "text/plain": [
       "KNeighborsClassifier(metric='euclidean', n_neighbors=1, weights='distance')"
      ]
     },
     "execution_count": 10,
     "metadata": {},
     "output_type": "execute_result"
    }
   ],
   "source": [
    "knn= KNeighborsClassifier(n_neighbors=1,metric=\"euclidean\",weights=\"distance\")\n",
    "knn.fit(x,y)"
   ]
  },
  {
   "cell_type": "markdown",
   "id": "3fb255a1",
   "metadata": {},
   "source": [
    "knn_params = {\n",
    "    #\"n_neighbors\": [1,3,5]\n",
    "    #\"weights\": [\"uniform\", \"distance\"]\n",
    "    \"metric\": [\"euclidean\", \"manhattan\", \"minkowski\"]\n",
    "    #\"leaf_size\": range(1, 50, 5)\n",
    "}\n",
    "\n",
    "knn= KNeighborsClassifier()\n",
    "\n",
    "cv = RepeatedStratifiedKFold(n_splits=10,n_repeats=3,random_state=42)\n",
    "grid_search = GridSearchCV(estimator=knn,param_grid=knn_params,n_jobs=1,cv=cv,scoring=\"f1\",error_score=0)\n",
    "\n",
    "grid_results = grid_search.fit(x_train,y_train)\n"
   ]
  },
  {
   "cell_type": "code",
   "execution_count": 11,
   "id": "66dc8ae6",
   "metadata": {},
   "outputs": [],
   "source": [
    "#print(grid_results.best_params_)"
   ]
  },
  {
   "cell_type": "code",
   "execution_count": 12,
   "id": "c9ddbcf9",
   "metadata": {},
   "outputs": [],
   "source": [
    "y_pred = knn.predict(x_test)"
   ]
  },
  {
   "cell_type": "code",
   "execution_count": 13,
   "id": "f05853fe",
   "metadata": {},
   "outputs": [],
   "source": [
    "pred=pd.DataFrame(y_pred)\n",
    "pred.columns=[\"pred\"]"
   ]
  },
  {
   "cell_type": "code",
   "execution_count": 14,
   "id": "96c4b052",
   "metadata": {},
   "outputs": [
    {
     "data": {
      "text/plain": [
       "pred\n",
       "0       3156\n",
       "1        830\n",
       "dtype: int64"
      ]
     },
     "execution_count": 14,
     "metadata": {},
     "output_type": "execute_result"
    }
   ],
   "source": [
    "pred.value_counts()"
   ]
  },
  {
   "cell_type": "code",
   "execution_count": 15,
   "id": "d7f240f6",
   "metadata": {},
   "outputs": [],
   "source": [
    "pred.to_csv(\"KNN_without_scale.csv\",index=False)"
   ]
  },
  {
   "cell_type": "markdown",
   "id": "1e45a8fa",
   "metadata": {},
   "source": [
    "### KNN-with feature scaling"
   ]
  },
  {
   "cell_type": "code",
   "execution_count": 16,
   "id": "e65e3c0b",
   "metadata": {},
   "outputs": [
    {
     "name": "stderr",
     "output_type": "stream",
     "text": [
      "C:\\Users\\yashw\\AppData\\Local\\Temp\\ipykernel_10068\\991103908.py:2: FutureWarning: Dropping of nuisance columns in DataFrame reductions (with 'numeric_only=None') is deprecated; in a future version this will raise TypeError.  Select only valid columns before calling the reduction.\n",
      "  df.fillna(df.mean(), inplace=True)\n"
     ]
    }
   ],
   "source": [
    "df = pd.read_csv('Dataset\\Train_Data.csv')\n",
    "df.fillna(df.mean(), inplace=True)\n",
    "x=df.drop(columns=['pred'])\n",
    "y=df.pred\n",
    "label_encoder = LabelEncoder()\n",
    "x.pc = label_encoder.fit_transform(x.pc)\n",
    "x.ma = label_encoder.fit_transform(x.ma)"
   ]
  },
  {
   "cell_type": "code",
   "execution_count": 17,
   "id": "697f4b62",
   "metadata": {},
   "outputs": [],
   "source": [
    "from sklearn.preprocessing import StandardScaler\n",
    "scale = StandardScaler()\n",
    "scale.fit(x)\n",
    "x = scale.transform(x)"
   ]
  },
  {
   "cell_type": "code",
   "execution_count": 18,
   "id": "2e4d3866",
   "metadata": {},
   "outputs": [
    {
     "name": "stderr",
     "output_type": "stream",
     "text": [
      "C:\\Users\\yashw\\AppData\\Local\\Temp\\ipykernel_10068\\3134606653.py:3: FutureWarning: Dropping of nuisance columns in DataFrame reductions (with 'numeric_only=None') is deprecated; in a future version this will raise TypeError.  Select only valid columns before calling the reduction.\n",
      "  df_test.fillna(df.mean(), inplace=True)\n"
     ]
    }
   ],
   "source": [
    "df_test = pd.read_csv('Dataset/Test_Data.csv')\n",
    "# To replace NaN values with the median in multiple columns of a DataFrame\n",
    "df_test.fillna(df.mean(), inplace=True)"
   ]
  },
  {
   "cell_type": "code",
   "execution_count": 19,
   "id": "1a31149e",
   "metadata": {},
   "outputs": [],
   "source": [
    "x_test=df_test.drop(columns=['index'])  # Remving 'index' column from test dataframe\n",
    "\n",
    "# Converting the string values in the 'pc' and 'ma' columns into numerical representations\n",
    "x_test.pc = label_encoder.fit_transform(x_test.pc)\n",
    "x_test.ma = label_encoder.fit_transform(x_test.ma)"
   ]
  },
  {
   "cell_type": "code",
   "execution_count": 20,
   "id": "fcbc7c69",
   "metadata": {},
   "outputs": [],
   "source": [
    "df_test = scale.fit(x_test)"
   ]
  },
  {
   "cell_type": "code",
   "execution_count": 21,
   "id": "f901a115",
   "metadata": {},
   "outputs": [
    {
     "data": {
      "text/html": [
       "<style>#sk-container-id-2 {color: black;background-color: white;}#sk-container-id-2 pre{padding: 0;}#sk-container-id-2 div.sk-toggleable {background-color: white;}#sk-container-id-2 label.sk-toggleable__label {cursor: pointer;display: block;width: 100%;margin-bottom: 0;padding: 0.3em;box-sizing: border-box;text-align: center;}#sk-container-id-2 label.sk-toggleable__label-arrow:before {content: \"▸\";float: left;margin-right: 0.25em;color: #696969;}#sk-container-id-2 label.sk-toggleable__label-arrow:hover:before {color: black;}#sk-container-id-2 div.sk-estimator:hover label.sk-toggleable__label-arrow:before {color: black;}#sk-container-id-2 div.sk-toggleable__content {max-height: 0;max-width: 0;overflow: hidden;text-align: left;background-color: #f0f8ff;}#sk-container-id-2 div.sk-toggleable__content pre {margin: 0.2em;color: black;border-radius: 0.25em;background-color: #f0f8ff;}#sk-container-id-2 input.sk-toggleable__control:checked~div.sk-toggleable__content {max-height: 200px;max-width: 100%;overflow: auto;}#sk-container-id-2 input.sk-toggleable__control:checked~label.sk-toggleable__label-arrow:before {content: \"▾\";}#sk-container-id-2 div.sk-estimator input.sk-toggleable__control:checked~label.sk-toggleable__label {background-color: #d4ebff;}#sk-container-id-2 div.sk-label input.sk-toggleable__control:checked~label.sk-toggleable__label {background-color: #d4ebff;}#sk-container-id-2 input.sk-hidden--visually {border: 0;clip: rect(1px 1px 1px 1px);clip: rect(1px, 1px, 1px, 1px);height: 1px;margin: -1px;overflow: hidden;padding: 0;position: absolute;width: 1px;}#sk-container-id-2 div.sk-estimator {font-family: monospace;background-color: #f0f8ff;border: 1px dotted black;border-radius: 0.25em;box-sizing: border-box;margin-bottom: 0.5em;}#sk-container-id-2 div.sk-estimator:hover {background-color: #d4ebff;}#sk-container-id-2 div.sk-parallel-item::after {content: \"\";width: 100%;border-bottom: 1px solid gray;flex-grow: 1;}#sk-container-id-2 div.sk-label:hover label.sk-toggleable__label {background-color: #d4ebff;}#sk-container-id-2 div.sk-serial::before {content: \"\";position: absolute;border-left: 1px solid gray;box-sizing: border-box;top: 0;bottom: 0;left: 50%;z-index: 0;}#sk-container-id-2 div.sk-serial {display: flex;flex-direction: column;align-items: center;background-color: white;padding-right: 0.2em;padding-left: 0.2em;position: relative;}#sk-container-id-2 div.sk-item {position: relative;z-index: 1;}#sk-container-id-2 div.sk-parallel {display: flex;align-items: stretch;justify-content: center;background-color: white;position: relative;}#sk-container-id-2 div.sk-item::before, #sk-container-id-2 div.sk-parallel-item::before {content: \"\";position: absolute;border-left: 1px solid gray;box-sizing: border-box;top: 0;bottom: 0;left: 50%;z-index: -1;}#sk-container-id-2 div.sk-parallel-item {display: flex;flex-direction: column;z-index: 1;position: relative;background-color: white;}#sk-container-id-2 div.sk-parallel-item:first-child::after {align-self: flex-end;width: 50%;}#sk-container-id-2 div.sk-parallel-item:last-child::after {align-self: flex-start;width: 50%;}#sk-container-id-2 div.sk-parallel-item:only-child::after {width: 0;}#sk-container-id-2 div.sk-dashed-wrapped {border: 1px dashed gray;margin: 0 0.4em 0.5em 0.4em;box-sizing: border-box;padding-bottom: 0.4em;background-color: white;}#sk-container-id-2 div.sk-label label {font-family: monospace;font-weight: bold;display: inline-block;line-height: 1.2em;}#sk-container-id-2 div.sk-label-container {text-align: center;}#sk-container-id-2 div.sk-container {/* jupyter's `normalize.less` sets `[hidden] { display: none; }` but bootstrap.min.css set `[hidden] { display: none !important; }` so we also need the `!important` here to be able to override the default hidden behavior on the sphinx rendered scikit-learn.org. See: https://github.com/scikit-learn/scikit-learn/issues/21755 */display: inline-block !important;position: relative;}#sk-container-id-2 div.sk-text-repr-fallback {display: none;}</style><div id=\"sk-container-id-2\" class=\"sk-top-container\"><div class=\"sk-text-repr-fallback\"><pre>KNeighborsClassifier(metric=&#x27;euclidean&#x27;, n_neighbors=1, weights=&#x27;distance&#x27;)</pre><b>In a Jupyter environment, please rerun this cell to show the HTML representation or trust the notebook. <br />On GitHub, the HTML representation is unable to render, please try loading this page with nbviewer.org.</b></div><div class=\"sk-container\" hidden><div class=\"sk-item\"><div class=\"sk-estimator sk-toggleable\"><input class=\"sk-toggleable__control sk-hidden--visually\" id=\"sk-estimator-id-2\" type=\"checkbox\" checked><label for=\"sk-estimator-id-2\" class=\"sk-toggleable__label sk-toggleable__label-arrow\">KNeighborsClassifier</label><div class=\"sk-toggleable__content\"><pre>KNeighborsClassifier(metric=&#x27;euclidean&#x27;, n_neighbors=1, weights=&#x27;distance&#x27;)</pre></div></div></div></div></div>"
      ],
      "text/plain": [
       "KNeighborsClassifier(metric='euclidean', n_neighbors=1, weights='distance')"
      ]
     },
     "execution_count": 21,
     "metadata": {},
     "output_type": "execute_result"
    }
   ],
   "source": [
    "knn= KNeighborsClassifier(n_neighbors=1,metric=\"euclidean\",weights=\"distance\")\n",
    "knn.fit(x,y)"
   ]
  },
  {
   "cell_type": "code",
   "execution_count": 22,
   "id": "07528ced",
   "metadata": {},
   "outputs": [
    {
     "name": "stderr",
     "output_type": "stream",
     "text": [
      "C:\\Users\\yashw\\New folder\\lib\\site-packages\\sklearn\\base.py:432: UserWarning: X has feature names, but KNeighborsClassifier was fitted without feature names\n",
      "  warnings.warn(\n"
     ]
    },
    {
     "data": {
      "text/plain": [
       "pred\n",
       "1       3022\n",
       "0        964\n",
       "dtype: int64"
      ]
     },
     "execution_count": 22,
     "metadata": {},
     "output_type": "execute_result"
    }
   ],
   "source": [
    "y_pred = knn.predict(x_test)\n",
    "pred=pd.DataFrame(y_pred)\n",
    "pred.columns=[\"pred\"]\n",
    "pred.value_counts()"
   ]
  },
  {
   "cell_type": "code",
   "execution_count": 23,
   "id": "dafbb7a8",
   "metadata": {},
   "outputs": [],
   "source": [
    "pred.to_csv(\"KNN_with_scale.csv\",index=False)"
   ]
  },
  {
   "cell_type": "markdown",
   "id": "c4b4601a",
   "metadata": {},
   "source": [
    "### KNN with scale and replacing NaN of train"
   ]
  },
  {
   "cell_type": "code",
   "execution_count": 24,
   "id": "c4afb936",
   "metadata": {},
   "outputs": [],
   "source": [
    "df = pd.read_csv('Dataset\\Train_Data.csv')\n",
    "df.dropna(axis=0, inplace=True)\n",
    "x=df.drop(columns=['pred'])\n",
    "y=df.pred\n",
    "label_encoder = LabelEncoder()\n",
    "x.pc = label_encoder.fit_transform(x.pc)\n",
    "x.ma = label_encoder.fit_transform(x.ma)"
   ]
  },
  {
   "cell_type": "code",
   "execution_count": 25,
   "id": "6855751f",
   "metadata": {},
   "outputs": [
    {
     "data": {
      "text/plain": [
       "(13298, 18)"
      ]
     },
     "execution_count": 25,
     "metadata": {},
     "output_type": "execute_result"
    }
   ],
   "source": [
    "x.shape"
   ]
  },
  {
   "cell_type": "code",
   "execution_count": 26,
   "id": "d9ae6bd1",
   "metadata": {},
   "outputs": [],
   "source": [
    "from sklearn.preprocessing import StandardScaler\n",
    "scale = StandardScaler()\n",
    "scale.fit(x)\n",
    "x = scale.transform(x)"
   ]
  },
  {
   "cell_type": "code",
   "execution_count": 27,
   "id": "7f97580d",
   "metadata": {},
   "outputs": [
    {
     "name": "stderr",
     "output_type": "stream",
     "text": [
      "C:\\Users\\yashw\\AppData\\Local\\Temp\\ipykernel_10068\\3134606653.py:3: FutureWarning: Dropping of nuisance columns in DataFrame reductions (with 'numeric_only=None') is deprecated; in a future version this will raise TypeError.  Select only valid columns before calling the reduction.\n",
      "  df_test.fillna(df.mean(), inplace=True)\n"
     ]
    }
   ],
   "source": [
    "df_test = pd.read_csv('Dataset/Test_Data.csv')\n",
    "# To replace NaN values with the median in multiple columns of a DataFrame\n",
    "df_test.fillna(df.mean(), inplace=True)"
   ]
  },
  {
   "cell_type": "code",
   "execution_count": 28,
   "id": "0e52b9c8",
   "metadata": {},
   "outputs": [],
   "source": [
    "x_test=df_test.drop(columns=['index'])  # Remving 'index' column from test dataframe\n",
    "\n",
    "# Converting the string values in the 'pc' and 'ma' columns into numerical representations\n",
    "x_test.pc = label_encoder.fit_transform(x_test.pc)\n",
    "x_test.ma = label_encoder.fit_transform(x_test.ma)"
   ]
  },
  {
   "cell_type": "code",
   "execution_count": 29,
   "id": "4c0539fe",
   "metadata": {},
   "outputs": [],
   "source": [
    "df_test = scale.fit(x_test)"
   ]
  },
  {
   "cell_type": "code",
   "execution_count": 30,
   "id": "0982f2a0",
   "metadata": {},
   "outputs": [
    {
     "data": {
      "text/html": [
       "<style>#sk-container-id-3 {color: black;background-color: white;}#sk-container-id-3 pre{padding: 0;}#sk-container-id-3 div.sk-toggleable {background-color: white;}#sk-container-id-3 label.sk-toggleable__label {cursor: pointer;display: block;width: 100%;margin-bottom: 0;padding: 0.3em;box-sizing: border-box;text-align: center;}#sk-container-id-3 label.sk-toggleable__label-arrow:before {content: \"▸\";float: left;margin-right: 0.25em;color: #696969;}#sk-container-id-3 label.sk-toggleable__label-arrow:hover:before {color: black;}#sk-container-id-3 div.sk-estimator:hover label.sk-toggleable__label-arrow:before {color: black;}#sk-container-id-3 div.sk-toggleable__content {max-height: 0;max-width: 0;overflow: hidden;text-align: left;background-color: #f0f8ff;}#sk-container-id-3 div.sk-toggleable__content pre {margin: 0.2em;color: black;border-radius: 0.25em;background-color: #f0f8ff;}#sk-container-id-3 input.sk-toggleable__control:checked~div.sk-toggleable__content {max-height: 200px;max-width: 100%;overflow: auto;}#sk-container-id-3 input.sk-toggleable__control:checked~label.sk-toggleable__label-arrow:before {content: \"▾\";}#sk-container-id-3 div.sk-estimator input.sk-toggleable__control:checked~label.sk-toggleable__label {background-color: #d4ebff;}#sk-container-id-3 div.sk-label input.sk-toggleable__control:checked~label.sk-toggleable__label {background-color: #d4ebff;}#sk-container-id-3 input.sk-hidden--visually {border: 0;clip: rect(1px 1px 1px 1px);clip: rect(1px, 1px, 1px, 1px);height: 1px;margin: -1px;overflow: hidden;padding: 0;position: absolute;width: 1px;}#sk-container-id-3 div.sk-estimator {font-family: monospace;background-color: #f0f8ff;border: 1px dotted black;border-radius: 0.25em;box-sizing: border-box;margin-bottom: 0.5em;}#sk-container-id-3 div.sk-estimator:hover {background-color: #d4ebff;}#sk-container-id-3 div.sk-parallel-item::after {content: \"\";width: 100%;border-bottom: 1px solid gray;flex-grow: 1;}#sk-container-id-3 div.sk-label:hover label.sk-toggleable__label {background-color: #d4ebff;}#sk-container-id-3 div.sk-serial::before {content: \"\";position: absolute;border-left: 1px solid gray;box-sizing: border-box;top: 0;bottom: 0;left: 50%;z-index: 0;}#sk-container-id-3 div.sk-serial {display: flex;flex-direction: column;align-items: center;background-color: white;padding-right: 0.2em;padding-left: 0.2em;position: relative;}#sk-container-id-3 div.sk-item {position: relative;z-index: 1;}#sk-container-id-3 div.sk-parallel {display: flex;align-items: stretch;justify-content: center;background-color: white;position: relative;}#sk-container-id-3 div.sk-item::before, #sk-container-id-3 div.sk-parallel-item::before {content: \"\";position: absolute;border-left: 1px solid gray;box-sizing: border-box;top: 0;bottom: 0;left: 50%;z-index: -1;}#sk-container-id-3 div.sk-parallel-item {display: flex;flex-direction: column;z-index: 1;position: relative;background-color: white;}#sk-container-id-3 div.sk-parallel-item:first-child::after {align-self: flex-end;width: 50%;}#sk-container-id-3 div.sk-parallel-item:last-child::after {align-self: flex-start;width: 50%;}#sk-container-id-3 div.sk-parallel-item:only-child::after {width: 0;}#sk-container-id-3 div.sk-dashed-wrapped {border: 1px dashed gray;margin: 0 0.4em 0.5em 0.4em;box-sizing: border-box;padding-bottom: 0.4em;background-color: white;}#sk-container-id-3 div.sk-label label {font-family: monospace;font-weight: bold;display: inline-block;line-height: 1.2em;}#sk-container-id-3 div.sk-label-container {text-align: center;}#sk-container-id-3 div.sk-container {/* jupyter's `normalize.less` sets `[hidden] { display: none; }` but bootstrap.min.css set `[hidden] { display: none !important; }` so we also need the `!important` here to be able to override the default hidden behavior on the sphinx rendered scikit-learn.org. See: https://github.com/scikit-learn/scikit-learn/issues/21755 */display: inline-block !important;position: relative;}#sk-container-id-3 div.sk-text-repr-fallback {display: none;}</style><div id=\"sk-container-id-3\" class=\"sk-top-container\"><div class=\"sk-text-repr-fallback\"><pre>KNeighborsClassifier(metric=&#x27;euclidean&#x27;, n_neighbors=1, weights=&#x27;distance&#x27;)</pre><b>In a Jupyter environment, please rerun this cell to show the HTML representation or trust the notebook. <br />On GitHub, the HTML representation is unable to render, please try loading this page with nbviewer.org.</b></div><div class=\"sk-container\" hidden><div class=\"sk-item\"><div class=\"sk-estimator sk-toggleable\"><input class=\"sk-toggleable__control sk-hidden--visually\" id=\"sk-estimator-id-3\" type=\"checkbox\" checked><label for=\"sk-estimator-id-3\" class=\"sk-toggleable__label sk-toggleable__label-arrow\">KNeighborsClassifier</label><div class=\"sk-toggleable__content\"><pre>KNeighborsClassifier(metric=&#x27;euclidean&#x27;, n_neighbors=1, weights=&#x27;distance&#x27;)</pre></div></div></div></div></div>"
      ],
      "text/plain": [
       "KNeighborsClassifier(metric='euclidean', n_neighbors=1, weights='distance')"
      ]
     },
     "execution_count": 30,
     "metadata": {},
     "output_type": "execute_result"
    }
   ],
   "source": [
    "knn= KNeighborsClassifier(n_neighbors=1,metric=\"euclidean\",weights=\"distance\")\n",
    "knn.fit(x,y)"
   ]
  },
  {
   "cell_type": "code",
   "execution_count": 31,
   "id": "f64f72a5",
   "metadata": {},
   "outputs": [
    {
     "name": "stderr",
     "output_type": "stream",
     "text": [
      "C:\\Users\\yashw\\New folder\\lib\\site-packages\\sklearn\\base.py:432: UserWarning: X has feature names, but KNeighborsClassifier was fitted without feature names\n",
      "  warnings.warn(\n"
     ]
    },
    {
     "data": {
      "text/plain": [
       "pred\n",
       "1       3098\n",
       "0        888\n",
       "dtype: int64"
      ]
     },
     "execution_count": 31,
     "metadata": {},
     "output_type": "execute_result"
    }
   ],
   "source": [
    "y_pred = knn.predict(x_test)\n",
    "pred=pd.DataFrame(y_pred)\n",
    "pred.columns=[\"pred\"]\n",
    "pred.value_counts()"
   ]
  },
  {
   "cell_type": "code",
   "execution_count": 32,
   "id": "5832e7f2",
   "metadata": {},
   "outputs": [],
   "source": [
    "pred.to_csv(\"KNN_with_scale_and_dropping_Nan.csv\",index=False)"
   ]
  },
  {
   "cell_type": "markdown",
   "id": "6333e6f5",
   "metadata": {},
   "source": [
    "## MultiNomial NB without scale"
   ]
  },
  {
   "cell_type": "code",
   "execution_count": 33,
   "id": "d71579b8",
   "metadata": {},
   "outputs": [],
   "source": [
    "from sklearn.naive_bayes import MultinomialNB,GaussianNB"
   ]
  },
  {
   "cell_type": "code",
   "execution_count": 34,
   "id": "ced66636",
   "metadata": {},
   "outputs": [
    {
     "data": {
      "text/html": [
       "<div>\n",
       "<style scoped>\n",
       "    .dataframe tbody tr th:only-of-type {\n",
       "        vertical-align: middle;\n",
       "    }\n",
       "\n",
       "    .dataframe tbody tr th {\n",
       "        vertical-align: top;\n",
       "    }\n",
       "\n",
       "    .dataframe thead th {\n",
       "        text-align: right;\n",
       "    }\n",
       "</style>\n",
       "<table border=\"1\" class=\"dataframe\">\n",
       "  <thead>\n",
       "    <tr style=\"text-align: right;\">\n",
       "      <th></th>\n",
       "      <th>pc</th>\n",
       "      <th>ld</th>\n",
       "      <th>m0</th>\n",
       "      <th>m1</th>\n",
       "      <th>m2</th>\n",
       "      <th>m3</th>\n",
       "      <th>m4</th>\n",
       "      <th>m5</th>\n",
       "      <th>m6</th>\n",
       "      <th>m7</th>\n",
       "      <th>m8</th>\n",
       "      <th>m9</th>\n",
       "      <th>m10</th>\n",
       "      <th>m11</th>\n",
       "      <th>m12</th>\n",
       "      <th>m13</th>\n",
       "      <th>m14</th>\n",
       "      <th>ma</th>\n",
       "      <th>pred</th>\n",
       "    </tr>\n",
       "  </thead>\n",
       "  <tbody>\n",
       "    <tr>\n",
       "      <th>0</th>\n",
       "      <td>y</td>\n",
       "      <td>83.71</td>\n",
       "      <td>63.0</td>\n",
       "      <td>7.2</td>\n",
       "      <td>52.5</td>\n",
       "      <td>14.0232</td>\n",
       "      <td>130.8300</td>\n",
       "      <td>12.4280</td>\n",
       "      <td>188.8425</td>\n",
       "      <td>8.9520</td>\n",
       "      <td>201.1905</td>\n",
       "      <td>9.2896</td>\n",
       "      <td>141.9075</td>\n",
       "      <td>16.0968</td>\n",
       "      <td>150.3390</td>\n",
       "      <td>12.4880</td>\n",
       "      <td>173.1240</td>\n",
       "      <td>m78</td>\n",
       "      <td>0</td>\n",
       "    </tr>\n",
       "    <tr>\n",
       "      <th>1</th>\n",
       "      <td>y</td>\n",
       "      <td>108.94</td>\n",
       "      <td>31.5</td>\n",
       "      <td>12.8</td>\n",
       "      <td>84.0</td>\n",
       "      <td>13.2840</td>\n",
       "      <td>128.8350</td>\n",
       "      <td>13.5256</td>\n",
       "      <td>183.0990</td>\n",
       "      <td>8.8520</td>\n",
       "      <td>207.2385</td>\n",
       "      <td>8.4704</td>\n",
       "      <td>154.7805</td>\n",
       "      <td>13.3304</td>\n",
       "      <td>101.0205</td>\n",
       "      <td>12.5096</td>\n",
       "      <td>131.4075</td>\n",
       "      <td>m78</td>\n",
       "      <td>0</td>\n",
       "    </tr>\n",
       "    <tr>\n",
       "      <th>2</th>\n",
       "      <td>E</td>\n",
       "      <td>169.65</td>\n",
       "      <td>0.0</td>\n",
       "      <td>5.6</td>\n",
       "      <td>73.5</td>\n",
       "      <td>14.5472</td>\n",
       "      <td>128.9295</td>\n",
       "      <td>13.6424</td>\n",
       "      <td>174.4680</td>\n",
       "      <td>8.9800</td>\n",
       "      <td>190.3125</td>\n",
       "      <td>11.3056</td>\n",
       "      <td>156.7650</td>\n",
       "      <td>NaN</td>\n",
       "      <td>122.5350</td>\n",
       "      <td>11.7136</td>\n",
       "      <td>176.8200</td>\n",
       "      <td>m76</td>\n",
       "      <td>1</td>\n",
       "    </tr>\n",
       "    <tr>\n",
       "      <th>3</th>\n",
       "      <td>x</td>\n",
       "      <td>122.42</td>\n",
       "      <td>31.5</td>\n",
       "      <td>7.2</td>\n",
       "      <td>63.0</td>\n",
       "      <td>15.0152</td>\n",
       "      <td>119.8575</td>\n",
       "      <td>12.3344</td>\n",
       "      <td>186.8580</td>\n",
       "      <td>10.7208</td>\n",
       "      <td>193.8195</td>\n",
       "      <td>10.6096</td>\n",
       "      <td>175.7490</td>\n",
       "      <td>NaN</td>\n",
       "      <td>124.8030</td>\n",
       "      <td>13.8424</td>\n",
       "      <td>168.2625</td>\n",
       "      <td>m55</td>\n",
       "      <td>0</td>\n",
       "    </tr>\n",
       "    <tr>\n",
       "      <th>4</th>\n",
       "      <td>E</td>\n",
       "      <td>125.43</td>\n",
       "      <td>94.5</td>\n",
       "      <td>7.2</td>\n",
       "      <td>42.0</td>\n",
       "      <td>14.4176</td>\n",
       "      <td>135.4290</td>\n",
       "      <td>14.5824</td>\n",
       "      <td>187.8135</td>\n",
       "      <td>9.3088</td>\n",
       "      <td>203.1540</td>\n",
       "      <td>9.8280</td>\n",
       "      <td>172.7040</td>\n",
       "      <td>14.4720</td>\n",
       "      <td>120.2145</td>\n",
       "      <td>NaN</td>\n",
       "      <td>150.1185</td>\n",
       "      <td>m76</td>\n",
       "      <td>0</td>\n",
       "    </tr>\n",
       "  </tbody>\n",
       "</table>\n",
       "</div>"
      ],
      "text/plain": [
       "  pc      ld    m0    m1    m2       m3        m4       m5        m6       m7  \\\n",
       "0  y   83.71  63.0   7.2  52.5  14.0232  130.8300  12.4280  188.8425   8.9520   \n",
       "1  y  108.94  31.5  12.8  84.0  13.2840  128.8350  13.5256  183.0990   8.8520   \n",
       "2  E  169.65   0.0   5.6  73.5  14.5472  128.9295  13.6424  174.4680   8.9800   \n",
       "3  x  122.42  31.5   7.2  63.0  15.0152  119.8575  12.3344  186.8580  10.7208   \n",
       "4  E  125.43  94.5   7.2  42.0  14.4176  135.4290  14.5824  187.8135   9.3088   \n",
       "\n",
       "         m8       m9       m10      m11       m12      m13       m14   ma  \\\n",
       "0  201.1905   9.2896  141.9075  16.0968  150.3390  12.4880  173.1240  m78   \n",
       "1  207.2385   8.4704  154.7805  13.3304  101.0205  12.5096  131.4075  m78   \n",
       "2  190.3125  11.3056  156.7650      NaN  122.5350  11.7136  176.8200  m76   \n",
       "3  193.8195  10.6096  175.7490      NaN  124.8030  13.8424  168.2625  m55   \n",
       "4  203.1540   9.8280  172.7040  14.4720  120.2145      NaN  150.1185  m76   \n",
       "\n",
       "   pred  \n",
       "0     0  \n",
       "1     0  \n",
       "2     1  \n",
       "3     0  \n",
       "4     0  "
      ]
     },
     "execution_count": 34,
     "metadata": {},
     "output_type": "execute_result"
    }
   ],
   "source": [
    "df = pd.read_csv('Dataset\\Train_Data.csv')\n",
    "df.head()"
   ]
  },
  {
   "cell_type": "code",
   "execution_count": 35,
   "id": "16da9137",
   "metadata": {},
   "outputs": [
    {
     "name": "stderr",
     "output_type": "stream",
     "text": [
      "C:\\Users\\yashw\\AppData\\Local\\Temp\\ipykernel_10068\\2481294717.py:1: FutureWarning: Dropping of nuisance columns in DataFrame reductions (with 'numeric_only=None') is deprecated; in a future version this will raise TypeError.  Select only valid columns before calling the reduction.\n",
      "  df.fillna(df.mean(), inplace=True)\n"
     ]
    },
    {
     "data": {
      "text/plain": [
       "(22584, 19)"
      ]
     },
     "execution_count": 35,
     "metadata": {},
     "output_type": "execute_result"
    }
   ],
   "source": [
    "df.fillna(df.mean(), inplace=True)\n",
    "df.shape"
   ]
  },
  {
   "cell_type": "code",
   "execution_count": 36,
   "id": "c069cd59",
   "metadata": {},
   "outputs": [],
   "source": [
    "x_train=df.drop(columns=['pred'])\n",
    "y_train=df.pred"
   ]
  },
  {
   "cell_type": "code",
   "execution_count": 37,
   "id": "9d45d5af",
   "metadata": {},
   "outputs": [],
   "source": [
    "label_encoder = LabelEncoder()\n",
    "x_train.pc = label_encoder.fit_transform(x_train.pc)\n",
    "x_train.ma = label_encoder.fit_transform(x_train.ma)"
   ]
  },
  {
   "cell_type": "code",
   "execution_count": 38,
   "id": "11cb0313",
   "metadata": {},
   "outputs": [
    {
     "data": {
      "text/html": [
       "<div>\n",
       "<style scoped>\n",
       "    .dataframe tbody tr th:only-of-type {\n",
       "        vertical-align: middle;\n",
       "    }\n",
       "\n",
       "    .dataframe tbody tr th {\n",
       "        vertical-align: top;\n",
       "    }\n",
       "\n",
       "    .dataframe thead th {\n",
       "        text-align: right;\n",
       "    }\n",
       "</style>\n",
       "<table border=\"1\" class=\"dataframe\">\n",
       "  <thead>\n",
       "    <tr style=\"text-align: right;\">\n",
       "      <th></th>\n",
       "      <th>index</th>\n",
       "      <th>pc</th>\n",
       "      <th>ld</th>\n",
       "      <th>m0</th>\n",
       "      <th>m1</th>\n",
       "      <th>m2</th>\n",
       "      <th>m3</th>\n",
       "      <th>m4</th>\n",
       "      <th>m5</th>\n",
       "      <th>m6</th>\n",
       "      <th>m7</th>\n",
       "      <th>m8</th>\n",
       "      <th>m9</th>\n",
       "      <th>m10</th>\n",
       "      <th>m11</th>\n",
       "      <th>m12</th>\n",
       "      <th>m13</th>\n",
       "      <th>m14</th>\n",
       "      <th>ma</th>\n",
       "    </tr>\n",
       "  </thead>\n",
       "  <tbody>\n",
       "    <tr>\n",
       "      <th>0</th>\n",
       "      <td>0</td>\n",
       "      <td>E</td>\n",
       "      <td>156.46</td>\n",
       "      <td>73.5</td>\n",
       "      <td>8.8</td>\n",
       "      <td>105.0</td>\n",
       "      <td>13.2768</td>\n",
       "      <td>113.5365</td>\n",
       "      <td>13.9552</td>\n",
       "      <td>168.5460</td>\n",
       "      <td>8.5896</td>\n",
       "      <td>187.6560</td>\n",
       "      <td>8.3472</td>\n",
       "      <td>178.5945</td>\n",
       "      <td>14.3192</td>\n",
       "      <td>138.0435</td>\n",
       "      <td>12.7008</td>\n",
       "      <td>166.1100</td>\n",
       "      <td>m76</td>\n",
       "    </tr>\n",
       "    <tr>\n",
       "      <th>1</th>\n",
       "      <td>1</td>\n",
       "      <td>y</td>\n",
       "      <td>58.87</td>\n",
       "      <td>84.0</td>\n",
       "      <td>12.8</td>\n",
       "      <td>42.0</td>\n",
       "      <td>14.4440</td>\n",
       "      <td>126.6930</td>\n",
       "      <td>13.6688</td>\n",
       "      <td>190.6275</td>\n",
       "      <td>10.1712</td>\n",
       "      <td>202.5870</td>\n",
       "      <td>8.5416</td>\n",
       "      <td>166.9815</td>\n",
       "      <td>15.5944</td>\n",
       "      <td>142.5690</td>\n",
       "      <td>11.6832</td>\n",
       "      <td>177.7230</td>\n",
       "      <td>m78</td>\n",
       "    </tr>\n",
       "    <tr>\n",
       "      <th>2</th>\n",
       "      <td>2</td>\n",
       "      <td>w</td>\n",
       "      <td>139.68</td>\n",
       "      <td>126.0</td>\n",
       "      <td>3.2</td>\n",
       "      <td>73.5</td>\n",
       "      <td>14.2432</td>\n",
       "      <td>107.4885</td>\n",
       "      <td>13.8544</td>\n",
       "      <td>168.3255</td>\n",
       "      <td>10.2504</td>\n",
       "      <td>214.2735</td>\n",
       "      <td>11.3392</td>\n",
       "      <td>155.1795</td>\n",
       "      <td>16.0256</td>\n",
       "      <td>132.1005</td>\n",
       "      <td>13.0104</td>\n",
       "      <td>185.6085</td>\n",
       "      <td>m78</td>\n",
       "    </tr>\n",
       "    <tr>\n",
       "      <th>3</th>\n",
       "      <td>3</td>\n",
       "      <td>z</td>\n",
       "      <td>194.06</td>\n",
       "      <td>52.5</td>\n",
       "      <td>6.4</td>\n",
       "      <td>105.0</td>\n",
       "      <td>14.5480</td>\n",
       "      <td>138.6105</td>\n",
       "      <td>13.5080</td>\n",
       "      <td>196.6545</td>\n",
       "      <td>10.6304</td>\n",
       "      <td>213.4650</td>\n",
       "      <td>9.9224</td>\n",
       "      <td>191.1000</td>\n",
       "      <td>14.8256</td>\n",
       "      <td>128.0475</td>\n",
       "      <td>12.1984</td>\n",
       "      <td>180.2745</td>\n",
       "      <td>m75</td>\n",
       "    </tr>\n",
       "    <tr>\n",
       "      <th>4</th>\n",
       "      <td>4</td>\n",
       "      <td>x</td>\n",
       "      <td>173.14</td>\n",
       "      <td>42.0</td>\n",
       "      <td>8.0</td>\n",
       "      <td>136.5</td>\n",
       "      <td>14.9496</td>\n",
       "      <td>103.8765</td>\n",
       "      <td>13.8936</td>\n",
       "      <td>168.3570</td>\n",
       "      <td>9.6184</td>\n",
       "      <td>191.2050</td>\n",
       "      <td>9.9400</td>\n",
       "      <td>185.0310</td>\n",
       "      <td>13.8664</td>\n",
       "      <td>124.7610</td>\n",
       "      <td>NaN</td>\n",
       "      <td>157.6470</td>\n",
       "      <td>m55</td>\n",
       "    </tr>\n",
       "  </tbody>\n",
       "</table>\n",
       "</div>"
      ],
      "text/plain": [
       "   index pc      ld     m0    m1     m2       m3        m4       m5        m6  \\\n",
       "0      0  E  156.46   73.5   8.8  105.0  13.2768  113.5365  13.9552  168.5460   \n",
       "1      1  y   58.87   84.0  12.8   42.0  14.4440  126.6930  13.6688  190.6275   \n",
       "2      2  w  139.68  126.0   3.2   73.5  14.2432  107.4885  13.8544  168.3255   \n",
       "3      3  z  194.06   52.5   6.4  105.0  14.5480  138.6105  13.5080  196.6545   \n",
       "4      4  x  173.14   42.0   8.0  136.5  14.9496  103.8765  13.8936  168.3570   \n",
       "\n",
       "        m7        m8       m9       m10      m11       m12      m13       m14  \\\n",
       "0   8.5896  187.6560   8.3472  178.5945  14.3192  138.0435  12.7008  166.1100   \n",
       "1  10.1712  202.5870   8.5416  166.9815  15.5944  142.5690  11.6832  177.7230   \n",
       "2  10.2504  214.2735  11.3392  155.1795  16.0256  132.1005  13.0104  185.6085   \n",
       "3  10.6304  213.4650   9.9224  191.1000  14.8256  128.0475  12.1984  180.2745   \n",
       "4   9.6184  191.2050   9.9400  185.0310  13.8664  124.7610      NaN  157.6470   \n",
       "\n",
       "    ma  \n",
       "0  m76  \n",
       "1  m78  \n",
       "2  m78  \n",
       "3  m75  \n",
       "4  m55  "
      ]
     },
     "execution_count": 38,
     "metadata": {},
     "output_type": "execute_result"
    }
   ],
   "source": [
    "df_test = pd.read_csv('Dataset/Test_Data.csv')\n",
    "df_test.head()"
   ]
  },
  {
   "cell_type": "code",
   "execution_count": 39,
   "id": "ca5448a8",
   "metadata": {},
   "outputs": [
    {
     "name": "stderr",
     "output_type": "stream",
     "text": [
      "C:\\Users\\yashw\\AppData\\Local\\Temp\\ipykernel_10068\\2189360716.py:1: FutureWarning: Dropping of nuisance columns in DataFrame reductions (with 'numeric_only=None') is deprecated; in a future version this will raise TypeError.  Select only valid columns before calling the reduction.\n",
      "  df_test.fillna(df.mean(), inplace=True)\n"
     ]
    }
   ],
   "source": [
    "df_test.fillna(df.mean(), inplace=True)"
   ]
  },
  {
   "cell_type": "code",
   "execution_count": 40,
   "id": "a44e47f5",
   "metadata": {},
   "outputs": [],
   "source": [
    "x_test=df_test.drop(columns=['index'])\n",
    "x_test.pc = label_encoder.fit_transform(x_test.pc)\n",
    "x_test.ma = label_encoder.fit_transform(x_test.ma)"
   ]
  },
  {
   "cell_type": "code",
   "execution_count": 41,
   "id": "ae04f240",
   "metadata": {},
   "outputs": [
    {
     "data": {
      "text/html": [
       "<style>#sk-container-id-4 {color: black;background-color: white;}#sk-container-id-4 pre{padding: 0;}#sk-container-id-4 div.sk-toggleable {background-color: white;}#sk-container-id-4 label.sk-toggleable__label {cursor: pointer;display: block;width: 100%;margin-bottom: 0;padding: 0.3em;box-sizing: border-box;text-align: center;}#sk-container-id-4 label.sk-toggleable__label-arrow:before {content: \"▸\";float: left;margin-right: 0.25em;color: #696969;}#sk-container-id-4 label.sk-toggleable__label-arrow:hover:before {color: black;}#sk-container-id-4 div.sk-estimator:hover label.sk-toggleable__label-arrow:before {color: black;}#sk-container-id-4 div.sk-toggleable__content {max-height: 0;max-width: 0;overflow: hidden;text-align: left;background-color: #f0f8ff;}#sk-container-id-4 div.sk-toggleable__content pre {margin: 0.2em;color: black;border-radius: 0.25em;background-color: #f0f8ff;}#sk-container-id-4 input.sk-toggleable__control:checked~div.sk-toggleable__content {max-height: 200px;max-width: 100%;overflow: auto;}#sk-container-id-4 input.sk-toggleable__control:checked~label.sk-toggleable__label-arrow:before {content: \"▾\";}#sk-container-id-4 div.sk-estimator input.sk-toggleable__control:checked~label.sk-toggleable__label {background-color: #d4ebff;}#sk-container-id-4 div.sk-label input.sk-toggleable__control:checked~label.sk-toggleable__label {background-color: #d4ebff;}#sk-container-id-4 input.sk-hidden--visually {border: 0;clip: rect(1px 1px 1px 1px);clip: rect(1px, 1px, 1px, 1px);height: 1px;margin: -1px;overflow: hidden;padding: 0;position: absolute;width: 1px;}#sk-container-id-4 div.sk-estimator {font-family: monospace;background-color: #f0f8ff;border: 1px dotted black;border-radius: 0.25em;box-sizing: border-box;margin-bottom: 0.5em;}#sk-container-id-4 div.sk-estimator:hover {background-color: #d4ebff;}#sk-container-id-4 div.sk-parallel-item::after {content: \"\";width: 100%;border-bottom: 1px solid gray;flex-grow: 1;}#sk-container-id-4 div.sk-label:hover label.sk-toggleable__label {background-color: #d4ebff;}#sk-container-id-4 div.sk-serial::before {content: \"\";position: absolute;border-left: 1px solid gray;box-sizing: border-box;top: 0;bottom: 0;left: 50%;z-index: 0;}#sk-container-id-4 div.sk-serial {display: flex;flex-direction: column;align-items: center;background-color: white;padding-right: 0.2em;padding-left: 0.2em;position: relative;}#sk-container-id-4 div.sk-item {position: relative;z-index: 1;}#sk-container-id-4 div.sk-parallel {display: flex;align-items: stretch;justify-content: center;background-color: white;position: relative;}#sk-container-id-4 div.sk-item::before, #sk-container-id-4 div.sk-parallel-item::before {content: \"\";position: absolute;border-left: 1px solid gray;box-sizing: border-box;top: 0;bottom: 0;left: 50%;z-index: -1;}#sk-container-id-4 div.sk-parallel-item {display: flex;flex-direction: column;z-index: 1;position: relative;background-color: white;}#sk-container-id-4 div.sk-parallel-item:first-child::after {align-self: flex-end;width: 50%;}#sk-container-id-4 div.sk-parallel-item:last-child::after {align-self: flex-start;width: 50%;}#sk-container-id-4 div.sk-parallel-item:only-child::after {width: 0;}#sk-container-id-4 div.sk-dashed-wrapped {border: 1px dashed gray;margin: 0 0.4em 0.5em 0.4em;box-sizing: border-box;padding-bottom: 0.4em;background-color: white;}#sk-container-id-4 div.sk-label label {font-family: monospace;font-weight: bold;display: inline-block;line-height: 1.2em;}#sk-container-id-4 div.sk-label-container {text-align: center;}#sk-container-id-4 div.sk-container {/* jupyter's `normalize.less` sets `[hidden] { display: none; }` but bootstrap.min.css set `[hidden] { display: none !important; }` so we also need the `!important` here to be able to override the default hidden behavior on the sphinx rendered scikit-learn.org. See: https://github.com/scikit-learn/scikit-learn/issues/21755 */display: inline-block !important;position: relative;}#sk-container-id-4 div.sk-text-repr-fallback {display: none;}</style><div id=\"sk-container-id-4\" class=\"sk-top-container\"><div class=\"sk-text-repr-fallback\"><pre>MultinomialNB()</pre><b>In a Jupyter environment, please rerun this cell to show the HTML representation or trust the notebook. <br />On GitHub, the HTML representation is unable to render, please try loading this page with nbviewer.org.</b></div><div class=\"sk-container\" hidden><div class=\"sk-item\"><div class=\"sk-estimator sk-toggleable\"><input class=\"sk-toggleable__control sk-hidden--visually\" id=\"sk-estimator-id-4\" type=\"checkbox\" checked><label for=\"sk-estimator-id-4\" class=\"sk-toggleable__label sk-toggleable__label-arrow\">MultinomialNB</label><div class=\"sk-toggleable__content\"><pre>MultinomialNB()</pre></div></div></div></div></div>"
      ],
      "text/plain": [
       "MultinomialNB()"
      ]
     },
     "execution_count": 41,
     "metadata": {},
     "output_type": "execute_result"
    }
   ],
   "source": [
    "clf = MultinomialNB()\n",
    "clf.fit(x_train,y_train)"
   ]
  },
  {
   "cell_type": "code",
   "execution_count": 42,
   "id": "52c4f2bd",
   "metadata": {},
   "outputs": [],
   "source": [
    "y_pred = clf.predict(x_test)"
   ]
  },
  {
   "cell_type": "code",
   "execution_count": 43,
   "id": "a1ee2c51",
   "metadata": {},
   "outputs": [
    {
     "data": {
      "text/plain": [
       "pred\n",
       "0       2914\n",
       "1       1072\n",
       "dtype: int64"
      ]
     },
     "execution_count": 43,
     "metadata": {},
     "output_type": "execute_result"
    }
   ],
   "source": [
    "pred=pd.DataFrame(y_pred)\n",
    "pred.columns=[\"pred\"]\n",
    "pred.value_counts()"
   ]
  },
  {
   "cell_type": "code",
   "execution_count": 44,
   "id": "1f760e25",
   "metadata": {},
   "outputs": [],
   "source": [
    "pred.to_csv(\"NB_without_feature.csv\",index=False)"
   ]
  },
  {
   "cell_type": "markdown",
   "id": "ed77235c",
   "metadata": {},
   "source": [
    "# Submitted by: Yashwin Tapdia\n",
    "# Email-id: yashwintapdiya@gmail.com"
   ]
  }
 ],
 "metadata": {
  "kernelspec": {
   "display_name": "Python 3 (ipykernel)",
   "language": "python",
   "name": "python3"
  },
  "language_info": {
   "codemirror_mode": {
    "name": "ipython",
    "version": 3
   },
   "file_extension": ".py",
   "mimetype": "text/x-python",
   "name": "python",
   "nbconvert_exporter": "python",
   "pygments_lexer": "ipython3",
   "version": "3.9.13"
  }
 },
 "nbformat": 4,
 "nbformat_minor": 5
}
