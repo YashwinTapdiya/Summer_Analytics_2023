{
 "cells": [
  {
   "cell_type": "markdown",
   "metadata": {
    "id": "7t7O3hPJQQ1h"
   },
   "source": [
    "**Welcome to your first assignment of Summer Analytics 2023! We hope you are excited to implement and test everything you have learnt up until now.<a href = \"https://drive.google.com/file/d/1U73P58VAc4EXM98Or9feKnVx9I9FOP_L/view?usp=sharing\"> The dataset</a> which you'll use includes information about Movies.**"
   ]
  },
  {
   "cell_type": "markdown",
   "metadata": {
    "id": "8yDZv8F_QiqH"
   },
   "source": [
    " We've got an interesting set of questions for you to get a basic understanding of pandas and data visualization libraries. GOOD LUCK!\n",
    " \n",
    "Let's get started with importing numpy, pandas, seaborn and matplotlib! "
   ]
  },
  {
   "cell_type": "markdown",
   "metadata": {
    "id": "p-nMuCNQQxx_"
   },
   "source": [
    "Note - matplotlib should be imported with the command :\n",
    "\n",
    "**import matplotlib.pyplot as plt**"
   ]
  },
  {
   "cell_type": "markdown",
   "metadata": {
    "id": "nz8BTfnCRC8v"
   },
   "source": [
    "Start by importing all important libraries"
   ]
  },
  {
   "cell_type": "code",
   "execution_count": 1,
   "metadata": {
    "id": "rKkyeMJiO0up"
   },
   "outputs": [],
   "source": [
    "import numpy as np\n",
    "import pandas as pd\n",
    "import matplotlib.pyplot as plt\n",
    "import seaborn as sns\n",
    "import csv"
   ]
  },
  {
   "cell_type": "markdown",
   "metadata": {
    "id": "2N8LabERRONN"
   },
   "source": [
    "Read the csv file and assign it to a variable ."
   ]
  },
  {
   "cell_type": "code",
   "execution_count": 2,
   "metadata": {
    "id": "vnjh3IZmRO72"
   },
   "outputs": [
    {
     "data": {
      "text/html": [
       "<div>\n",
       "<style scoped>\n",
       "    .dataframe tbody tr th:only-of-type {\n",
       "        vertical-align: middle;\n",
       "    }\n",
       "\n",
       "    .dataframe tbody tr th {\n",
       "        vertical-align: top;\n",
       "    }\n",
       "\n",
       "    .dataframe thead th {\n",
       "        text-align: right;\n",
       "    }\n",
       "</style>\n",
       "<table border=\"1\" class=\"dataframe\">\n",
       "  <thead>\n",
       "    <tr style=\"text-align: right;\">\n",
       "      <th></th>\n",
       "      <th>Poster_Link</th>\n",
       "      <th>Series_Title</th>\n",
       "      <th>Released_Year</th>\n",
       "      <th>Certificate</th>\n",
       "      <th>Runtime</th>\n",
       "      <th>Genre</th>\n",
       "      <th>IMDB_Rating</th>\n",
       "      <th>Overview</th>\n",
       "      <th>Meta_score</th>\n",
       "      <th>Director</th>\n",
       "      <th>Star1</th>\n",
       "      <th>Star2</th>\n",
       "      <th>Star3</th>\n",
       "      <th>Star4</th>\n",
       "      <th>No_of_Votes</th>\n",
       "      <th>Gross</th>\n",
       "    </tr>\n",
       "  </thead>\n",
       "  <tbody>\n",
       "    <tr>\n",
       "      <th>0</th>\n",
       "      <td>https://m.media-amazon.com/images/M/MV5BMDFkYT...</td>\n",
       "      <td>The Shawshank Redemption</td>\n",
       "      <td>1994</td>\n",
       "      <td>A</td>\n",
       "      <td>142 min</td>\n",
       "      <td>Drama</td>\n",
       "      <td>9.3</td>\n",
       "      <td>Two imprisoned men bond over a number of years...</td>\n",
       "      <td>80.0</td>\n",
       "      <td>Frank Darabont</td>\n",
       "      <td>Tim Robbins</td>\n",
       "      <td>Morgan Freeman</td>\n",
       "      <td>Bob Gunton</td>\n",
       "      <td>William Sadler</td>\n",
       "      <td>2343110</td>\n",
       "      <td>28,341,469</td>\n",
       "    </tr>\n",
       "  </tbody>\n",
       "</table>\n",
       "</div>"
      ],
      "text/plain": [
       "                                         Poster_Link  \\\n",
       "0  https://m.media-amazon.com/images/M/MV5BMDFkYT...   \n",
       "\n",
       "               Series_Title Released_Year Certificate  Runtime  Genre  \\\n",
       "0  The Shawshank Redemption          1994           A  142 min  Drama   \n",
       "\n",
       "   IMDB_Rating                                           Overview  Meta_score  \\\n",
       "0          9.3  Two imprisoned men bond over a number of years...        80.0   \n",
       "\n",
       "         Director        Star1           Star2       Star3           Star4  \\\n",
       "0  Frank Darabont  Tim Robbins  Morgan Freeman  Bob Gunton  William Sadler   \n",
       "\n",
       "   No_of_Votes       Gross  \n",
       "0      2343110  28,341,469  "
      ]
     },
     "execution_count": 2,
     "metadata": {},
     "output_type": "execute_result"
    }
   ],
   "source": [
    "file_path = \"Dataset/imdb_top_1000.csv\"\n",
    "data = pd.read_csv(file_path)\n",
    "data.head(1)"
   ]
  },
  {
   "cell_type": "markdown",
   "metadata": {
    "id": "EifdwomBRPxy"
   },
   "source": [
    "Display shape of dataframe"
   ]
  },
  {
   "cell_type": "code",
   "execution_count": 3,
   "metadata": {
    "id": "lM8S9INfRSt3"
   },
   "outputs": [
    {
     "name": "stdout",
     "output_type": "stream",
     "text": [
      "Number of row:  1000\n",
      "Number of columns:  16\n"
     ]
    }
   ],
   "source": [
    "shape=data.shape\n",
    "print(\"Number of row: \",shape[0])\n",
    "print(\"Number of columns: \",shape[1])"
   ]
  },
  {
   "cell_type": "markdown",
   "metadata": {
    "id": "Q9xTIt54RVTY"
   },
   "source": [
    "Print all columns of dataframe"
   ]
  },
  {
   "cell_type": "code",
   "execution_count": 4,
   "metadata": {
    "id": "kn3VPvn6RV4_"
   },
   "outputs": [
    {
     "name": "stdout",
     "output_type": "stream",
     "text": [
      "Total Number of columns:  16\n",
      "Poster_Link\n",
      "Series_Title\n",
      "Released_Year\n",
      "Certificate\n",
      "Runtime\n",
      "Genre\n",
      "IMDB_Rating\n",
      "Overview\n",
      "Meta_score\n",
      "Director\n",
      "Star1\n",
      "Star2\n",
      "Star3\n",
      "Star4\n",
      "No_of_Votes\n",
      "Gross\n"
     ]
    }
   ],
   "source": [
    "col=data.columns\n",
    "print(\"Total Number of columns: \",len(col))\n",
    "for name in col:\n",
    "    print(name)"
   ]
  },
  {
   "cell_type": "markdown",
   "metadata": {
    "id": "3jtm084KRleN"
   },
   "source": [
    "Remove the column 'Poster_Link' and update the dataframe."
   ]
  },
  {
   "cell_type": "code",
   "execution_count": 6,
   "metadata": {
    "id": "zYIz3q0ARnuU"
   },
   "outputs": [
    {
     "data": {
      "text/html": [
       "<div>\n",
       "<style scoped>\n",
       "    .dataframe tbody tr th:only-of-type {\n",
       "        vertical-align: middle;\n",
       "    }\n",
       "\n",
       "    .dataframe tbody tr th {\n",
       "        vertical-align: top;\n",
       "    }\n",
       "\n",
       "    .dataframe thead th {\n",
       "        text-align: right;\n",
       "    }\n",
       "</style>\n",
       "<table border=\"1\" class=\"dataframe\">\n",
       "  <thead>\n",
       "    <tr style=\"text-align: right;\">\n",
       "      <th></th>\n",
       "      <th>Series_Title</th>\n",
       "      <th>Released_Year</th>\n",
       "      <th>Certificate</th>\n",
       "      <th>Runtime</th>\n",
       "      <th>Genre</th>\n",
       "      <th>IMDB_Rating</th>\n",
       "      <th>Overview</th>\n",
       "      <th>Meta_score</th>\n",
       "      <th>Director</th>\n",
       "      <th>Star1</th>\n",
       "      <th>Star2</th>\n",
       "      <th>Star3</th>\n",
       "      <th>Star4</th>\n",
       "      <th>No_of_Votes</th>\n",
       "      <th>Gross</th>\n",
       "    </tr>\n",
       "  </thead>\n",
       "  <tbody>\n",
       "    <tr>\n",
       "      <th>0</th>\n",
       "      <td>The Shawshank Redemption</td>\n",
       "      <td>1994</td>\n",
       "      <td>A</td>\n",
       "      <td>142 min</td>\n",
       "      <td>Drama</td>\n",
       "      <td>9.3</td>\n",
       "      <td>Two imprisoned men bond over a number of years...</td>\n",
       "      <td>80.0</td>\n",
       "      <td>Frank Darabont</td>\n",
       "      <td>Tim Robbins</td>\n",
       "      <td>Morgan Freeman</td>\n",
       "      <td>Bob Gunton</td>\n",
       "      <td>William Sadler</td>\n",
       "      <td>2343110</td>\n",
       "      <td>28,341,469</td>\n",
       "    </tr>\n",
       "  </tbody>\n",
       "</table>\n",
       "</div>"
      ],
      "text/plain": [
       "               Series_Title Released_Year Certificate  Runtime  Genre  \\\n",
       "0  The Shawshank Redemption          1994           A  142 min  Drama   \n",
       "\n",
       "   IMDB_Rating                                           Overview  Meta_score  \\\n",
       "0          9.3  Two imprisoned men bond over a number of years...        80.0   \n",
       "\n",
       "         Director        Star1           Star2       Star3           Star4  \\\n",
       "0  Frank Darabont  Tim Robbins  Morgan Freeman  Bob Gunton  William Sadler   \n",
       "\n",
       "   No_of_Votes       Gross  \n",
       "0      2343110  28,341,469  "
      ]
     },
     "execution_count": 6,
     "metadata": {},
     "output_type": "execute_result"
    }
   ],
   "source": [
    "data = pd.read_csv(file_path)\n",
    "#type->1\n",
    "#del data['Poster_Link']\n",
    "#type->2\n",
    "data.drop('Poster_Link',axis=1,inplace=True)\n",
    "data.head(1)"
   ]
  },
  {
   "cell_type": "markdown",
   "metadata": {
    "id": "ss6QYp4YRrfY"
   },
   "source": [
    "Set the 'Series_Title' column as the index of dataframe"
   ]
  },
  {
   "cell_type": "code",
   "execution_count": 7,
   "metadata": {
    "id": "iXNaEmTkR3tB"
   },
   "outputs": [
    {
     "data": {
      "text/html": [
       "<div>\n",
       "<style scoped>\n",
       "    .dataframe tbody tr th:only-of-type {\n",
       "        vertical-align: middle;\n",
       "    }\n",
       "\n",
       "    .dataframe tbody tr th {\n",
       "        vertical-align: top;\n",
       "    }\n",
       "\n",
       "    .dataframe thead th {\n",
       "        text-align: right;\n",
       "    }\n",
       "</style>\n",
       "<table border=\"1\" class=\"dataframe\">\n",
       "  <thead>\n",
       "    <tr style=\"text-align: right;\">\n",
       "      <th></th>\n",
       "      <th>Poster_Link</th>\n",
       "      <th>Released_Year</th>\n",
       "      <th>Certificate</th>\n",
       "      <th>Runtime</th>\n",
       "      <th>Genre</th>\n",
       "      <th>IMDB_Rating</th>\n",
       "      <th>Overview</th>\n",
       "      <th>Meta_score</th>\n",
       "      <th>Director</th>\n",
       "      <th>Star1</th>\n",
       "      <th>Star2</th>\n",
       "      <th>Star3</th>\n",
       "      <th>Star4</th>\n",
       "      <th>No_of_Votes</th>\n",
       "      <th>Gross</th>\n",
       "    </tr>\n",
       "    <tr>\n",
       "      <th>Series_Title</th>\n",
       "      <th></th>\n",
       "      <th></th>\n",
       "      <th></th>\n",
       "      <th></th>\n",
       "      <th></th>\n",
       "      <th></th>\n",
       "      <th></th>\n",
       "      <th></th>\n",
       "      <th></th>\n",
       "      <th></th>\n",
       "      <th></th>\n",
       "      <th></th>\n",
       "      <th></th>\n",
       "      <th></th>\n",
       "      <th></th>\n",
       "    </tr>\n",
       "  </thead>\n",
       "  <tbody>\n",
       "    <tr>\n",
       "      <th>The Shawshank Redemption</th>\n",
       "      <td>https://m.media-amazon.com/images/M/MV5BMDFkYT...</td>\n",
       "      <td>1994</td>\n",
       "      <td>A</td>\n",
       "      <td>142 min</td>\n",
       "      <td>Drama</td>\n",
       "      <td>9.3</td>\n",
       "      <td>Two imprisoned men bond over a number of years...</td>\n",
       "      <td>80.0</td>\n",
       "      <td>Frank Darabont</td>\n",
       "      <td>Tim Robbins</td>\n",
       "      <td>Morgan Freeman</td>\n",
       "      <td>Bob Gunton</td>\n",
       "      <td>William Sadler</td>\n",
       "      <td>2343110</td>\n",
       "      <td>28,341,469</td>\n",
       "    </tr>\n",
       "  </tbody>\n",
       "</table>\n",
       "</div>"
      ],
      "text/plain": [
       "                                                                Poster_Link  \\\n",
       "Series_Title                                                                  \n",
       "The Shawshank Redemption  https://m.media-amazon.com/images/M/MV5BMDFkYT...   \n",
       "\n",
       "                         Released_Year Certificate  Runtime  Genre  \\\n",
       "Series_Title                                                         \n",
       "The Shawshank Redemption          1994           A  142 min  Drama   \n",
       "\n",
       "                          IMDB_Rating  \\\n",
       "Series_Title                            \n",
       "The Shawshank Redemption          9.3   \n",
       "\n",
       "                                                                   Overview  \\\n",
       "Series_Title                                                                  \n",
       "The Shawshank Redemption  Two imprisoned men bond over a number of years...   \n",
       "\n",
       "                          Meta_score        Director        Star1  \\\n",
       "Series_Title                                                        \n",
       "The Shawshank Redemption        80.0  Frank Darabont  Tim Robbins   \n",
       "\n",
       "                                   Star2       Star3           Star4  \\\n",
       "Series_Title                                                           \n",
       "The Shawshank Redemption  Morgan Freeman  Bob Gunton  William Sadler   \n",
       "\n",
       "                          No_of_Votes       Gross  \n",
       "Series_Title                                       \n",
       "The Shawshank Redemption      2343110  28,341,469  "
      ]
     },
     "execution_count": 7,
     "metadata": {},
     "output_type": "execute_result"
    }
   ],
   "source": [
    "data = pd.read_csv(file_path)\n",
    "data.set_index('Series_Title', inplace=True)\n",
    "data.head(1)"
   ]
  },
  {
   "cell_type": "markdown",
   "metadata": {
    "id": "f6cj49w0R4PS"
   },
   "source": [
    "Print a list of all the unique Genre"
   ]
  },
  {
   "cell_type": "code",
   "execution_count": 8,
   "metadata": {
    "id": "CO4kbBsySVjr"
   },
   "outputs": [
    {
     "name": "stdout",
     "output_type": "stream",
     "text": [
      "Total Number of unique Genre:  21\n",
      "Western\n",
      "Romance\n",
      "Fantasy\n",
      "Adventure\n",
      "War\n",
      "Mystery\n",
      "Biography\n",
      "Sport\n",
      "Horror\n",
      "Music\n",
      "Comedy\n",
      "Crime\n",
      "Family\n",
      "Thriller\n",
      "History\n",
      "Film-Noir\n",
      "Drama\n",
      "Animation\n",
      "Action\n",
      "Musical\n",
      "Sci-Fi\n"
     ]
    }
   ],
   "source": [
    "with open(file_path,\"r\",encoding='utf-8') as file_obj:\n",
    "    data=csv.DictReader(file_obj)\n",
    "    s=set()\n",
    "    for row in data:\n",
    "        string=row['Genre']\n",
    "        l=list(string.split(', '))\n",
    "        for name in l:\n",
    "            s.add(name)\n",
    "print(\"Total Number of unique Genre: \",len(s))\n",
    "for name in s:\n",
    "    print(name)"
   ]
  },
  {
   "cell_type": "markdown",
   "metadata": {
    "id": "Dfj_ZoVBS97W"
   },
   "source": [
    "1. What is the Number of Directors in the given dataset ? "
   ]
  },
  {
   "cell_type": "code",
   "execution_count": 9,
   "metadata": {
    "id": "92f8NLciTIU_"
   },
   "outputs": [
    {
     "name": "stdout",
     "output_type": "stream",
     "text": [
      "Number of Directors: 548\n"
     ]
    }
   ],
   "source": [
    "#method-1\n",
    "with open(file_path,\"r\",encoding='utf-8') as file_obj:\n",
    "    data=csv.DictReader(file_obj)\n",
    "    s=set()\n",
    "    for row in data:\n",
    "        s.add(row['Director'])\n",
    "print(\"Number of Directors:\",len(s))"
   ]
  },
  {
   "cell_type": "code",
   "execution_count": 10,
   "metadata": {},
   "outputs": [
    {
     "name": "stdout",
     "output_type": "stream",
     "text": [
      "Number of Directors: 548\n"
     ]
    }
   ],
   "source": [
    "#method-2\n",
    "data = pd.read_csv(file_path)\n",
    "num_directors = data['Director'].nunique()\n",
    "print(\"Number of Directors:\",num_directors)"
   ]
  },
  {
   "cell_type": "markdown",
   "metadata": {
    "id": "5UnvBViyTOc9"
   },
   "source": [
    "2. What is the mean, median and standard deviation of IMDB rating in the dataset ?"
   ]
  },
  {
   "cell_type": "code",
   "execution_count": 11,
   "metadata": {
    "id": "sOL7O83LTg30"
   },
   "outputs": [
    {
     "name": "stdout",
     "output_type": "stream",
     "text": [
      "Mean of IMDB rating: 7.949300000000012\n",
      "Median of IMDB rating: 7.9\n",
      "Standard Deviation of IMDB rating: 0.27549120749200917\n"
     ]
    }
   ],
   "source": [
    "data = pd.read_csv(file_path)\n",
    "imdb_rating=data['IMDB_Rating']\n",
    "print(\"Mean of IMDB rating:\",imdb_rating.mean())\n",
    "print(\"Median of IMDB rating:\",imdb_rating.median())\n",
    "print(\"Standard Deviation of IMDB rating:\",imdb_rating.std())"
   ]
  },
  {
   "cell_type": "markdown",
   "metadata": {
    "id": "d_k1zoajTxyx"
   },
   "source": [
    "3. Which director has directed the most number of movies?"
   ]
  },
  {
   "cell_type": "code",
   "execution_count": 12,
   "metadata": {
    "id": "-gvnNqSsT88L"
   },
   "outputs": [
    {
     "name": "stdout",
     "output_type": "stream",
     "text": [
      "Alfred Hitchcock has directed the most number of movies, number of movies: 14\n"
     ]
    }
   ],
   "source": [
    "#Method-1\n",
    "with open(file_path,\"r\",encoding='utf-8') as file_obj:\n",
    "    data=csv.DictReader(file_obj)\n",
    "    d={}\n",
    "    for row in data:\n",
    "        d[row['Director']]=d.get(row['Director'],0)+1\n",
    "director=list(d.keys())\n",
    "number_of_movies=list(d.values())\n",
    "max_index = number_of_movies.index(max(number_of_movies))\n",
    "print(director[max_index],\"has directed the most number of movies, number of movies:\",number_of_movies[max_index])"
   ]
  },
  {
   "cell_type": "code",
   "execution_count": 13,
   "metadata": {},
   "outputs": [
    {
     "data": {
      "text/plain": [
       "Alfred Hitchcock    14\n",
       "Name: Director, dtype: int64"
      ]
     },
     "execution_count": 13,
     "metadata": {},
     "output_type": "execute_result"
    }
   ],
   "source": [
    "#mehtod-2\n",
    "data = pd.read_csv(file_path)\n",
    "director_counts = data['Director'].value_counts()\n",
    "top_director=director_counts.head(1)\n",
    "top_director"
   ]
  },
  {
   "cell_type": "markdown",
   "metadata": {
    "id": "zGHeeFZnT-yx"
   },
   "source": [
    "4. Name the Movie which has the highest Runtime ?"
   ]
  },
  {
   "cell_type": "code",
   "execution_count": 14,
   "metadata": {
    "id": "-1BAOzXoUKL1"
   },
   "outputs": [
    {
     "name": "stdout",
     "output_type": "stream",
     "text": [
      "Movie which has the highest Runtime is: Gangs of Wasseypur\n"
     ]
    }
   ],
   "source": [
    "file_path = \"Dataset/imdb_top_1000.csv\"\n",
    "with open(file_path,\"r\",encoding='utf-8') as file_obj:\n",
    "    data=csv.DictReader(file_obj)\n",
    "    time=[]\n",
    "    for row in data:\n",
    "        runtime=list(row['Runtime'].split(\" \"))\n",
    "        t=runtime[0]\n",
    "        time.append(int(t))\n",
    "time_series = pd.Series(time)\n",
    "max_runtime_index = time_series.idxmax()\n",
    "data = pd.read_csv(file_path)\n",
    "series_title=data['Series_Title']\n",
    "print(\"Movie which has the highest Runtime is:\",series_title[max_runtime_index])"
   ]
  },
  {
   "cell_type": "markdown",
   "metadata": {
    "id": "ast-zD1gULUS"
   },
   "source": [
    "5. How many movies are released after year 2000 and have IMDB rating > 8.5 ?"
   ]
  },
  {
   "cell_type": "code",
   "execution_count": 15,
   "metadata": {
    "id": "2SA7L3G-VLom"
   },
   "outputs": [
    {
     "name": "stdout",
     "output_type": "stream",
     "text": [
      "11 movies are released after year 2000 and have IMDB rating > 8.5\n"
     ]
    }
   ],
   "source": [
    "#method-1\n",
    "file_path = \"Dataset/imdb_top_1000.csv\"\n",
    "data = pd.read_csv(file_path)\n",
    "year_str=data['Released_Year']\n",
    "year = []\n",
    "for x in year_str:\n",
    "    try:\n",
    "        year.append(int(x))\n",
    "    except ValueError:\n",
    "        year.append(0)\n",
    "imdb=data['IMDB_Rating']\n",
    "count=0\n",
    "for i in range(1000):\n",
    "    if(year[i]>=2000 and imdb[i]>8.5):\n",
    "        count+=1\n",
    "print(count,\"movies are released after year 2000 and have IMDB rating > 8.5\")"
   ]
  },
  {
   "cell_type": "code",
   "execution_count": 16,
   "metadata": {},
   "outputs": [
    {
     "name": "stdout",
     "output_type": "stream",
     "text": [
      "11 movies are released after year 2000 and have IMDB rating > 8.5\n"
     ]
    }
   ],
   "source": [
    "#method-2\n",
    "data = pd.read_csv(file_path)\n",
    "data['Released_Year'] = pd.to_numeric(data['Released_Year'],errors='coerce')\n",
    "filtered_data = data[(data['Released_Year'] > 2000) & (data['IMDB_Rating'] > 8.5)]\n",
    "num_movies = filtered_data.shape[0]\n",
    "print(num_movies,\"movies are released after year 2000 and have IMDB rating > 8.5\")"
   ]
  },
  {
   "cell_type": "markdown",
   "metadata": {
    "id": "jYq9gv3aUl1u"
   },
   "source": [
    "Using seaborn make different types of plots, observe the trend and answer the questions.\n",
    "6. Make a countplot of Movies directed by top 5 directors."
   ]
  },
  {
   "cell_type": "code",
   "execution_count": 17,
   "metadata": {
    "id": "WOYH5X29ViUR",
    "scrolled": false
   },
   "outputs": [
    {
     "data": {
      "image/png": "[encoded data removed]",
      "text/plain": [
       "<Figure size 800x600 with 1 Axes>"
      ]
     },
     "metadata": {},
     "output_type": "display_data"
    }
   ],
   "source": [
    "data = pd.read_csv(file_path)\n",
    "director_counts=data['Director'].value_counts()\n",
    "top_directors=director_counts.head(5)\n",
    "plt.figure(figsize=(8,6))\n",
    "sns.countplot(data=data[data['Director'].isin(top_directors.index)], x='Director',lw=4,ec='black',hatch='/',palette='twilight')\n",
    "plt.xlabel('Director')\n",
    "plt.ylabel('Movies Count')\n",
    "plt.title('Movies Directed by Top 5 Directors')\n",
    "plt.xticks(rotation=50)\n",
    "plt.show()"
   ]
  },
  {
   "cell_type": "markdown",
   "metadata": {
    "id": "caUYiLeHVjIf"
   },
   "source": [
    "7. Make a plot to analyze distribution of IMDB rating?"
   ]
  },
  {
   "cell_type": "code",
   "execution_count": 18,
   "metadata": {
    "id": "c12iHvlLV9PR"
   },
   "outputs": [
    {
     "data": {
      "image/png": "[encoded data removed]",
      "text/plain": [
       "<Figure size 1000x600 with 1 Axes>"
      ]
     },
     "metadata": {},
     "output_type": "display_data"
    }
   ],
   "source": [
    "plt.figure(figsize=(10, 6))\n",
    "sns.histplot(data=data, x='IMDB_Rating', kde=True)\n",
    "plt.xlabel('IMDb Rating')\n",
    "plt.ylabel('Count')\n",
    "plt.title('Distribution of IMDb Ratings')\n",
    "plt.show()"
   ]
  },
  {
   "cell_type": "markdown",
   "metadata": {
    "id": "dXCoPuYlWISU"
   },
   "source": [
    "8. What type of Genre has the highest IMDB rating?"
   ]
  },
  {
   "cell_type": "code",
   "execution_count": 19,
   "metadata": {
    "id": "0r9cKE7fWjBU"
   },
   "outputs": [
    {
     "name": "stdout",
     "output_type": "stream",
     "text": [
      "Drama is Genre of highest IMDB rating\n"
     ]
    }
   ],
   "source": [
    "data = pd.read_csv(file_path)\n",
    "imdb=data['IMDB_Rating']\n",
    "index=imdb.argmax()\n",
    "genre=data['Genre']\n",
    "print(genre[index],\"is Genre of highest IMDB rating\")"
   ]
  },
  {
   "cell_type": "markdown",
   "metadata": {
    "id": "Ff2urhAhWrHO"
   },
   "source": [
    "9. Name the top 5 movies that have earned highest Meta score. "
   ]
  },
  {
   "cell_type": "code",
   "execution_count": 20,
   "metadata": {
    "id": "lta342_iWxLd"
   },
   "outputs": [
    {
     "name": "stdout",
     "output_type": "stream",
     "text": [
      "                    Meta_score\n",
      "Series_Title                  \n",
      "The Godfather            100.0\n",
      "Casablanca               100.0\n",
      "Rear Window              100.0\n",
      "Lawrence of Arabia       100.0\n",
      "Vertigo                  100.0\n"
     ]
    }
   ],
   "source": [
    "data = pd.read_csv(file_path)\n",
    "data_meta_top_5=data.nlargest(5,'Meta_score')[['Series_Title','Meta_score']].set_index('Series_Title')\n",
    "print(data_meta_top_5)"
   ]
  },
  {
   "cell_type": "markdown",
   "metadata": {
    "id": "FPmZIOiwW5Jo"
   },
   "source": [
    "10. Of which Genre movie has the highest Runtime?"
   ]
  },
  {
   "cell_type": "code",
   "execution_count": 21,
   "metadata": {
    "id": "R5a1FemoXJuo"
   },
   "outputs": [
    {
     "name": "stdout",
     "output_type": "stream",
     "text": [
      "Genre of Movie which has the highest Runtime is: Action, Comedy, Crime\n"
     ]
    }
   ],
   "source": [
    "file_path = \"Dataset/imdb_top_1000.csv\"\n",
    "with open(file_path,\"r\",encoding='utf-8') as file_obj:\n",
    "    data=csv.DictReader(file_obj)\n",
    "    time=[]\n",
    "    for row in data:\n",
    "        runtime=list(row['Runtime'].split(\" \"))\n",
    "        t=runtime[0]\n",
    "        time.append(int(t))\n",
    "time_series = pd.Series(time)\n",
    "max_runtime_index = time_series.idxmax()\n",
    "data = pd.read_csv(file_path)\n",
    "genre=data['Genre']\n",
    "print(\"Genre of Movie which has the highest Runtime is:\",genre[max_runtime_index])"
   ]
  },
  {
   "cell_type": "markdown",
   "metadata": {
    "id": "B_NatnajpeBE"
   },
   "source": [
    "**Using the knowledge about Plotly that you have  try making plots and analyse the data .Whenever you come across an interesting analysis please show the corresponding plot(using Plotly) and comment down your analysis for the same**"
   ]
  },
  {
   "cell_type": "code",
   "execution_count": 22,
   "metadata": {
    "id": "eGoTOAWvpfIu"
   },
   "outputs": [
    {
     "data": {
      "text/html": [
       "        <script type=\"text/javascript\">\n",
       "        window.PlotlyConfig = {MathJaxConfig: 'local'};\n",
       "        if (window.MathJax && window.MathJax.Hub && window.MathJax.Hub.Config) {window.MathJax.Hub.Config({SVG: {font: \"STIX-Web\"}});}\n",
       "        if (typeof require !== 'undefined') {\n",
       "        require.undef(\"plotly\");\n",
       "        requirejs.config({\n",
       "            paths: {\n",
       "                'plotly': ['https://cdn.plot.ly/plotly-2.12.1.min']\n",
       "            }\n",
       "        });\n",
       "        require(['plotly'], function(Plotly) {\n",
       "            window._Plotly = Plotly;\n",
       "        });\n",
       "        }\n",
       "        </script>\n",
       "        "
      ]
     },
     "metadata": {},
     "output_type": "display_data"
    },
    {
     "data": {
      "text/html": [
       "        <script type=\"text/javascript\">\n",
       "        window.PlotlyConfig = {MathJaxConfig: 'local'};\n",
       "        if (window.MathJax && window.MathJax.Hub && window.MathJax.Hub.Config) {window.MathJax.Hub.Config({SVG: {font: \"STIX-Web\"}});}\n",
       "        if (typeof require !== 'undefined') {\n",
       "        require.undef(\"plotly\");\n",
       "        requirejs.config({\n",
       "            paths: {\n",
       "                'plotly': ['https://cdn.plot.ly/plotly-2.12.1.min']\n",
       "            }\n",
       "        });\n",
       "        require(['plotly'], function(Plotly) {\n",
       "            window._Plotly = Plotly;\n",
       "        });\n",
       "        }\n",
       "        </script>\n",
       "        "
      ]
     },
     "metadata": {},
     "output_type": "display_data"
    }
   ],
   "source": [
    "import chart_studio.plotly as py\n",
    "import cufflinks as cf\n",
    "import plotly.express as px\n",
    "%matplotlib inline\n",
    "\n",
    "from plotly.offline import download_plotlyjs, init_notebook_mode, plot, iplot\n",
    "init_notebook_mode(connected=True)\n",
    "cf.go_offline()"
   ]
  },
  {
   "cell_type": "code",
   "execution_count": 23,
   "metadata": {},
   "outputs": [],
   "source": [
    "data = pd.read_csv(file_path)"
   ]
  },
  {
   "cell_type": "code",
   "execution_count": 24,
   "metadata": {
    "scrolled": false
   },
   "outputs": [
    {
     "data": {
      "application/vnd.plotly.v1+json": {
       "config": {
        "plotlyServerURL": "https://plot.ly"
       },
       "data": [
        {
         "alignmentgroup": "True",
         "bingroup": "x",
         "hovertemplate": "IMDB_Rating=%{x}<br>count=%{y}<extra></extra>",
         "legendgroup": "",
         "marker": {
          "color": "green",
          "pattern": {
           "shape": ""
          }
         },
         "name": "",
         "offsetgroup": "",
         "orientation": "v",
         "showlegend": false,
         "type": "histogram",
         "x": [
          9.3,
          9.2,
          9,
          9,
          9,
          8.9,
          8.9,
          8.9,
          8.8,
          8.8,
          8.8,
          8.8,
          8.8,
          8.7,
          8.7,
          8.7,
          8.7,
          8.7,
          8.6,
          8.6,
          8.6,
          8.6,
          8.6,
          8.6,
          8.6,
          8.6,
          8.6,
          8.6,
          8.6,
          8.6,
          8.6,
          8.6,
          8.6,
          8.5,
          8.5,
          8.5,
          8.5,
          8.5,
          8.5,
          8.5,
          8.5,
          8.5,
          8.5,
          8.5,
          8.5,
          8.5,
          8.5,
          8.5,
          8.5,
          8.5,
          8.5,
          8.5,
          8.5,
          8.4,
          8.4,
          8.4,
          8.4,
          8.4,
          8.4,
          8.4,
          8.4,
          8.4,
          8.4,
          8.4,
          8.4,
          8.4,
          8.4,
          8.4,
          8.4,
          8.4,
          8.4,
          8.4,
          8.4,
          8.4,
          8.4,
          8.4,
          8.4,
          8.4,
          8.4,
          8.4,
          8.4,
          8.4,
          8.4,
          8.4,
          8.3,
          8.3,
          8.3,
          8.3,
          8.3,
          8.3,
          8.3,
          8.3,
          8.3,
          8.3,
          8.3,
          8.3,
          8.3,
          8.3,
          8.3,
          8.3,
          8.3,
          8.3,
          8.3,
          8.3,
          8.3,
          8.3,
          8.3,
          8.3,
          8.3,
          8.3,
          8.3,
          8.3,
          8.3,
          8.3,
          8.3,
          8.3,
          8.3,
          8.3,
          8.3,
          8.3,
          8.3,
          8.3,
          8.3,
          8.3,
          8.3,
          8.3,
          8.3,
          8.3,
          8.2,
          8.2,
          8.2,
          8.2,
          8.2,
          8.2,
          8.2,
          8.2,
          8.2,
          8.2,
          8.2,
          8.2,
          8.2,
          8.2,
          8.2,
          8.2,
          8.2,
          8.2,
          8.2,
          8.2,
          8.2,
          8.2,
          8.2,
          8.2,
          8.2,
          8.2,
          8.2,
          8.2,
          8.2,
          8.2,
          8.2,
          8.2,
          8.2,
          8.2,
          8.2,
          8.2,
          8.2,
          8.2,
          8.2,
          8.2,
          8.2,
          8.2,
          8.2,
          8.2,
          8.2,
          8.2,
          8.2,
          8.2,
          8.2,
          8.2,
          8.2,
          8.2,
          8.2,
          8.2,
          8.2,
          8.2,
          8.2,
          8.2,
          8.2,
          8.2,
          8.2,
          8.2,
          8.2,
          8.2,
          8.2,
          8.2,
          8.2,
          8.1,
          8.1,
          8.1,
          8.1,
          8.1,
          8.1,
          8.1,
          8.1,
          8.1,
          8.1,
          8.1,
          8.1,
          8.1,
          8.1,
          8.1,
          8.1,
          8.1,
          8.1,
          8.1,
          8.1,
          8.1,
          8.1,
          8.1,
          8.1,
          8.1,
          8.1,
          8.1,
          8.1,
          8.1,
          8.1,
          8.1,
          8.1,
          8.1,
          8.1,
          8.1,
          8.1,
          8.1,
          8.1,
          8.1,
          8.1,
          8.1,
          8.1,
          8.1,
          8.1,
          8.1,
          8.1,
          8.1,
          8.1,
          8.1,
          8.1,
          8.1,
          8.1,
          8.1,
          8.1,
          8.1,
          8.1,
          8.1,
          8.1,
          8.1,
          8.1,
          8.1,
          8.1,
          8.1,
          8.1,
          8.1,
          8.1,
          8.1,
          8.1,
          8.1,
          8.1,
          8.1,
          8.1,
          8.1,
          8.1,
          8.1,
          8.1,
          8.1,
          8.1,
          8.1,
          8.1,
          8.1,
          8.1,
          8.1,
          8.1,
          8.1,
          8.1,
          8.1,
          8.1,
          8.1,
          8.1,
          8.1,
          8.1,
          8.1,
          8.1,
          8.1,
          8.1,
          8.1,
          8.1,
          8.1,
          8.1,
          8.1,
          8.1,
          8.1,
          8.1,
          8.1,
          8.1,
          8.1,
          8.1,
          8.1,
          8.1,
          8.1,
          8.1,
          8.1,
          8.1,
          8.1,
          8.1,
          8.1,
          8.1,
          8.1,
          8.1,
          8.1,
          8.1,
          8.1,
          8.1,
          8.1,
          8.1,
          8.1,
          8,
          8,
          8,
          8,
          8,
          8,
          8,
          8,
          8,
          8,
          8,
          8,
          8,
          8,
          8,
          8,
          8,
          8,
          8,
          8,
          8,
          8,
          8,
          8,
          8,
          8,
          8,
          8,
          8,
          8,
          8,
          8,
          8,
          8,
          8,
          8,
          8,
          8,
          8,
          8,
          8,
          8,
          8,
          8,
          8,
          8,
          8,
          8,
          8,
          8,
          8,
          8,
          8,
          8,
          8,
          8,
          8,
          8,
          8,
          8,
          8,
          8,
          8,
          8,
          8,
          8,
          8,
          8,
          8,
          8,
          8,
          8,
          8,
          8,
          8,
          8,
          8,
          8,
          8,
          8,
          8,
          8,
          8,
          8,
          8,
          8,
          8,
          8,
          8,
          8,
          8,
          8,
          8,
          8,
          8,
          8,
          8,
          8,
          8,
          8,
          8,
          8,
          8,
          8,
          8,
          8,
          8,
          8,
          8,
          8,
          8,
          8,
          8,
          8,
          8,
          8,
          8,
          8,
          8,
          8,
          8,
          8,
          8,
          8,
          8,
          8,
          8,
          8,
          8,
          8,
          8,
          8,
          8,
          8,
          8,
          8,
          8,
          8,
          8,
          8,
          8,
          7.9,
          7.9,
          7.9,
          7.9,
          7.9,
          7.9,
          7.9,
          7.9,
          7.9,
          7.9,
          7.9,
          7.9,
          7.9,
          7.9,
          7.9,
          7.9,
          7.9,
          7.9,
          7.9,
          7.9,
          7.9,
          7.9,
          7.9,
          7.9,
          7.9,
          7.9,
          7.9,
          7.9,
          7.9,
          7.9,
          7.9,
          7.9,
          7.9,
          7.9,
          7.9,
          7.9,
          7.9,
          7.9,
          7.9,
          7.9,
          7.9,
          7.9,
          7.9,
          7.9,
          7.9,
          7.9,
          7.9,
          7.9,
          7.9,
          7.9,
          7.9,
          7.9,
          7.9,
          7.9,
          7.9,
          7.9,
          7.9,
          7.9,
          7.9,
          7.9,
          7.9,
          7.9,
          7.9,
          7.9,
          7.9,
          7.9,
          7.9,
          7.9,
          7.9,
          7.9,
          7.9,
          7.9,
          7.9,
          7.9,
          7.9,
          7.9,
          7.9,
          7.9,
          7.9,
          7.9,
          7.9,
          7.9,
          7.9,
          7.9,
          7.9,
          7.9,
          7.9,
          7.9,
          7.9,
          7.9,
          7.9,
          7.9,
          7.9,
          7.9,
          7.9,
          7.9,
          7.9,
          7.9,
          7.9,
          7.9,
          7.9,
          7.9,
          7.9,
          7.9,
          7.9,
          7.9,
          7.8,
          7.8,
          7.8,
          7.8,
          7.8,
          7.8,
          7.8,
          7.8,
          7.8,
          7.8,
          7.8,
          7.8,
          7.8,
          7.8,
          7.8,
          7.8,
          7.8,
          7.8,
          7.8,
          7.8,
          7.8,
          7.8,
          7.8,
          7.8,
          7.8,
          7.8,
          7.8,
          7.8,
          7.8,
          7.8,
          7.8,
          7.8,
          7.8,
          7.8,
          7.8,
          7.8,
          7.8,
          7.8,
          7.8,
          7.8,
          7.8,
          7.8,
          7.8,
          7.8,
          7.8,
          7.8,
          7.8,
          7.8,
          7.8,
          7.8,
          7.8,
          7.8,
          7.8,
          7.8,
          7.8,
          7.8,
          7.8,
          7.8,
          7.8,
          7.8,
          7.8,
          7.8,
          7.8,
          7.8,
          7.8,
          7.8,
          7.8,
          7.8,
          7.8,
          7.8,
          7.8,
          7.8,
          7.8,
          7.8,
          7.8,
          7.8,
          7.8,
          7.8,
          7.8,
          7.8,
          7.8,
          7.8,
          7.8,
          7.8,
          7.8,
          7.8,
          7.8,
          7.8,
          7.8,
          7.8,
          7.8,
          7.8,
          7.8,
          7.8,
          7.8,
          7.8,
          7.8,
          7.8,
          7.8,
          7.8,
          7.8,
          7.8,
          7.8,
          7.8,
          7.8,
          7.8,
          7.8,
          7.8,
          7.8,
          7.8,
          7.8,
          7.8,
          7.8,
          7.8,
          7.8,
          7.8,
          7.8,
          7.8,
          7.8,
          7.8,
          7.8,
          7.8,
          7.8,
          7.8,
          7.8,
          7.8,
          7.8,
          7.8,
          7.8,
          7.8,
          7.8,
          7.8,
          7.8,
          7.8,
          7.8,
          7.8,
          7.8,
          7.8,
          7.8,
          7.8,
          7.8,
          7.8,
          7.8,
          7.8,
          7.8,
          7.8,
          7.8,
          7.8,
          7.8,
          7.8,
          7.8,
          7.7,
          7.7,
          7.7,
          7.7,
          7.7,
          7.7,
          7.7,
          7.7,
          7.7,
          7.7,
          7.7,
          7.7,
          7.7,
          7.7,
          7.7,
          7.7,
          7.7,
          7.7,
          7.7,
          7.7,
          7.7,
          7.7,
          7.7,
          7.7,
          7.7,
          7.7,
          7.7,
          7.7,
          7.7,
          7.7,
          7.7,
          7.7,
          7.7,
          7.7,
          7.7,
          7.7,
          7.7,
          7.7,
          7.7,
          7.7,
          7.7,
          7.7,
          7.7,
          7.7,
          7.7,
          7.7,
          7.7,
          7.7,
          7.7,
          7.7,
          7.7,
          7.7,
          7.7,
          7.7,
          7.7,
          7.7,
          7.7,
          7.7,
          7.7,
          7.7,
          7.7,
          7.7,
          7.7,
          7.7,
          7.7,
          7.7,
          7.7,
          7.7,
          7.7,
          7.7,
          7.7,
          7.7,
          7.7,
          7.7,
          7.7,
          7.7,
          7.7,
          7.7,
          7.7,
          7.7,
          7.7,
          7.7,
          7.7,
          7.7,
          7.7,
          7.7,
          7.7,
          7.7,
          7.7,
          7.7,
          7.7,
          7.7,
          7.7,
          7.7,
          7.7,
          7.7,
          7.7,
          7.7,
          7.7,
          7.7,
          7.7,
          7.7,
          7.7,
          7.7,
          7.7,
          7.7,
          7.7,
          7.7,
          7.7,
          7.7,
          7.7,
          7.7,
          7.7,
          7.7,
          7.7,
          7.7,
          7.7,
          7.7,
          7.7,
          7.7,
          7.7,
          7.7,
          7.7,
          7.7,
          7.7,
          7.7,
          7.7,
          7.7,
          7.7,
          7.7,
          7.7,
          7.7,
          7.7,
          7.7,
          7.7,
          7.7,
          7.7,
          7.7,
          7.7,
          7.7,
          7.7,
          7.7,
          7.7,
          7.7,
          7.7,
          7.7,
          7.7,
          7.7,
          7.7,
          7.7,
          7.7,
          7.7,
          7.7,
          7.7,
          7.7,
          7.7,
          7.7,
          7.6,
          7.6,
          7.6,
          7.6,
          7.6,
          7.6,
          7.6,
          7.6,
          7.6,
          7.6,
          7.6,
          7.6,
          7.6,
          7.6,
          7.6,
          7.6,
          7.6,
          7.6,
          7.6,
          7.6,
          7.6,
          7.6,
          7.6,
          7.6,
          7.6,
          7.6,
          7.6,
          7.6,
          7.6,
          7.6,
          7.6,
          7.6,
          7.6,
          7.6,
          7.6,
          7.6,
          7.6,
          7.6,
          7.6,
          7.6,
          7.6,
          7.6,
          7.6,
          7.6,
          7.6,
          7.6,
          7.6,
          7.6,
          7.6,
          7.6,
          7.6,
          7.6,
          7.6,
          7.6,
          7.6,
          7.6,
          7.6,
          7.6,
          7.6,
          7.6,
          7.6,
          7.6,
          7.6,
          7.6,
          7.6,
          7.6,
          7.6,
          7.6,
          7.6,
          7.6,
          7.6,
          7.6,
          7.6,
          7.6,
          7.6,
          7.6,
          7.6,
          7.6,
          7.6,
          7.6,
          7.6,
          7.6,
          7.6,
          7.6,
          7.6,
          7.6,
          7.6,
          7.6,
          7.6,
          7.6,
          7.6,
          7.6,
          7.6,
          7.6,
          7.6,
          7.6,
          7.6,
          7.6,
          7.6,
          7.6,
          7.6,
          7.6,
          7.6,
          7.6,
          7.6,
          7.6,
          7.6,
          7.6,
          7.6,
          7.6,
          7.6,
          7.6,
          7.6,
          7.6,
          7.6,
          7.6,
          7.6,
          7.6,
          7.6,
          7.6,
          7.6,
          7.6,
          7.6
         ],
         "xaxis": "x",
         "yaxis": "y"
        },
        {
         "alignmentgroup": "True",
         "hovertemplate": "IMDB_Rating=%{x}<extra></extra>",
         "legendgroup": "",
         "marker": {
          "color": "green"
         },
         "name": "",
         "offsetgroup": "",
         "scalegroup": "x",
         "showlegend": false,
         "type": "violin",
         "x": [
          9.3,
          9.2,
          9,
          9,
          9,
          8.9,
          8.9,
          8.9,
          8.8,
          8.8,
          8.8,
          8.8,
          8.8,
          8.7,
          8.7,
          8.7,
          8.7,
          8.7,
          8.6,
          8.6,
          8.6,
          8.6,
          8.6,
          8.6,
          8.6,
          8.6,
          8.6,
          8.6,
          8.6,
          8.6,
          8.6,
          8.6,
          8.6,
          8.5,
          8.5,
          8.5,
          8.5,
          8.5,
          8.5,
          8.5,
          8.5,
          8.5,
          8.5,
          8.5,
          8.5,
          8.5,
          8.5,
          8.5,
          8.5,
          8.5,
          8.5,
          8.5,
          8.5,
          8.4,
          8.4,
          8.4,
          8.4,
          8.4,
          8.4,
          8.4,
          8.4,
          8.4,
          8.4,
          8.4,
          8.4,
          8.4,
          8.4,
          8.4,
          8.4,
          8.4,
          8.4,
          8.4,
          8.4,
          8.4,
          8.4,
          8.4,
          8.4,
          8.4,
          8.4,
          8.4,
          8.4,
          8.4,
          8.4,
          8.4,
          8.3,
          8.3,
          8.3,
          8.3,
          8.3,
          8.3,
          8.3,
          8.3,
          8.3,
          8.3,
          8.3,
          8.3,
          8.3,
          8.3,
          8.3,
          8.3,
          8.3,
          8.3,
          8.3,
          8.3,
          8.3,
          8.3,
          8.3,
          8.3,
          8.3,
          8.3,
          8.3,
          8.3,
          8.3,
          8.3,
          8.3,
          8.3,
          8.3,
          8.3,
          8.3,
          8.3,
          8.3,
          8.3,
          8.3,
          8.3,
          8.3,
          8.3,
          8.3,
          8.3,
          8.2,
          8.2,
          8.2,
          8.2,
          8.2,
          8.2,
          8.2,
          8.2,
          8.2,
          8.2,
          8.2,
          8.2,
          8.2,
          8.2,
          8.2,
          8.2,
          8.2,
          8.2,
          8.2,
          8.2,
          8.2,
          8.2,
          8.2,
          8.2,
          8.2,
          8.2,
          8.2,
          8.2,
          8.2,
          8.2,
          8.2,
          8.2,
          8.2,
          8.2,
          8.2,
          8.2,
          8.2,
          8.2,
          8.2,
          8.2,
          8.2,
          8.2,
          8.2,
          8.2,
          8.2,
          8.2,
          8.2,
          8.2,
          8.2,
          8.2,
          8.2,
          8.2,
          8.2,
          8.2,
          8.2,
          8.2,
          8.2,
          8.2,
          8.2,
          8.2,
          8.2,
          8.2,
          8.2,
          8.2,
          8.2,
          8.2,
          8.2,
          8.1,
          8.1,
          8.1,
          8.1,
          8.1,
          8.1,
          8.1,
          8.1,
          8.1,
          8.1,
          8.1,
          8.1,
          8.1,
          8.1,
          8.1,
          8.1,
          8.1,
          8.1,
          8.1,
          8.1,
          8.1,
          8.1,
          8.1,
          8.1,
          8.1,
          8.1,
          8.1,
          8.1,
          8.1,
          8.1,
          8.1,
          8.1,
          8.1,
          8.1,
          8.1,
          8.1,
          8.1,
          8.1,
          8.1,
          8.1,
          8.1,
          8.1,
          8.1,
          8.1,
          8.1,
          8.1,
          8.1,
          8.1,
          8.1,
          8.1,
          8.1,
          8.1,
          8.1,
          8.1,
          8.1,
          8.1,
          8.1,
          8.1,
          8.1,
          8.1,
          8.1,
          8.1,
          8.1,
          8.1,
          8.1,
          8.1,
          8.1,
          8.1,
          8.1,
          8.1,
          8.1,
          8.1,
          8.1,
          8.1,
          8.1,
          8.1,
          8.1,
          8.1,
          8.1,
          8.1,
          8.1,
          8.1,
          8.1,
          8.1,
          8.1,
          8.1,
          8.1,
          8.1,
          8.1,
          8.1,
          8.1,
          8.1,
          8.1,
          8.1,
          8.1,
          8.1,
          8.1,
          8.1,
          8.1,
          8.1,
          8.1,
          8.1,
          8.1,
          8.1,
          8.1,
          8.1,
          8.1,
          8.1,
          8.1,
          8.1,
          8.1,
          8.1,
          8.1,
          8.1,
          8.1,
          8.1,
          8.1,
          8.1,
          8.1,
          8.1,
          8.1,
          8.1,
          8.1,
          8.1,
          8.1,
          8.1,
          8.1,
          8,
          8,
          8,
          8,
          8,
          8,
          8,
          8,
          8,
          8,
          8,
          8,
          8,
          8,
          8,
          8,
          8,
          8,
          8,
          8,
          8,
          8,
          8,
          8,
          8,
          8,
          8,
          8,
          8,
          8,
          8,
          8,
          8,
          8,
          8,
          8,
          8,
          8,
          8,
          8,
          8,
          8,
          8,
          8,
          8,
          8,
          8,
          8,
          8,
          8,
          8,
          8,
          8,
          8,
          8,
          8,
          8,
          8,
          8,
          8,
          8,
          8,
          8,
          8,
          8,
          8,
          8,
          8,
          8,
          8,
          8,
          8,
          8,
          8,
          8,
          8,
          8,
          8,
          8,
          8,
          8,
          8,
          8,
          8,
          8,
          8,
          8,
          8,
          8,
          8,
          8,
          8,
          8,
          8,
          8,
          8,
          8,
          8,
          8,
          8,
          8,
          8,
          8,
          8,
          8,
          8,
          8,
          8,
          8,
          8,
          8,
          8,
          8,
          8,
          8,
          8,
          8,
          8,
          8,
          8,
          8,
          8,
          8,
          8,
          8,
          8,
          8,
          8,
          8,
          8,
          8,
          8,
          8,
          8,
          8,
          8,
          8,
          8,
          8,
          8,
          8,
          7.9,
          7.9,
          7.9,
          7.9,
          7.9,
          7.9,
          7.9,
          7.9,
          7.9,
          7.9,
          7.9,
          7.9,
          7.9,
          7.9,
          7.9,
          7.9,
          7.9,
          7.9,
          7.9,
          7.9,
          7.9,
          7.9,
          7.9,
          7.9,
          7.9,
          7.9,
          7.9,
          7.9,
          7.9,
          7.9,
          7.9,
          7.9,
          7.9,
          7.9,
          7.9,
          7.9,
          7.9,
          7.9,
          7.9,
          7.9,
          7.9,
          7.9,
          7.9,
          7.9,
          7.9,
          7.9,
          7.9,
          7.9,
          7.9,
          7.9,
          7.9,
          7.9,
          7.9,
          7.9,
          7.9,
          7.9,
          7.9,
          7.9,
          7.9,
          7.9,
          7.9,
          7.9,
          7.9,
          7.9,
          7.9,
          7.9,
          7.9,
          7.9,
          7.9,
          7.9,
          7.9,
          7.9,
          7.9,
          7.9,
          7.9,
          7.9,
          7.9,
          7.9,
          7.9,
          7.9,
          7.9,
          7.9,
          7.9,
          7.9,
          7.9,
          7.9,
          7.9,
          7.9,
          7.9,
          7.9,
          7.9,
          7.9,
          7.9,
          7.9,
          7.9,
          7.9,
          7.9,
          7.9,
          7.9,
          7.9,
          7.9,
          7.9,
          7.9,
          7.9,
          7.9,
          7.9,
          7.8,
          7.8,
          7.8,
          7.8,
          7.8,
          7.8,
          7.8,
          7.8,
          7.8,
          7.8,
          7.8,
          7.8,
          7.8,
          7.8,
          7.8,
          7.8,
          7.8,
          7.8,
          7.8,
          7.8,
          7.8,
          7.8,
          7.8,
          7.8,
          7.8,
          7.8,
          7.8,
          7.8,
          7.8,
          7.8,
          7.8,
          7.8,
          7.8,
          7.8,
          7.8,
          7.8,
          7.8,
          7.8,
          7.8,
          7.8,
          7.8,
          7.8,
          7.8,
          7.8,
          7.8,
          7.8,
          7.8,
          7.8,
          7.8,
          7.8,
          7.8,
          7.8,
          7.8,
          7.8,
          7.8,
          7.8,
          7.8,
          7.8,
          7.8,
          7.8,
          7.8,
          7.8,
          7.8,
          7.8,
          7.8,
          7.8,
          7.8,
          7.8,
          7.8,
          7.8,
          7.8,
          7.8,
          7.8,
          7.8,
          7.8,
          7.8,
          7.8,
          7.8,
          7.8,
          7.8,
          7.8,
          7.8,
          7.8,
          7.8,
          7.8,
          7.8,
          7.8,
          7.8,
          7.8,
          7.8,
          7.8,
          7.8,
          7.8,
          7.8,
          7.8,
          7.8,
          7.8,
          7.8,
          7.8,
          7.8,
          7.8,
          7.8,
          7.8,
          7.8,
          7.8,
          7.8,
          7.8,
          7.8,
          7.8,
          7.8,
          7.8,
          7.8,
          7.8,
          7.8,
          7.8,
          7.8,
          7.8,
          7.8,
          7.8,
          7.8,
          7.8,
          7.8,
          7.8,
          7.8,
          7.8,
          7.8,
          7.8,
          7.8,
          7.8,
          7.8,
          7.8,
          7.8,
          7.8,
          7.8,
          7.8,
          7.8,
          7.8,
          7.8,
          7.8,
          7.8,
          7.8,
          7.8,
          7.8,
          7.8,
          7.8,
          7.8,
          7.8,
          7.8,
          7.8,
          7.8,
          7.8,
          7.7,
          7.7,
          7.7,
          7.7,
          7.7,
          7.7,
          7.7,
          7.7,
          7.7,
          7.7,
          7.7,
          7.7,
          7.7,
          7.7,
          7.7,
          7.7,
          7.7,
          7.7,
          7.7,
          7.7,
          7.7,
          7.7,
          7.7,
          7.7,
          7.7,
          7.7,
          7.7,
          7.7,
          7.7,
          7.7,
          7.7,
          7.7,
          7.7,
          7.7,
          7.7,
          7.7,
          7.7,
          7.7,
          7.7,
          7.7,
          7.7,
          7.7,
          7.7,
          7.7,
          7.7,
          7.7,
          7.7,
          7.7,
          7.7,
          7.7,
          7.7,
          7.7,
          7.7,
          7.7,
          7.7,
          7.7,
          7.7,
          7.7,
          7.7,
          7.7,
          7.7,
          7.7,
          7.7,
          7.7,
          7.7,
          7.7,
          7.7,
          7.7,
          7.7,
          7.7,
          7.7,
          7.7,
          7.7,
          7.7,
          7.7,
          7.7,
          7.7,
          7.7,
          7.7,
          7.7,
          7.7,
          7.7,
          7.7,
          7.7,
          7.7,
          7.7,
          7.7,
          7.7,
          7.7,
          7.7,
          7.7,
          7.7,
          7.7,
          7.7,
          7.7,
          7.7,
          7.7,
          7.7,
          7.7,
          7.7,
          7.7,
          7.7,
          7.7,
          7.7,
          7.7,
          7.7,
          7.7,
          7.7,
          7.7,
          7.7,
          7.7,
          7.7,
          7.7,
          7.7,
          7.7,
          7.7,
          7.7,
          7.7,
          7.7,
          7.7,
          7.7,
          7.7,
          7.7,
          7.7,
          7.7,
          7.7,
          7.7,
          7.7,
          7.7,
          7.7,
          7.7,
          7.7,
          7.7,
          7.7,
          7.7,
          7.7,
          7.7,
          7.7,
          7.7,
          7.7,
          7.7,
          7.7,
          7.7,
          7.7,
          7.7,
          7.7,
          7.7,
          7.7,
          7.7,
          7.7,
          7.7,
          7.7,
          7.7,
          7.7,
          7.7,
          7.7,
          7.7,
          7.6,
          7.6,
          7.6,
          7.6,
          7.6,
          7.6,
          7.6,
          7.6,
          7.6,
          7.6,
          7.6,
          7.6,
          7.6,
          7.6,
          7.6,
          7.6,
          7.6,
          7.6,
          7.6,
          7.6,
          7.6,
          7.6,
          7.6,
          7.6,
          7.6,
          7.6,
          7.6,
          7.6,
          7.6,
          7.6,
          7.6,
          7.6,
          7.6,
          7.6,
          7.6,
          7.6,
          7.6,
          7.6,
          7.6,
          7.6,
          7.6,
          7.6,
          7.6,
          7.6,
          7.6,
          7.6,
          7.6,
          7.6,
          7.6,
          7.6,
          7.6,
          7.6,
          7.6,
          7.6,
          7.6,
          7.6,
          7.6,
          7.6,
          7.6,
          7.6,
          7.6,
          7.6,
          7.6,
          7.6,
          7.6,
          7.6,
          7.6,
          7.6,
          7.6,
          7.6,
          7.6,
          7.6,
          7.6,
          7.6,
          7.6,
          7.6,
          7.6,
          7.6,
          7.6,
          7.6,
          7.6,
          7.6,
          7.6,
          7.6,
          7.6,
          7.6,
          7.6,
          7.6,
          7.6,
          7.6,
          7.6,
          7.6,
          7.6,
          7.6,
          7.6,
          7.6,
          7.6,
          7.6,
          7.6,
          7.6,
          7.6,
          7.6,
          7.6,
          7.6,
          7.6,
          7.6,
          7.6,
          7.6,
          7.6,
          7.6,
          7.6,
          7.6,
          7.6,
          7.6,
          7.6,
          7.6,
          7.6,
          7.6,
          7.6,
          7.6,
          7.6,
          7.6,
          7.6
         ],
         "xaxis": "x2",
         "yaxis": "y2"
        }
       ],
       "layout": {
        "barmode": "relative",
        "legend": {
         "tracegroupgap": 0
        },
        "margin": {
         "t": 60
        },
        "template": {
         "data": {
          "bar": [
           {
            "error_x": {
             "color": "#2a3f5f"
            },
            "error_y": {
             "color": "#2a3f5f"
            },
            "marker": {
             "line": {
              "color": "#E5ECF6",
              "width": 0.5
             },
             "pattern": {
              "fillmode": "overlay",
              "size": 10,
              "solidity": 0.2
             }
            },
            "type": "bar"
           }
          ],
          "barpolar": [
           {
            "marker": {
             "line": {
              "color": "#E5ECF6",
              "width": 0.5
             },
             "pattern": {
              "fillmode": "overlay",
              "size": 10,
              "solidity": 0.2
             }
            },
            "type": "barpolar"
           }
          ],
          "carpet": [
           {
            "aaxis": {
             "endlinecolor": "#2a3f5f",
             "gridcolor": "white",
             "linecolor": "white",
             "minorgridcolor": "white",
             "startlinecolor": "#2a3f5f"
            },
            "baxis": {
             "endlinecolor": "#2a3f5f",
             "gridcolor": "white",
             "linecolor": "white",
             "minorgridcolor": "white",
             "startlinecolor": "#2a3f5f"
            },
            "type": "carpet"
           }
          ],
          "choropleth": [
           {
            "colorbar": {
             "outlinewidth": 0,
             "ticks": ""
            },
            "type": "choropleth"
           }
          ],
          "contour": [
           {
            "colorbar": {
             "outlinewidth": 0,
             "ticks": ""
            },
            "colorscale": [
             [
              0,
              "#0d0887"
             ],
             [
              0.1111111111111111,
              "#46039f"
             ],
             [
              0.2222222222222222,
              "#7201a8"
             ],
             [
              0.3333333333333333,
              "#9c179e"
             ],
             [
              0.4444444444444444,
              "#bd3786"
             ],
             [
              0.5555555555555556,
              "#d8576b"
             ],
             [
              0.6666666666666666,
              "#ed7953"
             ],
             [
              0.7777777777777778,
              "#fb9f3a"
             ],
             [
              0.8888888888888888,
              "#fdca26"
             ],
             [
              1,
              "#f0f921"
             ]
            ],
            "type": "contour"
           }
          ],
          "contourcarpet": [
           {
            "colorbar": {
             "outlinewidth": 0,
             "ticks": ""
            },
            "type": "contourcarpet"
           }
          ],
          "heatmap": [
           {
            "colorbar": {
             "outlinewidth": 0,
             "ticks": ""
            },
            "colorscale": [
             [
              0,
              "#0d0887"
             ],
             [
              0.1111111111111111,
              "#46039f"
             ],
             [
              0.2222222222222222,
              "#7201a8"
             ],
             [
              0.3333333333333333,
              "#9c179e"
             ],
             [
              0.4444444444444444,
              "#bd3786"
             ],
             [
              0.5555555555555556,
              "#d8576b"
             ],
             [
              0.6666666666666666,
              "#ed7953"
             ],
             [
              0.7777777777777778,
              "#fb9f3a"
             ],
             [
              0.8888888888888888,
              "#fdca26"
             ],
             [
              1,
              "#f0f921"
             ]
            ],
            "type": "heatmap"
           }
          ],
          "heatmapgl": [
           {
            "colorbar": {
             "outlinewidth": 0,
             "ticks": ""
            },
            "colorscale": [
             [
              0,
              "#0d0887"
             ],
             [
              0.1111111111111111,
              "#46039f"
             ],
             [
              0.2222222222222222,
              "#7201a8"
             ],
             [
              0.3333333333333333,
              "#9c179e"
             ],
             [
              0.4444444444444444,
              "#bd3786"
             ],
             [
              0.5555555555555556,
              "#d8576b"
             ],
             [
              0.6666666666666666,
              "#ed7953"
             ],
             [
              0.7777777777777778,
              "#fb9f3a"
             ],
             [
              0.8888888888888888,
              "#fdca26"
             ],
             [
              1,
              "#f0f921"
             ]
            ],
            "type": "heatmapgl"
           }
          ],
          "histogram": [
           {
            "marker": {
             "pattern": {
              "fillmode": "overlay",
              "size": 10,
              "solidity": 0.2
             }
            },
            "type": "histogram"
           }
          ],
          "histogram2d": [
           {
            "colorbar": {
             "outlinewidth": 0,
             "ticks": ""
            },
            "colorscale": [
             [
              0,
              "#0d0887"
             ],
             [
              0.1111111111111111,
              "#46039f"
             ],
             [
              0.2222222222222222,
              "#7201a8"
             ],
             [
              0.3333333333333333,
              "#9c179e"
             ],
             [
              0.4444444444444444,
              "#bd3786"
             ],
             [
              0.5555555555555556,
              "#d8576b"
             ],
             [
              0.6666666666666666,
              "#ed7953"
             ],
             [
              0.7777777777777778,
              "#fb9f3a"
             ],
             [
              0.8888888888888888,
              "#fdca26"
             ],
             [
              1,
              "#f0f921"
             ]
            ],
            "type": "histogram2d"
           }
          ],
          "histogram2dcontour": [
           {
            "colorbar": {
             "outlinewidth": 0,
             "ticks": ""
            },
            "colorscale": [
             [
              0,
              "#0d0887"
             ],
             [
              0.1111111111111111,
              "#46039f"
             ],
             [
              0.2222222222222222,
              "#7201a8"
             ],
             [
              0.3333333333333333,
              "#9c179e"
             ],
             [
              0.4444444444444444,
              "#bd3786"
             ],
             [
              0.5555555555555556,
              "#d8576b"
             ],
             [
              0.6666666666666666,
              "#ed7953"
             ],
             [
              0.7777777777777778,
              "#fb9f3a"
             ],
             [
              0.8888888888888888,
              "#fdca26"
             ],
             [
              1,
              "#f0f921"
             ]
            ],
            "type": "histogram2dcontour"
           }
          ],
          "mesh3d": [
           {
            "colorbar": {
             "outlinewidth": 0,
             "ticks": ""
            },
            "type": "mesh3d"
           }
          ],
          "parcoords": [
           {
            "line": {
             "colorbar": {
              "outlinewidth": 0,
              "ticks": ""
             }
            },
            "type": "parcoords"
           }
          ],
          "pie": [
           {
            "automargin": true,
            "type": "pie"
           }
          ],
          "scatter": [
           {
            "fillpattern": {
             "fillmode": "overlay",
             "size": 10,
             "solidity": 0.2
            },
            "type": "scatter"
           }
          ],
          "scatter3d": [
           {
            "line": {
             "colorbar": {
              "outlinewidth": 0,
              "ticks": ""
             }
            },
            "marker": {
             "colorbar": {
              "outlinewidth": 0,
              "ticks": ""
             }
            },
            "type": "scatter3d"
           }
          ],
          "scattercarpet": [
           {
            "marker": {
             "colorbar": {
              "outlinewidth": 0,
              "ticks": ""
             }
            },
            "type": "scattercarpet"
           }
          ],
          "scattergeo": [
           {
            "marker": {
             "colorbar": {
              "outlinewidth": 0,
              "ticks": ""
             }
            },
            "type": "scattergeo"
           }
          ],
          "scattergl": [
           {
            "marker": {
             "colorbar": {
              "outlinewidth": 0,
              "ticks": ""
             }
            },
            "type": "scattergl"
           }
          ],
          "scattermapbox": [
           {
            "marker": {
             "colorbar": {
              "outlinewidth": 0,
              "ticks": ""
             }
            },
            "type": "scattermapbox"
           }
          ],
          "scatterpolar": [
           {
            "marker": {
             "colorbar": {
              "outlinewidth": 0,
              "ticks": ""
             }
            },
            "type": "scatterpolar"
           }
          ],
          "scatterpolargl": [
           {
            "marker": {
             "colorbar": {
              "outlinewidth": 0,
              "ticks": ""
             }
            },
            "type": "scatterpolargl"
           }
          ],
          "scatterternary": [
           {
            "marker": {
             "colorbar": {
              "outlinewidth": 0,
              "ticks": ""
             }
            },
            "type": "scatterternary"
           }
          ],
          "surface": [
           {
            "colorbar": {
             "outlinewidth": 0,
             "ticks": ""
            },
            "colorscale": [
             [
              0,
              "#0d0887"
             ],
             [
              0.1111111111111111,
              "#46039f"
             ],
             [
              0.2222222222222222,
              "#7201a8"
             ],
             [
              0.3333333333333333,
              "#9c179e"
             ],
             [
              0.4444444444444444,
              "#bd3786"
             ],
             [
              0.5555555555555556,
              "#d8576b"
             ],
             [
              0.6666666666666666,
              "#ed7953"
             ],
             [
              0.7777777777777778,
              "#fb9f3a"
             ],
             [
              0.8888888888888888,
              "#fdca26"
             ],
             [
              1,
              "#f0f921"
             ]
            ],
            "type": "surface"
           }
          ],
          "table": [
           {
            "cells": {
             "fill": {
              "color": "#EBF0F8"
             },
             "line": {
              "color": "white"
             }
            },
            "header": {
             "fill": {
              "color": "#C8D4E3"
             },
             "line": {
              "color": "white"
             }
            },
            "type": "table"
           }
          ]
         },
         "layout": {
          "annotationdefaults": {
           "arrowcolor": "#2a3f5f",
           "arrowhead": 0,
           "arrowwidth": 1
          },
          "autotypenumbers": "strict",
          "coloraxis": {
           "colorbar": {
            "outlinewidth": 0,
            "ticks": ""
           }
          },
          "colorscale": {
           "diverging": [
            [
             0,
             "#8e0152"
            ],
            [
             0.1,
             "#c51b7d"
            ],
            [
             0.2,
             "#de77ae"
            ],
            [
             0.3,
             "#f1b6da"
            ],
            [
             0.4,
             "#fde0ef"
            ],
            [
             0.5,
             "#f7f7f7"
            ],
            [
             0.6,
             "#e6f5d0"
            ],
            [
             0.7,
             "#b8e186"
            ],
            [
             0.8,
             "#7fbc41"
            ],
            [
             0.9,
             "#4d9221"
            ],
            [
             1,
             "#276419"
            ]
           ],
           "sequential": [
            [
             0,
             "#0d0887"
            ],
            [
             0.1111111111111111,
             "#46039f"
            ],
            [
             0.2222222222222222,
             "#7201a8"
            ],
            [
             0.3333333333333333,
             "#9c179e"
            ],
            [
             0.4444444444444444,
             "#bd3786"
            ],
            [
             0.5555555555555556,
             "#d8576b"
            ],
            [
             0.6666666666666666,
             "#ed7953"
            ],
            [
             0.7777777777777778,
             "#fb9f3a"
            ],
            [
             0.8888888888888888,
             "#fdca26"
            ],
            [
             1,
             "#f0f921"
            ]
           ],
           "sequentialminus": [
            [
             0,
             "#0d0887"
            ],
            [
             0.1111111111111111,
             "#46039f"
            ],
            [
             0.2222222222222222,
             "#7201a8"
            ],
            [
             0.3333333333333333,
             "#9c179e"
            ],
            [
             0.4444444444444444,
             "#bd3786"
            ],
            [
             0.5555555555555556,
             "#d8576b"
            ],
            [
             0.6666666666666666,
             "#ed7953"
            ],
            [
             0.7777777777777778,
             "#fb9f3a"
            ],
            [
             0.8888888888888888,
             "#fdca26"
            ],
            [
             1,
             "#f0f921"
            ]
           ]
          },
          "colorway": [
           "#636efa",
           "#EF553B",
           "#00cc96",
           "#ab63fa",
           "#FFA15A",
           "#19d3f3",
           "#FF6692",
           "#B6E880",
           "#FF97FF",
           "#FECB52"
          ],
          "font": {
           "color": "#2a3f5f"
          },
          "geo": {
           "bgcolor": "white",
           "lakecolor": "white",
           "landcolor": "#E5ECF6",
           "showlakes": true,
           "showland": true,
           "subunitcolor": "white"
          },
          "hoverlabel": {
           "align": "left"
          },
          "hovermode": "closest",
          "mapbox": {
           "style": "light"
          },
          "paper_bgcolor": "white",
          "plot_bgcolor": "#E5ECF6",
          "polar": {
           "angularaxis": {
            "gridcolor": "white",
            "linecolor": "white",
            "ticks": ""
           },
           "bgcolor": "#E5ECF6",
           "radialaxis": {
            "gridcolor": "white",
            "linecolor": "white",
            "ticks": ""
           }
          },
          "scene": {
           "xaxis": {
            "backgroundcolor": "#E5ECF6",
            "gridcolor": "white",
            "gridwidth": 2,
            "linecolor": "white",
            "showbackground": true,
            "ticks": "",
            "zerolinecolor": "white"
           },
           "yaxis": {
            "backgroundcolor": "#E5ECF6",
            "gridcolor": "white",
            "gridwidth": 2,
            "linecolor": "white",
            "showbackground": true,
            "ticks": "",
            "zerolinecolor": "white"
           },
           "zaxis": {
            "backgroundcolor": "#E5ECF6",
            "gridcolor": "white",
            "gridwidth": 2,
            "linecolor": "white",
            "showbackground": true,
            "ticks": "",
            "zerolinecolor": "white"
           }
          },
          "shapedefaults": {
           "line": {
            "color": "#2a3f5f"
           }
          },
          "ternary": {
           "aaxis": {
            "gridcolor": "white",
            "linecolor": "white",
            "ticks": ""
           },
           "baxis": {
            "gridcolor": "white",
            "linecolor": "white",
            "ticks": ""
           },
           "bgcolor": "#E5ECF6",
           "caxis": {
            "gridcolor": "white",
            "linecolor": "white",
            "ticks": ""
           }
          },
          "title": {
           "x": 0.05
          },
          "xaxis": {
           "automargin": true,
           "gridcolor": "white",
           "linecolor": "white",
           "ticks": "",
           "title": {
            "standoff": 15
           },
           "zerolinecolor": "white",
           "zerolinewidth": 2
          },
          "yaxis": {
           "automargin": true,
           "gridcolor": "white",
           "linecolor": "white",
           "ticks": "",
           "title": {
            "standoff": 15
           },
           "zerolinecolor": "white",
           "zerolinewidth": 2
          }
         }
        },
        "xaxis": {
         "anchor": "y",
         "domain": [
          0,
          1
         ],
         "title": {
          "text": "IMDB_Rating"
         }
        },
        "xaxis2": {
         "anchor": "y2",
         "domain": [
          0,
          1
         ],
         "matches": "x",
         "showgrid": true,
         "showticklabels": false
        },
        "yaxis": {
         "anchor": "x",
         "domain": [
          0,
          0.8316
         ],
         "title": {
          "text": "count"
         }
        },
        "yaxis2": {
         "anchor": "x2",
         "domain": [
          0.8416,
          1
         ],
         "matches": "y2",
         "showgrid": false,
         "showline": false,
         "showticklabels": false,
         "ticks": ""
        }
       }
      },
      "text/html": [
       "<div>                            <div id=\"106433ed-ae80-42db-bae5-aaaba0188612\" class=\"plotly-graph-div\" style=\"height:525px; width:100%;\"></div>            <script type=\"text/javascript\">                require([\"plotly\"], function(Plotly) {                    window.PLOTLYENV=window.PLOTLYENV || {};                                    if (document.getElementById(\"106433ed-ae80-42db-bae5-aaaba0188612\")) {                    Plotly.newPlot(                        \"106433ed-ae80-42db-bae5-aaaba0188612\",                        [{\"alignmentgroup\":\"True\",\"bingroup\":\"x\",\"hovertemplate\":\"IMDB_Rating=%{x}<br>count=%{y}<extra></extra>\",\"legendgroup\":\"\",\"marker\":{\"color\":\"green\",\"pattern\":{\"shape\":\"\"}},\"name\":\"\",\"offsetgroup\":\"\",\"orientation\":\"v\",\"showlegend\":false,\"x\":[9.3,9.2,9.0,9.0,9.0,8.9,8.9,8.9,8.8,8.8,8.8,8.8,8.8,8.7,8.7,8.7,8.7,8.7,8.6,8.6,8.6,8.6,8.6,8.6,8.6,8.6,8.6,8.6,8.6,8.6,8.6,8.6,8.6,8.5,8.5,8.5,8.5,8.5,8.5,8.5,8.5,8.5,8.5,8.5,8.5,8.5,8.5,8.5,8.5,8.5,8.5,8.5,8.5,8.4,8.4,8.4,8.4,8.4,8.4,8.4,8.4,8.4,8.4,8.4,8.4,8.4,8.4,8.4,8.4,8.4,8.4,8.4,8.4,8.4,8.4,8.4,8.4,8.4,8.4,8.4,8.4,8.4,8.4,8.4,8.3,8.3,8.3,8.3,8.3,8.3,8.3,8.3,8.3,8.3,8.3,8.3,8.3,8.3,8.3,8.3,8.3,8.3,8.3,8.3,8.3,8.3,8.3,8.3,8.3,8.3,8.3,8.3,8.3,8.3,8.3,8.3,8.3,8.3,8.3,8.3,8.3,8.3,8.3,8.3,8.3,8.3,8.3,8.3,8.2,8.2,8.2,8.2,8.2,8.2,8.2,8.2,8.2,8.2,8.2,8.2,8.2,8.2,8.2,8.2,8.2,8.2,8.2,8.2,8.2,8.2,8.2,8.2,8.2,8.2,8.2,8.2,8.2,8.2,8.2,8.2,8.2,8.2,8.2,8.2,8.2,8.2,8.2,8.2,8.2,8.2,8.2,8.2,8.2,8.2,8.2,8.2,8.2,8.2,8.2,8.2,8.2,8.2,8.2,8.2,8.2,8.2,8.2,8.2,8.2,8.2,8.2,8.2,8.2,8.2,8.2,8.1,8.1,8.1,8.1,8.1,8.1,8.1,8.1,8.1,8.1,8.1,8.1,8.1,8.1,8.1,8.1,8.1,8.1,8.1,8.1,8.1,8.1,8.1,8.1,8.1,8.1,8.1,8.1,8.1,8.1,8.1,8.1,8.1,8.1,8.1,8.1,8.1,8.1,8.1,8.1,8.1,8.1,8.1,8.1,8.1,8.1,8.1,8.1,8.1,8.1,8.1,8.1,8.1,8.1,8.1,8.1,8.1,8.1,8.1,8.1,8.1,8.1,8.1,8.1,8.1,8.1,8.1,8.1,8.1,8.1,8.1,8.1,8.1,8.1,8.1,8.1,8.1,8.1,8.1,8.1,8.1,8.1,8.1,8.1,8.1,8.1,8.1,8.1,8.1,8.1,8.1,8.1,8.1,8.1,8.1,8.1,8.1,8.1,8.1,8.1,8.1,8.1,8.1,8.1,8.1,8.1,8.1,8.1,8.1,8.1,8.1,8.1,8.1,8.1,8.1,8.1,8.1,8.1,8.1,8.1,8.1,8.1,8.1,8.1,8.1,8.1,8.1,8.0,8.0,8.0,8.0,8.0,8.0,8.0,8.0,8.0,8.0,8.0,8.0,8.0,8.0,8.0,8.0,8.0,8.0,8.0,8.0,8.0,8.0,8.0,8.0,8.0,8.0,8.0,8.0,8.0,8.0,8.0,8.0,8.0,8.0,8.0,8.0,8.0,8.0,8.0,8.0,8.0,8.0,8.0,8.0,8.0,8.0,8.0,8.0,8.0,8.0,8.0,8.0,8.0,8.0,8.0,8.0,8.0,8.0,8.0,8.0,8.0,8.0,8.0,8.0,8.0,8.0,8.0,8.0,8.0,8.0,8.0,8.0,8.0,8.0,8.0,8.0,8.0,8.0,8.0,8.0,8.0,8.0,8.0,8.0,8.0,8.0,8.0,8.0,8.0,8.0,8.0,8.0,8.0,8.0,8.0,8.0,8.0,8.0,8.0,8.0,8.0,8.0,8.0,8.0,8.0,8.0,8.0,8.0,8.0,8.0,8.0,8.0,8.0,8.0,8.0,8.0,8.0,8.0,8.0,8.0,8.0,8.0,8.0,8.0,8.0,8.0,8.0,8.0,8.0,8.0,8.0,8.0,8.0,8.0,8.0,8.0,8.0,8.0,8.0,8.0,8.0,7.9,7.9,7.9,7.9,7.9,7.9,7.9,7.9,7.9,7.9,7.9,7.9,7.9,7.9,7.9,7.9,7.9,7.9,7.9,7.9,7.9,7.9,7.9,7.9,7.9,7.9,7.9,7.9,7.9,7.9,7.9,7.9,7.9,7.9,7.9,7.9,7.9,7.9,7.9,7.9,7.9,7.9,7.9,7.9,7.9,7.9,7.9,7.9,7.9,7.9,7.9,7.9,7.9,7.9,7.9,7.9,7.9,7.9,7.9,7.9,7.9,7.9,7.9,7.9,7.9,7.9,7.9,7.9,7.9,7.9,7.9,7.9,7.9,7.9,7.9,7.9,7.9,7.9,7.9,7.9,7.9,7.9,7.9,7.9,7.9,7.9,7.9,7.9,7.9,7.9,7.9,7.9,7.9,7.9,7.9,7.9,7.9,7.9,7.9,7.9,7.9,7.9,7.9,7.9,7.9,7.9,7.8,7.8,7.8,7.8,7.8,7.8,7.8,7.8,7.8,7.8,7.8,7.8,7.8,7.8,7.8,7.8,7.8,7.8,7.8,7.8,7.8,7.8,7.8,7.8,7.8,7.8,7.8,7.8,7.8,7.8,7.8,7.8,7.8,7.8,7.8,7.8,7.8,7.8,7.8,7.8,7.8,7.8,7.8,7.8,7.8,7.8,7.8,7.8,7.8,7.8,7.8,7.8,7.8,7.8,7.8,7.8,7.8,7.8,7.8,7.8,7.8,7.8,7.8,7.8,7.8,7.8,7.8,7.8,7.8,7.8,7.8,7.8,7.8,7.8,7.8,7.8,7.8,7.8,7.8,7.8,7.8,7.8,7.8,7.8,7.8,7.8,7.8,7.8,7.8,7.8,7.8,7.8,7.8,7.8,7.8,7.8,7.8,7.8,7.8,7.8,7.8,7.8,7.8,7.8,7.8,7.8,7.8,7.8,7.8,7.8,7.8,7.8,7.8,7.8,7.8,7.8,7.8,7.8,7.8,7.8,7.8,7.8,7.8,7.8,7.8,7.8,7.8,7.8,7.8,7.8,7.8,7.8,7.8,7.8,7.8,7.8,7.8,7.8,7.8,7.8,7.8,7.8,7.8,7.8,7.8,7.8,7.8,7.8,7.8,7.8,7.8,7.7,7.7,7.7,7.7,7.7,7.7,7.7,7.7,7.7,7.7,7.7,7.7,7.7,7.7,7.7,7.7,7.7,7.7,7.7,7.7,7.7,7.7,7.7,7.7,7.7,7.7,7.7,7.7,7.7,7.7,7.7,7.7,7.7,7.7,7.7,7.7,7.7,7.7,7.7,7.7,7.7,7.7,7.7,7.7,7.7,7.7,7.7,7.7,7.7,7.7,7.7,7.7,7.7,7.7,7.7,7.7,7.7,7.7,7.7,7.7,7.7,7.7,7.7,7.7,7.7,7.7,7.7,7.7,7.7,7.7,7.7,7.7,7.7,7.7,7.7,7.7,7.7,7.7,7.7,7.7,7.7,7.7,7.7,7.7,7.7,7.7,7.7,7.7,7.7,7.7,7.7,7.7,7.7,7.7,7.7,7.7,7.7,7.7,7.7,7.7,7.7,7.7,7.7,7.7,7.7,7.7,7.7,7.7,7.7,7.7,7.7,7.7,7.7,7.7,7.7,7.7,7.7,7.7,7.7,7.7,7.7,7.7,7.7,7.7,7.7,7.7,7.7,7.7,7.7,7.7,7.7,7.7,7.7,7.7,7.7,7.7,7.7,7.7,7.7,7.7,7.7,7.7,7.7,7.7,7.7,7.7,7.7,7.7,7.7,7.7,7.7,7.7,7.7,7.7,7.7,7.7,7.7,7.6,7.6,7.6,7.6,7.6,7.6,7.6,7.6,7.6,7.6,7.6,7.6,7.6,7.6,7.6,7.6,7.6,7.6,7.6,7.6,7.6,7.6,7.6,7.6,7.6,7.6,7.6,7.6,7.6,7.6,7.6,7.6,7.6,7.6,7.6,7.6,7.6,7.6,7.6,7.6,7.6,7.6,7.6,7.6,7.6,7.6,7.6,7.6,7.6,7.6,7.6,7.6,7.6,7.6,7.6,7.6,7.6,7.6,7.6,7.6,7.6,7.6,7.6,7.6,7.6,7.6,7.6,7.6,7.6,7.6,7.6,7.6,7.6,7.6,7.6,7.6,7.6,7.6,7.6,7.6,7.6,7.6,7.6,7.6,7.6,7.6,7.6,7.6,7.6,7.6,7.6,7.6,7.6,7.6,7.6,7.6,7.6,7.6,7.6,7.6,7.6,7.6,7.6,7.6,7.6,7.6,7.6,7.6,7.6,7.6,7.6,7.6,7.6,7.6,7.6,7.6,7.6,7.6,7.6,7.6,7.6,7.6,7.6],\"xaxis\":\"x\",\"yaxis\":\"y\",\"type\":\"histogram\"},{\"alignmentgroup\":\"True\",\"hovertemplate\":\"IMDB_Rating=%{x}<extra></extra>\",\"legendgroup\":\"\",\"marker\":{\"color\":\"green\"},\"name\":\"\",\"offsetgroup\":\"\",\"scalegroup\":\"x\",\"showlegend\":false,\"x\":[9.3,9.2,9.0,9.0,9.0,8.9,8.9,8.9,8.8,8.8,8.8,8.8,8.8,8.7,8.7,8.7,8.7,8.7,8.6,8.6,8.6,8.6,8.6,8.6,8.6,8.6,8.6,8.6,8.6,8.6,8.6,8.6,8.6,8.5,8.5,8.5,8.5,8.5,8.5,8.5,8.5,8.5,8.5,8.5,8.5,8.5,8.5,8.5,8.5,8.5,8.5,8.5,8.5,8.4,8.4,8.4,8.4,8.4,8.4,8.4,8.4,8.4,8.4,8.4,8.4,8.4,8.4,8.4,8.4,8.4,8.4,8.4,8.4,8.4,8.4,8.4,8.4,8.4,8.4,8.4,8.4,8.4,8.4,8.4,8.3,8.3,8.3,8.3,8.3,8.3,8.3,8.3,8.3,8.3,8.3,8.3,8.3,8.3,8.3,8.3,8.3,8.3,8.3,8.3,8.3,8.3,8.3,8.3,8.3,8.3,8.3,8.3,8.3,8.3,8.3,8.3,8.3,8.3,8.3,8.3,8.3,8.3,8.3,8.3,8.3,8.3,8.3,8.3,8.2,8.2,8.2,8.2,8.2,8.2,8.2,8.2,8.2,8.2,8.2,8.2,8.2,8.2,8.2,8.2,8.2,8.2,8.2,8.2,8.2,8.2,8.2,8.2,8.2,8.2,8.2,8.2,8.2,8.2,8.2,8.2,8.2,8.2,8.2,8.2,8.2,8.2,8.2,8.2,8.2,8.2,8.2,8.2,8.2,8.2,8.2,8.2,8.2,8.2,8.2,8.2,8.2,8.2,8.2,8.2,8.2,8.2,8.2,8.2,8.2,8.2,8.2,8.2,8.2,8.2,8.2,8.1,8.1,8.1,8.1,8.1,8.1,8.1,8.1,8.1,8.1,8.1,8.1,8.1,8.1,8.1,8.1,8.1,8.1,8.1,8.1,8.1,8.1,8.1,8.1,8.1,8.1,8.1,8.1,8.1,8.1,8.1,8.1,8.1,8.1,8.1,8.1,8.1,8.1,8.1,8.1,8.1,8.1,8.1,8.1,8.1,8.1,8.1,8.1,8.1,8.1,8.1,8.1,8.1,8.1,8.1,8.1,8.1,8.1,8.1,8.1,8.1,8.1,8.1,8.1,8.1,8.1,8.1,8.1,8.1,8.1,8.1,8.1,8.1,8.1,8.1,8.1,8.1,8.1,8.1,8.1,8.1,8.1,8.1,8.1,8.1,8.1,8.1,8.1,8.1,8.1,8.1,8.1,8.1,8.1,8.1,8.1,8.1,8.1,8.1,8.1,8.1,8.1,8.1,8.1,8.1,8.1,8.1,8.1,8.1,8.1,8.1,8.1,8.1,8.1,8.1,8.1,8.1,8.1,8.1,8.1,8.1,8.1,8.1,8.1,8.1,8.1,8.1,8.0,8.0,8.0,8.0,8.0,8.0,8.0,8.0,8.0,8.0,8.0,8.0,8.0,8.0,8.0,8.0,8.0,8.0,8.0,8.0,8.0,8.0,8.0,8.0,8.0,8.0,8.0,8.0,8.0,8.0,8.0,8.0,8.0,8.0,8.0,8.0,8.0,8.0,8.0,8.0,8.0,8.0,8.0,8.0,8.0,8.0,8.0,8.0,8.0,8.0,8.0,8.0,8.0,8.0,8.0,8.0,8.0,8.0,8.0,8.0,8.0,8.0,8.0,8.0,8.0,8.0,8.0,8.0,8.0,8.0,8.0,8.0,8.0,8.0,8.0,8.0,8.0,8.0,8.0,8.0,8.0,8.0,8.0,8.0,8.0,8.0,8.0,8.0,8.0,8.0,8.0,8.0,8.0,8.0,8.0,8.0,8.0,8.0,8.0,8.0,8.0,8.0,8.0,8.0,8.0,8.0,8.0,8.0,8.0,8.0,8.0,8.0,8.0,8.0,8.0,8.0,8.0,8.0,8.0,8.0,8.0,8.0,8.0,8.0,8.0,8.0,8.0,8.0,8.0,8.0,8.0,8.0,8.0,8.0,8.0,8.0,8.0,8.0,8.0,8.0,8.0,7.9,7.9,7.9,7.9,7.9,7.9,7.9,7.9,7.9,7.9,7.9,7.9,7.9,7.9,7.9,7.9,7.9,7.9,7.9,7.9,7.9,7.9,7.9,7.9,7.9,7.9,7.9,7.9,7.9,7.9,7.9,7.9,7.9,7.9,7.9,7.9,7.9,7.9,7.9,7.9,7.9,7.9,7.9,7.9,7.9,7.9,7.9,7.9,7.9,7.9,7.9,7.9,7.9,7.9,7.9,7.9,7.9,7.9,7.9,7.9,7.9,7.9,7.9,7.9,7.9,7.9,7.9,7.9,7.9,7.9,7.9,7.9,7.9,7.9,7.9,7.9,7.9,7.9,7.9,7.9,7.9,7.9,7.9,7.9,7.9,7.9,7.9,7.9,7.9,7.9,7.9,7.9,7.9,7.9,7.9,7.9,7.9,7.9,7.9,7.9,7.9,7.9,7.9,7.9,7.9,7.9,7.8,7.8,7.8,7.8,7.8,7.8,7.8,7.8,7.8,7.8,7.8,7.8,7.8,7.8,7.8,7.8,7.8,7.8,7.8,7.8,7.8,7.8,7.8,7.8,7.8,7.8,7.8,7.8,7.8,7.8,7.8,7.8,7.8,7.8,7.8,7.8,7.8,7.8,7.8,7.8,7.8,7.8,7.8,7.8,7.8,7.8,7.8,7.8,7.8,7.8,7.8,7.8,7.8,7.8,7.8,7.8,7.8,7.8,7.8,7.8,7.8,7.8,7.8,7.8,7.8,7.8,7.8,7.8,7.8,7.8,7.8,7.8,7.8,7.8,7.8,7.8,7.8,7.8,7.8,7.8,7.8,7.8,7.8,7.8,7.8,7.8,7.8,7.8,7.8,7.8,7.8,7.8,7.8,7.8,7.8,7.8,7.8,7.8,7.8,7.8,7.8,7.8,7.8,7.8,7.8,7.8,7.8,7.8,7.8,7.8,7.8,7.8,7.8,7.8,7.8,7.8,7.8,7.8,7.8,7.8,7.8,7.8,7.8,7.8,7.8,7.8,7.8,7.8,7.8,7.8,7.8,7.8,7.8,7.8,7.8,7.8,7.8,7.8,7.8,7.8,7.8,7.8,7.8,7.8,7.8,7.8,7.8,7.8,7.8,7.8,7.8,7.7,7.7,7.7,7.7,7.7,7.7,7.7,7.7,7.7,7.7,7.7,7.7,7.7,7.7,7.7,7.7,7.7,7.7,7.7,7.7,7.7,7.7,7.7,7.7,7.7,7.7,7.7,7.7,7.7,7.7,7.7,7.7,7.7,7.7,7.7,7.7,7.7,7.7,7.7,7.7,7.7,7.7,7.7,7.7,7.7,7.7,7.7,7.7,7.7,7.7,7.7,7.7,7.7,7.7,7.7,7.7,7.7,7.7,7.7,7.7,7.7,7.7,7.7,7.7,7.7,7.7,7.7,7.7,7.7,7.7,7.7,7.7,7.7,7.7,7.7,7.7,7.7,7.7,7.7,7.7,7.7,7.7,7.7,7.7,7.7,7.7,7.7,7.7,7.7,7.7,7.7,7.7,7.7,7.7,7.7,7.7,7.7,7.7,7.7,7.7,7.7,7.7,7.7,7.7,7.7,7.7,7.7,7.7,7.7,7.7,7.7,7.7,7.7,7.7,7.7,7.7,7.7,7.7,7.7,7.7,7.7,7.7,7.7,7.7,7.7,7.7,7.7,7.7,7.7,7.7,7.7,7.7,7.7,7.7,7.7,7.7,7.7,7.7,7.7,7.7,7.7,7.7,7.7,7.7,7.7,7.7,7.7,7.7,7.7,7.7,7.7,7.7,7.7,7.7,7.7,7.7,7.7,7.6,7.6,7.6,7.6,7.6,7.6,7.6,7.6,7.6,7.6,7.6,7.6,7.6,7.6,7.6,7.6,7.6,7.6,7.6,7.6,7.6,7.6,7.6,7.6,7.6,7.6,7.6,7.6,7.6,7.6,7.6,7.6,7.6,7.6,7.6,7.6,7.6,7.6,7.6,7.6,7.6,7.6,7.6,7.6,7.6,7.6,7.6,7.6,7.6,7.6,7.6,7.6,7.6,7.6,7.6,7.6,7.6,7.6,7.6,7.6,7.6,7.6,7.6,7.6,7.6,7.6,7.6,7.6,7.6,7.6,7.6,7.6,7.6,7.6,7.6,7.6,7.6,7.6,7.6,7.6,7.6,7.6,7.6,7.6,7.6,7.6,7.6,7.6,7.6,7.6,7.6,7.6,7.6,7.6,7.6,7.6,7.6,7.6,7.6,7.6,7.6,7.6,7.6,7.6,7.6,7.6,7.6,7.6,7.6,7.6,7.6,7.6,7.6,7.6,7.6,7.6,7.6,7.6,7.6,7.6,7.6,7.6,7.6],\"xaxis\":\"x2\",\"yaxis\":\"y2\",\"type\":\"violin\"}],                        {\"template\":{\"data\":{\"histogram2dcontour\":[{\"type\":\"histogram2dcontour\",\"colorbar\":{\"outlinewidth\":0,\"ticks\":\"\"},\"colorscale\":[[0.0,\"#0d0887\"],[0.1111111111111111,\"#46039f\"],[0.2222222222222222,\"#7201a8\"],[0.3333333333333333,\"#9c179e\"],[0.4444444444444444,\"#bd3786\"],[0.5555555555555556,\"#d8576b\"],[0.6666666666666666,\"#ed7953\"],[0.7777777777777778,\"#fb9f3a\"],[0.8888888888888888,\"#fdca26\"],[1.0,\"#f0f921\"]]}],\"choropleth\":[{\"type\":\"choropleth\",\"colorbar\":{\"outlinewidth\":0,\"ticks\":\"\"}}],\"histogram2d\":[{\"type\":\"histogram2d\",\"colorbar\":{\"outlinewidth\":0,\"ticks\":\"\"},\"colorscale\":[[0.0,\"#0d0887\"],[0.1111111111111111,\"#46039f\"],[0.2222222222222222,\"#7201a8\"],[0.3333333333333333,\"#9c179e\"],[0.4444444444444444,\"#bd3786\"],[0.5555555555555556,\"#d8576b\"],[0.6666666666666666,\"#ed7953\"],[0.7777777777777778,\"#fb9f3a\"],[0.8888888888888888,\"#fdca26\"],[1.0,\"#f0f921\"]]}],\"heatmap\":[{\"type\":\"heatmap\",\"colorbar\":{\"outlinewidth\":0,\"ticks\":\"\"},\"colorscale\":[[0.0,\"#0d0887\"],[0.1111111111111111,\"#46039f\"],[0.2222222222222222,\"#7201a8\"],[0.3333333333333333,\"#9c179e\"],[0.4444444444444444,\"#bd3786\"],[0.5555555555555556,\"#d8576b\"],[0.6666666666666666,\"#ed7953\"],[0.7777777777777778,\"#fb9f3a\"],[0.8888888888888888,\"#fdca26\"],[1.0,\"#f0f921\"]]}],\"heatmapgl\":[{\"type\":\"heatmapgl\",\"colorbar\":{\"outlinewidth\":0,\"ticks\":\"\"},\"colorscale\":[[0.0,\"#0d0887\"],[0.1111111111111111,\"#46039f\"],[0.2222222222222222,\"#7201a8\"],[0.3333333333333333,\"#9c179e\"],[0.4444444444444444,\"#bd3786\"],[0.5555555555555556,\"#d8576b\"],[0.6666666666666666,\"#ed7953\"],[0.7777777777777778,\"#fb9f3a\"],[0.8888888888888888,\"#fdca26\"],[1.0,\"#f0f921\"]]}],\"contourcarpet\":[{\"type\":\"contourcarpet\",\"colorbar\":{\"outlinewidth\":0,\"ticks\":\"\"}}],\"contour\":[{\"type\":\"contour\",\"colorbar\":{\"outlinewidth\":0,\"ticks\":\"\"},\"colorscale\":[[0.0,\"#0d0887\"],[0.1111111111111111,\"#46039f\"],[0.2222222222222222,\"#7201a8\"],[0.3333333333333333,\"#9c179e\"],[0.4444444444444444,\"#bd3786\"],[0.5555555555555556,\"#d8576b\"],[0.6666666666666666,\"#ed7953\"],[0.7777777777777778,\"#fb9f3a\"],[0.8888888888888888,\"#fdca26\"],[1.0,\"#f0f921\"]]}],\"surface\":[{\"type\":\"surface\",\"colorbar\":{\"outlinewidth\":0,\"ticks\":\"\"},\"colorscale\":[[0.0,\"#0d0887\"],[0.1111111111111111,\"#46039f\"],[0.2222222222222222,\"#7201a8\"],[0.3333333333333333,\"#9c179e\"],[0.4444444444444444,\"#bd3786\"],[0.5555555555555556,\"#d8576b\"],[0.6666666666666666,\"#ed7953\"],[0.7777777777777778,\"#fb9f3a\"],[0.8888888888888888,\"#fdca26\"],[1.0,\"#f0f921\"]]}],\"mesh3d\":[{\"type\":\"mesh3d\",\"colorbar\":{\"outlinewidth\":0,\"ticks\":\"\"}}],\"scatter\":[{\"fillpattern\":{\"fillmode\":\"overlay\",\"size\":10,\"solidity\":0.2},\"type\":\"scatter\"}],\"parcoords\":[{\"type\":\"parcoords\",\"line\":{\"colorbar\":{\"outlinewidth\":0,\"ticks\":\"\"}}}],\"scatterpolargl\":[{\"type\":\"scatterpolargl\",\"marker\":{\"colorbar\":{\"outlinewidth\":0,\"ticks\":\"\"}}}],\"bar\":[{\"error_x\":{\"color\":\"#2a3f5f\"},\"error_y\":{\"color\":\"#2a3f5f\"},\"marker\":{\"line\":{\"color\":\"#E5ECF6\",\"width\":0.5},\"pattern\":{\"fillmode\":\"overlay\",\"size\":10,\"solidity\":0.2}},\"type\":\"bar\"}],\"scattergeo\":[{\"type\":\"scattergeo\",\"marker\":{\"colorbar\":{\"outlinewidth\":0,\"ticks\":\"\"}}}],\"scatterpolar\":[{\"type\":\"scatterpolar\",\"marker\":{\"colorbar\":{\"outlinewidth\":0,\"ticks\":\"\"}}}],\"histogram\":[{\"marker\":{\"pattern\":{\"fillmode\":\"overlay\",\"size\":10,\"solidity\":0.2}},\"type\":\"histogram\"}],\"scattergl\":[{\"type\":\"scattergl\",\"marker\":{\"colorbar\":{\"outlinewidth\":0,\"ticks\":\"\"}}}],\"scatter3d\":[{\"type\":\"scatter3d\",\"line\":{\"colorbar\":{\"outlinewidth\":0,\"ticks\":\"\"}},\"marker\":{\"colorbar\":{\"outlinewidth\":0,\"ticks\":\"\"}}}],\"scattermapbox\":[{\"type\":\"scattermapbox\",\"marker\":{\"colorbar\":{\"outlinewidth\":0,\"ticks\":\"\"}}}],\"scatterternary\":[{\"type\":\"scatterternary\",\"marker\":{\"colorbar\":{\"outlinewidth\":0,\"ticks\":\"\"}}}],\"scattercarpet\":[{\"type\":\"scattercarpet\",\"marker\":{\"colorbar\":{\"outlinewidth\":0,\"ticks\":\"\"}}}],\"carpet\":[{\"aaxis\":{\"endlinecolor\":\"#2a3f5f\",\"gridcolor\":\"white\",\"linecolor\":\"white\",\"minorgridcolor\":\"white\",\"startlinecolor\":\"#2a3f5f\"},\"baxis\":{\"endlinecolor\":\"#2a3f5f\",\"gridcolor\":\"white\",\"linecolor\":\"white\",\"minorgridcolor\":\"white\",\"startlinecolor\":\"#2a3f5f\"},\"type\":\"carpet\"}],\"table\":[{\"cells\":{\"fill\":{\"color\":\"#EBF0F8\"},\"line\":{\"color\":\"white\"}},\"header\":{\"fill\":{\"color\":\"#C8D4E3\"},\"line\":{\"color\":\"white\"}},\"type\":\"table\"}],\"barpolar\":[{\"marker\":{\"line\":{\"color\":\"#E5ECF6\",\"width\":0.5},\"pattern\":{\"fillmode\":\"overlay\",\"size\":10,\"solidity\":0.2}},\"type\":\"barpolar\"}],\"pie\":[{\"automargin\":true,\"type\":\"pie\"}]},\"layout\":{\"autotypenumbers\":\"strict\",\"colorway\":[\"#636efa\",\"#EF553B\",\"#00cc96\",\"#ab63fa\",\"#FFA15A\",\"#19d3f3\",\"#FF6692\",\"#B6E880\",\"#FF97FF\",\"#FECB52\"],\"font\":{\"color\":\"#2a3f5f\"},\"hovermode\":\"closest\",\"hoverlabel\":{\"align\":\"left\"},\"paper_bgcolor\":\"white\",\"plot_bgcolor\":\"#E5ECF6\",\"polar\":{\"bgcolor\":\"#E5ECF6\",\"angularaxis\":{\"gridcolor\":\"white\",\"linecolor\":\"white\",\"ticks\":\"\"},\"radialaxis\":{\"gridcolor\":\"white\",\"linecolor\":\"white\",\"ticks\":\"\"}},\"ternary\":{\"bgcolor\":\"#E5ECF6\",\"aaxis\":{\"gridcolor\":\"white\",\"linecolor\":\"white\",\"ticks\":\"\"},\"baxis\":{\"gridcolor\":\"white\",\"linecolor\":\"white\",\"ticks\":\"\"},\"caxis\":{\"gridcolor\":\"white\",\"linecolor\":\"white\",\"ticks\":\"\"}},\"coloraxis\":{\"colorbar\":{\"outlinewidth\":0,\"ticks\":\"\"}},\"colorscale\":{\"sequential\":[[0.0,\"#0d0887\"],[0.1111111111111111,\"#46039f\"],[0.2222222222222222,\"#7201a8\"],[0.3333333333333333,\"#9c179e\"],[0.4444444444444444,\"#bd3786\"],[0.5555555555555556,\"#d8576b\"],[0.6666666666666666,\"#ed7953\"],[0.7777777777777778,\"#fb9f3a\"],[0.8888888888888888,\"#fdca26\"],[1.0,\"#f0f921\"]],\"sequentialminus\":[[0.0,\"#0d0887\"],[0.1111111111111111,\"#46039f\"],[0.2222222222222222,\"#7201a8\"],[0.3333333333333333,\"#9c179e\"],[0.4444444444444444,\"#bd3786\"],[0.5555555555555556,\"#d8576b\"],[0.6666666666666666,\"#ed7953\"],[0.7777777777777778,\"#fb9f3a\"],[0.8888888888888888,\"#fdca26\"],[1.0,\"#f0f921\"]],\"diverging\":[[0,\"#8e0152\"],[0.1,\"#c51b7d\"],[0.2,\"#de77ae\"],[0.3,\"#f1b6da\"],[0.4,\"#fde0ef\"],[0.5,\"#f7f7f7\"],[0.6,\"#e6f5d0\"],[0.7,\"#b8e186\"],[0.8,\"#7fbc41\"],[0.9,\"#4d9221\"],[1,\"#276419\"]]},\"xaxis\":{\"gridcolor\":\"white\",\"linecolor\":\"white\",\"ticks\":\"\",\"title\":{\"standoff\":15},\"zerolinecolor\":\"white\",\"automargin\":true,\"zerolinewidth\":2},\"yaxis\":{\"gridcolor\":\"white\",\"linecolor\":\"white\",\"ticks\":\"\",\"title\":{\"standoff\":15},\"zerolinecolor\":\"white\",\"automargin\":true,\"zerolinewidth\":2},\"scene\":{\"xaxis\":{\"backgroundcolor\":\"#E5ECF6\",\"gridcolor\":\"white\",\"linecolor\":\"white\",\"showbackground\":true,\"ticks\":\"\",\"zerolinecolor\":\"white\",\"gridwidth\":2},\"yaxis\":{\"backgroundcolor\":\"#E5ECF6\",\"gridcolor\":\"white\",\"linecolor\":\"white\",\"showbackground\":true,\"ticks\":\"\",\"zerolinecolor\":\"white\",\"gridwidth\":2},\"zaxis\":{\"backgroundcolor\":\"#E5ECF6\",\"gridcolor\":\"white\",\"linecolor\":\"white\",\"showbackground\":true,\"ticks\":\"\",\"zerolinecolor\":\"white\",\"gridwidth\":2}},\"shapedefaults\":{\"line\":{\"color\":\"#2a3f5f\"}},\"annotationdefaults\":{\"arrowcolor\":\"#2a3f5f\",\"arrowhead\":0,\"arrowwidth\":1},\"geo\":{\"bgcolor\":\"white\",\"landcolor\":\"#E5ECF6\",\"subunitcolor\":\"white\",\"showland\":true,\"showlakes\":true,\"lakecolor\":\"white\"},\"title\":{\"x\":0.05},\"mapbox\":{\"style\":\"light\"}}},\"xaxis\":{\"anchor\":\"y\",\"domain\":[0.0,1.0],\"title\":{\"text\":\"IMDB_Rating\"}},\"yaxis\":{\"anchor\":\"x\",\"domain\":[0.0,0.8316],\"title\":{\"text\":\"count\"}},\"xaxis2\":{\"anchor\":\"y2\",\"domain\":[0.0,1.0],\"matches\":\"x\",\"showticklabels\":false,\"showgrid\":true},\"yaxis2\":{\"anchor\":\"x2\",\"domain\":[0.8416,1.0],\"matches\":\"y2\",\"showticklabels\":false,\"showline\":false,\"ticks\":\"\",\"showgrid\":false},\"legend\":{\"tracegroupgap\":0},\"margin\":{\"t\":60},\"barmode\":\"relative\"},                        {\"responsive\": true}                    ).then(function(){\n",
       "                            \n",
       "var gd = document.getElementById('106433ed-ae80-42db-bae5-aaaba0188612');\n",
       "var x = new MutationObserver(function (mutations, observer) {{\n",
       "        var display = window.getComputedStyle(gd).display;\n",
       "        if (!display || display === 'none') {{\n",
       "            console.log([gd, 'removed!']);\n",
       "            Plotly.purge(gd);\n",
       "            observer.disconnect();\n",
       "        }}\n",
       "}});\n",
       "\n",
       "// Listen for the removal of the full notebook cells\n",
       "var notebookContainer = gd.closest('#notebook-container');\n",
       "if (notebookContainer) {{\n",
       "    x.observe(notebookContainer, {childList: true});\n",
       "}}\n",
       "\n",
       "// Listen for the clearing of the current output cell\n",
       "var outputEl = gd.closest('.output');\n",
       "if (outputEl) {{\n",
       "    x.observe(outputEl, {childList: true});\n",
       "}}\n",
       "\n",
       "                        })                };                });            </script>        </div>"
      ]
     },
     "metadata": {},
     "output_type": "display_data"
    }
   ],
   "source": [
    "px.histogram(data, x=\"IMDB_Rating\" ,marginal='violin',\n",
    "            color_discrete_sequence=['green'])"
   ]
  },
  {
   "cell_type": "code",
   "execution_count": 25,
   "metadata": {},
   "outputs": [
    {
     "data": {
      "application/vnd.plotly.v1+json": {
       "config": {
        "plotlyServerURL": "https://plot.ly"
       },
       "data": [
        {
         "alignmentgroup": "True",
         "bingroup": "x",
         "hovertemplate": "Meta_score=%{x}<br>count=%{y}<extra></extra>",
         "legendgroup": "",
         "marker": {
          "color": "#636efa",
          "pattern": {
           "shape": ""
          }
         },
         "name": "",
         "offsetgroup": "",
         "orientation": "v",
         "showlegend": false,
         "type": "histogram",
         "x": [
          80,
          100,
          84,
          90,
          96,
          94,
          94,
          94,
          74,
          66,
          92,
          82,
          90,
          87,
          73,
          90,
          82,
          83,
          90,
          96,
          null,
          74,
          79,
          96,
          91,
          61,
          59,
          65,
          85,
          90,
          85,
          98,
          89,
          59,
          88,
          57,
          66,
          85,
          85,
          67,
          62,
          77,
          64,
          88,
          75,
          80,
          94,
          87,
          80,
          97,
          100,
          96,
          99,
          75,
          null,
          null,
          79,
          null,
          87,
          78,
          68,
          81,
          81,
          78,
          67,
          null,
          95,
          89,
          77,
          80,
          76,
          null,
          85,
          66,
          94,
          89,
          null,
          null,
          97,
          null,
          90,
          100,
          null,
          null,
          78,
          null,
          null,
          null,
          77,
          95,
          80,
          null,
          null,
          69,
          89,
          69,
          55,
          68,
          84,
          70,
          77,
          95,
          68,
          79,
          76,
          null,
          84,
          88,
          65,
          58,
          86,
          94,
          83,
          77,
          84,
          74,
          100,
          94,
          98,
          100,
          99,
          null,
          null,
          95,
          100,
          null,
          98,
          null,
          null,
          null,
          null,
          69,
          88,
          null,
          null,
          65,
          null,
          null,
          73,
          null,
          89,
          null,
          null,
          80,
          71,
          63,
          88,
          75,
          68,
          93,
          98,
          92,
          62,
          null,
          null,
          70,
          null,
          82,
          80,
          72,
          null,
          66,
          90,
          null,
          76,
          73,
          null,
          85,
          65,
          null,
          86,
          72,
          96,
          89,
          null,
          null,
          null,
          null,
          91,
          86,
          88,
          null,
          60,
          98,
          88,
          88,
          97,
          75,
          null,
          98,
          98,
          98,
          86,
          null,
          null,
          95,
          null,
          78,
          null,
          84,
          74,
          null,
          77,
          86,
          77,
          83,
          88,
          null,
          null,
          88,
          79,
          71,
          71,
          94,
          null,
          96,
          74,
          81,
          93,
          85,
          null,
          null,
          70,
          90,
          null,
          72,
          85,
          68,
          null,
          null,
          75,
          73,
          91,
          null,
          86,
          79,
          64,
          90,
          null,
          82,
          null,
          69,
          90,
          75,
          83,
          79,
          null,
          84,
          64,
          58,
          90,
          73,
          71,
          85,
          83,
          85,
          null,
          null,
          null,
          77,
          100,
          77,
          68,
          84,
          null,
          null,
          79,
          75,
          92,
          78,
          86,
          57,
          47,
          null,
          100,
          84,
          78,
          77,
          86,
          70,
          83,
          89,
          null,
          92,
          77,
          null,
          90,
          null,
          92,
          86,
          null,
          96,
          null,
          75,
          null,
          94,
          null,
          null,
          75,
          null,
          90,
          null,
          null,
          null,
          87,
          91,
          85,
          72,
          null,
          97,
          null,
          96,
          86,
          73,
          97,
          null,
          87,
          null,
          90,
          null,
          null,
          null,
          null,
          69,
          null,
          null,
          null,
          94,
          69,
          80,
          78,
          null,
          89,
          66,
          65,
          null,
          82,
          71,
          73,
          76,
          81,
          90,
          49,
          76,
          67,
          71,
          88,
          62,
          65,
          87,
          null,
          59,
          50,
          null,
          84,
          79,
          33,
          69,
          90,
          80,
          64,
          64,
          85,
          72,
          74,
          92,
          null,
          96,
          80,
          83,
          82,
          85,
          74,
          69,
          54,
          75,
          63,
          58,
          90,
          null,
          60,
          null,
          88,
          77,
          61,
          86,
          null,
          82,
          80,
          85,
          null,
          84,
          91,
          74,
          76,
          82,
          72,
          47,
          59,
          86,
          72,
          95,
          72,
          93,
          65,
          null,
          77,
          79,
          88,
          78,
          84,
          79,
          84,
          83,
          92,
          87,
          86,
          80,
          58,
          81,
          null,
          93,
          67,
          100,
          66,
          96,
          79,
          83,
          75,
          63,
          69,
          65,
          91,
          null,
          90,
          95,
          93,
          95,
          99,
          84,
          100,
          91,
          99,
          null,
          null,
          84,
          78,
          97,
          null,
          null,
          73,
          null,
          92,
          null,
          93,
          null,
          96,
          96,
          92,
          null,
          86,
          91,
          97,
          82,
          null,
          93,
          94,
          93,
          78,
          82,
          81,
          72,
          79,
          74,
          76,
          58,
          81,
          80,
          94,
          75,
          82,
          89,
          71,
          94,
          94,
          90,
          67,
          82,
          81,
          80,
          null,
          100,
          97,
          82,
          67,
          null,
          89,
          64,
          79,
          83,
          81,
          56,
          79,
          76,
          78,
          84,
          82,
          85,
          86,
          84,
          61,
          68,
          80,
          84,
          90,
          85,
          88,
          85,
          75,
          77,
          59,
          85,
          null,
          65,
          74,
          97,
          77,
          79,
          90,
          84,
          92,
          77,
          60,
          83,
          72,
          71,
          84,
          76,
          null,
          93,
          null,
          62,
          91,
          97,
          89,
          null,
          75,
          83,
          94,
          87,
          null,
          null,
          null,
          94,
          72,
          89,
          88,
          null,
          88,
          100,
          null,
          null,
          96,
          null,
          97,
          null,
          90,
          80,
          null,
          51,
          null,
          81,
          85,
          94,
          null,
          74,
          88,
          null,
          84,
          null,
          96,
          75,
          65,
          75,
          68,
          91,
          62,
          79,
          85,
          86,
          76,
          null,
          74,
          55,
          null,
          83,
          84,
          49,
          84,
          76,
          81,
          null,
          67,
          71,
          82,
          null,
          72,
          79,
          64,
          66,
          82,
          76,
          77,
          81,
          79,
          51,
          55,
          88,
          58,
          85,
          85,
          78,
          76,
          83,
          63,
          68,
          80,
          81,
          70,
          67,
          51,
          82,
          68,
          73,
          74,
          72,
          61,
          53,
          75,
          82,
          91,
          58,
          61,
          83,
          48,
          94,
          87,
          73,
          44,
          84,
          71,
          84,
          75,
          null,
          64,
          61,
          76,
          70,
          73,
          50,
          55,
          84,
          84,
          87,
          80,
          null,
          null,
          68,
          86,
          76,
          75,
          74,
          83,
          78,
          82,
          57,
          65,
          45,
          72,
          61,
          75,
          62,
          78,
          66,
          76,
          71,
          91,
          73,
          91,
          77,
          93,
          69,
          91,
          85,
          73,
          80,
          93,
          80,
          67,
          79,
          81,
          63,
          86,
          95,
          88,
          75,
          97,
          88,
          null,
          null,
          null,
          null,
          94,
          93,
          98,
          91,
          95,
          93,
          87,
          91,
          96,
          85,
          66,
          73,
          85,
          86,
          70,
          76,
          72,
          72,
          60,
          69,
          74,
          87,
          89,
          40,
          70,
          70,
          null,
          87,
          72,
          70,
          52,
          81,
          83,
          96,
          72,
          79,
          95,
          65,
          73,
          81,
          81,
          86,
          76,
          65,
          86,
          80,
          81,
          63,
          45,
          null,
          null,
          86,
          78,
          78,
          74,
          78,
          53,
          70,
          78,
          71,
          71,
          87,
          76,
          66,
          78,
          73,
          61,
          73,
          89,
          81,
          47,
          80,
          55,
          83,
          68,
          76,
          28,
          83,
          74,
          72,
          60,
          74,
          85,
          74,
          62,
          69,
          null,
          73,
          68,
          81,
          69,
          86,
          null,
          90,
          67,
          52,
          73,
          76,
          87,
          47,
          null,
          83,
          71,
          81,
          70,
          79,
          66,
          64,
          73,
          76,
          83,
          82,
          62,
          64,
          69,
          66,
          83,
          null,
          84,
          76,
          62,
          54,
          76,
          75,
          90,
          null,
          77,
          67,
          61,
          86,
          78,
          71,
          87,
          71,
          89,
          68,
          73,
          87,
          83,
          80,
          94,
          90,
          63,
          86,
          73,
          null,
          72,
          91,
          77,
          87,
          90,
          76,
          null,
          74,
          90,
          92,
          89,
          91,
          72,
          null,
          null,
          91,
          null,
          96,
          87,
          73,
          71,
          83,
          86,
          92,
          68,
          60,
          70,
          77,
          83,
          67,
          86,
          72,
          81,
          80,
          81,
          82,
          82,
          92,
          88,
          77,
          79,
          null,
          73,
          68,
          80,
          88,
          80,
          65,
          72,
          72,
          66,
          null,
          87,
          70,
          73,
          null,
          57,
          53,
          79,
          36,
          82,
          66,
          81,
          76,
          72,
          66,
          70,
          68,
          52,
          78,
          52,
          72,
          56,
          62,
          46,
          67,
          73,
          45,
          76,
          81,
          70,
          56,
          67,
          68,
          30,
          73,
          81,
          76,
          88,
          64,
          74,
          52,
          53,
          80,
          74,
          64,
          77,
          78,
          71,
          41,
          69,
          66,
          49,
          52,
          84,
          58,
          62,
          69,
          77,
          88,
          56,
          78,
          68,
          90,
          66,
          63,
          60,
          76,
          88,
          76,
          72,
          68,
          82,
          68,
          77,
          65,
          74,
          76,
          64,
          59,
          90,
          87,
          77,
          50,
          65,
          82,
          96,
          76,
          84,
          85,
          78,
          93
         ],
         "xaxis": "x",
         "yaxis": "y"
        }
       ],
       "layout": {
        "barmode": "relative",
        "legend": {
         "tracegroupgap": 0
        },
        "margin": {
         "t": 60
        },
        "template": {
         "data": {
          "bar": [
           {
            "error_x": {
             "color": "#2a3f5f"
            },
            "error_y": {
             "color": "#2a3f5f"
            },
            "marker": {
             "line": {
              "color": "#E5ECF6",
              "width": 0.5
             },
             "pattern": {
              "fillmode": "overlay",
              "size": 10,
              "solidity": 0.2
             }
            },
            "type": "bar"
           }
          ],
          "barpolar": [
           {
            "marker": {
             "line": {
              "color": "#E5ECF6",
              "width": 0.5
             },
             "pattern": {
              "fillmode": "overlay",
              "size": 10,
              "solidity": 0.2
             }
            },
            "type": "barpolar"
           }
          ],
          "carpet": [
           {
            "aaxis": {
             "endlinecolor": "#2a3f5f",
             "gridcolor": "white",
             "linecolor": "white",
             "minorgridcolor": "white",
             "startlinecolor": "#2a3f5f"
            },
            "baxis": {
             "endlinecolor": "#2a3f5f",
             "gridcolor": "white",
             "linecolor": "white",
             "minorgridcolor": "white",
             "startlinecolor": "#2a3f5f"
            },
            "type": "carpet"
           }
          ],
          "choropleth": [
           {
            "colorbar": {
             "outlinewidth": 0,
             "ticks": ""
            },
            "type": "choropleth"
           }
          ],
          "contour": [
           {
            "colorbar": {
             "outlinewidth": 0,
             "ticks": ""
            },
            "colorscale": [
             [
              0,
              "#0d0887"
             ],
             [
              0.1111111111111111,
              "#46039f"
             ],
             [
              0.2222222222222222,
              "#7201a8"
             ],
             [
              0.3333333333333333,
              "#9c179e"
             ],
             [
              0.4444444444444444,
              "#bd3786"
             ],
             [
              0.5555555555555556,
              "#d8576b"
             ],
             [
              0.6666666666666666,
              "#ed7953"
             ],
             [
              0.7777777777777778,
              "#fb9f3a"
             ],
             [
              0.8888888888888888,
              "#fdca26"
             ],
             [
              1,
              "#f0f921"
             ]
            ],
            "type": "contour"
           }
          ],
          "contourcarpet": [
           {
            "colorbar": {
             "outlinewidth": 0,
             "ticks": ""
            },
            "type": "contourcarpet"
           }
          ],
          "heatmap": [
           {
            "colorbar": {
             "outlinewidth": 0,
             "ticks": ""
            },
            "colorscale": [
             [
              0,
              "#0d0887"
             ],
             [
              0.1111111111111111,
              "#46039f"
             ],
             [
              0.2222222222222222,
              "#7201a8"
             ],
             [
              0.3333333333333333,
              "#9c179e"
             ],
             [
              0.4444444444444444,
              "#bd3786"
             ],
             [
              0.5555555555555556,
              "#d8576b"
             ],
             [
              0.6666666666666666,
              "#ed7953"
             ],
             [
              0.7777777777777778,
              "#fb9f3a"
             ],
             [
              0.8888888888888888,
              "#fdca26"
             ],
             [
              1,
              "#f0f921"
             ]
            ],
            "type": "heatmap"
           }
          ],
          "heatmapgl": [
           {
            "colorbar": {
             "outlinewidth": 0,
             "ticks": ""
            },
            "colorscale": [
             [
              0,
              "#0d0887"
             ],
             [
              0.1111111111111111,
              "#46039f"
             ],
             [
              0.2222222222222222,
              "#7201a8"
             ],
             [
              0.3333333333333333,
              "#9c179e"
             ],
             [
              0.4444444444444444,
              "#bd3786"
             ],
             [
              0.5555555555555556,
              "#d8576b"
             ],
             [
              0.6666666666666666,
              "#ed7953"
             ],
             [
              0.7777777777777778,
              "#fb9f3a"
             ],
             [
              0.8888888888888888,
              "#fdca26"
             ],
             [
              1,
              "#f0f921"
             ]
            ],
            "type": "heatmapgl"
           }
          ],
          "histogram": [
           {
            "marker": {
             "pattern": {
              "fillmode": "overlay",
              "size": 10,
              "solidity": 0.2
             }
            },
            "type": "histogram"
           }
          ],
          "histogram2d": [
           {
            "colorbar": {
             "outlinewidth": 0,
             "ticks": ""
            },
            "colorscale": [
             [
              0,
              "#0d0887"
             ],
             [
              0.1111111111111111,
              "#46039f"
             ],
             [
              0.2222222222222222,
              "#7201a8"
             ],
             [
              0.3333333333333333,
              "#9c179e"
             ],
             [
              0.4444444444444444,
              "#bd3786"
             ],
             [
              0.5555555555555556,
              "#d8576b"
             ],
             [
              0.6666666666666666,
              "#ed7953"
             ],
             [
              0.7777777777777778,
              "#fb9f3a"
             ],
             [
              0.8888888888888888,
              "#fdca26"
             ],
             [
              1,
              "#f0f921"
             ]
            ],
            "type": "histogram2d"
           }
          ],
          "histogram2dcontour": [
           {
            "colorbar": {
             "outlinewidth": 0,
             "ticks": ""
            },
            "colorscale": [
             [
              0,
              "#0d0887"
             ],
             [
              0.1111111111111111,
              "#46039f"
             ],
             [
              0.2222222222222222,
              "#7201a8"
             ],
             [
              0.3333333333333333,
              "#9c179e"
             ],
             [
              0.4444444444444444,
              "#bd3786"
             ],
             [
              0.5555555555555556,
              "#d8576b"
             ],
             [
              0.6666666666666666,
              "#ed7953"
             ],
             [
              0.7777777777777778,
              "#fb9f3a"
             ],
             [
              0.8888888888888888,
              "#fdca26"
             ],
             [
              1,
              "#f0f921"
             ]
            ],
            "type": "histogram2dcontour"
           }
          ],
          "mesh3d": [
           {
            "colorbar": {
             "outlinewidth": 0,
             "ticks": ""
            },
            "type": "mesh3d"
           }
          ],
          "parcoords": [
           {
            "line": {
             "colorbar": {
              "outlinewidth": 0,
              "ticks": ""
             }
            },
            "type": "parcoords"
           }
          ],
          "pie": [
           {
            "automargin": true,
            "type": "pie"
           }
          ],
          "scatter": [
           {
            "fillpattern": {
             "fillmode": "overlay",
             "size": 10,
             "solidity": 0.2
            },
            "type": "scatter"
           }
          ],
          "scatter3d": [
           {
            "line": {
             "colorbar": {
              "outlinewidth": 0,
              "ticks": ""
             }
            },
            "marker": {
             "colorbar": {
              "outlinewidth": 0,
              "ticks": ""
             }
            },
            "type": "scatter3d"
           }
          ],
          "scattercarpet": [
           {
            "marker": {
             "colorbar": {
              "outlinewidth": 0,
              "ticks": ""
             }
            },
            "type": "scattercarpet"
           }
          ],
          "scattergeo": [
           {
            "marker": {
             "colorbar": {
              "outlinewidth": 0,
              "ticks": ""
             }
            },
            "type": "scattergeo"
           }
          ],
          "scattergl": [
           {
            "marker": {
             "colorbar": {
              "outlinewidth": 0,
              "ticks": ""
             }
            },
            "type": "scattergl"
           }
          ],
          "scattermapbox": [
           {
            "marker": {
             "colorbar": {
              "outlinewidth": 0,
              "ticks": ""
             }
            },
            "type": "scattermapbox"
           }
          ],
          "scatterpolar": [
           {
            "marker": {
             "colorbar": {
              "outlinewidth": 0,
              "ticks": ""
             }
            },
            "type": "scatterpolar"
           }
          ],
          "scatterpolargl": [
           {
            "marker": {
             "colorbar": {
              "outlinewidth": 0,
              "ticks": ""
             }
            },
            "type": "scatterpolargl"
           }
          ],
          "scatterternary": [
           {
            "marker": {
             "colorbar": {
              "outlinewidth": 0,
              "ticks": ""
             }
            },
            "type": "scatterternary"
           }
          ],
          "surface": [
           {
            "colorbar": {
             "outlinewidth": 0,
             "ticks": ""
            },
            "colorscale": [
             [
              0,
              "#0d0887"
             ],
             [
              0.1111111111111111,
              "#46039f"
             ],
             [
              0.2222222222222222,
              "#7201a8"
             ],
             [
              0.3333333333333333,
              "#9c179e"
             ],
             [
              0.4444444444444444,
              "#bd3786"
             ],
             [
              0.5555555555555556,
              "#d8576b"
             ],
             [
              0.6666666666666666,
              "#ed7953"
             ],
             [
              0.7777777777777778,
              "#fb9f3a"
             ],
             [
              0.8888888888888888,
              "#fdca26"
             ],
             [
              1,
              "#f0f921"
             ]
            ],
            "type": "surface"
           }
          ],
          "table": [
           {
            "cells": {
             "fill": {
              "color": "#EBF0F8"
             },
             "line": {
              "color": "white"
             }
            },
            "header": {
             "fill": {
              "color": "#C8D4E3"
             },
             "line": {
              "color": "white"
             }
            },
            "type": "table"
           }
          ]
         },
         "layout": {
          "annotationdefaults": {
           "arrowcolor": "#2a3f5f",
           "arrowhead": 0,
           "arrowwidth": 1
          },
          "autotypenumbers": "strict",
          "coloraxis": {
           "colorbar": {
            "outlinewidth": 0,
            "ticks": ""
           }
          },
          "colorscale": {
           "diverging": [
            [
             0,
             "#8e0152"
            ],
            [
             0.1,
             "#c51b7d"
            ],
            [
             0.2,
             "#de77ae"
            ],
            [
             0.3,
             "#f1b6da"
            ],
            [
             0.4,
             "#fde0ef"
            ],
            [
             0.5,
             "#f7f7f7"
            ],
            [
             0.6,
             "#e6f5d0"
            ],
            [
             0.7,
             "#b8e186"
            ],
            [
             0.8,
             "#7fbc41"
            ],
            [
             0.9,
             "#4d9221"
            ],
            [
             1,
             "#276419"
            ]
           ],
           "sequential": [
            [
             0,
             "#0d0887"
            ],
            [
             0.1111111111111111,
             "#46039f"
            ],
            [
             0.2222222222222222,
             "#7201a8"
            ],
            [
             0.3333333333333333,
             "#9c179e"
            ],
            [
             0.4444444444444444,
             "#bd3786"
            ],
            [
             0.5555555555555556,
             "#d8576b"
            ],
            [
             0.6666666666666666,
             "#ed7953"
            ],
            [
             0.7777777777777778,
             "#fb9f3a"
            ],
            [
             0.8888888888888888,
             "#fdca26"
            ],
            [
             1,
             "#f0f921"
            ]
           ],
           "sequentialminus": [
            [
             0,
             "#0d0887"
            ],
            [
             0.1111111111111111,
             "#46039f"
            ],
            [
             0.2222222222222222,
             "#7201a8"
            ],
            [
             0.3333333333333333,
             "#9c179e"
            ],
            [
             0.4444444444444444,
             "#bd3786"
            ],
            [
             0.5555555555555556,
             "#d8576b"
            ],
            [
             0.6666666666666666,
             "#ed7953"
            ],
            [
             0.7777777777777778,
             "#fb9f3a"
            ],
            [
             0.8888888888888888,
             "#fdca26"
            ],
            [
             1,
             "#f0f921"
            ]
           ]
          },
          "colorway": [
           "#636efa",
           "#EF553B",
           "#00cc96",
           "#ab63fa",
           "#FFA15A",
           "#19d3f3",
           "#FF6692",
           "#B6E880",
           "#FF97FF",
           "#FECB52"
          ],
          "font": {
           "color": "#2a3f5f"
          },
          "geo": {
           "bgcolor": "white",
           "lakecolor": "white",
           "landcolor": "#E5ECF6",
           "showlakes": true,
           "showland": true,
           "subunitcolor": "white"
          },
          "hoverlabel": {
           "align": "left"
          },
          "hovermode": "closest",
          "mapbox": {
           "style": "light"
          },
          "paper_bgcolor": "white",
          "plot_bgcolor": "#E5ECF6",
          "polar": {
           "angularaxis": {
            "gridcolor": "white",
            "linecolor": "white",
            "ticks": ""
           },
           "bgcolor": "#E5ECF6",
           "radialaxis": {
            "gridcolor": "white",
            "linecolor": "white",
            "ticks": ""
           }
          },
          "scene": {
           "xaxis": {
            "backgroundcolor": "#E5ECF6",
            "gridcolor": "white",
            "gridwidth": 2,
            "linecolor": "white",
            "showbackground": true,
            "ticks": "",
            "zerolinecolor": "white"
           },
           "yaxis": {
            "backgroundcolor": "#E5ECF6",
            "gridcolor": "white",
            "gridwidth": 2,
            "linecolor": "white",
            "showbackground": true,
            "ticks": "",
            "zerolinecolor": "white"
           },
           "zaxis": {
            "backgroundcolor": "#E5ECF6",
            "gridcolor": "white",
            "gridwidth": 2,
            "linecolor": "white",
            "showbackground": true,
            "ticks": "",
            "zerolinecolor": "white"
           }
          },
          "shapedefaults": {
           "line": {
            "color": "#2a3f5f"
           }
          },
          "ternary": {
           "aaxis": {
            "gridcolor": "white",
            "linecolor": "white",
            "ticks": ""
           },
           "baxis": {
            "gridcolor": "white",
            "linecolor": "white",
            "ticks": ""
           },
           "bgcolor": "#E5ECF6",
           "caxis": {
            "gridcolor": "white",
            "linecolor": "white",
            "ticks": ""
           }
          },
          "title": {
           "x": 0.05
          },
          "xaxis": {
           "automargin": true,
           "gridcolor": "white",
           "linecolor": "white",
           "ticks": "",
           "title": {
            "standoff": 15
           },
           "zerolinecolor": "white",
           "zerolinewidth": 2
          },
          "yaxis": {
           "automargin": true,
           "gridcolor": "white",
           "linecolor": "white",
           "ticks": "",
           "title": {
            "standoff": 15
           },
           "zerolinecolor": "white",
           "zerolinewidth": 2
          }
         }
        },
        "xaxis": {
         "anchor": "y",
         "domain": [
          0,
          1
         ],
         "title": {
          "text": "Meta_score"
         }
        },
        "yaxis": {
         "anchor": "x",
         "domain": [
          0,
          1
         ],
         "title": {
          "text": "count"
         }
        }
       }
      },
      "text/html": [
       "<div>                            <div id=\"f72b77d9-f9b5-4b4b-b96f-4e3d374a47eb\" class=\"plotly-graph-div\" style=\"height:525px; width:100%;\"></div>            <script type=\"text/javascript\">                require([\"plotly\"], function(Plotly) {                    window.PLOTLYENV=window.PLOTLYENV || {};                                    if (document.getElementById(\"f72b77d9-f9b5-4b4b-b96f-4e3d374a47eb\")) {                    Plotly.newPlot(                        \"f72b77d9-f9b5-4b4b-b96f-4e3d374a47eb\",                        [{\"alignmentgroup\":\"True\",\"bingroup\":\"x\",\"hovertemplate\":\"Meta_score=%{x}<br>count=%{y}<extra></extra>\",\"legendgroup\":\"\",\"marker\":{\"color\":\"#636efa\",\"pattern\":{\"shape\":\"\"}},\"name\":\"\",\"offsetgroup\":\"\",\"orientation\":\"v\",\"showlegend\":false,\"x\":[80.0,100.0,84.0,90.0,96.0,94.0,94.0,94.0,74.0,66.0,92.0,82.0,90.0,87.0,73.0,90.0,82.0,83.0,90.0,96.0,null,74.0,79.0,96.0,91.0,61.0,59.0,65.0,85.0,90.0,85.0,98.0,89.0,59.0,88.0,57.0,66.0,85.0,85.0,67.0,62.0,77.0,64.0,88.0,75.0,80.0,94.0,87.0,80.0,97.0,100.0,96.0,99.0,75.0,null,null,79.0,null,87.0,78.0,68.0,81.0,81.0,78.0,67.0,null,95.0,89.0,77.0,80.0,76.0,null,85.0,66.0,94.0,89.0,null,null,97.0,null,90.0,100.0,null,null,78.0,null,null,null,77.0,95.0,80.0,null,null,69.0,89.0,69.0,55.0,68.0,84.0,70.0,77.0,95.0,68.0,79.0,76.0,null,84.0,88.0,65.0,58.0,86.0,94.0,83.0,77.0,84.0,74.0,100.0,94.0,98.0,100.0,99.0,null,null,95.0,100.0,null,98.0,null,null,null,null,69.0,88.0,null,null,65.0,null,null,73.0,null,89.0,null,null,80.0,71.0,63.0,88.0,75.0,68.0,93.0,98.0,92.0,62.0,null,null,70.0,null,82.0,80.0,72.0,null,66.0,90.0,null,76.0,73.0,null,85.0,65.0,null,86.0,72.0,96.0,89.0,null,null,null,null,91.0,86.0,88.0,null,60.0,98.0,88.0,88.0,97.0,75.0,null,98.0,98.0,98.0,86.0,null,null,95.0,null,78.0,null,84.0,74.0,null,77.0,86.0,77.0,83.0,88.0,null,null,88.0,79.0,71.0,71.0,94.0,null,96.0,74.0,81.0,93.0,85.0,null,null,70.0,90.0,null,72.0,85.0,68.0,null,null,75.0,73.0,91.0,null,86.0,79.0,64.0,90.0,null,82.0,null,69.0,90.0,75.0,83.0,79.0,null,84.0,64.0,58.0,90.0,73.0,71.0,85.0,83.0,85.0,null,null,null,77.0,100.0,77.0,68.0,84.0,null,null,79.0,75.0,92.0,78.0,86.0,57.0,47.0,null,100.0,84.0,78.0,77.0,86.0,70.0,83.0,89.0,null,92.0,77.0,null,90.0,null,92.0,86.0,null,96.0,null,75.0,null,94.0,null,null,75.0,null,90.0,null,null,null,87.0,91.0,85.0,72.0,null,97.0,null,96.0,86.0,73.0,97.0,null,87.0,null,90.0,null,null,null,null,69.0,null,null,null,94.0,69.0,80.0,78.0,null,89.0,66.0,65.0,null,82.0,71.0,73.0,76.0,81.0,90.0,49.0,76.0,67.0,71.0,88.0,62.0,65.0,87.0,null,59.0,50.0,null,84.0,79.0,33.0,69.0,90.0,80.0,64.0,64.0,85.0,72.0,74.0,92.0,null,96.0,80.0,83.0,82.0,85.0,74.0,69.0,54.0,75.0,63.0,58.0,90.0,null,60.0,null,88.0,77.0,61.0,86.0,null,82.0,80.0,85.0,null,84.0,91.0,74.0,76.0,82.0,72.0,47.0,59.0,86.0,72.0,95.0,72.0,93.0,65.0,null,77.0,79.0,88.0,78.0,84.0,79.0,84.0,83.0,92.0,87.0,86.0,80.0,58.0,81.0,null,93.0,67.0,100.0,66.0,96.0,79.0,83.0,75.0,63.0,69.0,65.0,91.0,null,90.0,95.0,93.0,95.0,99.0,84.0,100.0,91.0,99.0,null,null,84.0,78.0,97.0,null,null,73.0,null,92.0,null,93.0,null,96.0,96.0,92.0,null,86.0,91.0,97.0,82.0,null,93.0,94.0,93.0,78.0,82.0,81.0,72.0,79.0,74.0,76.0,58.0,81.0,80.0,94.0,75.0,82.0,89.0,71.0,94.0,94.0,90.0,67.0,82.0,81.0,80.0,null,100.0,97.0,82.0,67.0,null,89.0,64.0,79.0,83.0,81.0,56.0,79.0,76.0,78.0,84.0,82.0,85.0,86.0,84.0,61.0,68.0,80.0,84.0,90.0,85.0,88.0,85.0,75.0,77.0,59.0,85.0,null,65.0,74.0,97.0,77.0,79.0,90.0,84.0,92.0,77.0,60.0,83.0,72.0,71.0,84.0,76.0,null,93.0,null,62.0,91.0,97.0,89.0,null,75.0,83.0,94.0,87.0,null,null,null,94.0,72.0,89.0,88.0,null,88.0,100.0,null,null,96.0,null,97.0,null,90.0,80.0,null,51.0,null,81.0,85.0,94.0,null,74.0,88.0,null,84.0,null,96.0,75.0,65.0,75.0,68.0,91.0,62.0,79.0,85.0,86.0,76.0,null,74.0,55.0,null,83.0,84.0,49.0,84.0,76.0,81.0,null,67.0,71.0,82.0,null,72.0,79.0,64.0,66.0,82.0,76.0,77.0,81.0,79.0,51.0,55.0,88.0,58.0,85.0,85.0,78.0,76.0,83.0,63.0,68.0,80.0,81.0,70.0,67.0,51.0,82.0,68.0,73.0,74.0,72.0,61.0,53.0,75.0,82.0,91.0,58.0,61.0,83.0,48.0,94.0,87.0,73.0,44.0,84.0,71.0,84.0,75.0,null,64.0,61.0,76.0,70.0,73.0,50.0,55.0,84.0,84.0,87.0,80.0,null,null,68.0,86.0,76.0,75.0,74.0,83.0,78.0,82.0,57.0,65.0,45.0,72.0,61.0,75.0,62.0,78.0,66.0,76.0,71.0,91.0,73.0,91.0,77.0,93.0,69.0,91.0,85.0,73.0,80.0,93.0,80.0,67.0,79.0,81.0,63.0,86.0,95.0,88.0,75.0,97.0,88.0,null,null,null,null,94.0,93.0,98.0,91.0,95.0,93.0,87.0,91.0,96.0,85.0,66.0,73.0,85.0,86.0,70.0,76.0,72.0,72.0,60.0,69.0,74.0,87.0,89.0,40.0,70.0,70.0,null,87.0,72.0,70.0,52.0,81.0,83.0,96.0,72.0,79.0,95.0,65.0,73.0,81.0,81.0,86.0,76.0,65.0,86.0,80.0,81.0,63.0,45.0,null,null,86.0,78.0,78.0,74.0,78.0,53.0,70.0,78.0,71.0,71.0,87.0,76.0,66.0,78.0,73.0,61.0,73.0,89.0,81.0,47.0,80.0,55.0,83.0,68.0,76.0,28.0,83.0,74.0,72.0,60.0,74.0,85.0,74.0,62.0,69.0,null,73.0,68.0,81.0,69.0,86.0,null,90.0,67.0,52.0,73.0,76.0,87.0,47.0,null,83.0,71.0,81.0,70.0,79.0,66.0,64.0,73.0,76.0,83.0,82.0,62.0,64.0,69.0,66.0,83.0,null,84.0,76.0,62.0,54.0,76.0,75.0,90.0,null,77.0,67.0,61.0,86.0,78.0,71.0,87.0,71.0,89.0,68.0,73.0,87.0,83.0,80.0,94.0,90.0,63.0,86.0,73.0,null,72.0,91.0,77.0,87.0,90.0,76.0,null,74.0,90.0,92.0,89.0,91.0,72.0,null,null,91.0,null,96.0,87.0,73.0,71.0,83.0,86.0,92.0,68.0,60.0,70.0,77.0,83.0,67.0,86.0,72.0,81.0,80.0,81.0,82.0,82.0,92.0,88.0,77.0,79.0,null,73.0,68.0,80.0,88.0,80.0,65.0,72.0,72.0,66.0,null,87.0,70.0,73.0,null,57.0,53.0,79.0,36.0,82.0,66.0,81.0,76.0,72.0,66.0,70.0,68.0,52.0,78.0,52.0,72.0,56.0,62.0,46.0,67.0,73.0,45.0,76.0,81.0,70.0,56.0,67.0,68.0,30.0,73.0,81.0,76.0,88.0,64.0,74.0,52.0,53.0,80.0,74.0,64.0,77.0,78.0,71.0,41.0,69.0,66.0,49.0,52.0,84.0,58.0,62.0,69.0,77.0,88.0,56.0,78.0,68.0,90.0,66.0,63.0,60.0,76.0,88.0,76.0,72.0,68.0,82.0,68.0,77.0,65.0,74.0,76.0,64.0,59.0,90.0,87.0,77.0,50.0,65.0,82.0,96.0,76.0,84.0,85.0,78.0,93.0],\"xaxis\":\"x\",\"yaxis\":\"y\",\"type\":\"histogram\"}],                        {\"template\":{\"data\":{\"histogram2dcontour\":[{\"type\":\"histogram2dcontour\",\"colorbar\":{\"outlinewidth\":0,\"ticks\":\"\"},\"colorscale\":[[0.0,\"#0d0887\"],[0.1111111111111111,\"#46039f\"],[0.2222222222222222,\"#7201a8\"],[0.3333333333333333,\"#9c179e\"],[0.4444444444444444,\"#bd3786\"],[0.5555555555555556,\"#d8576b\"],[0.6666666666666666,\"#ed7953\"],[0.7777777777777778,\"#fb9f3a\"],[0.8888888888888888,\"#fdca26\"],[1.0,\"#f0f921\"]]}],\"choropleth\":[{\"type\":\"choropleth\",\"colorbar\":{\"outlinewidth\":0,\"ticks\":\"\"}}],\"histogram2d\":[{\"type\":\"histogram2d\",\"colorbar\":{\"outlinewidth\":0,\"ticks\":\"\"},\"colorscale\":[[0.0,\"#0d0887\"],[0.1111111111111111,\"#46039f\"],[0.2222222222222222,\"#7201a8\"],[0.3333333333333333,\"#9c179e\"],[0.4444444444444444,\"#bd3786\"],[0.5555555555555556,\"#d8576b\"],[0.6666666666666666,\"#ed7953\"],[0.7777777777777778,\"#fb9f3a\"],[0.8888888888888888,\"#fdca26\"],[1.0,\"#f0f921\"]]}],\"heatmap\":[{\"type\":\"heatmap\",\"colorbar\":{\"outlinewidth\":0,\"ticks\":\"\"},\"colorscale\":[[0.0,\"#0d0887\"],[0.1111111111111111,\"#46039f\"],[0.2222222222222222,\"#7201a8\"],[0.3333333333333333,\"#9c179e\"],[0.4444444444444444,\"#bd3786\"],[0.5555555555555556,\"#d8576b\"],[0.6666666666666666,\"#ed7953\"],[0.7777777777777778,\"#fb9f3a\"],[0.8888888888888888,\"#fdca26\"],[1.0,\"#f0f921\"]]}],\"heatmapgl\":[{\"type\":\"heatmapgl\",\"colorbar\":{\"outlinewidth\":0,\"ticks\":\"\"},\"colorscale\":[[0.0,\"#0d0887\"],[0.1111111111111111,\"#46039f\"],[0.2222222222222222,\"#7201a8\"],[0.3333333333333333,\"#9c179e\"],[0.4444444444444444,\"#bd3786\"],[0.5555555555555556,\"#d8576b\"],[0.6666666666666666,\"#ed7953\"],[0.7777777777777778,\"#fb9f3a\"],[0.8888888888888888,\"#fdca26\"],[1.0,\"#f0f921\"]]}],\"contourcarpet\":[{\"type\":\"contourcarpet\",\"colorbar\":{\"outlinewidth\":0,\"ticks\":\"\"}}],\"contour\":[{\"type\":\"contour\",\"colorbar\":{\"outlinewidth\":0,\"ticks\":\"\"},\"colorscale\":[[0.0,\"#0d0887\"],[0.1111111111111111,\"#46039f\"],[0.2222222222222222,\"#7201a8\"],[0.3333333333333333,\"#9c179e\"],[0.4444444444444444,\"#bd3786\"],[0.5555555555555556,\"#d8576b\"],[0.6666666666666666,\"#ed7953\"],[0.7777777777777778,\"#fb9f3a\"],[0.8888888888888888,\"#fdca26\"],[1.0,\"#f0f921\"]]}],\"surface\":[{\"type\":\"surface\",\"colorbar\":{\"outlinewidth\":0,\"ticks\":\"\"},\"colorscale\":[[0.0,\"#0d0887\"],[0.1111111111111111,\"#46039f\"],[0.2222222222222222,\"#7201a8\"],[0.3333333333333333,\"#9c179e\"],[0.4444444444444444,\"#bd3786\"],[0.5555555555555556,\"#d8576b\"],[0.6666666666666666,\"#ed7953\"],[0.7777777777777778,\"#fb9f3a\"],[0.8888888888888888,\"#fdca26\"],[1.0,\"#f0f921\"]]}],\"mesh3d\":[{\"type\":\"mesh3d\",\"colorbar\":{\"outlinewidth\":0,\"ticks\":\"\"}}],\"scatter\":[{\"fillpattern\":{\"fillmode\":\"overlay\",\"size\":10,\"solidity\":0.2},\"type\":\"scatter\"}],\"parcoords\":[{\"type\":\"parcoords\",\"line\":{\"colorbar\":{\"outlinewidth\":0,\"ticks\":\"\"}}}],\"scatterpolargl\":[{\"type\":\"scatterpolargl\",\"marker\":{\"colorbar\":{\"outlinewidth\":0,\"ticks\":\"\"}}}],\"bar\":[{\"error_x\":{\"color\":\"#2a3f5f\"},\"error_y\":{\"color\":\"#2a3f5f\"},\"marker\":{\"line\":{\"color\":\"#E5ECF6\",\"width\":0.5},\"pattern\":{\"fillmode\":\"overlay\",\"size\":10,\"solidity\":0.2}},\"type\":\"bar\"}],\"scattergeo\":[{\"type\":\"scattergeo\",\"marker\":{\"colorbar\":{\"outlinewidth\":0,\"ticks\":\"\"}}}],\"scatterpolar\":[{\"type\":\"scatterpolar\",\"marker\":{\"colorbar\":{\"outlinewidth\":0,\"ticks\":\"\"}}}],\"histogram\":[{\"marker\":{\"pattern\":{\"fillmode\":\"overlay\",\"size\":10,\"solidity\":0.2}},\"type\":\"histogram\"}],\"scattergl\":[{\"type\":\"scattergl\",\"marker\":{\"colorbar\":{\"outlinewidth\":0,\"ticks\":\"\"}}}],\"scatter3d\":[{\"type\":\"scatter3d\",\"line\":{\"colorbar\":{\"outlinewidth\":0,\"ticks\":\"\"}},\"marker\":{\"colorbar\":{\"outlinewidth\":0,\"ticks\":\"\"}}}],\"scattermapbox\":[{\"type\":\"scattermapbox\",\"marker\":{\"colorbar\":{\"outlinewidth\":0,\"ticks\":\"\"}}}],\"scatterternary\":[{\"type\":\"scatterternary\",\"marker\":{\"colorbar\":{\"outlinewidth\":0,\"ticks\":\"\"}}}],\"scattercarpet\":[{\"type\":\"scattercarpet\",\"marker\":{\"colorbar\":{\"outlinewidth\":0,\"ticks\":\"\"}}}],\"carpet\":[{\"aaxis\":{\"endlinecolor\":\"#2a3f5f\",\"gridcolor\":\"white\",\"linecolor\":\"white\",\"minorgridcolor\":\"white\",\"startlinecolor\":\"#2a3f5f\"},\"baxis\":{\"endlinecolor\":\"#2a3f5f\",\"gridcolor\":\"white\",\"linecolor\":\"white\",\"minorgridcolor\":\"white\",\"startlinecolor\":\"#2a3f5f\"},\"type\":\"carpet\"}],\"table\":[{\"cells\":{\"fill\":{\"color\":\"#EBF0F8\"},\"line\":{\"color\":\"white\"}},\"header\":{\"fill\":{\"color\":\"#C8D4E3\"},\"line\":{\"color\":\"white\"}},\"type\":\"table\"}],\"barpolar\":[{\"marker\":{\"line\":{\"color\":\"#E5ECF6\",\"width\":0.5},\"pattern\":{\"fillmode\":\"overlay\",\"size\":10,\"solidity\":0.2}},\"type\":\"barpolar\"}],\"pie\":[{\"automargin\":true,\"type\":\"pie\"}]},\"layout\":{\"autotypenumbers\":\"strict\",\"colorway\":[\"#636efa\",\"#EF553B\",\"#00cc96\",\"#ab63fa\",\"#FFA15A\",\"#19d3f3\",\"#FF6692\",\"#B6E880\",\"#FF97FF\",\"#FECB52\"],\"font\":{\"color\":\"#2a3f5f\"},\"hovermode\":\"closest\",\"hoverlabel\":{\"align\":\"left\"},\"paper_bgcolor\":\"white\",\"plot_bgcolor\":\"#E5ECF6\",\"polar\":{\"bgcolor\":\"#E5ECF6\",\"angularaxis\":{\"gridcolor\":\"white\",\"linecolor\":\"white\",\"ticks\":\"\"},\"radialaxis\":{\"gridcolor\":\"white\",\"linecolor\":\"white\",\"ticks\":\"\"}},\"ternary\":{\"bgcolor\":\"#E5ECF6\",\"aaxis\":{\"gridcolor\":\"white\",\"linecolor\":\"white\",\"ticks\":\"\"},\"baxis\":{\"gridcolor\":\"white\",\"linecolor\":\"white\",\"ticks\":\"\"},\"caxis\":{\"gridcolor\":\"white\",\"linecolor\":\"white\",\"ticks\":\"\"}},\"coloraxis\":{\"colorbar\":{\"outlinewidth\":0,\"ticks\":\"\"}},\"colorscale\":{\"sequential\":[[0.0,\"#0d0887\"],[0.1111111111111111,\"#46039f\"],[0.2222222222222222,\"#7201a8\"],[0.3333333333333333,\"#9c179e\"],[0.4444444444444444,\"#bd3786\"],[0.5555555555555556,\"#d8576b\"],[0.6666666666666666,\"#ed7953\"],[0.7777777777777778,\"#fb9f3a\"],[0.8888888888888888,\"#fdca26\"],[1.0,\"#f0f921\"]],\"sequentialminus\":[[0.0,\"#0d0887\"],[0.1111111111111111,\"#46039f\"],[0.2222222222222222,\"#7201a8\"],[0.3333333333333333,\"#9c179e\"],[0.4444444444444444,\"#bd3786\"],[0.5555555555555556,\"#d8576b\"],[0.6666666666666666,\"#ed7953\"],[0.7777777777777778,\"#fb9f3a\"],[0.8888888888888888,\"#fdca26\"],[1.0,\"#f0f921\"]],\"diverging\":[[0,\"#8e0152\"],[0.1,\"#c51b7d\"],[0.2,\"#de77ae\"],[0.3,\"#f1b6da\"],[0.4,\"#fde0ef\"],[0.5,\"#f7f7f7\"],[0.6,\"#e6f5d0\"],[0.7,\"#b8e186\"],[0.8,\"#7fbc41\"],[0.9,\"#4d9221\"],[1,\"#276419\"]]},\"xaxis\":{\"gridcolor\":\"white\",\"linecolor\":\"white\",\"ticks\":\"\",\"title\":{\"standoff\":15},\"zerolinecolor\":\"white\",\"automargin\":true,\"zerolinewidth\":2},\"yaxis\":{\"gridcolor\":\"white\",\"linecolor\":\"white\",\"ticks\":\"\",\"title\":{\"standoff\":15},\"zerolinecolor\":\"white\",\"automargin\":true,\"zerolinewidth\":2},\"scene\":{\"xaxis\":{\"backgroundcolor\":\"#E5ECF6\",\"gridcolor\":\"white\",\"linecolor\":\"white\",\"showbackground\":true,\"ticks\":\"\",\"zerolinecolor\":\"white\",\"gridwidth\":2},\"yaxis\":{\"backgroundcolor\":\"#E5ECF6\",\"gridcolor\":\"white\",\"linecolor\":\"white\",\"showbackground\":true,\"ticks\":\"\",\"zerolinecolor\":\"white\",\"gridwidth\":2},\"zaxis\":{\"backgroundcolor\":\"#E5ECF6\",\"gridcolor\":\"white\",\"linecolor\":\"white\",\"showbackground\":true,\"ticks\":\"\",\"zerolinecolor\":\"white\",\"gridwidth\":2}},\"shapedefaults\":{\"line\":{\"color\":\"#2a3f5f\"}},\"annotationdefaults\":{\"arrowcolor\":\"#2a3f5f\",\"arrowhead\":0,\"arrowwidth\":1},\"geo\":{\"bgcolor\":\"white\",\"landcolor\":\"#E5ECF6\",\"subunitcolor\":\"white\",\"showland\":true,\"showlakes\":true,\"lakecolor\":\"white\"},\"title\":{\"x\":0.05},\"mapbox\":{\"style\":\"light\"}}},\"xaxis\":{\"anchor\":\"y\",\"domain\":[0.0,1.0],\"title\":{\"text\":\"Meta_score\"}},\"yaxis\":{\"anchor\":\"x\",\"domain\":[0.0,1.0],\"title\":{\"text\":\"count\"}},\"legend\":{\"tracegroupgap\":0},\"margin\":{\"t\":60},\"barmode\":\"relative\"},                        {\"responsive\": true}                    ).then(function(){\n",
       "                            \n",
       "var gd = document.getElementById('f72b77d9-f9b5-4b4b-b96f-4e3d374a47eb');\n",
       "var x = new MutationObserver(function (mutations, observer) {{\n",
       "        var display = window.getComputedStyle(gd).display;\n",
       "        if (!display || display === 'none') {{\n",
       "            console.log([gd, 'removed!']);\n",
       "            Plotly.purge(gd);\n",
       "            observer.disconnect();\n",
       "        }}\n",
       "}});\n",
       "\n",
       "// Listen for the removal of the full notebook cells\n",
       "var notebookContainer = gd.closest('#notebook-container');\n",
       "if (notebookContainer) {{\n",
       "    x.observe(notebookContainer, {childList: true});\n",
       "}}\n",
       "\n",
       "// Listen for the clearing of the current output cell\n",
       "var outputEl = gd.closest('.output');\n",
       "if (outputEl) {{\n",
       "    x.observe(outputEl, {childList: true});\n",
       "}}\n",
       "\n",
       "                        })                };                });            </script>        </div>"
      ]
     },
     "metadata": {},
     "output_type": "display_data"
    }
   ],
   "source": [
    "px.histogram(data, x=\"Meta_score\")"
   ]
  },
  {
   "cell_type": "code",
   "execution_count": 26,
   "metadata": {},
   "outputs": [
    {
     "data": {
      "application/vnd.plotly.v1+json": {
       "config": {
        "plotlyServerURL": "https://plot.ly"
       },
       "data": [
        {
         "alignmentgroup": "True",
         "box": {
          "visible": true
         },
         "hovertemplate": "IMDB_Rating=%{y}<extra></extra>",
         "legendgroup": "",
         "marker": {
          "color": "#636efa"
         },
         "name": "",
         "offsetgroup": "",
         "orientation": "v",
         "points": "all",
         "scalegroup": "True",
         "showlegend": false,
         "type": "violin",
         "x0": " ",
         "xaxis": "x",
         "y": [
          9.3,
          9.2,
          9,
          9,
          9,
          8.9,
          8.9,
          8.9,
          8.8,
          8.8,
          8.8,
          8.8,
          8.8,
          8.7,
          8.7,
          8.7,
          8.7,
          8.7,
          8.6,
          8.6,
          8.6,
          8.6,
          8.6,
          8.6,
          8.6,
          8.6,
          8.6,
          8.6,
          8.6,
          8.6,
          8.6,
          8.6,
          8.6,
          8.5,
          8.5,
          8.5,
          8.5,
          8.5,
          8.5,
          8.5,
          8.5,
          8.5,
          8.5,
          8.5,
          8.5,
          8.5,
          8.5,
          8.5,
          8.5,
          8.5,
          8.5,
          8.5,
          8.5,
          8.4,
          8.4,
          8.4,
          8.4,
          8.4,
          8.4,
          8.4,
          8.4,
          8.4,
          8.4,
          8.4,
          8.4,
          8.4,
          8.4,
          8.4,
          8.4,
          8.4,
          8.4,
          8.4,
          8.4,
          8.4,
          8.4,
          8.4,
          8.4,
          8.4,
          8.4,
          8.4,
          8.4,
          8.4,
          8.4,
          8.4,
          8.3,
          8.3,
          8.3,
          8.3,
          8.3,
          8.3,
          8.3,
          8.3,
          8.3,
          8.3,
          8.3,
          8.3,
          8.3,
          8.3,
          8.3,
          8.3,
          8.3,
          8.3,
          8.3,
          8.3,
          8.3,
          8.3,
          8.3,
          8.3,
          8.3,
          8.3,
          8.3,
          8.3,
          8.3,
          8.3,
          8.3,
          8.3,
          8.3,
          8.3,
          8.3,
          8.3,
          8.3,
          8.3,
          8.3,
          8.3,
          8.3,
          8.3,
          8.3,
          8.3,
          8.2,
          8.2,
          8.2,
          8.2,
          8.2,
          8.2,
          8.2,
          8.2,
          8.2,
          8.2,
          8.2,
          8.2,
          8.2,
          8.2,
          8.2,
          8.2,
          8.2,
          8.2,
          8.2,
          8.2,
          8.2,
          8.2,
          8.2,
          8.2,
          8.2,
          8.2,
          8.2,
          8.2,
          8.2,
          8.2,
          8.2,
          8.2,
          8.2,
          8.2,
          8.2,
          8.2,
          8.2,
          8.2,
          8.2,
          8.2,
          8.2,
          8.2,
          8.2,
          8.2,
          8.2,
          8.2,
          8.2,
          8.2,
          8.2,
          8.2,
          8.2,
          8.2,
          8.2,
          8.2,
          8.2,
          8.2,
          8.2,
          8.2,
          8.2,
          8.2,
          8.2,
          8.2,
          8.2,
          8.2,
          8.2,
          8.2,
          8.2,
          8.1,
          8.1,
          8.1,
          8.1,
          8.1,
          8.1,
          8.1,
          8.1,
          8.1,
          8.1,
          8.1,
          8.1,
          8.1,
          8.1,
          8.1,
          8.1,
          8.1,
          8.1,
          8.1,
          8.1,
          8.1,
          8.1,
          8.1,
          8.1,
          8.1,
          8.1,
          8.1,
          8.1,
          8.1,
          8.1,
          8.1,
          8.1,
          8.1,
          8.1,
          8.1,
          8.1,
          8.1,
          8.1,
          8.1,
          8.1,
          8.1,
          8.1,
          8.1,
          8.1,
          8.1,
          8.1,
          8.1,
          8.1,
          8.1,
          8.1,
          8.1,
          8.1,
          8.1,
          8.1,
          8.1,
          8.1,
          8.1,
          8.1,
          8.1,
          8.1,
          8.1,
          8.1,
          8.1,
          8.1,
          8.1,
          8.1,
          8.1,
          8.1,
          8.1,
          8.1,
          8.1,
          8.1,
          8.1,
          8.1,
          8.1,
          8.1,
          8.1,
          8.1,
          8.1,
          8.1,
          8.1,
          8.1,
          8.1,
          8.1,
          8.1,
          8.1,
          8.1,
          8.1,
          8.1,
          8.1,
          8.1,
          8.1,
          8.1,
          8.1,
          8.1,
          8.1,
          8.1,
          8.1,
          8.1,
          8.1,
          8.1,
          8.1,
          8.1,
          8.1,
          8.1,
          8.1,
          8.1,
          8.1,
          8.1,
          8.1,
          8.1,
          8.1,
          8.1,
          8.1,
          8.1,
          8.1,
          8.1,
          8.1,
          8.1,
          8.1,
          8.1,
          8.1,
          8.1,
          8.1,
          8.1,
          8.1,
          8.1,
          8,
          8,
          8,
          8,
          8,
          8,
          8,
          8,
          8,
          8,
          8,
          8,
          8,
          8,
          8,
          8,
          8,
          8,
          8,
          8,
          8,
          8,
          8,
          8,
          8,
          8,
          8,
          8,
          8,
          8,
          8,
          8,
          8,
          8,
          8,
          8,
          8,
          8,
          8,
          8,
          8,
          8,
          8,
          8,
          8,
          8,
          8,
          8,
          8,
          8,
          8,
          8,
          8,
          8,
          8,
          8,
          8,
          8,
          8,
          8,
          8,
          8,
          8,
          8,
          8,
          8,
          8,
          8,
          8,
          8,
          8,
          8,
          8,
          8,
          8,
          8,
          8,
          8,
          8,
          8,
          8,
          8,
          8,
          8,
          8,
          8,
          8,
          8,
          8,
          8,
          8,
          8,
          8,
          8,
          8,
          8,
          8,
          8,
          8,
          8,
          8,
          8,
          8,
          8,
          8,
          8,
          8,
          8,
          8,
          8,
          8,
          8,
          8,
          8,
          8,
          8,
          8,
          8,
          8,
          8,
          8,
          8,
          8,
          8,
          8,
          8,
          8,
          8,
          8,
          8,
          8,
          8,
          8,
          8,
          8,
          8,
          8,
          8,
          8,
          8,
          8,
          7.9,
          7.9,
          7.9,
          7.9,
          7.9,
          7.9,
          7.9,
          7.9,
          7.9,
          7.9,
          7.9,
          7.9,
          7.9,
          7.9,
          7.9,
          7.9,
          7.9,
          7.9,
          7.9,
          7.9,
          7.9,
          7.9,
          7.9,
          7.9,
          7.9,
          7.9,
          7.9,
          7.9,
          7.9,
          7.9,
          7.9,
          7.9,
          7.9,
          7.9,
          7.9,
          7.9,
          7.9,
          7.9,
          7.9,
          7.9,
          7.9,
          7.9,
          7.9,
          7.9,
          7.9,
          7.9,
          7.9,
          7.9,
          7.9,
          7.9,
          7.9,
          7.9,
          7.9,
          7.9,
          7.9,
          7.9,
          7.9,
          7.9,
          7.9,
          7.9,
          7.9,
          7.9,
          7.9,
          7.9,
          7.9,
          7.9,
          7.9,
          7.9,
          7.9,
          7.9,
          7.9,
          7.9,
          7.9,
          7.9,
          7.9,
          7.9,
          7.9,
          7.9,
          7.9,
          7.9,
          7.9,
          7.9,
          7.9,
          7.9,
          7.9,
          7.9,
          7.9,
          7.9,
          7.9,
          7.9,
          7.9,
          7.9,
          7.9,
          7.9,
          7.9,
          7.9,
          7.9,
          7.9,
          7.9,
          7.9,
          7.9,
          7.9,
          7.9,
          7.9,
          7.9,
          7.9,
          7.8,
          7.8,
          7.8,
          7.8,
          7.8,
          7.8,
          7.8,
          7.8,
          7.8,
          7.8,
          7.8,
          7.8,
          7.8,
          7.8,
          7.8,
          7.8,
          7.8,
          7.8,
          7.8,
          7.8,
          7.8,
          7.8,
          7.8,
          7.8,
          7.8,
          7.8,
          7.8,
          7.8,
          7.8,
          7.8,
          7.8,
          7.8,
          7.8,
          7.8,
          7.8,
          7.8,
          7.8,
          7.8,
          7.8,
          7.8,
          7.8,
          7.8,
          7.8,
          7.8,
          7.8,
          7.8,
          7.8,
          7.8,
          7.8,
          7.8,
          7.8,
          7.8,
          7.8,
          7.8,
          7.8,
          7.8,
          7.8,
          7.8,
          7.8,
          7.8,
          7.8,
          7.8,
          7.8,
          7.8,
          7.8,
          7.8,
          7.8,
          7.8,
          7.8,
          7.8,
          7.8,
          7.8,
          7.8,
          7.8,
          7.8,
          7.8,
          7.8,
          7.8,
          7.8,
          7.8,
          7.8,
          7.8,
          7.8,
          7.8,
          7.8,
          7.8,
          7.8,
          7.8,
          7.8,
          7.8,
          7.8,
          7.8,
          7.8,
          7.8,
          7.8,
          7.8,
          7.8,
          7.8,
          7.8,
          7.8,
          7.8,
          7.8,
          7.8,
          7.8,
          7.8,
          7.8,
          7.8,
          7.8,
          7.8,
          7.8,
          7.8,
          7.8,
          7.8,
          7.8,
          7.8,
          7.8,
          7.8,
          7.8,
          7.8,
          7.8,
          7.8,
          7.8,
          7.8,
          7.8,
          7.8,
          7.8,
          7.8,
          7.8,
          7.8,
          7.8,
          7.8,
          7.8,
          7.8,
          7.8,
          7.8,
          7.8,
          7.8,
          7.8,
          7.8,
          7.8,
          7.8,
          7.8,
          7.8,
          7.8,
          7.8,
          7.8,
          7.8,
          7.8,
          7.8,
          7.8,
          7.8,
          7.7,
          7.7,
          7.7,
          7.7,
          7.7,
          7.7,
          7.7,
          7.7,
          7.7,
          7.7,
          7.7,
          7.7,
          7.7,
          7.7,
          7.7,
          7.7,
          7.7,
          7.7,
          7.7,
          7.7,
          7.7,
          7.7,
          7.7,
          7.7,
          7.7,
          7.7,
          7.7,
          7.7,
          7.7,
          7.7,
          7.7,
          7.7,
          7.7,
          7.7,
          7.7,
          7.7,
          7.7,
          7.7,
          7.7,
          7.7,
          7.7,
          7.7,
          7.7,
          7.7,
          7.7,
          7.7,
          7.7,
          7.7,
          7.7,
          7.7,
          7.7,
          7.7,
          7.7,
          7.7,
          7.7,
          7.7,
          7.7,
          7.7,
          7.7,
          7.7,
          7.7,
          7.7,
          7.7,
          7.7,
          7.7,
          7.7,
          7.7,
          7.7,
          7.7,
          7.7,
          7.7,
          7.7,
          7.7,
          7.7,
          7.7,
          7.7,
          7.7,
          7.7,
          7.7,
          7.7,
          7.7,
          7.7,
          7.7,
          7.7,
          7.7,
          7.7,
          7.7,
          7.7,
          7.7,
          7.7,
          7.7,
          7.7,
          7.7,
          7.7,
          7.7,
          7.7,
          7.7,
          7.7,
          7.7,
          7.7,
          7.7,
          7.7,
          7.7,
          7.7,
          7.7,
          7.7,
          7.7,
          7.7,
          7.7,
          7.7,
          7.7,
          7.7,
          7.7,
          7.7,
          7.7,
          7.7,
          7.7,
          7.7,
          7.7,
          7.7,
          7.7,
          7.7,
          7.7,
          7.7,
          7.7,
          7.7,
          7.7,
          7.7,
          7.7,
          7.7,
          7.7,
          7.7,
          7.7,
          7.7,
          7.7,
          7.7,
          7.7,
          7.7,
          7.7,
          7.7,
          7.7,
          7.7,
          7.7,
          7.7,
          7.7,
          7.7,
          7.7,
          7.7,
          7.7,
          7.7,
          7.7,
          7.7,
          7.7,
          7.7,
          7.7,
          7.7,
          7.7,
          7.6,
          7.6,
          7.6,
          7.6,
          7.6,
          7.6,
          7.6,
          7.6,
          7.6,
          7.6,
          7.6,
          7.6,
          7.6,
          7.6,
          7.6,
          7.6,
          7.6,
          7.6,
          7.6,
          7.6,
          7.6,
          7.6,
          7.6,
          7.6,
          7.6,
          7.6,
          7.6,
          7.6,
          7.6,
          7.6,
          7.6,
          7.6,
          7.6,
          7.6,
          7.6,
          7.6,
          7.6,
          7.6,
          7.6,
          7.6,
          7.6,
          7.6,
          7.6,
          7.6,
          7.6,
          7.6,
          7.6,
          7.6,
          7.6,
          7.6,
          7.6,
          7.6,
          7.6,
          7.6,
          7.6,
          7.6,
          7.6,
          7.6,
          7.6,
          7.6,
          7.6,
          7.6,
          7.6,
          7.6,
          7.6,
          7.6,
          7.6,
          7.6,
          7.6,
          7.6,
          7.6,
          7.6,
          7.6,
          7.6,
          7.6,
          7.6,
          7.6,
          7.6,
          7.6,
          7.6,
          7.6,
          7.6,
          7.6,
          7.6,
          7.6,
          7.6,
          7.6,
          7.6,
          7.6,
          7.6,
          7.6,
          7.6,
          7.6,
          7.6,
          7.6,
          7.6,
          7.6,
          7.6,
          7.6,
          7.6,
          7.6,
          7.6,
          7.6,
          7.6,
          7.6,
          7.6,
          7.6,
          7.6,
          7.6,
          7.6,
          7.6,
          7.6,
          7.6,
          7.6,
          7.6,
          7.6,
          7.6,
          7.6,
          7.6,
          7.6,
          7.6,
          7.6,
          7.6
         ],
         "y0": " ",
         "yaxis": "y"
        }
       ],
       "layout": {
        "legend": {
         "tracegroupgap": 0
        },
        "margin": {
         "t": 60
        },
        "template": {
         "data": {
          "bar": [
           {
            "error_x": {
             "color": "#2a3f5f"
            },
            "error_y": {
             "color": "#2a3f5f"
            },
            "marker": {
             "line": {
              "color": "#E5ECF6",
              "width": 0.5
             },
             "pattern": {
              "fillmode": "overlay",
              "size": 10,
              "solidity": 0.2
             }
            },
            "type": "bar"
           }
          ],
          "barpolar": [
           {
            "marker": {
             "line": {
              "color": "#E5ECF6",
              "width": 0.5
             },
             "pattern": {
              "fillmode": "overlay",
              "size": 10,
              "solidity": 0.2
             }
            },
            "type": "barpolar"
           }
          ],
          "carpet": [
           {
            "aaxis": {
             "endlinecolor": "#2a3f5f",
             "gridcolor": "white",
             "linecolor": "white",
             "minorgridcolor": "white",
             "startlinecolor": "#2a3f5f"
            },
            "baxis": {
             "endlinecolor": "#2a3f5f",
             "gridcolor": "white",
             "linecolor": "white",
             "minorgridcolor": "white",
             "startlinecolor": "#2a3f5f"
            },
            "type": "carpet"
           }
          ],
          "choropleth": [
           {
            "colorbar": {
             "outlinewidth": 0,
             "ticks": ""
            },
            "type": "choropleth"
           }
          ],
          "contour": [
           {
            "colorbar": {
             "outlinewidth": 0,
             "ticks": ""
            },
            "colorscale": [
             [
              0,
              "#0d0887"
             ],
             [
              0.1111111111111111,
              "#46039f"
             ],
             [
              0.2222222222222222,
              "#7201a8"
             ],
             [
              0.3333333333333333,
              "#9c179e"
             ],
             [
              0.4444444444444444,
              "#bd3786"
             ],
             [
              0.5555555555555556,
              "#d8576b"
             ],
             [
              0.6666666666666666,
              "#ed7953"
             ],
             [
              0.7777777777777778,
              "#fb9f3a"
             ],
             [
              0.8888888888888888,
              "#fdca26"
             ],
             [
              1,
              "#f0f921"
             ]
            ],
            "type": "contour"
           }
          ],
          "contourcarpet": [
           {
            "colorbar": {
             "outlinewidth": 0,
             "ticks": ""
            },
            "type": "contourcarpet"
           }
          ],
          "heatmap": [
           {
            "colorbar": {
             "outlinewidth": 0,
             "ticks": ""
            },
            "colorscale": [
             [
              0,
              "#0d0887"
             ],
             [
              0.1111111111111111,
              "#46039f"
             ],
             [
              0.2222222222222222,
              "#7201a8"
             ],
             [
              0.3333333333333333,
              "#9c179e"
             ],
             [
              0.4444444444444444,
              "#bd3786"
             ],
             [
              0.5555555555555556,
              "#d8576b"
             ],
             [
              0.6666666666666666,
              "#ed7953"
             ],
             [
              0.7777777777777778,
              "#fb9f3a"
             ],
             [
              0.8888888888888888,
              "#fdca26"
             ],
             [
              1,
              "#f0f921"
             ]
            ],
            "type": "heatmap"
           }
          ],
          "heatmapgl": [
           {
            "colorbar": {
             "outlinewidth": 0,
             "ticks": ""
            },
            "colorscale": [
             [
              0,
              "#0d0887"
             ],
             [
              0.1111111111111111,
              "#46039f"
             ],
             [
              0.2222222222222222,
              "#7201a8"
             ],
             [
              0.3333333333333333,
              "#9c179e"
             ],
             [
              0.4444444444444444,
              "#bd3786"
             ],
             [
              0.5555555555555556,
              "#d8576b"
             ],
             [
              0.6666666666666666,
              "#ed7953"
             ],
             [
              0.7777777777777778,
              "#fb9f3a"
             ],
             [
              0.8888888888888888,
              "#fdca26"
             ],
             [
              1,
              "#f0f921"
             ]
            ],
            "type": "heatmapgl"
           }
          ],
          "histogram": [
           {
            "marker": {
             "pattern": {
              "fillmode": "overlay",
              "size": 10,
              "solidity": 0.2
             }
            },
            "type": "histogram"
           }
          ],
          "histogram2d": [
           {
            "colorbar": {
             "outlinewidth": 0,
             "ticks": ""
            },
            "colorscale": [
             [
              0,
              "#0d0887"
             ],
             [
              0.1111111111111111,
              "#46039f"
             ],
             [
              0.2222222222222222,
              "#7201a8"
             ],
             [
              0.3333333333333333,
              "#9c179e"
             ],
             [
              0.4444444444444444,
              "#bd3786"
             ],
             [
              0.5555555555555556,
              "#d8576b"
             ],
             [
              0.6666666666666666,
              "#ed7953"
             ],
             [
              0.7777777777777778,
              "#fb9f3a"
             ],
             [
              0.8888888888888888,
              "#fdca26"
             ],
             [
              1,
              "#f0f921"
             ]
            ],
            "type": "histogram2d"
           }
          ],
          "histogram2dcontour": [
           {
            "colorbar": {
             "outlinewidth": 0,
             "ticks": ""
            },
            "colorscale": [
             [
              0,
              "#0d0887"
             ],
             [
              0.1111111111111111,
              "#46039f"
             ],
             [
              0.2222222222222222,
              "#7201a8"
             ],
             [
              0.3333333333333333,
              "#9c179e"
             ],
             [
              0.4444444444444444,
              "#bd3786"
             ],
             [
              0.5555555555555556,
              "#d8576b"
             ],
             [
              0.6666666666666666,
              "#ed7953"
             ],
             [
              0.7777777777777778,
              "#fb9f3a"
             ],
             [
              0.8888888888888888,
              "#fdca26"
             ],
             [
              1,
              "#f0f921"
             ]
            ],
            "type": "histogram2dcontour"
           }
          ],
          "mesh3d": [
           {
            "colorbar": {
             "outlinewidth": 0,
             "ticks": ""
            },
            "type": "mesh3d"
           }
          ],
          "parcoords": [
           {
            "line": {
             "colorbar": {
              "outlinewidth": 0,
              "ticks": ""
             }
            },
            "type": "parcoords"
           }
          ],
          "pie": [
           {
            "automargin": true,
            "type": "pie"
           }
          ],
          "scatter": [
           {
            "fillpattern": {
             "fillmode": "overlay",
             "size": 10,
             "solidity": 0.2
            },
            "type": "scatter"
           }
          ],
          "scatter3d": [
           {
            "line": {
             "colorbar": {
              "outlinewidth": 0,
              "ticks": ""
             }
            },
            "marker": {
             "colorbar": {
              "outlinewidth": 0,
              "ticks": ""
             }
            },
            "type": "scatter3d"
           }
          ],
          "scattercarpet": [
           {
            "marker": {
             "colorbar": {
              "outlinewidth": 0,
              "ticks": ""
             }
            },
            "type": "scattercarpet"
           }
          ],
          "scattergeo": [
           {
            "marker": {
             "colorbar": {
              "outlinewidth": 0,
              "ticks": ""
             }
            },
            "type": "scattergeo"
           }
          ],
          "scattergl": [
           {
            "marker": {
             "colorbar": {
              "outlinewidth": 0,
              "ticks": ""
             }
            },
            "type": "scattergl"
           }
          ],
          "scattermapbox": [
           {
            "marker": {
             "colorbar": {
              "outlinewidth": 0,
              "ticks": ""
             }
            },
            "type": "scattermapbox"
           }
          ],
          "scatterpolar": [
           {
            "marker": {
             "colorbar": {
              "outlinewidth": 0,
              "ticks": ""
             }
            },
            "type": "scatterpolar"
           }
          ],
          "scatterpolargl": [
           {
            "marker": {
             "colorbar": {
              "outlinewidth": 0,
              "ticks": ""
             }
            },
            "type": "scatterpolargl"
           }
          ],
          "scatterternary": [
           {
            "marker": {
             "colorbar": {
              "outlinewidth": 0,
              "ticks": ""
             }
            },
            "type": "scatterternary"
           }
          ],
          "surface": [
           {
            "colorbar": {
             "outlinewidth": 0,
             "ticks": ""
            },
            "colorscale": [
             [
              0,
              "#0d0887"
             ],
             [
              0.1111111111111111,
              "#46039f"
             ],
             [
              0.2222222222222222,
              "#7201a8"
             ],
             [
              0.3333333333333333,
              "#9c179e"
             ],
             [
              0.4444444444444444,
              "#bd3786"
             ],
             [
              0.5555555555555556,
              "#d8576b"
             ],
             [
              0.6666666666666666,
              "#ed7953"
             ],
             [
              0.7777777777777778,
              "#fb9f3a"
             ],
             [
              0.8888888888888888,
              "#fdca26"
             ],
             [
              1,
              "#f0f921"
             ]
            ],
            "type": "surface"
           }
          ],
          "table": [
           {
            "cells": {
             "fill": {
              "color": "#EBF0F8"
             },
             "line": {
              "color": "white"
             }
            },
            "header": {
             "fill": {
              "color": "#C8D4E3"
             },
             "line": {
              "color": "white"
             }
            },
            "type": "table"
           }
          ]
         },
         "layout": {
          "annotationdefaults": {
           "arrowcolor": "#2a3f5f",
           "arrowhead": 0,
           "arrowwidth": 1
          },
          "autotypenumbers": "strict",
          "coloraxis": {
           "colorbar": {
            "outlinewidth": 0,
            "ticks": ""
           }
          },
          "colorscale": {
           "diverging": [
            [
             0,
             "#8e0152"
            ],
            [
             0.1,
             "#c51b7d"
            ],
            [
             0.2,
             "#de77ae"
            ],
            [
             0.3,
             "#f1b6da"
            ],
            [
             0.4,
             "#fde0ef"
            ],
            [
             0.5,
             "#f7f7f7"
            ],
            [
             0.6,
             "#e6f5d0"
            ],
            [
             0.7,
             "#b8e186"
            ],
            [
             0.8,
             "#7fbc41"
            ],
            [
             0.9,
             "#4d9221"
            ],
            [
             1,
             "#276419"
            ]
           ],
           "sequential": [
            [
             0,
             "#0d0887"
            ],
            [
             0.1111111111111111,
             "#46039f"
            ],
            [
             0.2222222222222222,
             "#7201a8"
            ],
            [
             0.3333333333333333,
             "#9c179e"
            ],
            [
             0.4444444444444444,
             "#bd3786"
            ],
            [
             0.5555555555555556,
             "#d8576b"
            ],
            [
             0.6666666666666666,
             "#ed7953"
            ],
            [
             0.7777777777777778,
             "#fb9f3a"
            ],
            [
             0.8888888888888888,
             "#fdca26"
            ],
            [
             1,
             "#f0f921"
            ]
           ],
           "sequentialminus": [
            [
             0,
             "#0d0887"
            ],
            [
             0.1111111111111111,
             "#46039f"
            ],
            [
             0.2222222222222222,
             "#7201a8"
            ],
            [
             0.3333333333333333,
             "#9c179e"
            ],
            [
             0.4444444444444444,
             "#bd3786"
            ],
            [
             0.5555555555555556,
             "#d8576b"
            ],
            [
             0.6666666666666666,
             "#ed7953"
            ],
            [
             0.7777777777777778,
             "#fb9f3a"
            ],
            [
             0.8888888888888888,
             "#fdca26"
            ],
            [
             1,
             "#f0f921"
            ]
           ]
          },
          "colorway": [
           "#636efa",
           "#EF553B",
           "#00cc96",
           "#ab63fa",
           "#FFA15A",
           "#19d3f3",
           "#FF6692",
           "#B6E880",
           "#FF97FF",
           "#FECB52"
          ],
          "font": {
           "color": "#2a3f5f"
          },
          "geo": {
           "bgcolor": "white",
           "lakecolor": "white",
           "landcolor": "#E5ECF6",
           "showlakes": true,
           "showland": true,
           "subunitcolor": "white"
          },
          "hoverlabel": {
           "align": "left"
          },
          "hovermode": "closest",
          "mapbox": {
           "style": "light"
          },
          "paper_bgcolor": "white",
          "plot_bgcolor": "#E5ECF6",
          "polar": {
           "angularaxis": {
            "gridcolor": "white",
            "linecolor": "white",
            "ticks": ""
           },
           "bgcolor": "#E5ECF6",
           "radialaxis": {
            "gridcolor": "white",
            "linecolor": "white",
            "ticks": ""
           }
          },
          "scene": {
           "xaxis": {
            "backgroundcolor": "#E5ECF6",
            "gridcolor": "white",
            "gridwidth": 2,
            "linecolor": "white",
            "showbackground": true,
            "ticks": "",
            "zerolinecolor": "white"
           },
           "yaxis": {
            "backgroundcolor": "#E5ECF6",
            "gridcolor": "white",
            "gridwidth": 2,
            "linecolor": "white",
            "showbackground": true,
            "ticks": "",
            "zerolinecolor": "white"
           },
           "zaxis": {
            "backgroundcolor": "#E5ECF6",
            "gridcolor": "white",
            "gridwidth": 2,
            "linecolor": "white",
            "showbackground": true,
            "ticks": "",
            "zerolinecolor": "white"
           }
          },
          "shapedefaults": {
           "line": {
            "color": "#2a3f5f"
           }
          },
          "ternary": {
           "aaxis": {
            "gridcolor": "white",
            "linecolor": "white",
            "ticks": ""
           },
           "baxis": {
            "gridcolor": "white",
            "linecolor": "white",
            "ticks": ""
           },
           "bgcolor": "#E5ECF6",
           "caxis": {
            "gridcolor": "white",
            "linecolor": "white",
            "ticks": ""
           }
          },
          "title": {
           "x": 0.05
          },
          "xaxis": {
           "automargin": true,
           "gridcolor": "white",
           "linecolor": "white",
           "ticks": "",
           "title": {
            "standoff": 15
           },
           "zerolinecolor": "white",
           "zerolinewidth": 2
          },
          "yaxis": {
           "automargin": true,
           "gridcolor": "white",
           "linecolor": "white",
           "ticks": "",
           "title": {
            "standoff": 15
           },
           "zerolinecolor": "white",
           "zerolinewidth": 2
          }
         }
        },
        "violinmode": "group",
        "xaxis": {
         "anchor": "y",
         "domain": [
          0,
          1
         ]
        },
        "yaxis": {
         "anchor": "x",
         "domain": [
          0,
          1
         ],
         "title": {
          "text": "IMDB_Rating"
         }
        }
       }
      },
      "text/html": [
       "<div>                            <div id=\"0bfe6ddb-d9c4-4cb1-94b3-0e8471d43e04\" class=\"plotly-graph-div\" style=\"height:525px; width:100%;\"></div>            <script type=\"text/javascript\">                require([\"plotly\"], function(Plotly) {                    window.PLOTLYENV=window.PLOTLYENV || {};                                    if (document.getElementById(\"0bfe6ddb-d9c4-4cb1-94b3-0e8471d43e04\")) {                    Plotly.newPlot(                        \"0bfe6ddb-d9c4-4cb1-94b3-0e8471d43e04\",                        [{\"alignmentgroup\":\"True\",\"box\":{\"visible\":true},\"hovertemplate\":\"IMDB_Rating=%{y}<extra></extra>\",\"legendgroup\":\"\",\"marker\":{\"color\":\"#636efa\"},\"name\":\"\",\"offsetgroup\":\"\",\"orientation\":\"v\",\"points\":\"all\",\"scalegroup\":\"True\",\"showlegend\":false,\"x0\":\" \",\"xaxis\":\"x\",\"y\":[9.3,9.2,9.0,9.0,9.0,8.9,8.9,8.9,8.8,8.8,8.8,8.8,8.8,8.7,8.7,8.7,8.7,8.7,8.6,8.6,8.6,8.6,8.6,8.6,8.6,8.6,8.6,8.6,8.6,8.6,8.6,8.6,8.6,8.5,8.5,8.5,8.5,8.5,8.5,8.5,8.5,8.5,8.5,8.5,8.5,8.5,8.5,8.5,8.5,8.5,8.5,8.5,8.5,8.4,8.4,8.4,8.4,8.4,8.4,8.4,8.4,8.4,8.4,8.4,8.4,8.4,8.4,8.4,8.4,8.4,8.4,8.4,8.4,8.4,8.4,8.4,8.4,8.4,8.4,8.4,8.4,8.4,8.4,8.4,8.3,8.3,8.3,8.3,8.3,8.3,8.3,8.3,8.3,8.3,8.3,8.3,8.3,8.3,8.3,8.3,8.3,8.3,8.3,8.3,8.3,8.3,8.3,8.3,8.3,8.3,8.3,8.3,8.3,8.3,8.3,8.3,8.3,8.3,8.3,8.3,8.3,8.3,8.3,8.3,8.3,8.3,8.3,8.3,8.2,8.2,8.2,8.2,8.2,8.2,8.2,8.2,8.2,8.2,8.2,8.2,8.2,8.2,8.2,8.2,8.2,8.2,8.2,8.2,8.2,8.2,8.2,8.2,8.2,8.2,8.2,8.2,8.2,8.2,8.2,8.2,8.2,8.2,8.2,8.2,8.2,8.2,8.2,8.2,8.2,8.2,8.2,8.2,8.2,8.2,8.2,8.2,8.2,8.2,8.2,8.2,8.2,8.2,8.2,8.2,8.2,8.2,8.2,8.2,8.2,8.2,8.2,8.2,8.2,8.2,8.2,8.1,8.1,8.1,8.1,8.1,8.1,8.1,8.1,8.1,8.1,8.1,8.1,8.1,8.1,8.1,8.1,8.1,8.1,8.1,8.1,8.1,8.1,8.1,8.1,8.1,8.1,8.1,8.1,8.1,8.1,8.1,8.1,8.1,8.1,8.1,8.1,8.1,8.1,8.1,8.1,8.1,8.1,8.1,8.1,8.1,8.1,8.1,8.1,8.1,8.1,8.1,8.1,8.1,8.1,8.1,8.1,8.1,8.1,8.1,8.1,8.1,8.1,8.1,8.1,8.1,8.1,8.1,8.1,8.1,8.1,8.1,8.1,8.1,8.1,8.1,8.1,8.1,8.1,8.1,8.1,8.1,8.1,8.1,8.1,8.1,8.1,8.1,8.1,8.1,8.1,8.1,8.1,8.1,8.1,8.1,8.1,8.1,8.1,8.1,8.1,8.1,8.1,8.1,8.1,8.1,8.1,8.1,8.1,8.1,8.1,8.1,8.1,8.1,8.1,8.1,8.1,8.1,8.1,8.1,8.1,8.1,8.1,8.1,8.1,8.1,8.1,8.1,8.0,8.0,8.0,8.0,8.0,8.0,8.0,8.0,8.0,8.0,8.0,8.0,8.0,8.0,8.0,8.0,8.0,8.0,8.0,8.0,8.0,8.0,8.0,8.0,8.0,8.0,8.0,8.0,8.0,8.0,8.0,8.0,8.0,8.0,8.0,8.0,8.0,8.0,8.0,8.0,8.0,8.0,8.0,8.0,8.0,8.0,8.0,8.0,8.0,8.0,8.0,8.0,8.0,8.0,8.0,8.0,8.0,8.0,8.0,8.0,8.0,8.0,8.0,8.0,8.0,8.0,8.0,8.0,8.0,8.0,8.0,8.0,8.0,8.0,8.0,8.0,8.0,8.0,8.0,8.0,8.0,8.0,8.0,8.0,8.0,8.0,8.0,8.0,8.0,8.0,8.0,8.0,8.0,8.0,8.0,8.0,8.0,8.0,8.0,8.0,8.0,8.0,8.0,8.0,8.0,8.0,8.0,8.0,8.0,8.0,8.0,8.0,8.0,8.0,8.0,8.0,8.0,8.0,8.0,8.0,8.0,8.0,8.0,8.0,8.0,8.0,8.0,8.0,8.0,8.0,8.0,8.0,8.0,8.0,8.0,8.0,8.0,8.0,8.0,8.0,8.0,7.9,7.9,7.9,7.9,7.9,7.9,7.9,7.9,7.9,7.9,7.9,7.9,7.9,7.9,7.9,7.9,7.9,7.9,7.9,7.9,7.9,7.9,7.9,7.9,7.9,7.9,7.9,7.9,7.9,7.9,7.9,7.9,7.9,7.9,7.9,7.9,7.9,7.9,7.9,7.9,7.9,7.9,7.9,7.9,7.9,7.9,7.9,7.9,7.9,7.9,7.9,7.9,7.9,7.9,7.9,7.9,7.9,7.9,7.9,7.9,7.9,7.9,7.9,7.9,7.9,7.9,7.9,7.9,7.9,7.9,7.9,7.9,7.9,7.9,7.9,7.9,7.9,7.9,7.9,7.9,7.9,7.9,7.9,7.9,7.9,7.9,7.9,7.9,7.9,7.9,7.9,7.9,7.9,7.9,7.9,7.9,7.9,7.9,7.9,7.9,7.9,7.9,7.9,7.9,7.9,7.9,7.8,7.8,7.8,7.8,7.8,7.8,7.8,7.8,7.8,7.8,7.8,7.8,7.8,7.8,7.8,7.8,7.8,7.8,7.8,7.8,7.8,7.8,7.8,7.8,7.8,7.8,7.8,7.8,7.8,7.8,7.8,7.8,7.8,7.8,7.8,7.8,7.8,7.8,7.8,7.8,7.8,7.8,7.8,7.8,7.8,7.8,7.8,7.8,7.8,7.8,7.8,7.8,7.8,7.8,7.8,7.8,7.8,7.8,7.8,7.8,7.8,7.8,7.8,7.8,7.8,7.8,7.8,7.8,7.8,7.8,7.8,7.8,7.8,7.8,7.8,7.8,7.8,7.8,7.8,7.8,7.8,7.8,7.8,7.8,7.8,7.8,7.8,7.8,7.8,7.8,7.8,7.8,7.8,7.8,7.8,7.8,7.8,7.8,7.8,7.8,7.8,7.8,7.8,7.8,7.8,7.8,7.8,7.8,7.8,7.8,7.8,7.8,7.8,7.8,7.8,7.8,7.8,7.8,7.8,7.8,7.8,7.8,7.8,7.8,7.8,7.8,7.8,7.8,7.8,7.8,7.8,7.8,7.8,7.8,7.8,7.8,7.8,7.8,7.8,7.8,7.8,7.8,7.8,7.8,7.8,7.8,7.8,7.8,7.8,7.8,7.8,7.7,7.7,7.7,7.7,7.7,7.7,7.7,7.7,7.7,7.7,7.7,7.7,7.7,7.7,7.7,7.7,7.7,7.7,7.7,7.7,7.7,7.7,7.7,7.7,7.7,7.7,7.7,7.7,7.7,7.7,7.7,7.7,7.7,7.7,7.7,7.7,7.7,7.7,7.7,7.7,7.7,7.7,7.7,7.7,7.7,7.7,7.7,7.7,7.7,7.7,7.7,7.7,7.7,7.7,7.7,7.7,7.7,7.7,7.7,7.7,7.7,7.7,7.7,7.7,7.7,7.7,7.7,7.7,7.7,7.7,7.7,7.7,7.7,7.7,7.7,7.7,7.7,7.7,7.7,7.7,7.7,7.7,7.7,7.7,7.7,7.7,7.7,7.7,7.7,7.7,7.7,7.7,7.7,7.7,7.7,7.7,7.7,7.7,7.7,7.7,7.7,7.7,7.7,7.7,7.7,7.7,7.7,7.7,7.7,7.7,7.7,7.7,7.7,7.7,7.7,7.7,7.7,7.7,7.7,7.7,7.7,7.7,7.7,7.7,7.7,7.7,7.7,7.7,7.7,7.7,7.7,7.7,7.7,7.7,7.7,7.7,7.7,7.7,7.7,7.7,7.7,7.7,7.7,7.7,7.7,7.7,7.7,7.7,7.7,7.7,7.7,7.7,7.7,7.7,7.7,7.7,7.7,7.6,7.6,7.6,7.6,7.6,7.6,7.6,7.6,7.6,7.6,7.6,7.6,7.6,7.6,7.6,7.6,7.6,7.6,7.6,7.6,7.6,7.6,7.6,7.6,7.6,7.6,7.6,7.6,7.6,7.6,7.6,7.6,7.6,7.6,7.6,7.6,7.6,7.6,7.6,7.6,7.6,7.6,7.6,7.6,7.6,7.6,7.6,7.6,7.6,7.6,7.6,7.6,7.6,7.6,7.6,7.6,7.6,7.6,7.6,7.6,7.6,7.6,7.6,7.6,7.6,7.6,7.6,7.6,7.6,7.6,7.6,7.6,7.6,7.6,7.6,7.6,7.6,7.6,7.6,7.6,7.6,7.6,7.6,7.6,7.6,7.6,7.6,7.6,7.6,7.6,7.6,7.6,7.6,7.6,7.6,7.6,7.6,7.6,7.6,7.6,7.6,7.6,7.6,7.6,7.6,7.6,7.6,7.6,7.6,7.6,7.6,7.6,7.6,7.6,7.6,7.6,7.6,7.6,7.6,7.6,7.6,7.6,7.6],\"y0\":\" \",\"yaxis\":\"y\",\"type\":\"violin\"}],                        {\"template\":{\"data\":{\"histogram2dcontour\":[{\"type\":\"histogram2dcontour\",\"colorbar\":{\"outlinewidth\":0,\"ticks\":\"\"},\"colorscale\":[[0.0,\"#0d0887\"],[0.1111111111111111,\"#46039f\"],[0.2222222222222222,\"#7201a8\"],[0.3333333333333333,\"#9c179e\"],[0.4444444444444444,\"#bd3786\"],[0.5555555555555556,\"#d8576b\"],[0.6666666666666666,\"#ed7953\"],[0.7777777777777778,\"#fb9f3a\"],[0.8888888888888888,\"#fdca26\"],[1.0,\"#f0f921\"]]}],\"choropleth\":[{\"type\":\"choropleth\",\"colorbar\":{\"outlinewidth\":0,\"ticks\":\"\"}}],\"histogram2d\":[{\"type\":\"histogram2d\",\"colorbar\":{\"outlinewidth\":0,\"ticks\":\"\"},\"colorscale\":[[0.0,\"#0d0887\"],[0.1111111111111111,\"#46039f\"],[0.2222222222222222,\"#7201a8\"],[0.3333333333333333,\"#9c179e\"],[0.4444444444444444,\"#bd3786\"],[0.5555555555555556,\"#d8576b\"],[0.6666666666666666,\"#ed7953\"],[0.7777777777777778,\"#fb9f3a\"],[0.8888888888888888,\"#fdca26\"],[1.0,\"#f0f921\"]]}],\"heatmap\":[{\"type\":\"heatmap\",\"colorbar\":{\"outlinewidth\":0,\"ticks\":\"\"},\"colorscale\":[[0.0,\"#0d0887\"],[0.1111111111111111,\"#46039f\"],[0.2222222222222222,\"#7201a8\"],[0.3333333333333333,\"#9c179e\"],[0.4444444444444444,\"#bd3786\"],[0.5555555555555556,\"#d8576b\"],[0.6666666666666666,\"#ed7953\"],[0.7777777777777778,\"#fb9f3a\"],[0.8888888888888888,\"#fdca26\"],[1.0,\"#f0f921\"]]}],\"heatmapgl\":[{\"type\":\"heatmapgl\",\"colorbar\":{\"outlinewidth\":0,\"ticks\":\"\"},\"colorscale\":[[0.0,\"#0d0887\"],[0.1111111111111111,\"#46039f\"],[0.2222222222222222,\"#7201a8\"],[0.3333333333333333,\"#9c179e\"],[0.4444444444444444,\"#bd3786\"],[0.5555555555555556,\"#d8576b\"],[0.6666666666666666,\"#ed7953\"],[0.7777777777777778,\"#fb9f3a\"],[0.8888888888888888,\"#fdca26\"],[1.0,\"#f0f921\"]]}],\"contourcarpet\":[{\"type\":\"contourcarpet\",\"colorbar\":{\"outlinewidth\":0,\"ticks\":\"\"}}],\"contour\":[{\"type\":\"contour\",\"colorbar\":{\"outlinewidth\":0,\"ticks\":\"\"},\"colorscale\":[[0.0,\"#0d0887\"],[0.1111111111111111,\"#46039f\"],[0.2222222222222222,\"#7201a8\"],[0.3333333333333333,\"#9c179e\"],[0.4444444444444444,\"#bd3786\"],[0.5555555555555556,\"#d8576b\"],[0.6666666666666666,\"#ed7953\"],[0.7777777777777778,\"#fb9f3a\"],[0.8888888888888888,\"#fdca26\"],[1.0,\"#f0f921\"]]}],\"surface\":[{\"type\":\"surface\",\"colorbar\":{\"outlinewidth\":0,\"ticks\":\"\"},\"colorscale\":[[0.0,\"#0d0887\"],[0.1111111111111111,\"#46039f\"],[0.2222222222222222,\"#7201a8\"],[0.3333333333333333,\"#9c179e\"],[0.4444444444444444,\"#bd3786\"],[0.5555555555555556,\"#d8576b\"],[0.6666666666666666,\"#ed7953\"],[0.7777777777777778,\"#fb9f3a\"],[0.8888888888888888,\"#fdca26\"],[1.0,\"#f0f921\"]]}],\"mesh3d\":[{\"type\":\"mesh3d\",\"colorbar\":{\"outlinewidth\":0,\"ticks\":\"\"}}],\"scatter\":[{\"fillpattern\":{\"fillmode\":\"overlay\",\"size\":10,\"solidity\":0.2},\"type\":\"scatter\"}],\"parcoords\":[{\"type\":\"parcoords\",\"line\":{\"colorbar\":{\"outlinewidth\":0,\"ticks\":\"\"}}}],\"scatterpolargl\":[{\"type\":\"scatterpolargl\",\"marker\":{\"colorbar\":{\"outlinewidth\":0,\"ticks\":\"\"}}}],\"bar\":[{\"error_x\":{\"color\":\"#2a3f5f\"},\"error_y\":{\"color\":\"#2a3f5f\"},\"marker\":{\"line\":{\"color\":\"#E5ECF6\",\"width\":0.5},\"pattern\":{\"fillmode\":\"overlay\",\"size\":10,\"solidity\":0.2}},\"type\":\"bar\"}],\"scattergeo\":[{\"type\":\"scattergeo\",\"marker\":{\"colorbar\":{\"outlinewidth\":0,\"ticks\":\"\"}}}],\"scatterpolar\":[{\"type\":\"scatterpolar\",\"marker\":{\"colorbar\":{\"outlinewidth\":0,\"ticks\":\"\"}}}],\"histogram\":[{\"marker\":{\"pattern\":{\"fillmode\":\"overlay\",\"size\":10,\"solidity\":0.2}},\"type\":\"histogram\"}],\"scattergl\":[{\"type\":\"scattergl\",\"marker\":{\"colorbar\":{\"outlinewidth\":0,\"ticks\":\"\"}}}],\"scatter3d\":[{\"type\":\"scatter3d\",\"line\":{\"colorbar\":{\"outlinewidth\":0,\"ticks\":\"\"}},\"marker\":{\"colorbar\":{\"outlinewidth\":0,\"ticks\":\"\"}}}],\"scattermapbox\":[{\"type\":\"scattermapbox\",\"marker\":{\"colorbar\":{\"outlinewidth\":0,\"ticks\":\"\"}}}],\"scatterternary\":[{\"type\":\"scatterternary\",\"marker\":{\"colorbar\":{\"outlinewidth\":0,\"ticks\":\"\"}}}],\"scattercarpet\":[{\"type\":\"scattercarpet\",\"marker\":{\"colorbar\":{\"outlinewidth\":0,\"ticks\":\"\"}}}],\"carpet\":[{\"aaxis\":{\"endlinecolor\":\"#2a3f5f\",\"gridcolor\":\"white\",\"linecolor\":\"white\",\"minorgridcolor\":\"white\",\"startlinecolor\":\"#2a3f5f\"},\"baxis\":{\"endlinecolor\":\"#2a3f5f\",\"gridcolor\":\"white\",\"linecolor\":\"white\",\"minorgridcolor\":\"white\",\"startlinecolor\":\"#2a3f5f\"},\"type\":\"carpet\"}],\"table\":[{\"cells\":{\"fill\":{\"color\":\"#EBF0F8\"},\"line\":{\"color\":\"white\"}},\"header\":{\"fill\":{\"color\":\"#C8D4E3\"},\"line\":{\"color\":\"white\"}},\"type\":\"table\"}],\"barpolar\":[{\"marker\":{\"line\":{\"color\":\"#E5ECF6\",\"width\":0.5},\"pattern\":{\"fillmode\":\"overlay\",\"size\":10,\"solidity\":0.2}},\"type\":\"barpolar\"}],\"pie\":[{\"automargin\":true,\"type\":\"pie\"}]},\"layout\":{\"autotypenumbers\":\"strict\",\"colorway\":[\"#636efa\",\"#EF553B\",\"#00cc96\",\"#ab63fa\",\"#FFA15A\",\"#19d3f3\",\"#FF6692\",\"#B6E880\",\"#FF97FF\",\"#FECB52\"],\"font\":{\"color\":\"#2a3f5f\"},\"hovermode\":\"closest\",\"hoverlabel\":{\"align\":\"left\"},\"paper_bgcolor\":\"white\",\"plot_bgcolor\":\"#E5ECF6\",\"polar\":{\"bgcolor\":\"#E5ECF6\",\"angularaxis\":{\"gridcolor\":\"white\",\"linecolor\":\"white\",\"ticks\":\"\"},\"radialaxis\":{\"gridcolor\":\"white\",\"linecolor\":\"white\",\"ticks\":\"\"}},\"ternary\":{\"bgcolor\":\"#E5ECF6\",\"aaxis\":{\"gridcolor\":\"white\",\"linecolor\":\"white\",\"ticks\":\"\"},\"baxis\":{\"gridcolor\":\"white\",\"linecolor\":\"white\",\"ticks\":\"\"},\"caxis\":{\"gridcolor\":\"white\",\"linecolor\":\"white\",\"ticks\":\"\"}},\"coloraxis\":{\"colorbar\":{\"outlinewidth\":0,\"ticks\":\"\"}},\"colorscale\":{\"sequential\":[[0.0,\"#0d0887\"],[0.1111111111111111,\"#46039f\"],[0.2222222222222222,\"#7201a8\"],[0.3333333333333333,\"#9c179e\"],[0.4444444444444444,\"#bd3786\"],[0.5555555555555556,\"#d8576b\"],[0.6666666666666666,\"#ed7953\"],[0.7777777777777778,\"#fb9f3a\"],[0.8888888888888888,\"#fdca26\"],[1.0,\"#f0f921\"]],\"sequentialminus\":[[0.0,\"#0d0887\"],[0.1111111111111111,\"#46039f\"],[0.2222222222222222,\"#7201a8\"],[0.3333333333333333,\"#9c179e\"],[0.4444444444444444,\"#bd3786\"],[0.5555555555555556,\"#d8576b\"],[0.6666666666666666,\"#ed7953\"],[0.7777777777777778,\"#fb9f3a\"],[0.8888888888888888,\"#fdca26\"],[1.0,\"#f0f921\"]],\"diverging\":[[0,\"#8e0152\"],[0.1,\"#c51b7d\"],[0.2,\"#de77ae\"],[0.3,\"#f1b6da\"],[0.4,\"#fde0ef\"],[0.5,\"#f7f7f7\"],[0.6,\"#e6f5d0\"],[0.7,\"#b8e186\"],[0.8,\"#7fbc41\"],[0.9,\"#4d9221\"],[1,\"#276419\"]]},\"xaxis\":{\"gridcolor\":\"white\",\"linecolor\":\"white\",\"ticks\":\"\",\"title\":{\"standoff\":15},\"zerolinecolor\":\"white\",\"automargin\":true,\"zerolinewidth\":2},\"yaxis\":{\"gridcolor\":\"white\",\"linecolor\":\"white\",\"ticks\":\"\",\"title\":{\"standoff\":15},\"zerolinecolor\":\"white\",\"automargin\":true,\"zerolinewidth\":2},\"scene\":{\"xaxis\":{\"backgroundcolor\":\"#E5ECF6\",\"gridcolor\":\"white\",\"linecolor\":\"white\",\"showbackground\":true,\"ticks\":\"\",\"zerolinecolor\":\"white\",\"gridwidth\":2},\"yaxis\":{\"backgroundcolor\":\"#E5ECF6\",\"gridcolor\":\"white\",\"linecolor\":\"white\",\"showbackground\":true,\"ticks\":\"\",\"zerolinecolor\":\"white\",\"gridwidth\":2},\"zaxis\":{\"backgroundcolor\":\"#E5ECF6\",\"gridcolor\":\"white\",\"linecolor\":\"white\",\"showbackground\":true,\"ticks\":\"\",\"zerolinecolor\":\"white\",\"gridwidth\":2}},\"shapedefaults\":{\"line\":{\"color\":\"#2a3f5f\"}},\"annotationdefaults\":{\"arrowcolor\":\"#2a3f5f\",\"arrowhead\":0,\"arrowwidth\":1},\"geo\":{\"bgcolor\":\"white\",\"landcolor\":\"#E5ECF6\",\"subunitcolor\":\"white\",\"showland\":true,\"showlakes\":true,\"lakecolor\":\"white\"},\"title\":{\"x\":0.05},\"mapbox\":{\"style\":\"light\"}}},\"xaxis\":{\"anchor\":\"y\",\"domain\":[0.0,1.0]},\"yaxis\":{\"anchor\":\"x\",\"domain\":[0.0,1.0],\"title\":{\"text\":\"IMDB_Rating\"}},\"legend\":{\"tracegroupgap\":0},\"margin\":{\"t\":60},\"violinmode\":\"group\"},                        {\"responsive\": true}                    ).then(function(){\n",
       "                            \n",
       "var gd = document.getElementById('0bfe6ddb-d9c4-4cb1-94b3-0e8471d43e04');\n",
       "var x = new MutationObserver(function (mutations, observer) {{\n",
       "        var display = window.getComputedStyle(gd).display;\n",
       "        if (!display || display === 'none') {{\n",
       "            console.log([gd, 'removed!']);\n",
       "            Plotly.purge(gd);\n",
       "            observer.disconnect();\n",
       "        }}\n",
       "}});\n",
       "\n",
       "// Listen for the removal of the full notebook cells\n",
       "var notebookContainer = gd.closest('#notebook-container');\n",
       "if (notebookContainer) {{\n",
       "    x.observe(notebookContainer, {childList: true});\n",
       "}}\n",
       "\n",
       "// Listen for the clearing of the current output cell\n",
       "var outputEl = gd.closest('.output');\n",
       "if (outputEl) {{\n",
       "    x.observe(outputEl, {childList: true});\n",
       "}}\n",
       "\n",
       "                        })                };                });            </script>        </div>"
      ]
     },
     "metadata": {},
     "output_type": "display_data"
    }
   ],
   "source": [
    "px.violin(data, y=\"IMDB_Rating\", box=True, points='all')"
   ]
  },
  {
   "cell_type": "code",
   "execution_count": 27,
   "metadata": {},
   "outputs": [
    {
     "data": {
      "application/vnd.plotly.v1+json": {
       "config": {
        "plotlyServerURL": "https://plot.ly"
       },
       "data": [
        {
         "alignmentgroup": "True",
         "box": {
          "visible": true
         },
         "hovertemplate": "Meta_score=%{y}<extra></extra>",
         "legendgroup": "",
         "marker": {
          "color": "#636efa"
         },
         "name": "",
         "offsetgroup": "",
         "orientation": "v",
         "points": "all",
         "scalegroup": "True",
         "showlegend": false,
         "type": "violin",
         "x0": " ",
         "xaxis": "x",
         "y": [
          80,
          100,
          84,
          90,
          96,
          94,
          94,
          94,
          74,
          66,
          92,
          82,
          90,
          87,
          73,
          90,
          82,
          83,
          90,
          96,
          null,
          74,
          79,
          96,
          91,
          61,
          59,
          65,
          85,
          90,
          85,
          98,
          89,
          59,
          88,
          57,
          66,
          85,
          85,
          67,
          62,
          77,
          64,
          88,
          75,
          80,
          94,
          87,
          80,
          97,
          100,
          96,
          99,
          75,
          null,
          null,
          79,
          null,
          87,
          78,
          68,
          81,
          81,
          78,
          67,
          null,
          95,
          89,
          77,
          80,
          76,
          null,
          85,
          66,
          94,
          89,
          null,
          null,
          97,
          null,
          90,
          100,
          null,
          null,
          78,
          null,
          null,
          null,
          77,
          95,
          80,
          null,
          null,
          69,
          89,
          69,
          55,
          68,
          84,
          70,
          77,
          95,
          68,
          79,
          76,
          null,
          84,
          88,
          65,
          58,
          86,
          94,
          83,
          77,
          84,
          74,
          100,
          94,
          98,
          100,
          99,
          null,
          null,
          95,
          100,
          null,
          98,
          null,
          null,
          null,
          null,
          69,
          88,
          null,
          null,
          65,
          null,
          null,
          73,
          null,
          89,
          null,
          null,
          80,
          71,
          63,
          88,
          75,
          68,
          93,
          98,
          92,
          62,
          null,
          null,
          70,
          null,
          82,
          80,
          72,
          null,
          66,
          90,
          null,
          76,
          73,
          null,
          85,
          65,
          null,
          86,
          72,
          96,
          89,
          null,
          null,
          null,
          null,
          91,
          86,
          88,
          null,
          60,
          98,
          88,
          88,
          97,
          75,
          null,
          98,
          98,
          98,
          86,
          null,
          null,
          95,
          null,
          78,
          null,
          84,
          74,
          null,
          77,
          86,
          77,
          83,
          88,
          null,
          null,
          88,
          79,
          71,
          71,
          94,
          null,
          96,
          74,
          81,
          93,
          85,
          null,
          null,
          70,
          90,
          null,
          72,
          85,
          68,
          null,
          null,
          75,
          73,
          91,
          null,
          86,
          79,
          64,
          90,
          null,
          82,
          null,
          69,
          90,
          75,
          83,
          79,
          null,
          84,
          64,
          58,
          90,
          73,
          71,
          85,
          83,
          85,
          null,
          null,
          null,
          77,
          100,
          77,
          68,
          84,
          null,
          null,
          79,
          75,
          92,
          78,
          86,
          57,
          47,
          null,
          100,
          84,
          78,
          77,
          86,
          70,
          83,
          89,
          null,
          92,
          77,
          null,
          90,
          null,
          92,
          86,
          null,
          96,
          null,
          75,
          null,
          94,
          null,
          null,
          75,
          null,
          90,
          null,
          null,
          null,
          87,
          91,
          85,
          72,
          null,
          97,
          null,
          96,
          86,
          73,
          97,
          null,
          87,
          null,
          90,
          null,
          null,
          null,
          null,
          69,
          null,
          null,
          null,
          94,
          69,
          80,
          78,
          null,
          89,
          66,
          65,
          null,
          82,
          71,
          73,
          76,
          81,
          90,
          49,
          76,
          67,
          71,
          88,
          62,
          65,
          87,
          null,
          59,
          50,
          null,
          84,
          79,
          33,
          69,
          90,
          80,
          64,
          64,
          85,
          72,
          74,
          92,
          null,
          96,
          80,
          83,
          82,
          85,
          74,
          69,
          54,
          75,
          63,
          58,
          90,
          null,
          60,
          null,
          88,
          77,
          61,
          86,
          null,
          82,
          80,
          85,
          null,
          84,
          91,
          74,
          76,
          82,
          72,
          47,
          59,
          86,
          72,
          95,
          72,
          93,
          65,
          null,
          77,
          79,
          88,
          78,
          84,
          79,
          84,
          83,
          92,
          87,
          86,
          80,
          58,
          81,
          null,
          93,
          67,
          100,
          66,
          96,
          79,
          83,
          75,
          63,
          69,
          65,
          91,
          null,
          90,
          95,
          93,
          95,
          99,
          84,
          100,
          91,
          99,
          null,
          null,
          84,
          78,
          97,
          null,
          null,
          73,
          null,
          92,
          null,
          93,
          null,
          96,
          96,
          92,
          null,
          86,
          91,
          97,
          82,
          null,
          93,
          94,
          93,
          78,
          82,
          81,
          72,
          79,
          74,
          76,
          58,
          81,
          80,
          94,
          75,
          82,
          89,
          71,
          94,
          94,
          90,
          67,
          82,
          81,
          80,
          null,
          100,
          97,
          82,
          67,
          null,
          89,
          64,
          79,
          83,
          81,
          56,
          79,
          76,
          78,
          84,
          82,
          85,
          86,
          84,
          61,
          68,
          80,
          84,
          90,
          85,
          88,
          85,
          75,
          77,
          59,
          85,
          null,
          65,
          74,
          97,
          77,
          79,
          90,
          84,
          92,
          77,
          60,
          83,
          72,
          71,
          84,
          76,
          null,
          93,
          null,
          62,
          91,
          97,
          89,
          null,
          75,
          83,
          94,
          87,
          null,
          null,
          null,
          94,
          72,
          89,
          88,
          null,
          88,
          100,
          null,
          null,
          96,
          null,
          97,
          null,
          90,
          80,
          null,
          51,
          null,
          81,
          85,
          94,
          null,
          74,
          88,
          null,
          84,
          null,
          96,
          75,
          65,
          75,
          68,
          91,
          62,
          79,
          85,
          86,
          76,
          null,
          74,
          55,
          null,
          83,
          84,
          49,
          84,
          76,
          81,
          null,
          67,
          71,
          82,
          null,
          72,
          79,
          64,
          66,
          82,
          76,
          77,
          81,
          79,
          51,
          55,
          88,
          58,
          85,
          85,
          78,
          76,
          83,
          63,
          68,
          80,
          81,
          70,
          67,
          51,
          82,
          68,
          73,
          74,
          72,
          61,
          53,
          75,
          82,
          91,
          58,
          61,
          83,
          48,
          94,
          87,
          73,
          44,
          84,
          71,
          84,
          75,
          null,
          64,
          61,
          76,
          70,
          73,
          50,
          55,
          84,
          84,
          87,
          80,
          null,
          null,
          68,
          86,
          76,
          75,
          74,
          83,
          78,
          82,
          57,
          65,
          45,
          72,
          61,
          75,
          62,
          78,
          66,
          76,
          71,
          91,
          73,
          91,
          77,
          93,
          69,
          91,
          85,
          73,
          80,
          93,
          80,
          67,
          79,
          81,
          63,
          86,
          95,
          88,
          75,
          97,
          88,
          null,
          null,
          null,
          null,
          94,
          93,
          98,
          91,
          95,
          93,
          87,
          91,
          96,
          85,
          66,
          73,
          85,
          86,
          70,
          76,
          72,
          72,
          60,
          69,
          74,
          87,
          89,
          40,
          70,
          70,
          null,
          87,
          72,
          70,
          52,
          81,
          83,
          96,
          72,
          79,
          95,
          65,
          73,
          81,
          81,
          86,
          76,
          65,
          86,
          80,
          81,
          63,
          45,
          null,
          null,
          86,
          78,
          78,
          74,
          78,
          53,
          70,
          78,
          71,
          71,
          87,
          76,
          66,
          78,
          73,
          61,
          73,
          89,
          81,
          47,
          80,
          55,
          83,
          68,
          76,
          28,
          83,
          74,
          72,
          60,
          74,
          85,
          74,
          62,
          69,
          null,
          73,
          68,
          81,
          69,
          86,
          null,
          90,
          67,
          52,
          73,
          76,
          87,
          47,
          null,
          83,
          71,
          81,
          70,
          79,
          66,
          64,
          73,
          76,
          83,
          82,
          62,
          64,
          69,
          66,
          83,
          null,
          84,
          76,
          62,
          54,
          76,
          75,
          90,
          null,
          77,
          67,
          61,
          86,
          78,
          71,
          87,
          71,
          89,
          68,
          73,
          87,
          83,
          80,
          94,
          90,
          63,
          86,
          73,
          null,
          72,
          91,
          77,
          87,
          90,
          76,
          null,
          74,
          90,
          92,
          89,
          91,
          72,
          null,
          null,
          91,
          null,
          96,
          87,
          73,
          71,
          83,
          86,
          92,
          68,
          60,
          70,
          77,
          83,
          67,
          86,
          72,
          81,
          80,
          81,
          82,
          82,
          92,
          88,
          77,
          79,
          null,
          73,
          68,
          80,
          88,
          80,
          65,
          72,
          72,
          66,
          null,
          87,
          70,
          73,
          null,
          57,
          53,
          79,
          36,
          82,
          66,
          81,
          76,
          72,
          66,
          70,
          68,
          52,
          78,
          52,
          72,
          56,
          62,
          46,
          67,
          73,
          45,
          76,
          81,
          70,
          56,
          67,
          68,
          30,
          73,
          81,
          76,
          88,
          64,
          74,
          52,
          53,
          80,
          74,
          64,
          77,
          78,
          71,
          41,
          69,
          66,
          49,
          52,
          84,
          58,
          62,
          69,
          77,
          88,
          56,
          78,
          68,
          90,
          66,
          63,
          60,
          76,
          88,
          76,
          72,
          68,
          82,
          68,
          77,
          65,
          74,
          76,
          64,
          59,
          90,
          87,
          77,
          50,
          65,
          82,
          96,
          76,
          84,
          85,
          78,
          93
         ],
         "y0": " ",
         "yaxis": "y"
        }
       ],
       "layout": {
        "legend": {
         "tracegroupgap": 0
        },
        "margin": {
         "t": 60
        },
        "template": {
         "data": {
          "bar": [
           {
            "error_x": {
             "color": "#2a3f5f"
            },
            "error_y": {
             "color": "#2a3f5f"
            },
            "marker": {
             "line": {
              "color": "#E5ECF6",
              "width": 0.5
             },
             "pattern": {
              "fillmode": "overlay",
              "size": 10,
              "solidity": 0.2
             }
            },
            "type": "bar"
           }
          ],
          "barpolar": [
           {
            "marker": {
             "line": {
              "color": "#E5ECF6",
              "width": 0.5
             },
             "pattern": {
              "fillmode": "overlay",
              "size": 10,
              "solidity": 0.2
             }
            },
            "type": "barpolar"
           }
          ],
          "carpet": [
           {
            "aaxis": {
             "endlinecolor": "#2a3f5f",
             "gridcolor": "white",
             "linecolor": "white",
             "minorgridcolor": "white",
             "startlinecolor": "#2a3f5f"
            },
            "baxis": {
             "endlinecolor": "#2a3f5f",
             "gridcolor": "white",
             "linecolor": "white",
             "minorgridcolor": "white",
             "startlinecolor": "#2a3f5f"
            },
            "type": "carpet"
           }
          ],
          "choropleth": [
           {
            "colorbar": {
             "outlinewidth": 0,
             "ticks": ""
            },
            "type": "choropleth"
           }
          ],
          "contour": [
           {
            "colorbar": {
             "outlinewidth": 0,
             "ticks": ""
            },
            "colorscale": [
             [
              0,
              "#0d0887"
             ],
             [
              0.1111111111111111,
              "#46039f"
             ],
             [
              0.2222222222222222,
              "#7201a8"
             ],
             [
              0.3333333333333333,
              "#9c179e"
             ],
             [
              0.4444444444444444,
              "#bd3786"
             ],
             [
              0.5555555555555556,
              "#d8576b"
             ],
             [
              0.6666666666666666,
              "#ed7953"
             ],
             [
              0.7777777777777778,
              "#fb9f3a"
             ],
             [
              0.8888888888888888,
              "#fdca26"
             ],
             [
              1,
              "#f0f921"
             ]
            ],
            "type": "contour"
           }
          ],
          "contourcarpet": [
           {
            "colorbar": {
             "outlinewidth": 0,
             "ticks": ""
            },
            "type": "contourcarpet"
           }
          ],
          "heatmap": [
           {
            "colorbar": {
             "outlinewidth": 0,
             "ticks": ""
            },
            "colorscale": [
             [
              0,
              "#0d0887"
             ],
             [
              0.1111111111111111,
              "#46039f"
             ],
             [
              0.2222222222222222,
              "#7201a8"
             ],
             [
              0.3333333333333333,
              "#9c179e"
             ],
             [
              0.4444444444444444,
              "#bd3786"
             ],
             [
              0.5555555555555556,
              "#d8576b"
             ],
             [
              0.6666666666666666,
              "#ed7953"
             ],
             [
              0.7777777777777778,
              "#fb9f3a"
             ],
             [
              0.8888888888888888,
              "#fdca26"
             ],
             [
              1,
              "#f0f921"
             ]
            ],
            "type": "heatmap"
           }
          ],
          "heatmapgl": [
           {
            "colorbar": {
             "outlinewidth": 0,
             "ticks": ""
            },
            "colorscale": [
             [
              0,
              "#0d0887"
             ],
             [
              0.1111111111111111,
              "#46039f"
             ],
             [
              0.2222222222222222,
              "#7201a8"
             ],
             [
              0.3333333333333333,
              "#9c179e"
             ],
             [
              0.4444444444444444,
              "#bd3786"
             ],
             [
              0.5555555555555556,
              "#d8576b"
             ],
             [
              0.6666666666666666,
              "#ed7953"
             ],
             [
              0.7777777777777778,
              "#fb9f3a"
             ],
             [
              0.8888888888888888,
              "#fdca26"
             ],
             [
              1,
              "#f0f921"
             ]
            ],
            "type": "heatmapgl"
           }
          ],
          "histogram": [
           {
            "marker": {
             "pattern": {
              "fillmode": "overlay",
              "size": 10,
              "solidity": 0.2
             }
            },
            "type": "histogram"
           }
          ],
          "histogram2d": [
           {
            "colorbar": {
             "outlinewidth": 0,
             "ticks": ""
            },
            "colorscale": [
             [
              0,
              "#0d0887"
             ],
             [
              0.1111111111111111,
              "#46039f"
             ],
             [
              0.2222222222222222,
              "#7201a8"
             ],
             [
              0.3333333333333333,
              "#9c179e"
             ],
             [
              0.4444444444444444,
              "#bd3786"
             ],
             [
              0.5555555555555556,
              "#d8576b"
             ],
             [
              0.6666666666666666,
              "#ed7953"
             ],
             [
              0.7777777777777778,
              "#fb9f3a"
             ],
             [
              0.8888888888888888,
              "#fdca26"
             ],
             [
              1,
              "#f0f921"
             ]
            ],
            "type": "histogram2d"
           }
          ],
          "histogram2dcontour": [
           {
            "colorbar": {
             "outlinewidth": 0,
             "ticks": ""
            },
            "colorscale": [
             [
              0,
              "#0d0887"
             ],
             [
              0.1111111111111111,
              "#46039f"
             ],
             [
              0.2222222222222222,
              "#7201a8"
             ],
             [
              0.3333333333333333,
              "#9c179e"
             ],
             [
              0.4444444444444444,
              "#bd3786"
             ],
             [
              0.5555555555555556,
              "#d8576b"
             ],
             [
              0.6666666666666666,
              "#ed7953"
             ],
             [
              0.7777777777777778,
              "#fb9f3a"
             ],
             [
              0.8888888888888888,
              "#fdca26"
             ],
             [
              1,
              "#f0f921"
             ]
            ],
            "type": "histogram2dcontour"
           }
          ],
          "mesh3d": [
           {
            "colorbar": {
             "outlinewidth": 0,
             "ticks": ""
            },
            "type": "mesh3d"
           }
          ],
          "parcoords": [
           {
            "line": {
             "colorbar": {
              "outlinewidth": 0,
              "ticks": ""
             }
            },
            "type": "parcoords"
           }
          ],
          "pie": [
           {
            "automargin": true,
            "type": "pie"
           }
          ],
          "scatter": [
           {
            "fillpattern": {
             "fillmode": "overlay",
             "size": 10,
             "solidity": 0.2
            },
            "type": "scatter"
           }
          ],
          "scatter3d": [
           {
            "line": {
             "colorbar": {
              "outlinewidth": 0,
              "ticks": ""
             }
            },
            "marker": {
             "colorbar": {
              "outlinewidth": 0,
              "ticks": ""
             }
            },
            "type": "scatter3d"
           }
          ],
          "scattercarpet": [
           {
            "marker": {
             "colorbar": {
              "outlinewidth": 0,
              "ticks": ""
             }
            },
            "type": "scattercarpet"
           }
          ],
          "scattergeo": [
           {
            "marker": {
             "colorbar": {
              "outlinewidth": 0,
              "ticks": ""
             }
            },
            "type": "scattergeo"
           }
          ],
          "scattergl": [
           {
            "marker": {
             "colorbar": {
              "outlinewidth": 0,
              "ticks": ""
             }
            },
            "type": "scattergl"
           }
          ],
          "scattermapbox": [
           {
            "marker": {
             "colorbar": {
              "outlinewidth": 0,
              "ticks": ""
             }
            },
            "type": "scattermapbox"
           }
          ],
          "scatterpolar": [
           {
            "marker": {
             "colorbar": {
              "outlinewidth": 0,
              "ticks": ""
             }
            },
            "type": "scatterpolar"
           }
          ],
          "scatterpolargl": [
           {
            "marker": {
             "colorbar": {
              "outlinewidth": 0,
              "ticks": ""
             }
            },
            "type": "scatterpolargl"
           }
          ],
          "scatterternary": [
           {
            "marker": {
             "colorbar": {
              "outlinewidth": 0,
              "ticks": ""
             }
            },
            "type": "scatterternary"
           }
          ],
          "surface": [
           {
            "colorbar": {
             "outlinewidth": 0,
             "ticks": ""
            },
            "colorscale": [
             [
              0,
              "#0d0887"
             ],
             [
              0.1111111111111111,
              "#46039f"
             ],
             [
              0.2222222222222222,
              "#7201a8"
             ],
             [
              0.3333333333333333,
              "#9c179e"
             ],
             [
              0.4444444444444444,
              "#bd3786"
             ],
             [
              0.5555555555555556,
              "#d8576b"
             ],
             [
              0.6666666666666666,
              "#ed7953"
             ],
             [
              0.7777777777777778,
              "#fb9f3a"
             ],
             [
              0.8888888888888888,
              "#fdca26"
             ],
             [
              1,
              "#f0f921"
             ]
            ],
            "type": "surface"
           }
          ],
          "table": [
           {
            "cells": {
             "fill": {
              "color": "#EBF0F8"
             },
             "line": {
              "color": "white"
             }
            },
            "header": {
             "fill": {
              "color": "#C8D4E3"
             },
             "line": {
              "color": "white"
             }
            },
            "type": "table"
           }
          ]
         },
         "layout": {
          "annotationdefaults": {
           "arrowcolor": "#2a3f5f",
           "arrowhead": 0,
           "arrowwidth": 1
          },
          "autotypenumbers": "strict",
          "coloraxis": {
           "colorbar": {
            "outlinewidth": 0,
            "ticks": ""
           }
          },
          "colorscale": {
           "diverging": [
            [
             0,
             "#8e0152"
            ],
            [
             0.1,
             "#c51b7d"
            ],
            [
             0.2,
             "#de77ae"
            ],
            [
             0.3,
             "#f1b6da"
            ],
            [
             0.4,
             "#fde0ef"
            ],
            [
             0.5,
             "#f7f7f7"
            ],
            [
             0.6,
             "#e6f5d0"
            ],
            [
             0.7,
             "#b8e186"
            ],
            [
             0.8,
             "#7fbc41"
            ],
            [
             0.9,
             "#4d9221"
            ],
            [
             1,
             "#276419"
            ]
           ],
           "sequential": [
            [
             0,
             "#0d0887"
            ],
            [
             0.1111111111111111,
             "#46039f"
            ],
            [
             0.2222222222222222,
             "#7201a8"
            ],
            [
             0.3333333333333333,
             "#9c179e"
            ],
            [
             0.4444444444444444,
             "#bd3786"
            ],
            [
             0.5555555555555556,
             "#d8576b"
            ],
            [
             0.6666666666666666,
             "#ed7953"
            ],
            [
             0.7777777777777778,
             "#fb9f3a"
            ],
            [
             0.8888888888888888,
             "#fdca26"
            ],
            [
             1,
             "#f0f921"
            ]
           ],
           "sequentialminus": [
            [
             0,
             "#0d0887"
            ],
            [
             0.1111111111111111,
             "#46039f"
            ],
            [
             0.2222222222222222,
             "#7201a8"
            ],
            [
             0.3333333333333333,
             "#9c179e"
            ],
            [
             0.4444444444444444,
             "#bd3786"
            ],
            [
             0.5555555555555556,
             "#d8576b"
            ],
            [
             0.6666666666666666,
             "#ed7953"
            ],
            [
             0.7777777777777778,
             "#fb9f3a"
            ],
            [
             0.8888888888888888,
             "#fdca26"
            ],
            [
             1,
             "#f0f921"
            ]
           ]
          },
          "colorway": [
           "#636efa",
           "#EF553B",
           "#00cc96",
           "#ab63fa",
           "#FFA15A",
           "#19d3f3",
           "#FF6692",
           "#B6E880",
           "#FF97FF",
           "#FECB52"
          ],
          "font": {
           "color": "#2a3f5f"
          },
          "geo": {
           "bgcolor": "white",
           "lakecolor": "white",
           "landcolor": "#E5ECF6",
           "showlakes": true,
           "showland": true,
           "subunitcolor": "white"
          },
          "hoverlabel": {
           "align": "left"
          },
          "hovermode": "closest",
          "mapbox": {
           "style": "light"
          },
          "paper_bgcolor": "white",
          "plot_bgcolor": "#E5ECF6",
          "polar": {
           "angularaxis": {
            "gridcolor": "white",
            "linecolor": "white",
            "ticks": ""
           },
           "bgcolor": "#E5ECF6",
           "radialaxis": {
            "gridcolor": "white",
            "linecolor": "white",
            "ticks": ""
           }
          },
          "scene": {
           "xaxis": {
            "backgroundcolor": "#E5ECF6",
            "gridcolor": "white",
            "gridwidth": 2,
            "linecolor": "white",
            "showbackground": true,
            "ticks": "",
            "zerolinecolor": "white"
           },
           "yaxis": {
            "backgroundcolor": "#E5ECF6",
            "gridcolor": "white",
            "gridwidth": 2,
            "linecolor": "white",
            "showbackground": true,
            "ticks": "",
            "zerolinecolor": "white"
           },
           "zaxis": {
            "backgroundcolor": "#E5ECF6",
            "gridcolor": "white",
            "gridwidth": 2,
            "linecolor": "white",
            "showbackground": true,
            "ticks": "",
            "zerolinecolor": "white"
           }
          },
          "shapedefaults": {
           "line": {
            "color": "#2a3f5f"
           }
          },
          "ternary": {
           "aaxis": {
            "gridcolor": "white",
            "linecolor": "white",
            "ticks": ""
           },
           "baxis": {
            "gridcolor": "white",
            "linecolor": "white",
            "ticks": ""
           },
           "bgcolor": "#E5ECF6",
           "caxis": {
            "gridcolor": "white",
            "linecolor": "white",
            "ticks": ""
           }
          },
          "title": {
           "x": 0.05
          },
          "xaxis": {
           "automargin": true,
           "gridcolor": "white",
           "linecolor": "white",
           "ticks": "",
           "title": {
            "standoff": 15
           },
           "zerolinecolor": "white",
           "zerolinewidth": 2
          },
          "yaxis": {
           "automargin": true,
           "gridcolor": "white",
           "linecolor": "white",
           "ticks": "",
           "title": {
            "standoff": 15
           },
           "zerolinecolor": "white",
           "zerolinewidth": 2
          }
         }
        },
        "violinmode": "group",
        "xaxis": {
         "anchor": "y",
         "domain": [
          0,
          1
         ]
        },
        "yaxis": {
         "anchor": "x",
         "domain": [
          0,
          1
         ],
         "title": {
          "text": "Meta_score"
         }
        }
       }
      },
      "text/html": [
       "<div>                            <div id=\"869bce97-920c-4940-bd93-deb2a251ccf4\" class=\"plotly-graph-div\" style=\"height:525px; width:100%;\"></div>            <script type=\"text/javascript\">                require([\"plotly\"], function(Plotly) {                    window.PLOTLYENV=window.PLOTLYENV || {};                                    if (document.getElementById(\"869bce97-920c-4940-bd93-deb2a251ccf4\")) {                    Plotly.newPlot(                        \"869bce97-920c-4940-bd93-deb2a251ccf4\",                        [{\"alignmentgroup\":\"True\",\"box\":{\"visible\":true},\"hovertemplate\":\"Meta_score=%{y}<extra></extra>\",\"legendgroup\":\"\",\"marker\":{\"color\":\"#636efa\"},\"name\":\"\",\"offsetgroup\":\"\",\"orientation\":\"v\",\"points\":\"all\",\"scalegroup\":\"True\",\"showlegend\":false,\"x0\":\" \",\"xaxis\":\"x\",\"y\":[80.0,100.0,84.0,90.0,96.0,94.0,94.0,94.0,74.0,66.0,92.0,82.0,90.0,87.0,73.0,90.0,82.0,83.0,90.0,96.0,null,74.0,79.0,96.0,91.0,61.0,59.0,65.0,85.0,90.0,85.0,98.0,89.0,59.0,88.0,57.0,66.0,85.0,85.0,67.0,62.0,77.0,64.0,88.0,75.0,80.0,94.0,87.0,80.0,97.0,100.0,96.0,99.0,75.0,null,null,79.0,null,87.0,78.0,68.0,81.0,81.0,78.0,67.0,null,95.0,89.0,77.0,80.0,76.0,null,85.0,66.0,94.0,89.0,null,null,97.0,null,90.0,100.0,null,null,78.0,null,null,null,77.0,95.0,80.0,null,null,69.0,89.0,69.0,55.0,68.0,84.0,70.0,77.0,95.0,68.0,79.0,76.0,null,84.0,88.0,65.0,58.0,86.0,94.0,83.0,77.0,84.0,74.0,100.0,94.0,98.0,100.0,99.0,null,null,95.0,100.0,null,98.0,null,null,null,null,69.0,88.0,null,null,65.0,null,null,73.0,null,89.0,null,null,80.0,71.0,63.0,88.0,75.0,68.0,93.0,98.0,92.0,62.0,null,null,70.0,null,82.0,80.0,72.0,null,66.0,90.0,null,76.0,73.0,null,85.0,65.0,null,86.0,72.0,96.0,89.0,null,null,null,null,91.0,86.0,88.0,null,60.0,98.0,88.0,88.0,97.0,75.0,null,98.0,98.0,98.0,86.0,null,null,95.0,null,78.0,null,84.0,74.0,null,77.0,86.0,77.0,83.0,88.0,null,null,88.0,79.0,71.0,71.0,94.0,null,96.0,74.0,81.0,93.0,85.0,null,null,70.0,90.0,null,72.0,85.0,68.0,null,null,75.0,73.0,91.0,null,86.0,79.0,64.0,90.0,null,82.0,null,69.0,90.0,75.0,83.0,79.0,null,84.0,64.0,58.0,90.0,73.0,71.0,85.0,83.0,85.0,null,null,null,77.0,100.0,77.0,68.0,84.0,null,null,79.0,75.0,92.0,78.0,86.0,57.0,47.0,null,100.0,84.0,78.0,77.0,86.0,70.0,83.0,89.0,null,92.0,77.0,null,90.0,null,92.0,86.0,null,96.0,null,75.0,null,94.0,null,null,75.0,null,90.0,null,null,null,87.0,91.0,85.0,72.0,null,97.0,null,96.0,86.0,73.0,97.0,null,87.0,null,90.0,null,null,null,null,69.0,null,null,null,94.0,69.0,80.0,78.0,null,89.0,66.0,65.0,null,82.0,71.0,73.0,76.0,81.0,90.0,49.0,76.0,67.0,71.0,88.0,62.0,65.0,87.0,null,59.0,50.0,null,84.0,79.0,33.0,69.0,90.0,80.0,64.0,64.0,85.0,72.0,74.0,92.0,null,96.0,80.0,83.0,82.0,85.0,74.0,69.0,54.0,75.0,63.0,58.0,90.0,null,60.0,null,88.0,77.0,61.0,86.0,null,82.0,80.0,85.0,null,84.0,91.0,74.0,76.0,82.0,72.0,47.0,59.0,86.0,72.0,95.0,72.0,93.0,65.0,null,77.0,79.0,88.0,78.0,84.0,79.0,84.0,83.0,92.0,87.0,86.0,80.0,58.0,81.0,null,93.0,67.0,100.0,66.0,96.0,79.0,83.0,75.0,63.0,69.0,65.0,91.0,null,90.0,95.0,93.0,95.0,99.0,84.0,100.0,91.0,99.0,null,null,84.0,78.0,97.0,null,null,73.0,null,92.0,null,93.0,null,96.0,96.0,92.0,null,86.0,91.0,97.0,82.0,null,93.0,94.0,93.0,78.0,82.0,81.0,72.0,79.0,74.0,76.0,58.0,81.0,80.0,94.0,75.0,82.0,89.0,71.0,94.0,94.0,90.0,67.0,82.0,81.0,80.0,null,100.0,97.0,82.0,67.0,null,89.0,64.0,79.0,83.0,81.0,56.0,79.0,76.0,78.0,84.0,82.0,85.0,86.0,84.0,61.0,68.0,80.0,84.0,90.0,85.0,88.0,85.0,75.0,77.0,59.0,85.0,null,65.0,74.0,97.0,77.0,79.0,90.0,84.0,92.0,77.0,60.0,83.0,72.0,71.0,84.0,76.0,null,93.0,null,62.0,91.0,97.0,89.0,null,75.0,83.0,94.0,87.0,null,null,null,94.0,72.0,89.0,88.0,null,88.0,100.0,null,null,96.0,null,97.0,null,90.0,80.0,null,51.0,null,81.0,85.0,94.0,null,74.0,88.0,null,84.0,null,96.0,75.0,65.0,75.0,68.0,91.0,62.0,79.0,85.0,86.0,76.0,null,74.0,55.0,null,83.0,84.0,49.0,84.0,76.0,81.0,null,67.0,71.0,82.0,null,72.0,79.0,64.0,66.0,82.0,76.0,77.0,81.0,79.0,51.0,55.0,88.0,58.0,85.0,85.0,78.0,76.0,83.0,63.0,68.0,80.0,81.0,70.0,67.0,51.0,82.0,68.0,73.0,74.0,72.0,61.0,53.0,75.0,82.0,91.0,58.0,61.0,83.0,48.0,94.0,87.0,73.0,44.0,84.0,71.0,84.0,75.0,null,64.0,61.0,76.0,70.0,73.0,50.0,55.0,84.0,84.0,87.0,80.0,null,null,68.0,86.0,76.0,75.0,74.0,83.0,78.0,82.0,57.0,65.0,45.0,72.0,61.0,75.0,62.0,78.0,66.0,76.0,71.0,91.0,73.0,91.0,77.0,93.0,69.0,91.0,85.0,73.0,80.0,93.0,80.0,67.0,79.0,81.0,63.0,86.0,95.0,88.0,75.0,97.0,88.0,null,null,null,null,94.0,93.0,98.0,91.0,95.0,93.0,87.0,91.0,96.0,85.0,66.0,73.0,85.0,86.0,70.0,76.0,72.0,72.0,60.0,69.0,74.0,87.0,89.0,40.0,70.0,70.0,null,87.0,72.0,70.0,52.0,81.0,83.0,96.0,72.0,79.0,95.0,65.0,73.0,81.0,81.0,86.0,76.0,65.0,86.0,80.0,81.0,63.0,45.0,null,null,86.0,78.0,78.0,74.0,78.0,53.0,70.0,78.0,71.0,71.0,87.0,76.0,66.0,78.0,73.0,61.0,73.0,89.0,81.0,47.0,80.0,55.0,83.0,68.0,76.0,28.0,83.0,74.0,72.0,60.0,74.0,85.0,74.0,62.0,69.0,null,73.0,68.0,81.0,69.0,86.0,null,90.0,67.0,52.0,73.0,76.0,87.0,47.0,null,83.0,71.0,81.0,70.0,79.0,66.0,64.0,73.0,76.0,83.0,82.0,62.0,64.0,69.0,66.0,83.0,null,84.0,76.0,62.0,54.0,76.0,75.0,90.0,null,77.0,67.0,61.0,86.0,78.0,71.0,87.0,71.0,89.0,68.0,73.0,87.0,83.0,80.0,94.0,90.0,63.0,86.0,73.0,null,72.0,91.0,77.0,87.0,90.0,76.0,null,74.0,90.0,92.0,89.0,91.0,72.0,null,null,91.0,null,96.0,87.0,73.0,71.0,83.0,86.0,92.0,68.0,60.0,70.0,77.0,83.0,67.0,86.0,72.0,81.0,80.0,81.0,82.0,82.0,92.0,88.0,77.0,79.0,null,73.0,68.0,80.0,88.0,80.0,65.0,72.0,72.0,66.0,null,87.0,70.0,73.0,null,57.0,53.0,79.0,36.0,82.0,66.0,81.0,76.0,72.0,66.0,70.0,68.0,52.0,78.0,52.0,72.0,56.0,62.0,46.0,67.0,73.0,45.0,76.0,81.0,70.0,56.0,67.0,68.0,30.0,73.0,81.0,76.0,88.0,64.0,74.0,52.0,53.0,80.0,74.0,64.0,77.0,78.0,71.0,41.0,69.0,66.0,49.0,52.0,84.0,58.0,62.0,69.0,77.0,88.0,56.0,78.0,68.0,90.0,66.0,63.0,60.0,76.0,88.0,76.0,72.0,68.0,82.0,68.0,77.0,65.0,74.0,76.0,64.0,59.0,90.0,87.0,77.0,50.0,65.0,82.0,96.0,76.0,84.0,85.0,78.0,93.0],\"y0\":\" \",\"yaxis\":\"y\",\"type\":\"violin\"}],                        {\"template\":{\"data\":{\"histogram2dcontour\":[{\"type\":\"histogram2dcontour\",\"colorbar\":{\"outlinewidth\":0,\"ticks\":\"\"},\"colorscale\":[[0.0,\"#0d0887\"],[0.1111111111111111,\"#46039f\"],[0.2222222222222222,\"#7201a8\"],[0.3333333333333333,\"#9c179e\"],[0.4444444444444444,\"#bd3786\"],[0.5555555555555556,\"#d8576b\"],[0.6666666666666666,\"#ed7953\"],[0.7777777777777778,\"#fb9f3a\"],[0.8888888888888888,\"#fdca26\"],[1.0,\"#f0f921\"]]}],\"choropleth\":[{\"type\":\"choropleth\",\"colorbar\":{\"outlinewidth\":0,\"ticks\":\"\"}}],\"histogram2d\":[{\"type\":\"histogram2d\",\"colorbar\":{\"outlinewidth\":0,\"ticks\":\"\"},\"colorscale\":[[0.0,\"#0d0887\"],[0.1111111111111111,\"#46039f\"],[0.2222222222222222,\"#7201a8\"],[0.3333333333333333,\"#9c179e\"],[0.4444444444444444,\"#bd3786\"],[0.5555555555555556,\"#d8576b\"],[0.6666666666666666,\"#ed7953\"],[0.7777777777777778,\"#fb9f3a\"],[0.8888888888888888,\"#fdca26\"],[1.0,\"#f0f921\"]]}],\"heatmap\":[{\"type\":\"heatmap\",\"colorbar\":{\"outlinewidth\":0,\"ticks\":\"\"},\"colorscale\":[[0.0,\"#0d0887\"],[0.1111111111111111,\"#46039f\"],[0.2222222222222222,\"#7201a8\"],[0.3333333333333333,\"#9c179e\"],[0.4444444444444444,\"#bd3786\"],[0.5555555555555556,\"#d8576b\"],[0.6666666666666666,\"#ed7953\"],[0.7777777777777778,\"#fb9f3a\"],[0.8888888888888888,\"#fdca26\"],[1.0,\"#f0f921\"]]}],\"heatmapgl\":[{\"type\":\"heatmapgl\",\"colorbar\":{\"outlinewidth\":0,\"ticks\":\"\"},\"colorscale\":[[0.0,\"#0d0887\"],[0.1111111111111111,\"#46039f\"],[0.2222222222222222,\"#7201a8\"],[0.3333333333333333,\"#9c179e\"],[0.4444444444444444,\"#bd3786\"],[0.5555555555555556,\"#d8576b\"],[0.6666666666666666,\"#ed7953\"],[0.7777777777777778,\"#fb9f3a\"],[0.8888888888888888,\"#fdca26\"],[1.0,\"#f0f921\"]]}],\"contourcarpet\":[{\"type\":\"contourcarpet\",\"colorbar\":{\"outlinewidth\":0,\"ticks\":\"\"}}],\"contour\":[{\"type\":\"contour\",\"colorbar\":{\"outlinewidth\":0,\"ticks\":\"\"},\"colorscale\":[[0.0,\"#0d0887\"],[0.1111111111111111,\"#46039f\"],[0.2222222222222222,\"#7201a8\"],[0.3333333333333333,\"#9c179e\"],[0.4444444444444444,\"#bd3786\"],[0.5555555555555556,\"#d8576b\"],[0.6666666666666666,\"#ed7953\"],[0.7777777777777778,\"#fb9f3a\"],[0.8888888888888888,\"#fdca26\"],[1.0,\"#f0f921\"]]}],\"surface\":[{\"type\":\"surface\",\"colorbar\":{\"outlinewidth\":0,\"ticks\":\"\"},\"colorscale\":[[0.0,\"#0d0887\"],[0.1111111111111111,\"#46039f\"],[0.2222222222222222,\"#7201a8\"],[0.3333333333333333,\"#9c179e\"],[0.4444444444444444,\"#bd3786\"],[0.5555555555555556,\"#d8576b\"],[0.6666666666666666,\"#ed7953\"],[0.7777777777777778,\"#fb9f3a\"],[0.8888888888888888,\"#fdca26\"],[1.0,\"#f0f921\"]]}],\"mesh3d\":[{\"type\":\"mesh3d\",\"colorbar\":{\"outlinewidth\":0,\"ticks\":\"\"}}],\"scatter\":[{\"fillpattern\":{\"fillmode\":\"overlay\",\"size\":10,\"solidity\":0.2},\"type\":\"scatter\"}],\"parcoords\":[{\"type\":\"parcoords\",\"line\":{\"colorbar\":{\"outlinewidth\":0,\"ticks\":\"\"}}}],\"scatterpolargl\":[{\"type\":\"scatterpolargl\",\"marker\":{\"colorbar\":{\"outlinewidth\":0,\"ticks\":\"\"}}}],\"bar\":[{\"error_x\":{\"color\":\"#2a3f5f\"},\"error_y\":{\"color\":\"#2a3f5f\"},\"marker\":{\"line\":{\"color\":\"#E5ECF6\",\"width\":0.5},\"pattern\":{\"fillmode\":\"overlay\",\"size\":10,\"solidity\":0.2}},\"type\":\"bar\"}],\"scattergeo\":[{\"type\":\"scattergeo\",\"marker\":{\"colorbar\":{\"outlinewidth\":0,\"ticks\":\"\"}}}],\"scatterpolar\":[{\"type\":\"scatterpolar\",\"marker\":{\"colorbar\":{\"outlinewidth\":0,\"ticks\":\"\"}}}],\"histogram\":[{\"marker\":{\"pattern\":{\"fillmode\":\"overlay\",\"size\":10,\"solidity\":0.2}},\"type\":\"histogram\"}],\"scattergl\":[{\"type\":\"scattergl\",\"marker\":{\"colorbar\":{\"outlinewidth\":0,\"ticks\":\"\"}}}],\"scatter3d\":[{\"type\":\"scatter3d\",\"line\":{\"colorbar\":{\"outlinewidth\":0,\"ticks\":\"\"}},\"marker\":{\"colorbar\":{\"outlinewidth\":0,\"ticks\":\"\"}}}],\"scattermapbox\":[{\"type\":\"scattermapbox\",\"marker\":{\"colorbar\":{\"outlinewidth\":0,\"ticks\":\"\"}}}],\"scatterternary\":[{\"type\":\"scatterternary\",\"marker\":{\"colorbar\":{\"outlinewidth\":0,\"ticks\":\"\"}}}],\"scattercarpet\":[{\"type\":\"scattercarpet\",\"marker\":{\"colorbar\":{\"outlinewidth\":0,\"ticks\":\"\"}}}],\"carpet\":[{\"aaxis\":{\"endlinecolor\":\"#2a3f5f\",\"gridcolor\":\"white\",\"linecolor\":\"white\",\"minorgridcolor\":\"white\",\"startlinecolor\":\"#2a3f5f\"},\"baxis\":{\"endlinecolor\":\"#2a3f5f\",\"gridcolor\":\"white\",\"linecolor\":\"white\",\"minorgridcolor\":\"white\",\"startlinecolor\":\"#2a3f5f\"},\"type\":\"carpet\"}],\"table\":[{\"cells\":{\"fill\":{\"color\":\"#EBF0F8\"},\"line\":{\"color\":\"white\"}},\"header\":{\"fill\":{\"color\":\"#C8D4E3\"},\"line\":{\"color\":\"white\"}},\"type\":\"table\"}],\"barpolar\":[{\"marker\":{\"line\":{\"color\":\"#E5ECF6\",\"width\":0.5},\"pattern\":{\"fillmode\":\"overlay\",\"size\":10,\"solidity\":0.2}},\"type\":\"barpolar\"}],\"pie\":[{\"automargin\":true,\"type\":\"pie\"}]},\"layout\":{\"autotypenumbers\":\"strict\",\"colorway\":[\"#636efa\",\"#EF553B\",\"#00cc96\",\"#ab63fa\",\"#FFA15A\",\"#19d3f3\",\"#FF6692\",\"#B6E880\",\"#FF97FF\",\"#FECB52\"],\"font\":{\"color\":\"#2a3f5f\"},\"hovermode\":\"closest\",\"hoverlabel\":{\"align\":\"left\"},\"paper_bgcolor\":\"white\",\"plot_bgcolor\":\"#E5ECF6\",\"polar\":{\"bgcolor\":\"#E5ECF6\",\"angularaxis\":{\"gridcolor\":\"white\",\"linecolor\":\"white\",\"ticks\":\"\"},\"radialaxis\":{\"gridcolor\":\"white\",\"linecolor\":\"white\",\"ticks\":\"\"}},\"ternary\":{\"bgcolor\":\"#E5ECF6\",\"aaxis\":{\"gridcolor\":\"white\",\"linecolor\":\"white\",\"ticks\":\"\"},\"baxis\":{\"gridcolor\":\"white\",\"linecolor\":\"white\",\"ticks\":\"\"},\"caxis\":{\"gridcolor\":\"white\",\"linecolor\":\"white\",\"ticks\":\"\"}},\"coloraxis\":{\"colorbar\":{\"outlinewidth\":0,\"ticks\":\"\"}},\"colorscale\":{\"sequential\":[[0.0,\"#0d0887\"],[0.1111111111111111,\"#46039f\"],[0.2222222222222222,\"#7201a8\"],[0.3333333333333333,\"#9c179e\"],[0.4444444444444444,\"#bd3786\"],[0.5555555555555556,\"#d8576b\"],[0.6666666666666666,\"#ed7953\"],[0.7777777777777778,\"#fb9f3a\"],[0.8888888888888888,\"#fdca26\"],[1.0,\"#f0f921\"]],\"sequentialminus\":[[0.0,\"#0d0887\"],[0.1111111111111111,\"#46039f\"],[0.2222222222222222,\"#7201a8\"],[0.3333333333333333,\"#9c179e\"],[0.4444444444444444,\"#bd3786\"],[0.5555555555555556,\"#d8576b\"],[0.6666666666666666,\"#ed7953\"],[0.7777777777777778,\"#fb9f3a\"],[0.8888888888888888,\"#fdca26\"],[1.0,\"#f0f921\"]],\"diverging\":[[0,\"#8e0152\"],[0.1,\"#c51b7d\"],[0.2,\"#de77ae\"],[0.3,\"#f1b6da\"],[0.4,\"#fde0ef\"],[0.5,\"#f7f7f7\"],[0.6,\"#e6f5d0\"],[0.7,\"#b8e186\"],[0.8,\"#7fbc41\"],[0.9,\"#4d9221\"],[1,\"#276419\"]]},\"xaxis\":{\"gridcolor\":\"white\",\"linecolor\":\"white\",\"ticks\":\"\",\"title\":{\"standoff\":15},\"zerolinecolor\":\"white\",\"automargin\":true,\"zerolinewidth\":2},\"yaxis\":{\"gridcolor\":\"white\",\"linecolor\":\"white\",\"ticks\":\"\",\"title\":{\"standoff\":15},\"zerolinecolor\":\"white\",\"automargin\":true,\"zerolinewidth\":2},\"scene\":{\"xaxis\":{\"backgroundcolor\":\"#E5ECF6\",\"gridcolor\":\"white\",\"linecolor\":\"white\",\"showbackground\":true,\"ticks\":\"\",\"zerolinecolor\":\"white\",\"gridwidth\":2},\"yaxis\":{\"backgroundcolor\":\"#E5ECF6\",\"gridcolor\":\"white\",\"linecolor\":\"white\",\"showbackground\":true,\"ticks\":\"\",\"zerolinecolor\":\"white\",\"gridwidth\":2},\"zaxis\":{\"backgroundcolor\":\"#E5ECF6\",\"gridcolor\":\"white\",\"linecolor\":\"white\",\"showbackground\":true,\"ticks\":\"\",\"zerolinecolor\":\"white\",\"gridwidth\":2}},\"shapedefaults\":{\"line\":{\"color\":\"#2a3f5f\"}},\"annotationdefaults\":{\"arrowcolor\":\"#2a3f5f\",\"arrowhead\":0,\"arrowwidth\":1},\"geo\":{\"bgcolor\":\"white\",\"landcolor\":\"#E5ECF6\",\"subunitcolor\":\"white\",\"showland\":true,\"showlakes\":true,\"lakecolor\":\"white\"},\"title\":{\"x\":0.05},\"mapbox\":{\"style\":\"light\"}}},\"xaxis\":{\"anchor\":\"y\",\"domain\":[0.0,1.0]},\"yaxis\":{\"anchor\":\"x\",\"domain\":[0.0,1.0],\"title\":{\"text\":\"Meta_score\"}},\"legend\":{\"tracegroupgap\":0},\"margin\":{\"t\":60},\"violinmode\":\"group\"},                        {\"responsive\": true}                    ).then(function(){\n",
       "                            \n",
       "var gd = document.getElementById('869bce97-920c-4940-bd93-deb2a251ccf4');\n",
       "var x = new MutationObserver(function (mutations, observer) {{\n",
       "        var display = window.getComputedStyle(gd).display;\n",
       "        if (!display || display === 'none') {{\n",
       "            console.log([gd, 'removed!']);\n",
       "            Plotly.purge(gd);\n",
       "            observer.disconnect();\n",
       "        }}\n",
       "}});\n",
       "\n",
       "// Listen for the removal of the full notebook cells\n",
       "var notebookContainer = gd.closest('#notebook-container');\n",
       "if (notebookContainer) {{\n",
       "    x.observe(notebookContainer, {childList: true});\n",
       "}}\n",
       "\n",
       "// Listen for the clearing of the current output cell\n",
       "var outputEl = gd.closest('.output');\n",
       "if (outputEl) {{\n",
       "    x.observe(outputEl, {childList: true});\n",
       "}}\n",
       "\n",
       "                        })                };                });            </script>        </div>"
      ]
     },
     "metadata": {},
     "output_type": "display_data"
    }
   ],
   "source": [
    "px.violin(data, y=\"Meta_score\", box=True, points='all')"
   ]
  },
  {
   "cell_type": "code",
   "execution_count": 28,
   "metadata": {},
   "outputs": [
    {
     "data": {
      "application/vnd.plotly.v1+json": {
       "config": {
        "plotlyServerURL": "https://plot.ly"
       },
       "data": [
        {
         "customdata": [
          [
           "The Shawshank Redemption"
          ],
          [
           "The Godfather"
          ],
          [
           "The Dark Knight"
          ],
          [
           "The Godfather: Part II"
          ],
          [
           "12 Angry Men"
          ],
          [
           "The Lord of the Rings: The Return of the King"
          ],
          [
           "Pulp Fiction"
          ],
          [
           "Schindler's List"
          ],
          [
           "Inception"
          ],
          [
           "Fight Club"
          ],
          [
           "The Lord of the Rings: The Fellowship of the Ring"
          ],
          [
           "Forrest Gump"
          ],
          [
           "Il buono, il brutto, il cattivo"
          ],
          [
           "The Lord of the Rings: The Two Towers"
          ],
          [
           "The Matrix"
          ],
          [
           "Goodfellas"
          ],
          [
           "Star Wars: Episode V - The Empire Strikes Back"
          ],
          [
           "One Flew Over the Cuckoo's Nest"
          ],
          [
           "Hamilton"
          ],
          [
           "Gisaengchung"
          ],
          [
           "Soorarai Pottru"
          ],
          [
           "Interstellar"
          ],
          [
           "Cidade de Deus"
          ],
          [
           "Sen to Chihiro no kamikakushi"
          ],
          [
           "Saving Private Ryan"
          ],
          [
           "The Green Mile"
          ],
          [
           "La vita è bella"
          ],
          [
           "Se7en"
          ],
          [
           "The Silence of the Lambs"
          ],
          [
           "Star Wars"
          ],
          [
           "Seppuku"
          ],
          [
           "Shichinin no samurai"
          ],
          [
           "It's a Wonderful Life"
          ],
          [
           "Joker"
          ],
          [
           "Whiplash"
          ],
          [
           "The Intouchables"
          ],
          [
           "The Prestige"
          ],
          [
           "The Departed"
          ],
          [
           "The Pianist"
          ],
          [
           "Gladiator"
          ],
          [
           "American History X"
          ],
          [
           "The Usual Suspects"
          ],
          [
           "Léon"
          ],
          [
           "The Lion King"
          ],
          [
           "Terminator 2: Judgment Day"
          ],
          [
           "Nuovo Cinema Paradiso"
          ],
          [
           "Hotaru no haka"
          ],
          [
           "Back to the Future"
          ],
          [
           "Once Upon a Time in the West"
          ],
          [
           "Psycho"
          ],
          [
           "Casablanca"
          ],
          [
           "Modern Times"
          ],
          [
           "City Lights"
          ],
          [
           "Capharnaüm"
          ],
          [
           "Ayla: The Daughter of War"
          ],
          [
           "Vikram Vedha"
          ],
          [
           "Kimi no na wa."
          ],
          [
           "Dangal"
          ],
          [
           "Spider-Man: Into the Spider-Verse"
          ],
          [
           "Avengers: Endgame"
          ],
          [
           "Avengers: Infinity War"
          ],
          [
           "Coco"
          ],
          [
           "Django Unchained"
          ],
          [
           "The Dark Knight Rises"
          ],
          [
           "3 Idiots"
          ],
          [
           "Taare Zameen Par"
          ],
          [
           "WALL·E"
          ],
          [
           "The Lives of Others"
          ],
          [
           "Oldeuboi"
          ],
          [
           "Memento"
          ],
          [
           "Mononoke-hime"
          ],
          [
           "Once Upon a Time in America"
          ],
          [
           "Raiders of the Lost Ark"
          ],
          [
           "The Shining"
          ],
          [
           "Apocalypse Now"
          ],
          [
           "Alien"
          ],
          [
           "Anand"
          ],
          [
           "Tengoku to jigoku"
          ],
          [
           "Dr. Strangelove or: How I Learned to Stop Worrying and Love the Bomb"
          ],
          [
           "Witness for the Prosecution"
          ],
          [
           "Paths of Glory"
          ],
          [
           "Rear Window"
          ],
          [
           "Sunset Blvd."
          ],
          [
           "The Great Dictator"
          ],
          [
           "1917"
          ],
          [
           "Tumbbad"
          ],
          [
           "Andhadhun"
          ],
          [
           "Drishyam"
          ],
          [
           "Jagten"
          ],
          [
           "Jodaeiye Nader az Simin"
          ],
          [
           "Incendies"
          ],
          [
           "Miracle in cell NO.7"
          ],
          [
           "Babam ve Oglum"
          ],
          [
           "Inglourious Basterds"
          ],
          [
           "Eternal Sunshine of the Spotless Mind"
          ],
          [
           "Amélie"
          ],
          [
           "Snatch"
          ],
          [
           "Requiem for a Dream"
          ],
          [
           "American Beauty"
          ],
          [
           "Good Will Hunting"
          ],
          [
           "Bacheha-Ye aseman"
          ],
          [
           "Toy Story"
          ],
          [
           "Braveheart"
          ],
          [
           "Reservoir Dogs"
          ],
          [
           "Full Metal Jacket"
          ],
          [
           "Idi i smotri"
          ],
          [
           "Aliens"
          ],
          [
           "Amadeus"
          ],
          [
           "Scarface"
          ],
          [
           "Star Wars: Episode VI - Return of the Jedi"
          ],
          [
           "Das Boot"
          ],
          [
           "Taxi Driver"
          ],
          [
           "The Sting"
          ],
          [
           "A Clockwork Orange"
          ],
          [
           "2001: A Space Odyssey"
          ],
          [
           "Per qualche dollaro in più"
          ],
          [
           "Lawrence of Arabia"
          ],
          [
           "The Apartment"
          ],
          [
           "North by Northwest"
          ],
          [
           "Vertigo"
          ],
          [
           "Singin' in the Rain"
          ],
          [
           "Ikiru"
          ],
          [
           "Ladri di biciclette"
          ],
          [
           "Double Indemnity"
          ],
          [
           "Citizen Kane"
          ],
          [
           "M - Eine Stadt sucht einen Mörder"
          ],
          [
           "Metropolis"
          ],
          [
           "The Kid"
          ],
          [
           "Chhichhore"
          ],
          [
           "Uri: The Surgical Strike"
          ],
          [
           "K.G.F: Chapter 1"
          ],
          [
           "Green Book"
          ],
          [
           "Three Billboards Outside Ebbing, Missouri"
          ],
          [
           "Talvar"
          ],
          [
           "Baahubali 2: The Conclusion"
          ],
          [
           "Klaus"
          ],
          [
           "Drishyam"
          ],
          [
           "Queen"
          ],
          [
           "Mandariinid"
          ],
          [
           "Bhaag Milkha Bhaag"
          ],
          [
           "Gangs of Wasseypur"
          ],
          [
           "Udaan"
          ],
          [
           "Paan Singh Tomar"
          ],
          [
           "El secreto de sus ojos"
          ],
          [
           "Warrior"
          ],
          [
           "Shutter Island"
          ],
          [
           "Up"
          ],
          [
           "The Wolf of Wall Street"
          ],
          [
           "Chak De! India"
          ],
          [
           "There Will Be Blood"
          ],
          [
           "Pan's Labyrinth"
          ],
          [
           "Toy Story 3"
          ],
          [
           "V for Vendetta"
          ],
          [
           "Rang De Basanti"
          ],
          [
           "Black"
          ],
          [
           "Batman Begins"
          ],
          [
           "Swades: We, the People"
          ],
          [
           "Der Untergang"
          ],
          [
           "Hauru no ugoku shiro"
          ],
          [
           "A Beautiful Mind"
          ],
          [
           "Hera Pheri"
          ],
          [
           "Lock, Stock and Two Smoking Barrels"
          ],
          [
           "L.A. Confidential"
          ],
          [
           "Eskiya"
          ],
          [
           "Heat"
          ],
          [
           "Casino"
          ],
          [
           "Andaz Apna Apna"
          ],
          [
           "Unforgiven"
          ],
          [
           "Indiana Jones and the Last Crusade"
          ],
          [
           "Dom za vesanje"
          ],
          [
           "Tonari no Totoro"
          ],
          [
           "Die Hard"
          ],
          [
           "Ran"
          ],
          [
           "Raging Bull"
          ],
          [
           "Stalker"
          ],
          [
           "Höstsonaten"
          ],
          [
           "The Message"
          ],
          [
           "Sholay"
          ],
          [
           "Monty Python and the Holy Grail"
          ],
          [
           "The Great Escape"
          ],
          [
           "To Kill a Mockingbird"
          ],
          [
           "Yôjinbô"
          ],
          [
           "Judgment at Nuremberg"
          ],
          [
           "Some Like It Hot"
          ],
          [
           "Smultronstället"
          ],
          [
           "Det sjunde inseglet"
          ],
          [
           "Du rififi chez les hommes"
          ],
          [
           "Dial M for Murder"
          ],
          [
           "Tôkyô monogatari"
          ],
          [
           "Rashômon"
          ],
          [
           "All About Eve"
          ],
          [
           "The Treasure of the Sierra Madre"
          ],
          [
           "To Be or Not to Be"
          ],
          [
           "The Gold Rush"
          ],
          [
           "Sherlock Jr."
          ],
          [
           "Portrait de la jeune fille en feu"
          ],
          [
           "Pink"
          ],
          [
           "Koe no katachi"
          ],
          [
           "Contratiempo"
          ],
          [
           "Ah-ga-ssi"
          ],
          [
           "Mommy"
          ],
          [
           "Haider"
          ],
          [
           "Logan"
          ],
          [
           "Room"
          ],
          [
           "Relatos salvajes"
          ],
          [
           "Soul"
          ],
          [
           "Kis Uykusu"
          ],
          [
           "PK"
          ],
          [
           "OMG: Oh My God!"
          ],
          [
           "The Grand Budapest Hotel"
          ],
          [
           "Gone Girl"
          ],
          [
           "Ôkami kodomo no Ame to Yuki"
          ],
          [
           "Hacksaw Ridge"
          ],
          [
           "Inside Out"
          ],
          [
           "Barfi!"
          ],
          [
           "12 Years a Slave"
          ],
          [
           "Rush"
          ],
          [
           "Ford v Ferrari"
          ],
          [
           "Spotlight"
          ],
          [
           "Song of the Sea"
          ],
          [
           "Kahaani"
          ],
          [
           "Zindagi Na Milegi Dobara"
          ],
          [
           "Prisoners"
          ],
          [
           "Mad Max: Fury Road"
          ],
          [
           "A Wednesday"
          ],
          [
           "Gran Torino"
          ],
          [
           "Harry Potter and the Deathly Hallows: Part 2"
          ],
          [
           "Okuribito"
          ],
          [
           "Hachi: A Dog's Tale"
          ],
          [
           "Mary and Max"
          ],
          [
           "How to Train Your Dragon"
          ],
          [
           "Into the Wild"
          ],
          [
           "No Country for Old Men"
          ],
          [
           "Lage Raho Munna Bhai"
          ],
          [
           "Million Dollar Baby"
          ],
          [
           "Hotel Rwanda"
          ],
          [
           "Taegukgi hwinalrimyeo"
          ],
          [
           "Before Sunset"
          ],
          [
           "Munna Bhai M.B.B.S."
          ],
          [
           "Salinui chueok"
          ],
          [
           "Dil Chahta Hai"
          ],
          [
           "Kill Bill: Vol. 1"
          ],
          [
           "Finding Nemo"
          ],
          [
           "Catch Me If You Can"
          ],
          [
           "Amores perros"
          ],
          [
           "Monsters, Inc."
          ],
          [
           "Shin seiki Evangelion Gekijô-ban: Air/Magokoro wo, kimi ni"
          ],
          [
           "Lagaan: Once Upon a Time in India"
          ],
          [
           "The Sixth Sense"
          ],
          [
           "La leggenda del pianista sull'oceano"
          ],
          [
           "The Truman Show"
          ],
          [
           "Crna macka, beli macor"
          ],
          [
           "The Big Lebowski"
          ],
          [
           "Fa yeung nin wah"
          ],
          [
           "Trainspotting"
          ],
          [
           "Fargo"
          ],
          [
           "Underground"
          ],
          [
           "La haine"
          ],
          [
           "Dilwale Dulhania Le Jayenge"
          ],
          [
           "Before Sunrise"
          ],
          [
           "Trois couleurs: Rouge"
          ],
          [
           "Chung Hing sam lam"
          ],
          [
           "Jurassic Park"
          ],
          [
           "In the Name of the Father"
          ],
          [
           "Ba wang bie ji"
          ],
          [
           "Dà hóng denglong gaogao guà"
          ],
          [
           "Dead Poets Society"
          ],
          [
           "Stand by Me"
          ],
          [
           "Platoon"
          ],
          [
           "Paris, Texas"
          ],
          [
           "Kaze no tani no Naushika"
          ],
          [
           "The Thing"
          ],
          [
           "Pink Floyd: The Wall"
          ],
          [
           "Fitzcarraldo"
          ],
          [
           "Fanny och Alexander"
          ],
          [
           "Blade Runner"
          ],
          [
           "The Elephant Man"
          ],
          [
           "Life of Brian"
          ],
          [
           "The Deer Hunter"
          ],
          [
           "Rocky"
          ],
          [
           "Network"
          ],
          [
           "Barry Lyndon"
          ],
          [
           "Zerkalo"
          ],
          [
           "Chinatown"
          ],
          [
           "Paper Moon"
          ],
          [
           "Viskningar och rop"
          ],
          [
           "Solaris"
          ],
          [
           "Le samouraï"
          ],
          [
           "Cool Hand Luke"
          ],
          [
           "Persona"
          ],
          [
           "Andrei Rublev"
          ],
          [
           "La battaglia di Algeri"
          ],
          [
           "El ángel exterminador"
          ],
          [
           "What Ever Happened to Baby Jane?"
          ],
          [
           "Sanjuro"
          ],
          [
           "The Man Who Shot Liberty Valance"
          ],
          [
           "Ivanovo detstvo"
          ],
          [
           "Jungfrukällan"
          ],
          [
           "Inherit the Wind"
          ],
          [
           "Les quatre cents coups"
          ],
          [
           "Ben-Hur"
          ],
          [
           "Kakushi-toride no san-akunin"
          ],
          [
           "Le notti di Cabiria"
          ],
          [
           "Kumonosu-jô"
          ],
          [
           "The Bridge on the River Kwai"
          ],
          [
           "On the Waterfront"
          ],
          [
           "Le salaire de la peur"
          ],
          [
           "Ace in the Hole"
          ],
          [
           "White Heat"
          ],
          [
           "The Third Man"
          ],
          [
           "The Red Shoes"
          ],
          [
           "The Shop Around the Corner"
          ],
          [
           "Rebecca"
          ],
          [
           "Mr. Smith Goes to Washington"
          ],
          [
           "Gone with the Wind"
          ],
          [
           "La Grande Illusion"
          ],
          [
           "It Happened One Night"
          ],
          [
           "La passion de Jeanne d'Arc"
          ],
          [
           "The Circus"
          ],
          [
           "Sunrise: A Song of Two Humans"
          ],
          [
           "The General"
          ],
          [
           "Das Cabinet des Dr. Caligari"
          ],
          [
           "Badhaai ho"
          ],
          [
           "Togo"
          ],
          [
           "Airlift"
          ],
          [
           "Bajrangi Bhaijaan"
          ],
          [
           "Baby"
          ],
          [
           "La La Land"
          ],
          [
           "Lion"
          ],
          [
           "The Martian"
          ],
          [
           "Zootopia"
          ],
          [
           "Bãhubali: The Beginning"
          ],
          [
           "Kaguyahime no monogatari"
          ],
          [
           "Wonder"
          ],
          [
           "Gully Boy"
          ],
          [
           "Special Chabbis"
          ],
          [
           "Short Term 12"
          ],
          [
           "Serbuan maut 2: Berandal"
          ],
          [
           "The Imitation Game"
          ],
          [
           "Guardians of the Galaxy"
          ],
          [
           "Blade Runner 2049"
          ],
          [
           "Her"
          ],
          [
           "Bohemian Rhapsody"
          ],
          [
           "The Revenant"
          ],
          [
           "The Perks of Being a Wallflower"
          ],
          [
           "Tropa de Elite 2: O Inimigo Agora é Outro"
          ],
          [
           "The King's Speech"
          ],
          [
           "The Help"
          ],
          [
           "Deadpool"
          ],
          [
           "Darbareye Elly"
          ],
          [
           "Dev.D"
          ],
          [
           "Yip Man"
          ],
          [
           "My Name Is Khan"
          ],
          [
           "Nefes: Vatan Sagolsun"
          ],
          [
           "Slumdog Millionaire"
          ],
          [
           "Black Swan"
          ],
          [
           "Tropa de Elite"
          ],
          [
           "The Avengers"
          ],
          [
           "Persepolis"
          ],
          [
           "Dallas Buyers Club"
          ],
          [
           "The Pursuit of Happyness"
          ],
          [
           "Blood Diamond"
          ],
          [
           "The Bourne Ultimatum"
          ],
          [
           "Bin-jip"
          ],
          [
           "Sin City"
          ],
          [
           "Le scaphandre et le papillon"
          ],
          [
           "G.O.R.A."
          ],
          [
           "Ratatouille"
          ],
          [
           "Casino Royale"
          ],
          [
           "Kill Bill: Vol. 2"
          ],
          [
           "Vozvrashchenie"
          ],
          [
           "Bom Yeoareum Gaeul Gyeoul Geurigo Bom"
          ],
          [
           "Mar adentro"
          ],
          [
           "Cinderella Man"
          ],
          [
           "Kal Ho Naa Ho"
          ],
          [
           "Mou gaan dou"
          ],
          [
           "Pirates of the Caribbean: The Curse of the Black Pearl"
          ],
          [
           "Big Fish"
          ],
          [
           "The Incredibles"
          ],
          [
           "Yeopgijeogin geunyeo"
          ],
          [
           "Dogville"
          ],
          [
           "Vizontele"
          ],
          [
           "Donnie Darko"
          ],
          [
           "Magnolia"
          ],
          [
           "Dancer in the Dark"
          ],
          [
           "The Straight Story"
          ],
          [
           "Pâfekuto burû"
          ],
          [
           "Festen"
          ],
          [
           "Central do Brasil"
          ],
          [
           "The Iron Giant"
          ],
          [
           "Knockin' on Heaven's Door"
          ],
          [
           "Sling Blade"
          ],
          [
           "Secrets & Lies"
          ],
          [
           "Twelve Monkeys"
          ],
          [
           "Kôkaku Kidôtai"
          ],
          [
           "The Nightmare Before Christmas"
          ],
          [
           "Groundhog Day"
          ],
          [
           "Bound by Honor"
          ],
          [
           "Scent of a Woman"
          ],
          [
           "Aladdin"
          ],
          [
           "JFK"
          ],
          [
           "Beauty and the Beast"
          ],
          [
           "Dances with Wolves"
          ],
          [
           "Do the Right Thing"
          ],
          [
           "Rain Man"
          ],
          [
           "Akira"
          ],
          [
           "The Princess Bride"
          ],
          [
           "Der Himmel über Berlin"
          ],
          [
           "Au revoir les enfants"
          ],
          [
           "Tenkû no shiro Rapyuta"
          ],
          [
           "The Terminator"
          ],
          [
           "Gandhi"
          ],
          [
           "Kagemusha"
          ],
          [
           "Being There"
          ],
          [
           "Annie Hall"
          ],
          [
           "Jaws"
          ],
          [
           "Dog Day Afternoon"
          ],
          [
           "Young Frankenstein"
          ],
          [
           "Papillon"
          ],
          [
           "The Exorcist"
          ],
          [
           "Sleuth"
          ],
          [
           "The Last Picture Show"
          ],
          [
           "Fiddler on the Roof"
          ],
          [
           "Il conformista"
          ],
          [
           "Butch Cassidy and the Sundance Kid"
          ],
          [
           "Rosemary's Baby"
          ],
          [
           "Planet of the Apes"
          ],
          [
           "The Graduate"
          ],
          [
           "Who's Afraid of Virginia Woolf?"
          ],
          [
           "The Sound of Music"
          ],
          [
           "Doctor Zhivago"
          ],
          [
           "Per un pugno di dollari"
          ],
          [
           "8½"
          ],
          [
           "Vivre sa vie: Film en douze tableaux"
          ],
          [
           "The Hustler"
          ],
          [
           "La dolce vita"
          ],
          [
           "Rio Bravo"
          ],
          [
           "Anatomy of a Murder"
          ],
          [
           "Touch of Evil"
          ],
          [
           "Cat on a Hot Tin Roof"
          ],
          [
           "Sweet Smell of Success"
          ],
          [
           "The Killing"
          ],
          [
           "The Night of the Hunter"
          ],
          [
           "La Strada"
          ],
          [
           "Les diaboliques"
          ],
          [
           "Stalag 17"
          ],
          [
           "Roman Holiday"
          ],
          [
           "A Streetcar Named Desire"
          ],
          [
           "In a Lonely Place"
          ],
          [
           "Kind Hearts and Coronets"
          ],
          [
           "Rope"
          ],
          [
           "Out of the Past"
          ],
          [
           "Brief Encounter"
          ],
          [
           "Laura"
          ],
          [
           "The Best Years of Our Lives"
          ],
          [
           "Arsenic and Old Lace"
          ],
          [
           "The Maltese Falcon"
          ],
          [
           "The Grapes of Wrath"
          ],
          [
           "The Wizard of Oz"
          ],
          [
           "La règle du jeu"
          ],
          [
           "The Thin Man"
          ],
          [
           "All Quiet on the Western Front"
          ],
          [
           "Bronenosets Potemkin"
          ],
          [
           "Knives Out"
          ],
          [
           "Dil Bechara"
          ],
          [
           "Manbiki kazoku"
          ],
          [
           "Marriage Story"
          ],
          [
           "Call Me by Your Name"
          ],
          [
           "I, Daniel Blake"
          ],
          [
           "Isle of Dogs"
          ],
          [
           "Hunt for the Wilderpeople"
          ],
          [
           "Captain Fantastic"
          ],
          [
           "Sing Street"
          ],
          [
           "Thor: Ragnarok"
          ],
          [
           "Nightcrawler"
          ],
          [
           "Jojo Rabbit"
          ],
          [
           "Arrival"
          ],
          [
           "Star Wars: Episode VII - The Force Awakens"
          ],
          [
           "Before Midnight"
          ],
          [
           "X-Men: Days of Future Past"
          ],
          [
           "Bir Zamanlar Anadolu'da"
          ],
          [
           "The Artist"
          ],
          [
           "Edge of Tomorrow"
          ],
          [
           "Amour"
          ],
          [
           "The Irishman"
          ],
          [
           "Un prophète"
          ],
          [
           "Moon"
          ],
          [
           "Låt den rätte komma in"
          ],
          [
           "District 9"
          ],
          [
           "The Wrestler"
          ],
          [
           "Jab We Met"
          ],
          [
           "Boyhood"
          ],
          [
           "4 luni, 3 saptamâni si 2 zile"
          ],
          [
           "Star Trek"
          ],
          [
           "In Bruges"
          ],
          [
           "The Man from Earth"
          ],
          [
           "Letters from Iwo Jima"
          ],
          [
           "The Fall"
          ],
          [
           "Life of Pi"
          ],
          [
           "Fantastic Mr. Fox"
          ],
          [
           "C.R.A.Z.Y."
          ],
          [
           "Les choristes"
          ],
          [
           "Iron Man"
          ],
          [
           "Shaun of the Dead"
          ],
          [
           "Gegen die Wand"
          ],
          [
           "Mystic River"
          ],
          [
           "Harry Potter and the Prisoner of Azkaban"
          ],
          [
           "Ying xiong"
          ],
          [
           "Hable con ella"
          ],
          [
           "No Man's Land"
          ],
          [
           "Cowboy Bebop: Tengoku no tobira"
          ],
          [
           "The Bourne Identity"
          ],
          [
           "Nueve reinas"
          ],
          [
           "Children of Men"
          ],
          [
           "Almost Famous"
          ],
          [
           "Mulholland Dr."
          ],
          [
           "Toy Story 2"
          ],
          [
           "Boogie Nights"
          ],
          [
           "Mimi wo sumaseba"
          ],
          [
           "Once Were Warriors"
          ],
          [
           "True Romance"
          ],
          [
           "Trois couleurs: Bleu"
          ],
          [
           "Jûbê ninpûchô"
          ],
          [
           "Carlito's Way"
          ],
          [
           "Edward Scissorhands"
          ],
          [
           "My Left Foot: The Story of Christy Brown"
          ],
          [
           "Crimes and Misdemeanors"
          ],
          [
           "The Untouchables"
          ],
          [
           "Hannah and Her Sisters"
          ],
          [
           "Brazil"
          ],
          [
           "This Is Spinal Tap"
          ],
          [
           "A Christmas Story"
          ],
          [
           "The Blues Brothers"
          ],
          [
           "Manhattan"
          ],
          [
           "All That Jazz"
          ],
          [
           "Dawn of the Dead"
          ],
          [
           "All the President's Men"
          ],
          [
           "La montaña sagrada"
          ],
          [
           "Amarcord"
          ],
          [
           "Le charme discret de la bourgeoisie"
          ],
          [
           "Aguirre, der Zorn Gottes"
          ],
          [
           "Harold and Maude"
          ],
          [
           "Patton"
          ],
          [
           "The Wild Bunch"
          ],
          [
           "Night of the Living Dead"
          ],
          [
           "The Lion in Winter"
          ],
          [
           "In the Heat of the Night"
          ],
          [
           "Charade"
          ],
          [
           "The Manchurian Candidate"
          ],
          [
           "Spartacus"
          ],
          [
           "L'avventura"
          ],
          [
           "Hiroshima mon amour"
          ],
          [
           "The Ten Commandments"
          ],
          [
           "The Searchers"
          ],
          [
           "East of Eden"
          ],
          [
           "High Noon"
          ],
          [
           "Strangers on a Train"
          ],
          [
           "Harvey"
          ],
          [
           "Miracle on 34th Street"
          ],
          [
           "Notorious"
          ],
          [
           "The Big Sleep"
          ],
          [
           "The Lost Weekend"
          ],
          [
           "The Philadelphia Story"
          ],
          [
           "His Girl Friday"
          ],
          [
           "The Adventures of Robin Hood"
          ],
          [
           "A Night at the Opera"
          ],
          [
           "King Kong"
          ],
          [
           "Freaks"
          ],
          [
           "Nosferatu"
          ],
          [
           "The Gentlemen"
          ],
          [
           "Raazi"
          ],
          [
           "Sound of Metal"
          ],
          [
           "Forushande"
          ],
          [
           "Dunkirk"
          ],
          [
           "Perfetti sconosciuti"
          ],
          [
           "Hidden Figures"
          ],
          [
           "Paddington 2"
          ],
          [
           "Udta Punjab"
          ],
          [
           "Kubo and the Two Strings"
          ],
          [
           "M.S. Dhoni: The Untold Story"
          ],
          [
           "Manchester by the Sea"
          ],
          [
           "Under sandet"
          ],
          [
           "Rogue One"
          ],
          [
           "Captain America: Civil War"
          ],
          [
           "The Hateful Eight"
          ],
          [
           "Little Women"
          ],
          [
           "Loving Vincent"
          ],
          [
           "Pride"
          ],
          [
           "Le passé"
          ],
          [
           "La grande bellezza"
          ],
          [
           "The Lunchbox"
          ],
          [
           "Vicky Donor"
          ],
          [
           "Big Hero 6"
          ],
          [
           "About Time"
          ],
          [
           "English Vinglish"
          ],
          [
           "Kaze tachinu"
          ],
          [
           "Toy Story 4"
          ],
          [
           "La migliore offerta"
          ],
          [
           "Moonrise Kingdom"
          ],
          [
           "How to Train Your Dragon 2"
          ],
          [
           "The Big Short"
          ],
          [
           "Kokuhaku"
          ],
          [
           "Ang-ma-reul bo-at-da"
          ],
          [
           "The Girl with the Dragon Tattoo"
          ],
          [
           "Captain Phillips"
          ],
          [
           "Ajeossi"
          ],
          [
           "Straight Outta Compton"
          ],
          [
           "Madeo"
          ],
          [
           "Chugyeokja"
          ],
          [
           "The Hobbit: The Desolation of Smaug"
          ],
          [
           "Das weiße Band - Eine deutsche Kindergeschichte"
          ],
          [
           "Män som hatar kvinnor"
          ],
          [
           "The Trial of the Chicago 7"
          ],
          [
           "Druk"
          ],
          [
           "The Fighter"
          ],
          [
           "Taken"
          ],
          [
           "The Boy in the Striped Pyjamas"
          ],
          [
           "Once"
          ],
          [
           "The Hobbit: An Unexpected Journey"
          ],
          [
           "Auf der anderen Seite"
          ],
          [
           "Atonement"
          ],
          [
           "Drive"
          ],
          [
           "American Gangster"
          ],
          [
           "Avatar"
          ],
          [
           "Mr. Nobody"
          ],
          [
           "Apocalypto"
          ],
          [
           "Little Miss Sunshine"
          ],
          [
           "Hot Fuzz"
          ],
          [
           "The Curious Case of Benjamin Button"
          ],
          [
           "Veer-Zaara"
          ],
          [
           "Adams æbler"
          ],
          [
           "Pride & Prejudice"
          ],
          [
           "The World's Fastest Indian"
          ],
          [
           "Tôkyô goddofâzâzu"
          ],
          [
           "Serenity"
          ],
          [
           "Walk the Line"
          ],
          [
           "Ondskan"
          ],
          [
           "The Notebook"
          ],
          [
           "Diarios de motocicleta"
          ],
          [
           "Lilja 4-ever"
          ],
          [
           "Les triplettes de Belleville"
          ],
          [
           "Gongdong gyeongbi guyeok JSA"
          ],
          [
           "The Count of Monte Cristo"
          ],
          [
           "Waking Life"
          ],
          [
           "Remember the Titans"
          ],
          [
           "Wo hu cang long"
          ],
          [
           "Todo sobre mi madre"
          ],
          [
           "Cast Away"
          ],
          [
           "The Boondock Saints"
          ],
          [
           "The Insider"
          ],
          [
           "October Sky"
          ],
          [
           "Shrek"
          ],
          [
           "Titanic"
          ],
          [
           "Hana-bi"
          ],
          [
           "Gattaca"
          ],
          [
           "The Game"
          ],
          [
           "Breaking the Waves"
          ],
          [
           "Ed Wood"
          ],
          [
           "What's Eating Gilbert Grape"
          ],
          [
           "Tombstone"
          ],
          [
           "The Sandlot"
          ],
          [
           "The Remains of the Day"
          ],
          [
           "Naked"
          ],
          [
           "The Fugitive"
          ],
          [
           "A Bronx Tale"
          ],
          [
           "Batman: Mask of the Phantasm"
          ],
          [
           "Lat sau san taam"
          ],
          [
           "Night on Earth"
          ],
          [
           "La double vie de Véronique"
          ],
          [
           "Boyz n the Hood"
          ],
          [
           "Misery"
          ],
          [
           "Awakenings"
          ],
          [
           "Majo no takkyûbin"
          ],
          [
           "Glory"
          ],
          [
           "Dip huet seung hung"
          ],
          [
           "Back to the Future Part II"
          ],
          [
           "Mississippi Burning"
          ],
          [
           "Predator"
          ],
          [
           "Evil Dead II"
          ],
          [
           "Ferris Bueller's Day Off"
          ],
          [
           "Down by Law"
          ],
          [
           "The Goonies"
          ],
          [
           "The Color Purple"
          ],
          [
           "The Breakfast Club"
          ],
          [
           "The Killing Fields"
          ],
          [
           "Ghostbusters"
          ],
          [
           "The Right Stuff"
          ],
          [
           "The King of Comedy"
          ],
          [
           "E.T. the Extra-Terrestrial"
          ],
          [
           "Kramer vs. Kramer"
          ],
          [
           "Days of Heaven"
          ],
          [
           "The Outlaw Josey Wales"
          ],
          [
           "The Man Who Would Be King"
          ],
          [
           "The Conversation"
          ],
          [
           "La planète sauvage"
          ],
          [
           "The Day of the Jackal"
          ],
          [
           "Badlands"
          ],
          [
           "Cabaret"
          ],
          [
           "Willy Wonka & the Chocolate Factory"
          ],
          [
           "Midnight Cowboy"
          ],
          [
           "Wait Until Dark"
          ],
          [
           "Guess Who's Coming to Dinner"
          ],
          [
           "Bonnie and Clyde"
          ],
          [
           "My Fair Lady"
          ],
          [
           "Mary Poppins"
          ],
          [
           "The Longest Day"
          ],
          [
           "Jules et Jim"
          ],
          [
           "The Innocents"
          ],
          [
           "À bout de souffle"
          ],
          [
           "Red River"
          ],
          [
           "Key Largo"
          ],
          [
           "To Have and Have Not"
          ],
          [
           "Shadow of a Doubt"
          ],
          [
           "Stagecoach"
          ],
          [
           "The Lady Vanishes"
          ],
          [
           "Bringing Up Baby"
          ],
          [
           "Bride of Frankenstein"
          ],
          [
           "Duck Soup"
          ],
          [
           "Scarface: The Shame of the Nation"
          ],
          [
           "Frankenstein"
          ],
          [
           "Roma"
          ],
          [
           "God's Own Country"
          ],
          [
           "Deadpool 2"
          ],
          [
           "Wind River"
          ],
          [
           "Get Out"
          ],
          [
           "Mission: Impossible - Fallout"
          ],
          [
           "En man som heter Ove"
          ],
          [
           "What We Do in the Shadows"
          ],
          [
           "Omoide no Mânî"
          ],
          [
           "The Theory of Everything"
          ],
          [
           "Kingsman: The Secret Service"
          ],
          [
           "The Fault in Our Stars"
          ],
          [
           "Me and Earl and the Dying Girl"
          ],
          [
           "Birdman or (The Unexpected Virtue of Ignorance)"
          ],
          [
           "La vie d'Adèle"
          ],
          [
           "Kai po che!"
          ],
          [
           "The Broken Circle Breakdown"
          ],
          [
           "Captain America: The Winter Soldier"
          ],
          [
           "Rockstar"
          ],
          [
           "Nebraska"
          ],
          [
           "Wreck-It Ralph"
          ],
          [
           "Le Petit Prince"
          ],
          [
           "Detachment"
          ],
          [
           "Midnight in Paris"
          ],
          [
           "The Lego Movie"
          ],
          [
           "Gravity"
          ],
          [
           "Star Trek Into Darkness"
          ],
          [
           "Beasts of No Nation"
          ],
          [
           "The Social Network"
          ],
          [
           "X: First Class"
          ],
          [
           "The Hangover"
          ],
          [
           "Skyfall"
          ],
          [
           "Silver Linings Playbook"
          ],
          [
           "Argo"
          ],
          [
           "(500) Days of Summer"
          ],
          [
           "Harry Potter and the Deathly Hallows: Part 1"
          ],
          [
           "Gake no ue no Ponyo"
          ],
          [
           "Frost/Nixon"
          ],
          [
           "Papurika"
          ],
          [
           "Changeling"
          ],
          [
           "Flipped"
          ],
          [
           "Toki o kakeru shôjo"
          ],
          [
           "Death Note: Desu nôto"
          ],
          [
           "This Is England"
          ],
          [
           "Ex Machina"
          ],
          [
           "Efter brylluppet"
          ],
          [
           "The Last King of Scotland"
          ],
          [
           "Zodiac"
          ],
          [
           "Lucky Number Slevin"
          ],
          [
           "Joyeux Noël"
          ],
          [
           "Control"
          ],
          [
           "Tangled"
          ],
          [
           "Zwartboek"
          ],
          [
           "Brokeback Mountain"
          ],
          [
           "3:10 to Yuma"
          ],
          [
           "Crash"
          ],
          [
           "Kung fu"
          ],
          [
           "The Bourne Supremacy"
          ],
          [
           "The Machinist"
          ],
          [
           "Ray"
          ],
          [
           "Lost in Translation"
          ],
          [
           "Harry Potter and the Goblet of Fire"
          ],
          [
           "Man on Fire"
          ],
          [
           "Coraline"
          ],
          [
           "The Last Samurai"
          ],
          [
           "The Magdalene Sisters"
          ],
          [
           "Good Bye Lenin!"
          ],
          [
           "In America"
          ],
          [
           "I Am Sam"
          ],
          [
           "Adaptation."
          ],
          [
           "Black Hawk Down"
          ],
          [
           "Road to Perdition"
          ],
          [
           "Das Experiment"
          ],
          [
           "Billy Elliot"
          ],
          [
           "Hedwig and the Angry Inch"
          ],
          [
           "Ocean's Eleven"
          ],
          [
           "Vampire Hunter D: Bloodlust"
          ],
          [
           "O Brother, Where Art Thou?"
          ],
          [
           "Interstate 60: Episodes of the Road"
          ],
          [
           "South Park: Bigger, Longer & Uncut"
          ],
          [
           "Office Space"
          ],
          [
           "Happiness"
          ],
          [
           "Training Day"
          ],
          [
           "Rushmore"
          ],
          [
           "Abre los ojos"
          ],
          [
           "Being John Malkovich"
          ],
          [
           "As Good as It Gets"
          ],
          [
           "The Fifth Element"
          ],
          [
           "Le dîner de cons"
          ],
          [
           "Donnie Brasco"
          ],
          [
           "Shine"
          ],
          [
           "Primal Fear"
          ],
          [
           "Hamlet"
          ],
          [
           "A Little Princess"
          ],
          [
           "Do lok tin si"
          ],
          [
           "Il postino"
          ],
          [
           "Clerks"
          ],
          [
           "Short Cuts"
          ],
          [
           "Philadelphia"
          ],
          [
           "The Muppet Christmas Carol"
          ],
          [
           "Malcolm X"
          ],
          [
           "The Last of the Mohicans"
          ],
          [
           "Kurenai no buta"
          ],
          [
           "Glengarry Glen Ross"
          ],
          [
           "A Few Good Men"
          ],
          [
           "Fried Green Tomatoes"
          ],
          [
           "Barton Fink"
          ],
          [
           "Miller's Crossing"
          ],
          [
           "Who Framed Roger Rabbit"
          ],
          [
           "Spoorloos"
          ],
          [
           "Withnail & I"
          ],
          [
           "The Last Emperor"
          ],
          [
           "Empire of the Sun"
          ],
          [
           "Der Name der Rose"
          ],
          [
           "Blue Velvet"
          ],
          [
           "The Purple Rose of Cairo"
          ],
          [
           "After Hours"
          ],
          [
           "Zelig"
          ],
          [
           "The Verdict"
          ],
          [
           "Star Trek II: The Wrath of Khan"
          ],
          [
           "First Blood"
          ],
          [
           "Ordinary People"
          ],
          [
           "Airplane!"
          ],
          [
           "Rupan sansei: Kariosutoro no shiro"
          ],
          [
           "Halloween"
          ],
          [
           "Le locataire"
          ],
          [
           "Love and Death"
          ],
          [
           "The Taking of Pelham One Two Three"
          ],
          [
           "Blazing Saddles"
          ],
          [
           "Serpico"
          ],
          [
           "Enter the Dragon"
          ],
          [
           "Deliverance"
          ],
          [
           "The French Connection"
          ],
          [
           "Dirty Harry"
          ],
          [
           "Where Eagles Dare"
          ],
          [
           "The Odd Couple"
          ],
          [
           "The Dirty Dozen"
          ],
          [
           "Belle de jour"
          ],
          [
           "A Man for All Seasons"
          ],
          [
           "Repulsion"
          ],
          [
           "Zulu"
          ],
          [
           "Goldfinger"
          ],
          [
           "The Birds"
          ],
          [
           "Cape Fear"
          ],
          [
           "Peeping Tom"
          ],
          [
           "The Magnificent Seven"
          ],
          [
           "Les yeux sans visage"
          ],
          [
           "Invasion of the Body Snatchers"
          ],
          [
           "Rebel Without a Cause"
          ],
          [
           "The Ladykillers"
          ],
          [
           "Sabrina"
          ],
          [
           "The Quiet Man"
          ],
          [
           "The Day the Earth Stood Still"
          ],
          [
           "The African Queen"
          ],
          [
           "Gilda"
          ],
          [
           "Fantasia"
          ],
          [
           "The Invisible Man"
          ],
          [
           "Dark Waters"
          ],
          [
           "Searching"
          ],
          [
           "Once Upon a Time... in Hollywood"
          ],
          [
           "Nelyubov"
          ],
          [
           "The Florida Project"
          ],
          [
           "Just Mercy"
          ],
          [
           "Gifted"
          ],
          [
           "The Peanut Butter Falcon"
          ],
          [
           "Victoria"
          ],
          [
           "Mustang"
          ],
          [
           "Guardians of the Galaxy Vol. 2"
          ],
          [
           "Baby Driver"
          ],
          [
           "Only the Brave"
          ],
          [
           "Bridge of Spies"
          ],
          [
           "Incredibles 2"
          ],
          [
           "Moana"
          ],
          [
           "Sicario"
          ],
          [
           "Creed"
          ],
          [
           "Leviafan"
          ],
          [
           "Hell or High Water"
          ],
          [
           "Philomena"
          ],
          [
           "Dawn of the Planet of the Apes"
          ],
          [
           "El cuerpo"
          ],
          [
           "Serbuan maut"
          ],
          [
           "End of Watch"
          ],
          [
           "Kari-gurashi no Arietti"
          ],
          [
           "A Star Is Born"
          ],
          [
           "True Grit"
          ],
          [
           "Hævnen"
          ],
          [
           "Despicable Me"
          ],
          [
           "50/50"
          ],
          [
           "Kick-Ass"
          ],
          [
           "Celda 211"
          ],
          [
           "Moneyball"
          ],
          [
           "La piel que habito"
          ],
          [
           "Zombieland"
          ],
          [
           "Die Welle"
          ],
          [
           "Sherlock Holmes"
          ],
          [
           "The Blind Side"
          ],
          [
           "The Visitor"
          ],
          [
           "Seven Pounds"
          ],
          [
           "Eastern Promises"
          ],
          [
           "Stardust"
          ],
          [
           "The Secret of Kells"
          ],
          [
           "Inside Man"
          ],
          [
           "Gone Baby Gone"
          ],
          [
           "La Vie En Rose"
          ],
          [
           "Huo Yuan Jia"
          ],
          [
           "The Illusionist"
          ],
          [
           "Dead Man's Shoes"
          ],
          [
           "Harry Potter and the Half-Blood Prince"
          ],
          [
           "300"
          ],
          [
           "Match Point"
          ],
          [
           "Watchmen"
          ],
          [
           "Lord of War"
          ],
          [
           "Saw"
          ],
          [
           "Synecdoche, New York"
          ],
          [
           "Mysterious Skin"
          ],
          [
           "Jeux d'enfants"
          ],
          [
           "Un long dimanche de fiançailles"
          ],
          [
           "The Station Agent"
          ],
          [
           "21 Grams"
          ],
          [
           "Boksuneun naui geot"
          ],
          [
           "Finding Neverland"
          ],
          [
           "25th Hour"
          ],
          [
           "The Butterfly Effect"
          ],
          [
           "28 Days Later..."
          ],
          [
           "Batoru rowaiaru"
          ],
          [
           "The Royal Tenenbaums"
          ],
          [
           "Y tu mamá también"
          ],
          [
           "Harry Potter and the Sorcerer's Stone"
          ],
          [
           "The Others"
          ],
          [
           "Blow"
          ],
          [
           "Enemy at the Gates"
          ],
          [
           "Minority Report"
          ],
          [
           "The Hurricane"
          ],
          [
           "American Psycho"
          ],
          [
           "Lola rennt"
          ],
          [
           "The Thin Red Line"
          ],
          [
           "Mulan"
          ],
          [
           "Fear and Loathing in Las Vegas"
          ],
          [
           "Funny Games"
          ],
          [
           "Dark City"
          ],
          [
           "Sleepers"
          ],
          [
           "Lost Highway"
          ],
          [
           "Sense and Sensibility"
          ],
          [
           "Die Hard: With a Vengeance"
          ],
          [
           "Dead Man"
          ],
          [
           "The Bridges of Madison County"
          ],
          [
           "Apollo 13"
          ],
          [
           "Trois couleurs: Blanc"
          ],
          [
           "Falling Down"
          ],
          [
           "Dazed and Confused"
          ],
          [
           "My Cousin Vinny"
          ],
          [
           "Omohide poro poro"
          ],
          [
           "Delicatessen"
          ],
          [
           "Home Alone"
          ],
          [
           "The Godfather: Part III"
          ],
          [
           "When Harry Met Sally..."
          ],
          [
           "The Little Mermaid"
          ],
          [
           "The Naked Gun: From the Files of Police Squad!"
          ],
          [
           "Planes, Trains & Automobiles"
          ],
          [
           "Lethal Weapon"
          ],
          [
           "Blood Simple"
          ],
          [
           "On Golden Pond"
          ],
          [
           "Mad Max 2"
          ],
          [
           "The Warriors"
          ],
          [
           "The Muppet Movie"
          ],
          [
           "Escape from Alcatraz"
          ],
          [
           "Watership Down"
          ],
          [
           "Midnight Express"
          ],
          [
           "Close Encounters of the Third Kind"
          ],
          [
           "The Long Goodbye"
          ],
          [
           "Giù la testa"
          ],
          [
           "Kelly's Heroes"
          ],
          [
           "The Jungle Book"
          ],
          [
           "Blowup"
          ],
          [
           "A Hard Day's Night"
          ],
          [
           "Breakfast at Tiffany's"
          ],
          [
           "Giant"
          ],
          [
           "From Here to Eternity"
          ],
          [
           "Lifeboat"
          ],
          [
           "The 39 Steps"
          ]
         ],
         "hovertemplate": "IMDB_Rating=%{x}<br>Meta_score=%{y}<br>Series_Title=%{customdata[0]}<extra></extra>",
         "legendgroup": "",
         "marker": {
          "color": "#636efa",
          "symbol": "circle"
         },
         "mode": "markers",
         "name": "",
         "orientation": "v",
         "showlegend": false,
         "type": "scatter",
         "x": [
          9.3,
          9.2,
          9,
          9,
          9,
          8.9,
          8.9,
          8.9,
          8.8,
          8.8,
          8.8,
          8.8,
          8.8,
          8.7,
          8.7,
          8.7,
          8.7,
          8.7,
          8.6,
          8.6,
          8.6,
          8.6,
          8.6,
          8.6,
          8.6,
          8.6,
          8.6,
          8.6,
          8.6,
          8.6,
          8.6,
          8.6,
          8.6,
          8.5,
          8.5,
          8.5,
          8.5,
          8.5,
          8.5,
          8.5,
          8.5,
          8.5,
          8.5,
          8.5,
          8.5,
          8.5,
          8.5,
          8.5,
          8.5,
          8.5,
          8.5,
          8.5,
          8.5,
          8.4,
          8.4,
          8.4,
          8.4,
          8.4,
          8.4,
          8.4,
          8.4,
          8.4,
          8.4,
          8.4,
          8.4,
          8.4,
          8.4,
          8.4,
          8.4,
          8.4,
          8.4,
          8.4,
          8.4,
          8.4,
          8.4,
          8.4,
          8.4,
          8.4,
          8.4,
          8.4,
          8.4,
          8.4,
          8.4,
          8.4,
          8.3,
          8.3,
          8.3,
          8.3,
          8.3,
          8.3,
          8.3,
          8.3,
          8.3,
          8.3,
          8.3,
          8.3,
          8.3,
          8.3,
          8.3,
          8.3,
          8.3,
          8.3,
          8.3,
          8.3,
          8.3,
          8.3,
          8.3,
          8.3,
          8.3,
          8.3,
          8.3,
          8.3,
          8.3,
          8.3,
          8.3,
          8.3,
          8.3,
          8.3,
          8.3,
          8.3,
          8.3,
          8.3,
          8.3,
          8.3,
          8.3,
          8.3,
          8.3,
          8.3,
          8.2,
          8.2,
          8.2,
          8.2,
          8.2,
          8.2,
          8.2,
          8.2,
          8.2,
          8.2,
          8.2,
          8.2,
          8.2,
          8.2,
          8.2,
          8.2,
          8.2,
          8.2,
          8.2,
          8.2,
          8.2,
          8.2,
          8.2,
          8.2,
          8.2,
          8.2,
          8.2,
          8.2,
          8.2,
          8.2,
          8.2,
          8.2,
          8.2,
          8.2,
          8.2,
          8.2,
          8.2,
          8.2,
          8.2,
          8.2,
          8.2,
          8.2,
          8.2,
          8.2,
          8.2,
          8.2,
          8.2,
          8.2,
          8.2,
          8.2,
          8.2,
          8.2,
          8.2,
          8.2,
          8.2,
          8.2,
          8.2,
          8.2,
          8.2,
          8.2,
          8.2,
          8.2,
          8.2,
          8.2,
          8.2,
          8.2,
          8.2,
          8.1,
          8.1,
          8.1,
          8.1,
          8.1,
          8.1,
          8.1,
          8.1,
          8.1,
          8.1,
          8.1,
          8.1,
          8.1,
          8.1,
          8.1,
          8.1,
          8.1,
          8.1,
          8.1,
          8.1,
          8.1,
          8.1,
          8.1,
          8.1,
          8.1,
          8.1,
          8.1,
          8.1,
          8.1,
          8.1,
          8.1,
          8.1,
          8.1,
          8.1,
          8.1,
          8.1,
          8.1,
          8.1,
          8.1,
          8.1,
          8.1,
          8.1,
          8.1,
          8.1,
          8.1,
          8.1,
          8.1,
          8.1,
          8.1,
          8.1,
          8.1,
          8.1,
          8.1,
          8.1,
          8.1,
          8.1,
          8.1,
          8.1,
          8.1,
          8.1,
          8.1,
          8.1,
          8.1,
          8.1,
          8.1,
          8.1,
          8.1,
          8.1,
          8.1,
          8.1,
          8.1,
          8.1,
          8.1,
          8.1,
          8.1,
          8.1,
          8.1,
          8.1,
          8.1,
          8.1,
          8.1,
          8.1,
          8.1,
          8.1,
          8.1,
          8.1,
          8.1,
          8.1,
          8.1,
          8.1,
          8.1,
          8.1,
          8.1,
          8.1,
          8.1,
          8.1,
          8.1,
          8.1,
          8.1,
          8.1,
          8.1,
          8.1,
          8.1,
          8.1,
          8.1,
          8.1,
          8.1,
          8.1,
          8.1,
          8.1,
          8.1,
          8.1,
          8.1,
          8.1,
          8.1,
          8.1,
          8.1,
          8.1,
          8.1,
          8.1,
          8.1,
          8.1,
          8.1,
          8.1,
          8.1,
          8.1,
          8.1,
          8,
          8,
          8,
          8,
          8,
          8,
          8,
          8,
          8,
          8,
          8,
          8,
          8,
          8,
          8,
          8,
          8,
          8,
          8,
          8,
          8,
          8,
          8,
          8,
          8,
          8,
          8,
          8,
          8,
          8,
          8,
          8,
          8,
          8,
          8,
          8,
          8,
          8,
          8,
          8,
          8,
          8,
          8,
          8,
          8,
          8,
          8,
          8,
          8,
          8,
          8,
          8,
          8,
          8,
          8,
          8,
          8,
          8,
          8,
          8,
          8,
          8,
          8,
          8,
          8,
          8,
          8,
          8,
          8,
          8,
          8,
          8,
          8,
          8,
          8,
          8,
          8,
          8,
          8,
          8,
          8,
          8,
          8,
          8,
          8,
          8,
          8,
          8,
          8,
          8,
          8,
          8,
          8,
          8,
          8,
          8,
          8,
          8,
          8,
          8,
          8,
          8,
          8,
          8,
          8,
          8,
          8,
          8,
          8,
          8,
          8,
          8,
          8,
          8,
          8,
          8,
          8,
          8,
          8,
          8,
          8,
          8,
          8,
          8,
          8,
          8,
          8,
          8,
          8,
          8,
          8,
          8,
          8,
          8,
          8,
          8,
          8,
          8,
          8,
          8,
          8,
          7.9,
          7.9,
          7.9,
          7.9,
          7.9,
          7.9,
          7.9,
          7.9,
          7.9,
          7.9,
          7.9,
          7.9,
          7.9,
          7.9,
          7.9,
          7.9,
          7.9,
          7.9,
          7.9,
          7.9,
          7.9,
          7.9,
          7.9,
          7.9,
          7.9,
          7.9,
          7.9,
          7.9,
          7.9,
          7.9,
          7.9,
          7.9,
          7.9,
          7.9,
          7.9,
          7.9,
          7.9,
          7.9,
          7.9,
          7.9,
          7.9,
          7.9,
          7.9,
          7.9,
          7.9,
          7.9,
          7.9,
          7.9,
          7.9,
          7.9,
          7.9,
          7.9,
          7.9,
          7.9,
          7.9,
          7.9,
          7.9,
          7.9,
          7.9,
          7.9,
          7.9,
          7.9,
          7.9,
          7.9,
          7.9,
          7.9,
          7.9,
          7.9,
          7.9,
          7.9,
          7.9,
          7.9,
          7.9,
          7.9,
          7.9,
          7.9,
          7.9,
          7.9,
          7.9,
          7.9,
          7.9,
          7.9,
          7.9,
          7.9,
          7.9,
          7.9,
          7.9,
          7.9,
          7.9,
          7.9,
          7.9,
          7.9,
          7.9,
          7.9,
          7.9,
          7.9,
          7.9,
          7.9,
          7.9,
          7.9,
          7.9,
          7.9,
          7.9,
          7.9,
          7.9,
          7.9,
          7.8,
          7.8,
          7.8,
          7.8,
          7.8,
          7.8,
          7.8,
          7.8,
          7.8,
          7.8,
          7.8,
          7.8,
          7.8,
          7.8,
          7.8,
          7.8,
          7.8,
          7.8,
          7.8,
          7.8,
          7.8,
          7.8,
          7.8,
          7.8,
          7.8,
          7.8,
          7.8,
          7.8,
          7.8,
          7.8,
          7.8,
          7.8,
          7.8,
          7.8,
          7.8,
          7.8,
          7.8,
          7.8,
          7.8,
          7.8,
          7.8,
          7.8,
          7.8,
          7.8,
          7.8,
          7.8,
          7.8,
          7.8,
          7.8,
          7.8,
          7.8,
          7.8,
          7.8,
          7.8,
          7.8,
          7.8,
          7.8,
          7.8,
          7.8,
          7.8,
          7.8,
          7.8,
          7.8,
          7.8,
          7.8,
          7.8,
          7.8,
          7.8,
          7.8,
          7.8,
          7.8,
          7.8,
          7.8,
          7.8,
          7.8,
          7.8,
          7.8,
          7.8,
          7.8,
          7.8,
          7.8,
          7.8,
          7.8,
          7.8,
          7.8,
          7.8,
          7.8,
          7.8,
          7.8,
          7.8,
          7.8,
          7.8,
          7.8,
          7.8,
          7.8,
          7.8,
          7.8,
          7.8,
          7.8,
          7.8,
          7.8,
          7.8,
          7.8,
          7.8,
          7.8,
          7.8,
          7.8,
          7.8,
          7.8,
          7.8,
          7.8,
          7.8,
          7.8,
          7.8,
          7.8,
          7.8,
          7.8,
          7.8,
          7.8,
          7.8,
          7.8,
          7.8,
          7.8,
          7.8,
          7.8,
          7.8,
          7.8,
          7.8,
          7.8,
          7.8,
          7.8,
          7.8,
          7.8,
          7.8,
          7.8,
          7.8,
          7.8,
          7.8,
          7.8,
          7.8,
          7.8,
          7.8,
          7.8,
          7.8,
          7.8,
          7.8,
          7.8,
          7.8,
          7.8,
          7.8,
          7.8,
          7.7,
          7.7,
          7.7,
          7.7,
          7.7,
          7.7,
          7.7,
          7.7,
          7.7,
          7.7,
          7.7,
          7.7,
          7.7,
          7.7,
          7.7,
          7.7,
          7.7,
          7.7,
          7.7,
          7.7,
          7.7,
          7.7,
          7.7,
          7.7,
          7.7,
          7.7,
          7.7,
          7.7,
          7.7,
          7.7,
          7.7,
          7.7,
          7.7,
          7.7,
          7.7,
          7.7,
          7.7,
          7.7,
          7.7,
          7.7,
          7.7,
          7.7,
          7.7,
          7.7,
          7.7,
          7.7,
          7.7,
          7.7,
          7.7,
          7.7,
          7.7,
          7.7,
          7.7,
          7.7,
          7.7,
          7.7,
          7.7,
          7.7,
          7.7,
          7.7,
          7.7,
          7.7,
          7.7,
          7.7,
          7.7,
          7.7,
          7.7,
          7.7,
          7.7,
          7.7,
          7.7,
          7.7,
          7.7,
          7.7,
          7.7,
          7.7,
          7.7,
          7.7,
          7.7,
          7.7,
          7.7,
          7.7,
          7.7,
          7.7,
          7.7,
          7.7,
          7.7,
          7.7,
          7.7,
          7.7,
          7.7,
          7.7,
          7.7,
          7.7,
          7.7,
          7.7,
          7.7,
          7.7,
          7.7,
          7.7,
          7.7,
          7.7,
          7.7,
          7.7,
          7.7,
          7.7,
          7.7,
          7.7,
          7.7,
          7.7,
          7.7,
          7.7,
          7.7,
          7.7,
          7.7,
          7.7,
          7.7,
          7.7,
          7.7,
          7.7,
          7.7,
          7.7,
          7.7,
          7.7,
          7.7,
          7.7,
          7.7,
          7.7,
          7.7,
          7.7,
          7.7,
          7.7,
          7.7,
          7.7,
          7.7,
          7.7,
          7.7,
          7.7,
          7.7,
          7.7,
          7.7,
          7.7,
          7.7,
          7.7,
          7.7,
          7.7,
          7.7,
          7.7,
          7.7,
          7.7,
          7.7,
          7.7,
          7.7,
          7.7,
          7.7,
          7.7,
          7.7,
          7.6,
          7.6,
          7.6,
          7.6,
          7.6,
          7.6,
          7.6,
          7.6,
          7.6,
          7.6,
          7.6,
          7.6,
          7.6,
          7.6,
          7.6,
          7.6,
          7.6,
          7.6,
          7.6,
          7.6,
          7.6,
          7.6,
          7.6,
          7.6,
          7.6,
          7.6,
          7.6,
          7.6,
          7.6,
          7.6,
          7.6,
          7.6,
          7.6,
          7.6,
          7.6,
          7.6,
          7.6,
          7.6,
          7.6,
          7.6,
          7.6,
          7.6,
          7.6,
          7.6,
          7.6,
          7.6,
          7.6,
          7.6,
          7.6,
          7.6,
          7.6,
          7.6,
          7.6,
          7.6,
          7.6,
          7.6,
          7.6,
          7.6,
          7.6,
          7.6,
          7.6,
          7.6,
          7.6,
          7.6,
          7.6,
          7.6,
          7.6,
          7.6,
          7.6,
          7.6,
          7.6,
          7.6,
          7.6,
          7.6,
          7.6,
          7.6,
          7.6,
          7.6,
          7.6,
          7.6,
          7.6,
          7.6,
          7.6,
          7.6,
          7.6,
          7.6,
          7.6,
          7.6,
          7.6,
          7.6,
          7.6,
          7.6,
          7.6,
          7.6,
          7.6,
          7.6,
          7.6,
          7.6,
          7.6,
          7.6,
          7.6,
          7.6,
          7.6,
          7.6,
          7.6,
          7.6,
          7.6,
          7.6,
          7.6,
          7.6,
          7.6,
          7.6,
          7.6,
          7.6,
          7.6,
          7.6,
          7.6,
          7.6,
          7.6,
          7.6,
          7.6,
          7.6,
          7.6
         ],
         "xaxis": "x",
         "y": [
          80,
          100,
          84,
          90,
          96,
          94,
          94,
          94,
          74,
          66,
          92,
          82,
          90,
          87,
          73,
          90,
          82,
          83,
          90,
          96,
          null,
          74,
          79,
          96,
          91,
          61,
          59,
          65,
          85,
          90,
          85,
          98,
          89,
          59,
          88,
          57,
          66,
          85,
          85,
          67,
          62,
          77,
          64,
          88,
          75,
          80,
          94,
          87,
          80,
          97,
          100,
          96,
          99,
          75,
          null,
          null,
          79,
          null,
          87,
          78,
          68,
          81,
          81,
          78,
          67,
          null,
          95,
          89,
          77,
          80,
          76,
          null,
          85,
          66,
          94,
          89,
          null,
          null,
          97,
          null,
          90,
          100,
          null,
          null,
          78,
          null,
          null,
          null,
          77,
          95,
          80,
          null,
          null,
          69,
          89,
          69,
          55,
          68,
          84,
          70,
          77,
          95,
          68,
          79,
          76,
          null,
          84,
          88,
          65,
          58,
          86,
          94,
          83,
          77,
          84,
          74,
          100,
          94,
          98,
          100,
          99,
          null,
          null,
          95,
          100,
          null,
          98,
          null,
          null,
          null,
          null,
          69,
          88,
          null,
          null,
          65,
          null,
          null,
          73,
          null,
          89,
          null,
          null,
          80,
          71,
          63,
          88,
          75,
          68,
          93,
          98,
          92,
          62,
          null,
          null,
          70,
          null,
          82,
          80,
          72,
          null,
          66,
          90,
          null,
          76,
          73,
          null,
          85,
          65,
          null,
          86,
          72,
          96,
          89,
          null,
          null,
          null,
          null,
          91,
          86,
          88,
          null,
          60,
          98,
          88,
          88,
          97,
          75,
          null,
          98,
          98,
          98,
          86,
          null,
          null,
          95,
          null,
          78,
          null,
          84,
          74,
          null,
          77,
          86,
          77,
          83,
          88,
          null,
          null,
          88,
          79,
          71,
          71,
          94,
          null,
          96,
          74,
          81,
          93,
          85,
          null,
          null,
          70,
          90,
          null,
          72,
          85,
          68,
          null,
          null,
          75,
          73,
          91,
          null,
          86,
          79,
          64,
          90,
          null,
          82,
          null,
          69,
          90,
          75,
          83,
          79,
          null,
          84,
          64,
          58,
          90,
          73,
          71,
          85,
          83,
          85,
          null,
          null,
          null,
          77,
          100,
          77,
          68,
          84,
          null,
          null,
          79,
          75,
          92,
          78,
          86,
          57,
          47,
          null,
          100,
          84,
          78,
          77,
          86,
          70,
          83,
          89,
          null,
          92,
          77,
          null,
          90,
          null,
          92,
          86,
          null,
          96,
          null,
          75,
          null,
          94,
          null,
          null,
          75,
          null,
          90,
          null,
          null,
          null,
          87,
          91,
          85,
          72,
          null,
          97,
          null,
          96,
          86,
          73,
          97,
          null,
          87,
          null,
          90,
          null,
          null,
          null,
          null,
          69,
          null,
          null,
          null,
          94,
          69,
          80,
          78,
          null,
          89,
          66,
          65,
          null,
          82,
          71,
          73,
          76,
          81,
          90,
          49,
          76,
          67,
          71,
          88,
          62,
          65,
          87,
          null,
          59,
          50,
          null,
          84,
          79,
          33,
          69,
          90,
          80,
          64,
          64,
          85,
          72,
          74,
          92,
          null,
          96,
          80,
          83,
          82,
          85,
          74,
          69,
          54,
          75,
          63,
          58,
          90,
          null,
          60,
          null,
          88,
          77,
          61,
          86,
          null,
          82,
          80,
          85,
          null,
          84,
          91,
          74,
          76,
          82,
          72,
          47,
          59,
          86,
          72,
          95,
          72,
          93,
          65,
          null,
          77,
          79,
          88,
          78,
          84,
          79,
          84,
          83,
          92,
          87,
          86,
          80,
          58,
          81,
          null,
          93,
          67,
          100,
          66,
          96,
          79,
          83,
          75,
          63,
          69,
          65,
          91,
          null,
          90,
          95,
          93,
          95,
          99,
          84,
          100,
          91,
          99,
          null,
          null,
          84,
          78,
          97,
          null,
          null,
          73,
          null,
          92,
          null,
          93,
          null,
          96,
          96,
          92,
          null,
          86,
          91,
          97,
          82,
          null,
          93,
          94,
          93,
          78,
          82,
          81,
          72,
          79,
          74,
          76,
          58,
          81,
          80,
          94,
          75,
          82,
          89,
          71,
          94,
          94,
          90,
          67,
          82,
          81,
          80,
          null,
          100,
          97,
          82,
          67,
          null,
          89,
          64,
          79,
          83,
          81,
          56,
          79,
          76,
          78,
          84,
          82,
          85,
          86,
          84,
          61,
          68,
          80,
          84,
          90,
          85,
          88,
          85,
          75,
          77,
          59,
          85,
          null,
          65,
          74,
          97,
          77,
          79,
          90,
          84,
          92,
          77,
          60,
          83,
          72,
          71,
          84,
          76,
          null,
          93,
          null,
          62,
          91,
          97,
          89,
          null,
          75,
          83,
          94,
          87,
          null,
          null,
          null,
          94,
          72,
          89,
          88,
          null,
          88,
          100,
          null,
          null,
          96,
          null,
          97,
          null,
          90,
          80,
          null,
          51,
          null,
          81,
          85,
          94,
          null,
          74,
          88,
          null,
          84,
          null,
          96,
          75,
          65,
          75,
          68,
          91,
          62,
          79,
          85,
          86,
          76,
          null,
          74,
          55,
          null,
          83,
          84,
          49,
          84,
          76,
          81,
          null,
          67,
          71,
          82,
          null,
          72,
          79,
          64,
          66,
          82,
          76,
          77,
          81,
          79,
          51,
          55,
          88,
          58,
          85,
          85,
          78,
          76,
          83,
          63,
          68,
          80,
          81,
          70,
          67,
          51,
          82,
          68,
          73,
          74,
          72,
          61,
          53,
          75,
          82,
          91,
          58,
          61,
          83,
          48,
          94,
          87,
          73,
          44,
          84,
          71,
          84,
          75,
          null,
          64,
          61,
          76,
          70,
          73,
          50,
          55,
          84,
          84,
          87,
          80,
          null,
          null,
          68,
          86,
          76,
          75,
          74,
          83,
          78,
          82,
          57,
          65,
          45,
          72,
          61,
          75,
          62,
          78,
          66,
          76,
          71,
          91,
          73,
          91,
          77,
          93,
          69,
          91,
          85,
          73,
          80,
          93,
          80,
          67,
          79,
          81,
          63,
          86,
          95,
          88,
          75,
          97,
          88,
          null,
          null,
          null,
          null,
          94,
          93,
          98,
          91,
          95,
          93,
          87,
          91,
          96,
          85,
          66,
          73,
          85,
          86,
          70,
          76,
          72,
          72,
          60,
          69,
          74,
          87,
          89,
          40,
          70,
          70,
          null,
          87,
          72,
          70,
          52,
          81,
          83,
          96,
          72,
          79,
          95,
          65,
          73,
          81,
          81,
          86,
          76,
          65,
          86,
          80,
          81,
          63,
          45,
          null,
          null,
          86,
          78,
          78,
          74,
          78,
          53,
          70,
          78,
          71,
          71,
          87,
          76,
          66,
          78,
          73,
          61,
          73,
          89,
          81,
          47,
          80,
          55,
          83,
          68,
          76,
          28,
          83,
          74,
          72,
          60,
          74,
          85,
          74,
          62,
          69,
          null,
          73,
          68,
          81,
          69,
          86,
          null,
          90,
          67,
          52,
          73,
          76,
          87,
          47,
          null,
          83,
          71,
          81,
          70,
          79,
          66,
          64,
          73,
          76,
          83,
          82,
          62,
          64,
          69,
          66,
          83,
          null,
          84,
          76,
          62,
          54,
          76,
          75,
          90,
          null,
          77,
          67,
          61,
          86,
          78,
          71,
          87,
          71,
          89,
          68,
          73,
          87,
          83,
          80,
          94,
          90,
          63,
          86,
          73,
          null,
          72,
          91,
          77,
          87,
          90,
          76,
          null,
          74,
          90,
          92,
          89,
          91,
          72,
          null,
          null,
          91,
          null,
          96,
          87,
          73,
          71,
          83,
          86,
          92,
          68,
          60,
          70,
          77,
          83,
          67,
          86,
          72,
          81,
          80,
          81,
          82,
          82,
          92,
          88,
          77,
          79,
          null,
          73,
          68,
          80,
          88,
          80,
          65,
          72,
          72,
          66,
          null,
          87,
          70,
          73,
          null,
          57,
          53,
          79,
          36,
          82,
          66,
          81,
          76,
          72,
          66,
          70,
          68,
          52,
          78,
          52,
          72,
          56,
          62,
          46,
          67,
          73,
          45,
          76,
          81,
          70,
          56,
          67,
          68,
          30,
          73,
          81,
          76,
          88,
          64,
          74,
          52,
          53,
          80,
          74,
          64,
          77,
          78,
          71,
          41,
          69,
          66,
          49,
          52,
          84,
          58,
          62,
          69,
          77,
          88,
          56,
          78,
          68,
          90,
          66,
          63,
          60,
          76,
          88,
          76,
          72,
          68,
          82,
          68,
          77,
          65,
          74,
          76,
          64,
          59,
          90,
          87,
          77,
          50,
          65,
          82,
          96,
          76,
          84,
          85,
          78,
          93
         ],
         "yaxis": "y"
        }
       ],
       "layout": {
        "legend": {
         "tracegroupgap": 0
        },
        "margin": {
         "t": 60
        },
        "template": {
         "data": {
          "bar": [
           {
            "error_x": {
             "color": "#2a3f5f"
            },
            "error_y": {
             "color": "#2a3f5f"
            },
            "marker": {
             "line": {
              "color": "#E5ECF6",
              "width": 0.5
             },
             "pattern": {
              "fillmode": "overlay",
              "size": 10,
              "solidity": 0.2
             }
            },
            "type": "bar"
           }
          ],
          "barpolar": [
           {
            "marker": {
             "line": {
              "color": "#E5ECF6",
              "width": 0.5
             },
             "pattern": {
              "fillmode": "overlay",
              "size": 10,
              "solidity": 0.2
             }
            },
            "type": "barpolar"
           }
          ],
          "carpet": [
           {
            "aaxis": {
             "endlinecolor": "#2a3f5f",
             "gridcolor": "white",
             "linecolor": "white",
             "minorgridcolor": "white",
             "startlinecolor": "#2a3f5f"
            },
            "baxis": {
             "endlinecolor": "#2a3f5f",
             "gridcolor": "white",
             "linecolor": "white",
             "minorgridcolor": "white",
             "startlinecolor": "#2a3f5f"
            },
            "type": "carpet"
           }
          ],
          "choropleth": [
           {
            "colorbar": {
             "outlinewidth": 0,
             "ticks": ""
            },
            "type": "choropleth"
           }
          ],
          "contour": [
           {
            "colorbar": {
             "outlinewidth": 0,
             "ticks": ""
            },
            "colorscale": [
             [
              0,
              "#0d0887"
             ],
             [
              0.1111111111111111,
              "#46039f"
             ],
             [
              0.2222222222222222,
              "#7201a8"
             ],
             [
              0.3333333333333333,
              "#9c179e"
             ],
             [
              0.4444444444444444,
              "#bd3786"
             ],
             [
              0.5555555555555556,
              "#d8576b"
             ],
             [
              0.6666666666666666,
              "#ed7953"
             ],
             [
              0.7777777777777778,
              "#fb9f3a"
             ],
             [
              0.8888888888888888,
              "#fdca26"
             ],
             [
              1,
              "#f0f921"
             ]
            ],
            "type": "contour"
           }
          ],
          "contourcarpet": [
           {
            "colorbar": {
             "outlinewidth": 0,
             "ticks": ""
            },
            "type": "contourcarpet"
           }
          ],
          "heatmap": [
           {
            "colorbar": {
             "outlinewidth": 0,
             "ticks": ""
            },
            "colorscale": [
             [
              0,
              "#0d0887"
             ],
             [
              0.1111111111111111,
              "#46039f"
             ],
             [
              0.2222222222222222,
              "#7201a8"
             ],
             [
              0.3333333333333333,
              "#9c179e"
             ],
             [
              0.4444444444444444,
              "#bd3786"
             ],
             [
              0.5555555555555556,
              "#d8576b"
             ],
             [
              0.6666666666666666,
              "#ed7953"
             ],
             [
              0.7777777777777778,
              "#fb9f3a"
             ],
             [
              0.8888888888888888,
              "#fdca26"
             ],
             [
              1,
              "#f0f921"
             ]
            ],
            "type": "heatmap"
           }
          ],
          "heatmapgl": [
           {
            "colorbar": {
             "outlinewidth": 0,
             "ticks": ""
            },
            "colorscale": [
             [
              0,
              "#0d0887"
             ],
             [
              0.1111111111111111,
              "#46039f"
             ],
             [
              0.2222222222222222,
              "#7201a8"
             ],
             [
              0.3333333333333333,
              "#9c179e"
             ],
             [
              0.4444444444444444,
              "#bd3786"
             ],
             [
              0.5555555555555556,
              "#d8576b"
             ],
             [
              0.6666666666666666,
              "#ed7953"
             ],
             [
              0.7777777777777778,
              "#fb9f3a"
             ],
             [
              0.8888888888888888,
              "#fdca26"
             ],
             [
              1,
              "#f0f921"
             ]
            ],
            "type": "heatmapgl"
           }
          ],
          "histogram": [
           {
            "marker": {
             "pattern": {
              "fillmode": "overlay",
              "size": 10,
              "solidity": 0.2
             }
            },
            "type": "histogram"
           }
          ],
          "histogram2d": [
           {
            "colorbar": {
             "outlinewidth": 0,
             "ticks": ""
            },
            "colorscale": [
             [
              0,
              "#0d0887"
             ],
             [
              0.1111111111111111,
              "#46039f"
             ],
             [
              0.2222222222222222,
              "#7201a8"
             ],
             [
              0.3333333333333333,
              "#9c179e"
             ],
             [
              0.4444444444444444,
              "#bd3786"
             ],
             [
              0.5555555555555556,
              "#d8576b"
             ],
             [
              0.6666666666666666,
              "#ed7953"
             ],
             [
              0.7777777777777778,
              "#fb9f3a"
             ],
             [
              0.8888888888888888,
              "#fdca26"
             ],
             [
              1,
              "#f0f921"
             ]
            ],
            "type": "histogram2d"
           }
          ],
          "histogram2dcontour": [
           {
            "colorbar": {
             "outlinewidth": 0,
             "ticks": ""
            },
            "colorscale": [
             [
              0,
              "#0d0887"
             ],
             [
              0.1111111111111111,
              "#46039f"
             ],
             [
              0.2222222222222222,
              "#7201a8"
             ],
             [
              0.3333333333333333,
              "#9c179e"
             ],
             [
              0.4444444444444444,
              "#bd3786"
             ],
             [
              0.5555555555555556,
              "#d8576b"
             ],
             [
              0.6666666666666666,
              "#ed7953"
             ],
             [
              0.7777777777777778,
              "#fb9f3a"
             ],
             [
              0.8888888888888888,
              "#fdca26"
             ],
             [
              1,
              "#f0f921"
             ]
            ],
            "type": "histogram2dcontour"
           }
          ],
          "mesh3d": [
           {
            "colorbar": {
             "outlinewidth": 0,
             "ticks": ""
            },
            "type": "mesh3d"
           }
          ],
          "parcoords": [
           {
            "line": {
             "colorbar": {
              "outlinewidth": 0,
              "ticks": ""
             }
            },
            "type": "parcoords"
           }
          ],
          "pie": [
           {
            "automargin": true,
            "type": "pie"
           }
          ],
          "scatter": [
           {
            "fillpattern": {
             "fillmode": "overlay",
             "size": 10,
             "solidity": 0.2
            },
            "type": "scatter"
           }
          ],
          "scatter3d": [
           {
            "line": {
             "colorbar": {
              "outlinewidth": 0,
              "ticks": ""
             }
            },
            "marker": {
             "colorbar": {
              "outlinewidth": 0,
              "ticks": ""
             }
            },
            "type": "scatter3d"
           }
          ],
          "scattercarpet": [
           {
            "marker": {
             "colorbar": {
              "outlinewidth": 0,
              "ticks": ""
             }
            },
            "type": "scattercarpet"
           }
          ],
          "scattergeo": [
           {
            "marker": {
             "colorbar": {
              "outlinewidth": 0,
              "ticks": ""
             }
            },
            "type": "scattergeo"
           }
          ],
          "scattergl": [
           {
            "marker": {
             "colorbar": {
              "outlinewidth": 0,
              "ticks": ""
             }
            },
            "type": "scattergl"
           }
          ],
          "scattermapbox": [
           {
            "marker": {
             "colorbar": {
              "outlinewidth": 0,
              "ticks": ""
             }
            },
            "type": "scattermapbox"
           }
          ],
          "scatterpolar": [
           {
            "marker": {
             "colorbar": {
              "outlinewidth": 0,
              "ticks": ""
             }
            },
            "type": "scatterpolar"
           }
          ],
          "scatterpolargl": [
           {
            "marker": {
             "colorbar": {
              "outlinewidth": 0,
              "ticks": ""
             }
            },
            "type": "scatterpolargl"
           }
          ],
          "scatterternary": [
           {
            "marker": {
             "colorbar": {
              "outlinewidth": 0,
              "ticks": ""
             }
            },
            "type": "scatterternary"
           }
          ],
          "surface": [
           {
            "colorbar": {
             "outlinewidth": 0,
             "ticks": ""
            },
            "colorscale": [
             [
              0,
              "#0d0887"
             ],
             [
              0.1111111111111111,
              "#46039f"
             ],
             [
              0.2222222222222222,
              "#7201a8"
             ],
             [
              0.3333333333333333,
              "#9c179e"
             ],
             [
              0.4444444444444444,
              "#bd3786"
             ],
             [
              0.5555555555555556,
              "#d8576b"
             ],
             [
              0.6666666666666666,
              "#ed7953"
             ],
             [
              0.7777777777777778,
              "#fb9f3a"
             ],
             [
              0.8888888888888888,
              "#fdca26"
             ],
             [
              1,
              "#f0f921"
             ]
            ],
            "type": "surface"
           }
          ],
          "table": [
           {
            "cells": {
             "fill": {
              "color": "#EBF0F8"
             },
             "line": {
              "color": "white"
             }
            },
            "header": {
             "fill": {
              "color": "#C8D4E3"
             },
             "line": {
              "color": "white"
             }
            },
            "type": "table"
           }
          ]
         },
         "layout": {
          "annotationdefaults": {
           "arrowcolor": "#2a3f5f",
           "arrowhead": 0,
           "arrowwidth": 1
          },
          "autotypenumbers": "strict",
          "coloraxis": {
           "colorbar": {
            "outlinewidth": 0,
            "ticks": ""
           }
          },
          "colorscale": {
           "diverging": [
            [
             0,
             "#8e0152"
            ],
            [
             0.1,
             "#c51b7d"
            ],
            [
             0.2,
             "#de77ae"
            ],
            [
             0.3,
             "#f1b6da"
            ],
            [
             0.4,
             "#fde0ef"
            ],
            [
             0.5,
             "#f7f7f7"
            ],
            [
             0.6,
             "#e6f5d0"
            ],
            [
             0.7,
             "#b8e186"
            ],
            [
             0.8,
             "#7fbc41"
            ],
            [
             0.9,
             "#4d9221"
            ],
            [
             1,
             "#276419"
            ]
           ],
           "sequential": [
            [
             0,
             "#0d0887"
            ],
            [
             0.1111111111111111,
             "#46039f"
            ],
            [
             0.2222222222222222,
             "#7201a8"
            ],
            [
             0.3333333333333333,
             "#9c179e"
            ],
            [
             0.4444444444444444,
             "#bd3786"
            ],
            [
             0.5555555555555556,
             "#d8576b"
            ],
            [
             0.6666666666666666,
             "#ed7953"
            ],
            [
             0.7777777777777778,
             "#fb9f3a"
            ],
            [
             0.8888888888888888,
             "#fdca26"
            ],
            [
             1,
             "#f0f921"
            ]
           ],
           "sequentialminus": [
            [
             0,
             "#0d0887"
            ],
            [
             0.1111111111111111,
             "#46039f"
            ],
            [
             0.2222222222222222,
             "#7201a8"
            ],
            [
             0.3333333333333333,
             "#9c179e"
            ],
            [
             0.4444444444444444,
             "#bd3786"
            ],
            [
             0.5555555555555556,
             "#d8576b"
            ],
            [
             0.6666666666666666,
             "#ed7953"
            ],
            [
             0.7777777777777778,
             "#fb9f3a"
            ],
            [
             0.8888888888888888,
             "#fdca26"
            ],
            [
             1,
             "#f0f921"
            ]
           ]
          },
          "colorway": [
           "#636efa",
           "#EF553B",
           "#00cc96",
           "#ab63fa",
           "#FFA15A",
           "#19d3f3",
           "#FF6692",
           "#B6E880",
           "#FF97FF",
           "#FECB52"
          ],
          "font": {
           "color": "#2a3f5f"
          },
          "geo": {
           "bgcolor": "white",
           "lakecolor": "white",
           "landcolor": "#E5ECF6",
           "showlakes": true,
           "showland": true,
           "subunitcolor": "white"
          },
          "hoverlabel": {
           "align": "left"
          },
          "hovermode": "closest",
          "mapbox": {
           "style": "light"
          },
          "paper_bgcolor": "white",
          "plot_bgcolor": "#E5ECF6",
          "polar": {
           "angularaxis": {
            "gridcolor": "white",
            "linecolor": "white",
            "ticks": ""
           },
           "bgcolor": "#E5ECF6",
           "radialaxis": {
            "gridcolor": "white",
            "linecolor": "white",
            "ticks": ""
           }
          },
          "scene": {
           "xaxis": {
            "backgroundcolor": "#E5ECF6",
            "gridcolor": "white",
            "gridwidth": 2,
            "linecolor": "white",
            "showbackground": true,
            "ticks": "",
            "zerolinecolor": "white"
           },
           "yaxis": {
            "backgroundcolor": "#E5ECF6",
            "gridcolor": "white",
            "gridwidth": 2,
            "linecolor": "white",
            "showbackground": true,
            "ticks": "",
            "zerolinecolor": "white"
           },
           "zaxis": {
            "backgroundcolor": "#E5ECF6",
            "gridcolor": "white",
            "gridwidth": 2,
            "linecolor": "white",
            "showbackground": true,
            "ticks": "",
            "zerolinecolor": "white"
           }
          },
          "shapedefaults": {
           "line": {
            "color": "#2a3f5f"
           }
          },
          "ternary": {
           "aaxis": {
            "gridcolor": "white",
            "linecolor": "white",
            "ticks": ""
           },
           "baxis": {
            "gridcolor": "white",
            "linecolor": "white",
            "ticks": ""
           },
           "bgcolor": "#E5ECF6",
           "caxis": {
            "gridcolor": "white",
            "linecolor": "white",
            "ticks": ""
           }
          },
          "title": {
           "x": 0.05
          },
          "xaxis": {
           "automargin": true,
           "gridcolor": "white",
           "linecolor": "white",
           "ticks": "",
           "title": {
            "standoff": 15
           },
           "zerolinecolor": "white",
           "zerolinewidth": 2
          },
          "yaxis": {
           "automargin": true,
           "gridcolor": "white",
           "linecolor": "white",
           "ticks": "",
           "title": {
            "standoff": 15
           },
           "zerolinecolor": "white",
           "zerolinewidth": 2
          }
         }
        },
        "xaxis": {
         "anchor": "y",
         "domain": [
          0,
          1
         ],
         "title": {
          "text": "IMDB_Rating"
         }
        },
        "yaxis": {
         "anchor": "x",
         "domain": [
          0,
          1
         ],
         "title": {
          "text": "Meta_score"
         }
        }
       }
      },
      "text/html": [
       "<div>                            <div id=\"72457044-a765-46c8-b16a-3dc4d4ceb032\" class=\"plotly-graph-div\" style=\"height:525px; width:100%;\"></div>            <script type=\"text/javascript\">                require([\"plotly\"], function(Plotly) {                    window.PLOTLYENV=window.PLOTLYENV || {};                                    if (document.getElementById(\"72457044-a765-46c8-b16a-3dc4d4ceb032\")) {                    Plotly.newPlot(                        \"72457044-a765-46c8-b16a-3dc4d4ceb032\",                        [{\"customdata\":[[\"The Shawshank Redemption\"],[\"The Godfather\"],[\"The Dark Knight\"],[\"The Godfather: Part II\"],[\"12 Angry Men\"],[\"The Lord of the Rings: The Return of the King\"],[\"Pulp Fiction\"],[\"Schindler's List\"],[\"Inception\"],[\"Fight Club\"],[\"The Lord of the Rings: The Fellowship of the Ring\"],[\"Forrest Gump\"],[\"Il buono, il brutto, il cattivo\"],[\"The Lord of the Rings: The Two Towers\"],[\"The Matrix\"],[\"Goodfellas\"],[\"Star Wars: Episode V - The Empire Strikes Back\"],[\"One Flew Over the Cuckoo's Nest\"],[\"Hamilton\"],[\"Gisaengchung\"],[\"Soorarai Pottru\"],[\"Interstellar\"],[\"Cidade de Deus\"],[\"Sen to Chihiro no kamikakushi\"],[\"Saving Private Ryan\"],[\"The Green Mile\"],[\"La vita \\u00e8 bella\"],[\"Se7en\"],[\"The Silence of the Lambs\"],[\"Star Wars\"],[\"Seppuku\"],[\"Shichinin no samurai\"],[\"It's a Wonderful Life\"],[\"Joker\"],[\"Whiplash\"],[\"The Intouchables\"],[\"The Prestige\"],[\"The Departed\"],[\"The Pianist\"],[\"Gladiator\"],[\"American History X\"],[\"The Usual Suspects\"],[\"L\\u00e9on\"],[\"The Lion King\"],[\"Terminator 2: Judgment Day\"],[\"Nuovo Cinema Paradiso\"],[\"Hotaru no haka\"],[\"Back to the Future\"],[\"Once Upon a Time in the West\"],[\"Psycho\"],[\"Casablanca\"],[\"Modern Times\"],[\"City Lights\"],[\"Capharna\\u00fcm\"],[\"Ayla: The Daughter of War\"],[\"Vikram Vedha\"],[\"Kimi no na wa.\"],[\"Dangal\"],[\"Spider-Man: Into the Spider-Verse\"],[\"Avengers: Endgame\"],[\"Avengers: Infinity War\"],[\"Coco\"],[\"Django Unchained\"],[\"The Dark Knight Rises\"],[\"3 Idiots\"],[\"Taare Zameen Par\"],[\"WALL\\u00b7E\"],[\"The Lives of Others\"],[\"Oldeuboi\"],[\"Memento\"],[\"Mononoke-hime\"],[\"Once Upon a Time in America\"],[\"Raiders of the Lost Ark\"],[\"The Shining\"],[\"Apocalypse Now\"],[\"Alien\"],[\"Anand\"],[\"Tengoku to jigoku\"],[\"Dr. Strangelove or: How I Learned to Stop Worrying and Love the Bomb\"],[\"Witness for the Prosecution\"],[\"Paths of Glory\"],[\"Rear Window\"],[\"Sunset Blvd.\"],[\"The Great Dictator\"],[\"1917\"],[\"Tumbbad\"],[\"Andhadhun\"],[\"Drishyam\"],[\"Jagten\"],[\"Jodaeiye Nader az Simin\"],[\"Incendies\"],[\"Miracle in cell NO.7\"],[\"Babam ve Oglum\"],[\"Inglourious Basterds\"],[\"Eternal Sunshine of the Spotless Mind\"],[\"Am\\u00e9lie\"],[\"Snatch\"],[\"Requiem for a Dream\"],[\"American Beauty\"],[\"Good Will Hunting\"],[\"Bacheha-Ye aseman\"],[\"Toy Story\"],[\"Braveheart\"],[\"Reservoir Dogs\"],[\"Full Metal Jacket\"],[\"Idi i smotri\"],[\"Aliens\"],[\"Amadeus\"],[\"Scarface\"],[\"Star Wars: Episode VI - Return of the Jedi\"],[\"Das Boot\"],[\"Taxi Driver\"],[\"The Sting\"],[\"A Clockwork Orange\"],[\"2001: A Space Odyssey\"],[\"Per qualche dollaro in pi\\u00f9\"],[\"Lawrence of Arabia\"],[\"The Apartment\"],[\"North by Northwest\"],[\"Vertigo\"],[\"Singin' in the Rain\"],[\"Ikiru\"],[\"Ladri di biciclette\"],[\"Double Indemnity\"],[\"Citizen Kane\"],[\"M - Eine Stadt sucht einen M\\u00f6rder\"],[\"Metropolis\"],[\"The Kid\"],[\"Chhichhore\"],[\"Uri: The Surgical Strike\"],[\"K.G.F: Chapter 1\"],[\"Green Book\"],[\"Three Billboards Outside Ebbing, Missouri\"],[\"Talvar\"],[\"Baahubali 2: The Conclusion\"],[\"Klaus\"],[\"Drishyam\"],[\"Queen\"],[\"Mandariinid\"],[\"Bhaag Milkha Bhaag\"],[\"Gangs of Wasseypur\"],[\"Udaan\"],[\"Paan Singh Tomar\"],[\"El secreto de sus ojos\"],[\"Warrior\"],[\"Shutter Island\"],[\"Up\"],[\"The Wolf of Wall Street\"],[\"Chak De! India\"],[\"There Will Be Blood\"],[\"Pan's Labyrinth\"],[\"Toy Story 3\"],[\"V for Vendetta\"],[\"Rang De Basanti\"],[\"Black\"],[\"Batman Begins\"],[\"Swades: We, the People\"],[\"Der Untergang\"],[\"Hauru no ugoku shiro\"],[\"A Beautiful Mind\"],[\"Hera Pheri\"],[\"Lock, Stock and Two Smoking Barrels\"],[\"L.A. Confidential\"],[\"Eskiya\"],[\"Heat\"],[\"Casino\"],[\"Andaz Apna Apna\"],[\"Unforgiven\"],[\"Indiana Jones and the Last Crusade\"],[\"Dom za vesanje\"],[\"Tonari no Totoro\"],[\"Die Hard\"],[\"Ran\"],[\"Raging Bull\"],[\"Stalker\"],[\"H\\u00f6stsonaten\"],[\"The Message\"],[\"Sholay\"],[\"Monty Python and the Holy Grail\"],[\"The Great Escape\"],[\"To Kill a Mockingbird\"],[\"Y\\u00f4jinb\\u00f4\"],[\"Judgment at Nuremberg\"],[\"Some Like It Hot\"],[\"Smultronst\\u00e4llet\"],[\"Det sjunde inseglet\"],[\"Du rififi chez les hommes\"],[\"Dial M for Murder\"],[\"T\\u00f4ky\\u00f4 monogatari\"],[\"Rash\\u00f4mon\"],[\"All About Eve\"],[\"The Treasure of the Sierra Madre\"],[\"To Be or Not to Be\"],[\"The Gold Rush\"],[\"Sherlock Jr.\"],[\"Portrait de la jeune fille en feu\"],[\"Pink\"],[\"Koe no katachi\"],[\"Contratiempo\"],[\"Ah-ga-ssi\"],[\"Mommy\"],[\"Haider\"],[\"Logan\"],[\"Room\"],[\"Relatos salvajes\"],[\"Soul\"],[\"Kis Uykusu\"],[\"PK\"],[\"OMG: Oh My God!\"],[\"The Grand Budapest Hotel\"],[\"Gone Girl\"],[\"\\u00d4kami kodomo no Ame to Yuki\"],[\"Hacksaw Ridge\"],[\"Inside Out\"],[\"Barfi!\"],[\"12 Years a Slave\"],[\"Rush\"],[\"Ford v Ferrari\"],[\"Spotlight\"],[\"Song of the Sea\"],[\"Kahaani\"],[\"Zindagi Na Milegi Dobara\"],[\"Prisoners\"],[\"Mad Max: Fury Road\"],[\"A Wednesday\"],[\"Gran Torino\"],[\"Harry Potter and the Deathly Hallows: Part 2\"],[\"Okuribito\"],[\"Hachi: A Dog's Tale\"],[\"Mary and Max\"],[\"How to Train Your Dragon\"],[\"Into the Wild\"],[\"No Country for Old Men\"],[\"Lage Raho Munna Bhai\"],[\"Million Dollar Baby\"],[\"Hotel Rwanda\"],[\"Taegukgi hwinalrimyeo\"],[\"Before Sunset\"],[\"Munna Bhai M.B.B.S.\"],[\"Salinui chueok\"],[\"Dil Chahta Hai\"],[\"Kill Bill: Vol. 1\"],[\"Finding Nemo\"],[\"Catch Me If You Can\"],[\"Amores perros\"],[\"Monsters, Inc.\"],[\"Shin seiki Evangelion Gekij\\u00f4-ban: Air/Magokoro wo, kimi ni\"],[\"Lagaan: Once Upon a Time in India\"],[\"The Sixth Sense\"],[\"La leggenda del pianista sull'oceano\"],[\"The Truman Show\"],[\"Crna macka, beli macor\"],[\"The Big Lebowski\"],[\"Fa yeung nin wah\"],[\"Trainspotting\"],[\"Fargo\"],[\"Underground\"],[\"La haine\"],[\"Dilwale Dulhania Le Jayenge\"],[\"Before Sunrise\"],[\"Trois couleurs: Rouge\"],[\"Chung Hing sam lam\"],[\"Jurassic Park\"],[\"In the Name of the Father\"],[\"Ba wang bie ji\"],[\"D\\u00e0 h\\u00f3ng denglong gaogao gu\\u00e0\"],[\"Dead Poets Society\"],[\"Stand by Me\"],[\"Platoon\"],[\"Paris, Texas\"],[\"Kaze no tani no Naushika\"],[\"The Thing\"],[\"Pink Floyd: The Wall\"],[\"Fitzcarraldo\"],[\"Fanny och Alexander\"],[\"Blade Runner\"],[\"The Elephant Man\"],[\"Life of Brian\"],[\"The Deer Hunter\"],[\"Rocky\"],[\"Network\"],[\"Barry Lyndon\"],[\"Zerkalo\"],[\"Chinatown\"],[\"Paper Moon\"],[\"Viskningar och rop\"],[\"Solaris\"],[\"Le samoura\\u00ef\"],[\"Cool Hand Luke\"],[\"Persona\"],[\"Andrei Rublev\"],[\"La battaglia di Algeri\"],[\"El \\u00e1ngel exterminador\"],[\"What Ever Happened to Baby Jane?\"],[\"Sanjuro\"],[\"The Man Who Shot Liberty Valance\"],[\"Ivanovo detstvo\"],[\"Jungfruk\\u00e4llan\"],[\"Inherit the Wind\"],[\"Les quatre cents coups\"],[\"Ben-Hur\"],[\"Kakushi-toride no san-akunin\"],[\"Le notti di Cabiria\"],[\"Kumonosu-j\\u00f4\"],[\"The Bridge on the River Kwai\"],[\"On the Waterfront\"],[\"Le salaire de la peur\"],[\"Ace in the Hole\"],[\"White Heat\"],[\"The Third Man\"],[\"The Red Shoes\"],[\"The Shop Around the Corner\"],[\"Rebecca\"],[\"Mr. Smith Goes to Washington\"],[\"Gone with the Wind\"],[\"La Grande Illusion\"],[\"It Happened One Night\"],[\"La passion de Jeanne d'Arc\"],[\"The Circus\"],[\"Sunrise: A Song of Two Humans\"],[\"The General\"],[\"Das Cabinet des Dr. Caligari\"],[\"Badhaai ho\"],[\"Togo\"],[\"Airlift\"],[\"Bajrangi Bhaijaan\"],[\"Baby\"],[\"La La Land\"],[\"Lion\"],[\"The Martian\"],[\"Zootopia\"],[\"B\\u00e3hubali: The Beginning\"],[\"Kaguyahime no monogatari\"],[\"Wonder\"],[\"Gully Boy\"],[\"Special Chabbis\"],[\"Short Term 12\"],[\"Serbuan maut 2: Berandal\"],[\"The Imitation Game\"],[\"Guardians of the Galaxy\"],[\"Blade Runner 2049\"],[\"Her\"],[\"Bohemian Rhapsody\"],[\"The Revenant\"],[\"The Perks of Being a Wallflower\"],[\"Tropa de Elite 2: O Inimigo Agora \\u00e9 Outro\"],[\"The King's Speech\"],[\"The Help\"],[\"Deadpool\"],[\"Darbareye Elly\"],[\"Dev.D\"],[\"Yip Man\"],[\"My Name Is Khan\"],[\"Nefes: Vatan Sagolsun\"],[\"Slumdog Millionaire\"],[\"Black Swan\"],[\"Tropa de Elite\"],[\"The Avengers\"],[\"Persepolis\"],[\"Dallas Buyers Club\"],[\"The Pursuit of Happyness\"],[\"Blood Diamond\"],[\"The Bourne Ultimatum\"],[\"Bin-jip\"],[\"Sin City\"],[\"Le scaphandre et le papillon\"],[\"G.O.R.A.\"],[\"Ratatouille\"],[\"Casino Royale\"],[\"Kill Bill: Vol. 2\"],[\"Vozvrashchenie\"],[\"Bom Yeoareum Gaeul Gyeoul Geurigo Bom\"],[\"Mar adentro\"],[\"Cinderella Man\"],[\"Kal Ho Naa Ho\"],[\"Mou gaan dou\"],[\"Pirates of the Caribbean: The Curse of the Black Pearl\"],[\"Big Fish\"],[\"The Incredibles\"],[\"Yeopgijeogin geunyeo\"],[\"Dogville\"],[\"Vizontele\"],[\"Donnie Darko\"],[\"Magnolia\"],[\"Dancer in the Dark\"],[\"The Straight Story\"],[\"P\\u00e2fekuto bur\\u00fb\"],[\"Festen\"],[\"Central do Brasil\"],[\"The Iron Giant\"],[\"Knockin' on Heaven's Door\"],[\"Sling Blade\"],[\"Secrets & Lies\"],[\"Twelve Monkeys\"],[\"K\\u00f4kaku Kid\\u00f4tai\"],[\"The Nightmare Before Christmas\"],[\"Groundhog Day\"],[\"Bound by Honor\"],[\"Scent of a Woman\"],[\"Aladdin\"],[\"JFK\"],[\"Beauty and the Beast\"],[\"Dances with Wolves\"],[\"Do the Right Thing\"],[\"Rain Man\"],[\"Akira\"],[\"The Princess Bride\"],[\"Der Himmel \\u00fcber Berlin\"],[\"Au revoir les enfants\"],[\"Tenk\\u00fb no shiro Rapyuta\"],[\"The Terminator\"],[\"Gandhi\"],[\"Kagemusha\"],[\"Being There\"],[\"Annie Hall\"],[\"Jaws\"],[\"Dog Day Afternoon\"],[\"Young Frankenstein\"],[\"Papillon\"],[\"The Exorcist\"],[\"Sleuth\"],[\"The Last Picture Show\"],[\"Fiddler on the Roof\"],[\"Il conformista\"],[\"Butch Cassidy and the Sundance Kid\"],[\"Rosemary's Baby\"],[\"Planet of the Apes\"],[\"The Graduate\"],[\"Who's Afraid of Virginia Woolf?\"],[\"The Sound of Music\"],[\"Doctor Zhivago\"],[\"Per un pugno di dollari\"],[\"8\\u00bd\"],[\"Vivre sa vie: Film en douze tableaux\"],[\"The Hustler\"],[\"La dolce vita\"],[\"Rio Bravo\"],[\"Anatomy of a Murder\"],[\"Touch of Evil\"],[\"Cat on a Hot Tin Roof\"],[\"Sweet Smell of Success\"],[\"The Killing\"],[\"The Night of the Hunter\"],[\"La Strada\"],[\"Les diaboliques\"],[\"Stalag 17\"],[\"Roman Holiday\"],[\"A Streetcar Named Desire\"],[\"In a Lonely Place\"],[\"Kind Hearts and Coronets\"],[\"Rope\"],[\"Out of the Past\"],[\"Brief Encounter\"],[\"Laura\"],[\"The Best Years of Our Lives\"],[\"Arsenic and Old Lace\"],[\"The Maltese Falcon\"],[\"The Grapes of Wrath\"],[\"The Wizard of Oz\"],[\"La r\\u00e8gle du jeu\"],[\"The Thin Man\"],[\"All Quiet on the Western Front\"],[\"Bronenosets Potemkin\"],[\"Knives Out\"],[\"Dil Bechara\"],[\"Manbiki kazoku\"],[\"Marriage Story\"],[\"Call Me by Your Name\"],[\"I, Daniel Blake\"],[\"Isle of Dogs\"],[\"Hunt for the Wilderpeople\"],[\"Captain Fantastic\"],[\"Sing Street\"],[\"Thor: Ragnarok\"],[\"Nightcrawler\"],[\"Jojo Rabbit\"],[\"Arrival\"],[\"Star Wars: Episode VII - The Force Awakens\"],[\"Before Midnight\"],[\"X-Men: Days of Future Past\"],[\"Bir Zamanlar Anadolu'da\"],[\"The Artist\"],[\"Edge of Tomorrow\"],[\"Amour\"],[\"The Irishman\"],[\"Un proph\\u00e8te\"],[\"Moon\"],[\"L\\u00e5t den r\\u00e4tte komma in\"],[\"District 9\"],[\"The Wrestler\"],[\"Jab We Met\"],[\"Boyhood\"],[\"4 luni, 3 saptam\\u00e2ni si 2 zile\"],[\"Star Trek\"],[\"In Bruges\"],[\"The Man from Earth\"],[\"Letters from Iwo Jima\"],[\"The Fall\"],[\"Life of Pi\"],[\"Fantastic Mr. Fox\"],[\"C.R.A.Z.Y.\"],[\"Les choristes\"],[\"Iron Man\"],[\"Shaun of the Dead\"],[\"Gegen die Wand\"],[\"Mystic River\"],[\"Harry Potter and the Prisoner of Azkaban\"],[\"Ying xiong\"],[\"Hable con ella\"],[\"No Man's Land\"],[\"Cowboy Bebop: Tengoku no tobira\"],[\"The Bourne Identity\"],[\"Nueve reinas\"],[\"Children of Men\"],[\"Almost Famous\"],[\"Mulholland Dr.\"],[\"Toy Story 2\"],[\"Boogie Nights\"],[\"Mimi wo sumaseba\"],[\"Once Were Warriors\"],[\"True Romance\"],[\"Trois couleurs: Bleu\"],[\"J\\u00fbb\\u00ea ninp\\u00fbch\\u00f4\"],[\"Carlito's Way\"],[\"Edward Scissorhands\"],[\"My Left Foot: The Story of Christy Brown\"],[\"Crimes and Misdemeanors\"],[\"The Untouchables\"],[\"Hannah and Her Sisters\"],[\"Brazil\"],[\"This Is Spinal Tap\"],[\"A Christmas Story\"],[\"The Blues Brothers\"],[\"Manhattan\"],[\"All That Jazz\"],[\"Dawn of the Dead\"],[\"All the President's Men\"],[\"La monta\\u00f1a sagrada\"],[\"Amarcord\"],[\"Le charme discret de la bourgeoisie\"],[\"Aguirre, der Zorn Gottes\"],[\"Harold and Maude\"],[\"Patton\"],[\"The Wild Bunch\"],[\"Night of the Living Dead\"],[\"The Lion in Winter\"],[\"In the Heat of the Night\"],[\"Charade\"],[\"The Manchurian Candidate\"],[\"Spartacus\"],[\"L'avventura\"],[\"Hiroshima mon amour\"],[\"The Ten Commandments\"],[\"The Searchers\"],[\"East of Eden\"],[\"High Noon\"],[\"Strangers on a Train\"],[\"Harvey\"],[\"Miracle on 34th Street\"],[\"Notorious\"],[\"The Big Sleep\"],[\"The Lost Weekend\"],[\"The Philadelphia Story\"],[\"His Girl Friday\"],[\"The Adventures of Robin Hood\"],[\"A Night at the Opera\"],[\"King Kong\"],[\"Freaks\"],[\"Nosferatu\"],[\"The Gentlemen\"],[\"Raazi\"],[\"Sound of Metal\"],[\"Forushande\"],[\"Dunkirk\"],[\"Perfetti sconosciuti\"],[\"Hidden Figures\"],[\"Paddington 2\"],[\"Udta Punjab\"],[\"Kubo and the Two Strings\"],[\"M.S. Dhoni: The Untold Story\"],[\"Manchester by the Sea\"],[\"Under sandet\"],[\"Rogue One\"],[\"Captain America: Civil War\"],[\"The Hateful Eight\"],[\"Little Women\"],[\"Loving Vincent\"],[\"Pride\"],[\"Le pass\\u00e9\"],[\"La grande bellezza\"],[\"The Lunchbox\"],[\"Vicky Donor\"],[\"Big Hero 6\"],[\"About Time\"],[\"English Vinglish\"],[\"Kaze tachinu\"],[\"Toy Story 4\"],[\"La migliore offerta\"],[\"Moonrise Kingdom\"],[\"How to Train Your Dragon 2\"],[\"The Big Short\"],[\"Kokuhaku\"],[\"Ang-ma-reul bo-at-da\"],[\"The Girl with the Dragon Tattoo\"],[\"Captain Phillips\"],[\"Ajeossi\"],[\"Straight Outta Compton\"],[\"Madeo\"],[\"Chugyeokja\"],[\"The Hobbit: The Desolation of Smaug\"],[\"Das wei\\u00dfe Band - Eine deutsche Kindergeschichte\"],[\"M\\u00e4n som hatar kvinnor\"],[\"The Trial of the Chicago 7\"],[\"Druk\"],[\"The Fighter\"],[\"Taken\"],[\"The Boy in the Striped Pyjamas\"],[\"Once\"],[\"The Hobbit: An Unexpected Journey\"],[\"Auf der anderen Seite\"],[\"Atonement\"],[\"Drive\"],[\"American Gangster\"],[\"Avatar\"],[\"Mr. Nobody\"],[\"Apocalypto\"],[\"Little Miss Sunshine\"],[\"Hot Fuzz\"],[\"The Curious Case of Benjamin Button\"],[\"Veer-Zaara\"],[\"Adams \\u00e6bler\"],[\"Pride & Prejudice\"],[\"The World's Fastest Indian\"],[\"T\\u00f4ky\\u00f4 goddof\\u00e2z\\u00e2zu\"],[\"Serenity\"],[\"Walk the Line\"],[\"Ondskan\"],[\"The Notebook\"],[\"Diarios de motocicleta\"],[\"Lilja 4-ever\"],[\"Les triplettes de Belleville\"],[\"Gongdong gyeongbi guyeok JSA\"],[\"The Count of Monte Cristo\"],[\"Waking Life\"],[\"Remember the Titans\"],[\"Wo hu cang long\"],[\"Todo sobre mi madre\"],[\"Cast Away\"],[\"The Boondock Saints\"],[\"The Insider\"],[\"October Sky\"],[\"Shrek\"],[\"Titanic\"],[\"Hana-bi\"],[\"Gattaca\"],[\"The Game\"],[\"Breaking the Waves\"],[\"Ed Wood\"],[\"What's Eating Gilbert Grape\"],[\"Tombstone\"],[\"The Sandlot\"],[\"The Remains of the Day\"],[\"Naked\"],[\"The Fugitive\"],[\"A Bronx Tale\"],[\"Batman: Mask of the Phantasm\"],[\"Lat sau san taam\"],[\"Night on Earth\"],[\"La double vie de V\\u00e9ronique\"],[\"Boyz n the Hood\"],[\"Misery\"],[\"Awakenings\"],[\"Majo no takky\\u00fbbin\"],[\"Glory\"],[\"Dip huet seung hung\"],[\"Back to the Future Part II\"],[\"Mississippi Burning\"],[\"Predator\"],[\"Evil Dead II\"],[\"Ferris Bueller's Day Off\"],[\"Down by Law\"],[\"The Goonies\"],[\"The Color Purple\"],[\"The Breakfast Club\"],[\"The Killing Fields\"],[\"Ghostbusters\"],[\"The Right Stuff\"],[\"The King of Comedy\"],[\"E.T. the Extra-Terrestrial\"],[\"Kramer vs. Kramer\"],[\"Days of Heaven\"],[\"The Outlaw Josey Wales\"],[\"The Man Who Would Be King\"],[\"The Conversation\"],[\"La plan\\u00e8te sauvage\"],[\"The Day of the Jackal\"],[\"Badlands\"],[\"Cabaret\"],[\"Willy Wonka & the Chocolate Factory\"],[\"Midnight Cowboy\"],[\"Wait Until Dark\"],[\"Guess Who's Coming to Dinner\"],[\"Bonnie and Clyde\"],[\"My Fair Lady\"],[\"Mary Poppins\"],[\"The Longest Day\"],[\"Jules et Jim\"],[\"The Innocents\"],[\"\\u00c0 bout de souffle\"],[\"Red River\"],[\"Key Largo\"],[\"To Have and Have Not\"],[\"Shadow of a Doubt\"],[\"Stagecoach\"],[\"The Lady Vanishes\"],[\"Bringing Up Baby\"],[\"Bride of Frankenstein\"],[\"Duck Soup\"],[\"Scarface: The Shame of the Nation\"],[\"Frankenstein\"],[\"Roma\"],[\"God's Own Country\"],[\"Deadpool 2\"],[\"Wind River\"],[\"Get Out\"],[\"Mission: Impossible - Fallout\"],[\"En man som heter Ove\"],[\"What We Do in the Shadows\"],[\"Omoide no M\\u00e2n\\u00ee\"],[\"The Theory of Everything\"],[\"Kingsman: The Secret Service\"],[\"The Fault in Our Stars\"],[\"Me and Earl and the Dying Girl\"],[\"Birdman or (The Unexpected Virtue of Ignorance)\"],[\"La vie d'Ad\\u00e8le\"],[\"Kai po che!\"],[\"The Broken Circle Breakdown\"],[\"Captain America: The Winter Soldier\"],[\"Rockstar\"],[\"Nebraska\"],[\"Wreck-It Ralph\"],[\"Le Petit Prince\"],[\"Detachment\"],[\"Midnight in Paris\"],[\"The Lego Movie\"],[\"Gravity\"],[\"Star Trek Into Darkness\"],[\"Beasts of No Nation\"],[\"The Social Network\"],[\"X: First Class\"],[\"The Hangover\"],[\"Skyfall\"],[\"Silver Linings Playbook\"],[\"Argo\"],[\"(500) Days of Summer\"],[\"Harry Potter and the Deathly Hallows: Part 1\"],[\"Gake no ue no Ponyo\"],[\"Frost/Nixon\"],[\"Papurika\"],[\"Changeling\"],[\"Flipped\"],[\"Toki o kakeru sh\\u00f4jo\"],[\"Death Note: Desu n\\u00f4to\"],[\"This Is England\"],[\"Ex Machina\"],[\"Efter brylluppet\"],[\"The Last King of Scotland\"],[\"Zodiac\"],[\"Lucky Number Slevin\"],[\"Joyeux No\\u00ebl\"],[\"Control\"],[\"Tangled\"],[\"Zwartboek\"],[\"Brokeback Mountain\"],[\"3:10 to Yuma\"],[\"Crash\"],[\"Kung fu\"],[\"The Bourne Supremacy\"],[\"The Machinist\"],[\"Ray\"],[\"Lost in Translation\"],[\"Harry Potter and the Goblet of Fire\"],[\"Man on Fire\"],[\"Coraline\"],[\"The Last Samurai\"],[\"The Magdalene Sisters\"],[\"Good Bye Lenin!\"],[\"In America\"],[\"I Am Sam\"],[\"Adaptation.\"],[\"Black Hawk Down\"],[\"Road to Perdition\"],[\"Das Experiment\"],[\"Billy Elliot\"],[\"Hedwig and the Angry Inch\"],[\"Ocean's Eleven\"],[\"Vampire Hunter D: Bloodlust\"],[\"O Brother, Where Art Thou?\"],[\"Interstate 60: Episodes of the Road\"],[\"South Park: Bigger, Longer & Uncut\"],[\"Office Space\"],[\"Happiness\"],[\"Training Day\"],[\"Rushmore\"],[\"Abre los ojos\"],[\"Being John Malkovich\"],[\"As Good as It Gets\"],[\"The Fifth Element\"],[\"Le d\\u00eener de cons\"],[\"Donnie Brasco\"],[\"Shine\"],[\"Primal Fear\"],[\"Hamlet\"],[\"A Little Princess\"],[\"Do lok tin si\"],[\"Il postino\"],[\"Clerks\"],[\"Short Cuts\"],[\"Philadelphia\"],[\"The Muppet Christmas Carol\"],[\"Malcolm X\"],[\"The Last of the Mohicans\"],[\"Kurenai no buta\"],[\"Glengarry Glen Ross\"],[\"A Few Good Men\"],[\"Fried Green Tomatoes\"],[\"Barton Fink\"],[\"Miller's Crossing\"],[\"Who Framed Roger Rabbit\"],[\"Spoorloos\"],[\"Withnail & I\"],[\"The Last Emperor\"],[\"Empire of the Sun\"],[\"Der Name der Rose\"],[\"Blue Velvet\"],[\"The Purple Rose of Cairo\"],[\"After Hours\"],[\"Zelig\"],[\"The Verdict\"],[\"Star Trek II: The Wrath of Khan\"],[\"First Blood\"],[\"Ordinary People\"],[\"Airplane!\"],[\"Rupan sansei: Kariosutoro no shiro\"],[\"Halloween\"],[\"Le locataire\"],[\"Love and Death\"],[\"The Taking of Pelham One Two Three\"],[\"Blazing Saddles\"],[\"Serpico\"],[\"Enter the Dragon\"],[\"Deliverance\"],[\"The French Connection\"],[\"Dirty Harry\"],[\"Where Eagles Dare\"],[\"The Odd Couple\"],[\"The Dirty Dozen\"],[\"Belle de jour\"],[\"A Man for All Seasons\"],[\"Repulsion\"],[\"Zulu\"],[\"Goldfinger\"],[\"The Birds\"],[\"Cape Fear\"],[\"Peeping Tom\"],[\"The Magnificent Seven\"],[\"Les yeux sans visage\"],[\"Invasion of the Body Snatchers\"],[\"Rebel Without a Cause\"],[\"The Ladykillers\"],[\"Sabrina\"],[\"The Quiet Man\"],[\"The Day the Earth Stood Still\"],[\"The African Queen\"],[\"Gilda\"],[\"Fantasia\"],[\"The Invisible Man\"],[\"Dark Waters\"],[\"Searching\"],[\"Once Upon a Time... in Hollywood\"],[\"Nelyubov\"],[\"The Florida Project\"],[\"Just Mercy\"],[\"Gifted\"],[\"The Peanut Butter Falcon\"],[\"Victoria\"],[\"Mustang\"],[\"Guardians of the Galaxy Vol. 2\"],[\"Baby Driver\"],[\"Only the Brave\"],[\"Bridge of Spies\"],[\"Incredibles 2\"],[\"Moana\"],[\"Sicario\"],[\"Creed\"],[\"Leviafan\"],[\"Hell or High Water\"],[\"Philomena\"],[\"Dawn of the Planet of the Apes\"],[\"El cuerpo\"],[\"Serbuan maut\"],[\"End of Watch\"],[\"Kari-gurashi no Arietti\"],[\"A Star Is Born\"],[\"True Grit\"],[\"H\\u00e6vnen\"],[\"Despicable Me\"],[\"50/50\"],[\"Kick-Ass\"],[\"Celda 211\"],[\"Moneyball\"],[\"La piel que habito\"],[\"Zombieland\"],[\"Die Welle\"],[\"Sherlock Holmes\"],[\"The Blind Side\"],[\"The Visitor\"],[\"Seven Pounds\"],[\"Eastern Promises\"],[\"Stardust\"],[\"The Secret of Kells\"],[\"Inside Man\"],[\"Gone Baby Gone\"],[\"La Vie En Rose\"],[\"Huo Yuan Jia\"],[\"The Illusionist\"],[\"Dead Man's Shoes\"],[\"Harry Potter and the Half-Blood Prince\"],[\"300\"],[\"Match Point\"],[\"Watchmen\"],[\"Lord of War\"],[\"Saw\"],[\"Synecdoche, New York\"],[\"Mysterious Skin\"],[\"Jeux d'enfants\"],[\"Un long dimanche de fian\\u00e7ailles\"],[\"The Station Agent\"],[\"21 Grams\"],[\"Boksuneun naui geot\"],[\"Finding Neverland\"],[\"25th Hour\"],[\"The Butterfly Effect\"],[\"28 Days Later...\"],[\"Batoru rowaiaru\"],[\"The Royal Tenenbaums\"],[\"Y tu mam\\u00e1 tambi\\u00e9n\"],[\"Harry Potter and the Sorcerer's Stone\"],[\"The Others\"],[\"Blow\"],[\"Enemy at the Gates\"],[\"Minority Report\"],[\"The Hurricane\"],[\"American Psycho\"],[\"Lola rennt\"],[\"The Thin Red Line\"],[\"Mulan\"],[\"Fear and Loathing in Las Vegas\"],[\"Funny Games\"],[\"Dark City\"],[\"Sleepers\"],[\"Lost Highway\"],[\"Sense and Sensibility\"],[\"Die Hard: With a Vengeance\"],[\"Dead Man\"],[\"The Bridges of Madison County\"],[\"Apollo 13\"],[\"Trois couleurs: Blanc\"],[\"Falling Down\"],[\"Dazed and Confused\"],[\"My Cousin Vinny\"],[\"Omohide poro poro\"],[\"Delicatessen\"],[\"Home Alone\"],[\"The Godfather: Part III\"],[\"When Harry Met Sally...\"],[\"The Little Mermaid\"],[\"The Naked Gun: From the Files of Police Squad!\"],[\"Planes, Trains & Automobiles\"],[\"Lethal Weapon\"],[\"Blood Simple\"],[\"On Golden Pond\"],[\"Mad Max 2\"],[\"The Warriors\"],[\"The Muppet Movie\"],[\"Escape from Alcatraz\"],[\"Watership Down\"],[\"Midnight Express\"],[\"Close Encounters of the Third Kind\"],[\"The Long Goodbye\"],[\"Gi\\u00f9 la testa\"],[\"Kelly's Heroes\"],[\"The Jungle Book\"],[\"Blowup\"],[\"A Hard Day's Night\"],[\"Breakfast at Tiffany's\"],[\"Giant\"],[\"From Here to Eternity\"],[\"Lifeboat\"],[\"The 39 Steps\"]],\"hovertemplate\":\"IMDB_Rating=%{x}<br>Meta_score=%{y}<br>Series_Title=%{customdata[0]}<extra></extra>\",\"legendgroup\":\"\",\"marker\":{\"color\":\"#636efa\",\"symbol\":\"circle\"},\"mode\":\"markers\",\"name\":\"\",\"orientation\":\"v\",\"showlegend\":false,\"x\":[9.3,9.2,9.0,9.0,9.0,8.9,8.9,8.9,8.8,8.8,8.8,8.8,8.8,8.7,8.7,8.7,8.7,8.7,8.6,8.6,8.6,8.6,8.6,8.6,8.6,8.6,8.6,8.6,8.6,8.6,8.6,8.6,8.6,8.5,8.5,8.5,8.5,8.5,8.5,8.5,8.5,8.5,8.5,8.5,8.5,8.5,8.5,8.5,8.5,8.5,8.5,8.5,8.5,8.4,8.4,8.4,8.4,8.4,8.4,8.4,8.4,8.4,8.4,8.4,8.4,8.4,8.4,8.4,8.4,8.4,8.4,8.4,8.4,8.4,8.4,8.4,8.4,8.4,8.4,8.4,8.4,8.4,8.4,8.4,8.3,8.3,8.3,8.3,8.3,8.3,8.3,8.3,8.3,8.3,8.3,8.3,8.3,8.3,8.3,8.3,8.3,8.3,8.3,8.3,8.3,8.3,8.3,8.3,8.3,8.3,8.3,8.3,8.3,8.3,8.3,8.3,8.3,8.3,8.3,8.3,8.3,8.3,8.3,8.3,8.3,8.3,8.3,8.3,8.2,8.2,8.2,8.2,8.2,8.2,8.2,8.2,8.2,8.2,8.2,8.2,8.2,8.2,8.2,8.2,8.2,8.2,8.2,8.2,8.2,8.2,8.2,8.2,8.2,8.2,8.2,8.2,8.2,8.2,8.2,8.2,8.2,8.2,8.2,8.2,8.2,8.2,8.2,8.2,8.2,8.2,8.2,8.2,8.2,8.2,8.2,8.2,8.2,8.2,8.2,8.2,8.2,8.2,8.2,8.2,8.2,8.2,8.2,8.2,8.2,8.2,8.2,8.2,8.2,8.2,8.2,8.1,8.1,8.1,8.1,8.1,8.1,8.1,8.1,8.1,8.1,8.1,8.1,8.1,8.1,8.1,8.1,8.1,8.1,8.1,8.1,8.1,8.1,8.1,8.1,8.1,8.1,8.1,8.1,8.1,8.1,8.1,8.1,8.1,8.1,8.1,8.1,8.1,8.1,8.1,8.1,8.1,8.1,8.1,8.1,8.1,8.1,8.1,8.1,8.1,8.1,8.1,8.1,8.1,8.1,8.1,8.1,8.1,8.1,8.1,8.1,8.1,8.1,8.1,8.1,8.1,8.1,8.1,8.1,8.1,8.1,8.1,8.1,8.1,8.1,8.1,8.1,8.1,8.1,8.1,8.1,8.1,8.1,8.1,8.1,8.1,8.1,8.1,8.1,8.1,8.1,8.1,8.1,8.1,8.1,8.1,8.1,8.1,8.1,8.1,8.1,8.1,8.1,8.1,8.1,8.1,8.1,8.1,8.1,8.1,8.1,8.1,8.1,8.1,8.1,8.1,8.1,8.1,8.1,8.1,8.1,8.1,8.1,8.1,8.1,8.1,8.1,8.1,8.0,8.0,8.0,8.0,8.0,8.0,8.0,8.0,8.0,8.0,8.0,8.0,8.0,8.0,8.0,8.0,8.0,8.0,8.0,8.0,8.0,8.0,8.0,8.0,8.0,8.0,8.0,8.0,8.0,8.0,8.0,8.0,8.0,8.0,8.0,8.0,8.0,8.0,8.0,8.0,8.0,8.0,8.0,8.0,8.0,8.0,8.0,8.0,8.0,8.0,8.0,8.0,8.0,8.0,8.0,8.0,8.0,8.0,8.0,8.0,8.0,8.0,8.0,8.0,8.0,8.0,8.0,8.0,8.0,8.0,8.0,8.0,8.0,8.0,8.0,8.0,8.0,8.0,8.0,8.0,8.0,8.0,8.0,8.0,8.0,8.0,8.0,8.0,8.0,8.0,8.0,8.0,8.0,8.0,8.0,8.0,8.0,8.0,8.0,8.0,8.0,8.0,8.0,8.0,8.0,8.0,8.0,8.0,8.0,8.0,8.0,8.0,8.0,8.0,8.0,8.0,8.0,8.0,8.0,8.0,8.0,8.0,8.0,8.0,8.0,8.0,8.0,8.0,8.0,8.0,8.0,8.0,8.0,8.0,8.0,8.0,8.0,8.0,8.0,8.0,8.0,7.9,7.9,7.9,7.9,7.9,7.9,7.9,7.9,7.9,7.9,7.9,7.9,7.9,7.9,7.9,7.9,7.9,7.9,7.9,7.9,7.9,7.9,7.9,7.9,7.9,7.9,7.9,7.9,7.9,7.9,7.9,7.9,7.9,7.9,7.9,7.9,7.9,7.9,7.9,7.9,7.9,7.9,7.9,7.9,7.9,7.9,7.9,7.9,7.9,7.9,7.9,7.9,7.9,7.9,7.9,7.9,7.9,7.9,7.9,7.9,7.9,7.9,7.9,7.9,7.9,7.9,7.9,7.9,7.9,7.9,7.9,7.9,7.9,7.9,7.9,7.9,7.9,7.9,7.9,7.9,7.9,7.9,7.9,7.9,7.9,7.9,7.9,7.9,7.9,7.9,7.9,7.9,7.9,7.9,7.9,7.9,7.9,7.9,7.9,7.9,7.9,7.9,7.9,7.9,7.9,7.9,7.8,7.8,7.8,7.8,7.8,7.8,7.8,7.8,7.8,7.8,7.8,7.8,7.8,7.8,7.8,7.8,7.8,7.8,7.8,7.8,7.8,7.8,7.8,7.8,7.8,7.8,7.8,7.8,7.8,7.8,7.8,7.8,7.8,7.8,7.8,7.8,7.8,7.8,7.8,7.8,7.8,7.8,7.8,7.8,7.8,7.8,7.8,7.8,7.8,7.8,7.8,7.8,7.8,7.8,7.8,7.8,7.8,7.8,7.8,7.8,7.8,7.8,7.8,7.8,7.8,7.8,7.8,7.8,7.8,7.8,7.8,7.8,7.8,7.8,7.8,7.8,7.8,7.8,7.8,7.8,7.8,7.8,7.8,7.8,7.8,7.8,7.8,7.8,7.8,7.8,7.8,7.8,7.8,7.8,7.8,7.8,7.8,7.8,7.8,7.8,7.8,7.8,7.8,7.8,7.8,7.8,7.8,7.8,7.8,7.8,7.8,7.8,7.8,7.8,7.8,7.8,7.8,7.8,7.8,7.8,7.8,7.8,7.8,7.8,7.8,7.8,7.8,7.8,7.8,7.8,7.8,7.8,7.8,7.8,7.8,7.8,7.8,7.8,7.8,7.8,7.8,7.8,7.8,7.8,7.8,7.8,7.8,7.8,7.8,7.8,7.8,7.7,7.7,7.7,7.7,7.7,7.7,7.7,7.7,7.7,7.7,7.7,7.7,7.7,7.7,7.7,7.7,7.7,7.7,7.7,7.7,7.7,7.7,7.7,7.7,7.7,7.7,7.7,7.7,7.7,7.7,7.7,7.7,7.7,7.7,7.7,7.7,7.7,7.7,7.7,7.7,7.7,7.7,7.7,7.7,7.7,7.7,7.7,7.7,7.7,7.7,7.7,7.7,7.7,7.7,7.7,7.7,7.7,7.7,7.7,7.7,7.7,7.7,7.7,7.7,7.7,7.7,7.7,7.7,7.7,7.7,7.7,7.7,7.7,7.7,7.7,7.7,7.7,7.7,7.7,7.7,7.7,7.7,7.7,7.7,7.7,7.7,7.7,7.7,7.7,7.7,7.7,7.7,7.7,7.7,7.7,7.7,7.7,7.7,7.7,7.7,7.7,7.7,7.7,7.7,7.7,7.7,7.7,7.7,7.7,7.7,7.7,7.7,7.7,7.7,7.7,7.7,7.7,7.7,7.7,7.7,7.7,7.7,7.7,7.7,7.7,7.7,7.7,7.7,7.7,7.7,7.7,7.7,7.7,7.7,7.7,7.7,7.7,7.7,7.7,7.7,7.7,7.7,7.7,7.7,7.7,7.7,7.7,7.7,7.7,7.7,7.7,7.7,7.7,7.7,7.7,7.7,7.7,7.6,7.6,7.6,7.6,7.6,7.6,7.6,7.6,7.6,7.6,7.6,7.6,7.6,7.6,7.6,7.6,7.6,7.6,7.6,7.6,7.6,7.6,7.6,7.6,7.6,7.6,7.6,7.6,7.6,7.6,7.6,7.6,7.6,7.6,7.6,7.6,7.6,7.6,7.6,7.6,7.6,7.6,7.6,7.6,7.6,7.6,7.6,7.6,7.6,7.6,7.6,7.6,7.6,7.6,7.6,7.6,7.6,7.6,7.6,7.6,7.6,7.6,7.6,7.6,7.6,7.6,7.6,7.6,7.6,7.6,7.6,7.6,7.6,7.6,7.6,7.6,7.6,7.6,7.6,7.6,7.6,7.6,7.6,7.6,7.6,7.6,7.6,7.6,7.6,7.6,7.6,7.6,7.6,7.6,7.6,7.6,7.6,7.6,7.6,7.6,7.6,7.6,7.6,7.6,7.6,7.6,7.6,7.6,7.6,7.6,7.6,7.6,7.6,7.6,7.6,7.6,7.6,7.6,7.6,7.6,7.6,7.6,7.6],\"xaxis\":\"x\",\"y\":[80.0,100.0,84.0,90.0,96.0,94.0,94.0,94.0,74.0,66.0,92.0,82.0,90.0,87.0,73.0,90.0,82.0,83.0,90.0,96.0,null,74.0,79.0,96.0,91.0,61.0,59.0,65.0,85.0,90.0,85.0,98.0,89.0,59.0,88.0,57.0,66.0,85.0,85.0,67.0,62.0,77.0,64.0,88.0,75.0,80.0,94.0,87.0,80.0,97.0,100.0,96.0,99.0,75.0,null,null,79.0,null,87.0,78.0,68.0,81.0,81.0,78.0,67.0,null,95.0,89.0,77.0,80.0,76.0,null,85.0,66.0,94.0,89.0,null,null,97.0,null,90.0,100.0,null,null,78.0,null,null,null,77.0,95.0,80.0,null,null,69.0,89.0,69.0,55.0,68.0,84.0,70.0,77.0,95.0,68.0,79.0,76.0,null,84.0,88.0,65.0,58.0,86.0,94.0,83.0,77.0,84.0,74.0,100.0,94.0,98.0,100.0,99.0,null,null,95.0,100.0,null,98.0,null,null,null,null,69.0,88.0,null,null,65.0,null,null,73.0,null,89.0,null,null,80.0,71.0,63.0,88.0,75.0,68.0,93.0,98.0,92.0,62.0,null,null,70.0,null,82.0,80.0,72.0,null,66.0,90.0,null,76.0,73.0,null,85.0,65.0,null,86.0,72.0,96.0,89.0,null,null,null,null,91.0,86.0,88.0,null,60.0,98.0,88.0,88.0,97.0,75.0,null,98.0,98.0,98.0,86.0,null,null,95.0,null,78.0,null,84.0,74.0,null,77.0,86.0,77.0,83.0,88.0,null,null,88.0,79.0,71.0,71.0,94.0,null,96.0,74.0,81.0,93.0,85.0,null,null,70.0,90.0,null,72.0,85.0,68.0,null,null,75.0,73.0,91.0,null,86.0,79.0,64.0,90.0,null,82.0,null,69.0,90.0,75.0,83.0,79.0,null,84.0,64.0,58.0,90.0,73.0,71.0,85.0,83.0,85.0,null,null,null,77.0,100.0,77.0,68.0,84.0,null,null,79.0,75.0,92.0,78.0,86.0,57.0,47.0,null,100.0,84.0,78.0,77.0,86.0,70.0,83.0,89.0,null,92.0,77.0,null,90.0,null,92.0,86.0,null,96.0,null,75.0,null,94.0,null,null,75.0,null,90.0,null,null,null,87.0,91.0,85.0,72.0,null,97.0,null,96.0,86.0,73.0,97.0,null,87.0,null,90.0,null,null,null,null,69.0,null,null,null,94.0,69.0,80.0,78.0,null,89.0,66.0,65.0,null,82.0,71.0,73.0,76.0,81.0,90.0,49.0,76.0,67.0,71.0,88.0,62.0,65.0,87.0,null,59.0,50.0,null,84.0,79.0,33.0,69.0,90.0,80.0,64.0,64.0,85.0,72.0,74.0,92.0,null,96.0,80.0,83.0,82.0,85.0,74.0,69.0,54.0,75.0,63.0,58.0,90.0,null,60.0,null,88.0,77.0,61.0,86.0,null,82.0,80.0,85.0,null,84.0,91.0,74.0,76.0,82.0,72.0,47.0,59.0,86.0,72.0,95.0,72.0,93.0,65.0,null,77.0,79.0,88.0,78.0,84.0,79.0,84.0,83.0,92.0,87.0,86.0,80.0,58.0,81.0,null,93.0,67.0,100.0,66.0,96.0,79.0,83.0,75.0,63.0,69.0,65.0,91.0,null,90.0,95.0,93.0,95.0,99.0,84.0,100.0,91.0,99.0,null,null,84.0,78.0,97.0,null,null,73.0,null,92.0,null,93.0,null,96.0,96.0,92.0,null,86.0,91.0,97.0,82.0,null,93.0,94.0,93.0,78.0,82.0,81.0,72.0,79.0,74.0,76.0,58.0,81.0,80.0,94.0,75.0,82.0,89.0,71.0,94.0,94.0,90.0,67.0,82.0,81.0,80.0,null,100.0,97.0,82.0,67.0,null,89.0,64.0,79.0,83.0,81.0,56.0,79.0,76.0,78.0,84.0,82.0,85.0,86.0,84.0,61.0,68.0,80.0,84.0,90.0,85.0,88.0,85.0,75.0,77.0,59.0,85.0,null,65.0,74.0,97.0,77.0,79.0,90.0,84.0,92.0,77.0,60.0,83.0,72.0,71.0,84.0,76.0,null,93.0,null,62.0,91.0,97.0,89.0,null,75.0,83.0,94.0,87.0,null,null,null,94.0,72.0,89.0,88.0,null,88.0,100.0,null,null,96.0,null,97.0,null,90.0,80.0,null,51.0,null,81.0,85.0,94.0,null,74.0,88.0,null,84.0,null,96.0,75.0,65.0,75.0,68.0,91.0,62.0,79.0,85.0,86.0,76.0,null,74.0,55.0,null,83.0,84.0,49.0,84.0,76.0,81.0,null,67.0,71.0,82.0,null,72.0,79.0,64.0,66.0,82.0,76.0,77.0,81.0,79.0,51.0,55.0,88.0,58.0,85.0,85.0,78.0,76.0,83.0,63.0,68.0,80.0,81.0,70.0,67.0,51.0,82.0,68.0,73.0,74.0,72.0,61.0,53.0,75.0,82.0,91.0,58.0,61.0,83.0,48.0,94.0,87.0,73.0,44.0,84.0,71.0,84.0,75.0,null,64.0,61.0,76.0,70.0,73.0,50.0,55.0,84.0,84.0,87.0,80.0,null,null,68.0,86.0,76.0,75.0,74.0,83.0,78.0,82.0,57.0,65.0,45.0,72.0,61.0,75.0,62.0,78.0,66.0,76.0,71.0,91.0,73.0,91.0,77.0,93.0,69.0,91.0,85.0,73.0,80.0,93.0,80.0,67.0,79.0,81.0,63.0,86.0,95.0,88.0,75.0,97.0,88.0,null,null,null,null,94.0,93.0,98.0,91.0,95.0,93.0,87.0,91.0,96.0,85.0,66.0,73.0,85.0,86.0,70.0,76.0,72.0,72.0,60.0,69.0,74.0,87.0,89.0,40.0,70.0,70.0,null,87.0,72.0,70.0,52.0,81.0,83.0,96.0,72.0,79.0,95.0,65.0,73.0,81.0,81.0,86.0,76.0,65.0,86.0,80.0,81.0,63.0,45.0,null,null,86.0,78.0,78.0,74.0,78.0,53.0,70.0,78.0,71.0,71.0,87.0,76.0,66.0,78.0,73.0,61.0,73.0,89.0,81.0,47.0,80.0,55.0,83.0,68.0,76.0,28.0,83.0,74.0,72.0,60.0,74.0,85.0,74.0,62.0,69.0,null,73.0,68.0,81.0,69.0,86.0,null,90.0,67.0,52.0,73.0,76.0,87.0,47.0,null,83.0,71.0,81.0,70.0,79.0,66.0,64.0,73.0,76.0,83.0,82.0,62.0,64.0,69.0,66.0,83.0,null,84.0,76.0,62.0,54.0,76.0,75.0,90.0,null,77.0,67.0,61.0,86.0,78.0,71.0,87.0,71.0,89.0,68.0,73.0,87.0,83.0,80.0,94.0,90.0,63.0,86.0,73.0,null,72.0,91.0,77.0,87.0,90.0,76.0,null,74.0,90.0,92.0,89.0,91.0,72.0,null,null,91.0,null,96.0,87.0,73.0,71.0,83.0,86.0,92.0,68.0,60.0,70.0,77.0,83.0,67.0,86.0,72.0,81.0,80.0,81.0,82.0,82.0,92.0,88.0,77.0,79.0,null,73.0,68.0,80.0,88.0,80.0,65.0,72.0,72.0,66.0,null,87.0,70.0,73.0,null,57.0,53.0,79.0,36.0,82.0,66.0,81.0,76.0,72.0,66.0,70.0,68.0,52.0,78.0,52.0,72.0,56.0,62.0,46.0,67.0,73.0,45.0,76.0,81.0,70.0,56.0,67.0,68.0,30.0,73.0,81.0,76.0,88.0,64.0,74.0,52.0,53.0,80.0,74.0,64.0,77.0,78.0,71.0,41.0,69.0,66.0,49.0,52.0,84.0,58.0,62.0,69.0,77.0,88.0,56.0,78.0,68.0,90.0,66.0,63.0,60.0,76.0,88.0,76.0,72.0,68.0,82.0,68.0,77.0,65.0,74.0,76.0,64.0,59.0,90.0,87.0,77.0,50.0,65.0,82.0,96.0,76.0,84.0,85.0,78.0,93.0],\"yaxis\":\"y\",\"type\":\"scatter\"}],                        {\"template\":{\"data\":{\"histogram2dcontour\":[{\"type\":\"histogram2dcontour\",\"colorbar\":{\"outlinewidth\":0,\"ticks\":\"\"},\"colorscale\":[[0.0,\"#0d0887\"],[0.1111111111111111,\"#46039f\"],[0.2222222222222222,\"#7201a8\"],[0.3333333333333333,\"#9c179e\"],[0.4444444444444444,\"#bd3786\"],[0.5555555555555556,\"#d8576b\"],[0.6666666666666666,\"#ed7953\"],[0.7777777777777778,\"#fb9f3a\"],[0.8888888888888888,\"#fdca26\"],[1.0,\"#f0f921\"]]}],\"choropleth\":[{\"type\":\"choropleth\",\"colorbar\":{\"outlinewidth\":0,\"ticks\":\"\"}}],\"histogram2d\":[{\"type\":\"histogram2d\",\"colorbar\":{\"outlinewidth\":0,\"ticks\":\"\"},\"colorscale\":[[0.0,\"#0d0887\"],[0.1111111111111111,\"#46039f\"],[0.2222222222222222,\"#7201a8\"],[0.3333333333333333,\"#9c179e\"],[0.4444444444444444,\"#bd3786\"],[0.5555555555555556,\"#d8576b\"],[0.6666666666666666,\"#ed7953\"],[0.7777777777777778,\"#fb9f3a\"],[0.8888888888888888,\"#fdca26\"],[1.0,\"#f0f921\"]]}],\"heatmap\":[{\"type\":\"heatmap\",\"colorbar\":{\"outlinewidth\":0,\"ticks\":\"\"},\"colorscale\":[[0.0,\"#0d0887\"],[0.1111111111111111,\"#46039f\"],[0.2222222222222222,\"#7201a8\"],[0.3333333333333333,\"#9c179e\"],[0.4444444444444444,\"#bd3786\"],[0.5555555555555556,\"#d8576b\"],[0.6666666666666666,\"#ed7953\"],[0.7777777777777778,\"#fb9f3a\"],[0.8888888888888888,\"#fdca26\"],[1.0,\"#f0f921\"]]}],\"heatmapgl\":[{\"type\":\"heatmapgl\",\"colorbar\":{\"outlinewidth\":0,\"ticks\":\"\"},\"colorscale\":[[0.0,\"#0d0887\"],[0.1111111111111111,\"#46039f\"],[0.2222222222222222,\"#7201a8\"],[0.3333333333333333,\"#9c179e\"],[0.4444444444444444,\"#bd3786\"],[0.5555555555555556,\"#d8576b\"],[0.6666666666666666,\"#ed7953\"],[0.7777777777777778,\"#fb9f3a\"],[0.8888888888888888,\"#fdca26\"],[1.0,\"#f0f921\"]]}],\"contourcarpet\":[{\"type\":\"contourcarpet\",\"colorbar\":{\"outlinewidth\":0,\"ticks\":\"\"}}],\"contour\":[{\"type\":\"contour\",\"colorbar\":{\"outlinewidth\":0,\"ticks\":\"\"},\"colorscale\":[[0.0,\"#0d0887\"],[0.1111111111111111,\"#46039f\"],[0.2222222222222222,\"#7201a8\"],[0.3333333333333333,\"#9c179e\"],[0.4444444444444444,\"#bd3786\"],[0.5555555555555556,\"#d8576b\"],[0.6666666666666666,\"#ed7953\"],[0.7777777777777778,\"#fb9f3a\"],[0.8888888888888888,\"#fdca26\"],[1.0,\"#f0f921\"]]}],\"surface\":[{\"type\":\"surface\",\"colorbar\":{\"outlinewidth\":0,\"ticks\":\"\"},\"colorscale\":[[0.0,\"#0d0887\"],[0.1111111111111111,\"#46039f\"],[0.2222222222222222,\"#7201a8\"],[0.3333333333333333,\"#9c179e\"],[0.4444444444444444,\"#bd3786\"],[0.5555555555555556,\"#d8576b\"],[0.6666666666666666,\"#ed7953\"],[0.7777777777777778,\"#fb9f3a\"],[0.8888888888888888,\"#fdca26\"],[1.0,\"#f0f921\"]]}],\"mesh3d\":[{\"type\":\"mesh3d\",\"colorbar\":{\"outlinewidth\":0,\"ticks\":\"\"}}],\"scatter\":[{\"fillpattern\":{\"fillmode\":\"overlay\",\"size\":10,\"solidity\":0.2},\"type\":\"scatter\"}],\"parcoords\":[{\"type\":\"parcoords\",\"line\":{\"colorbar\":{\"outlinewidth\":0,\"ticks\":\"\"}}}],\"scatterpolargl\":[{\"type\":\"scatterpolargl\",\"marker\":{\"colorbar\":{\"outlinewidth\":0,\"ticks\":\"\"}}}],\"bar\":[{\"error_x\":{\"color\":\"#2a3f5f\"},\"error_y\":{\"color\":\"#2a3f5f\"},\"marker\":{\"line\":{\"color\":\"#E5ECF6\",\"width\":0.5},\"pattern\":{\"fillmode\":\"overlay\",\"size\":10,\"solidity\":0.2}},\"type\":\"bar\"}],\"scattergeo\":[{\"type\":\"scattergeo\",\"marker\":{\"colorbar\":{\"outlinewidth\":0,\"ticks\":\"\"}}}],\"scatterpolar\":[{\"type\":\"scatterpolar\",\"marker\":{\"colorbar\":{\"outlinewidth\":0,\"ticks\":\"\"}}}],\"histogram\":[{\"marker\":{\"pattern\":{\"fillmode\":\"overlay\",\"size\":10,\"solidity\":0.2}},\"type\":\"histogram\"}],\"scattergl\":[{\"type\":\"scattergl\",\"marker\":{\"colorbar\":{\"outlinewidth\":0,\"ticks\":\"\"}}}],\"scatter3d\":[{\"type\":\"scatter3d\",\"line\":{\"colorbar\":{\"outlinewidth\":0,\"ticks\":\"\"}},\"marker\":{\"colorbar\":{\"outlinewidth\":0,\"ticks\":\"\"}}}],\"scattermapbox\":[{\"type\":\"scattermapbox\",\"marker\":{\"colorbar\":{\"outlinewidth\":0,\"ticks\":\"\"}}}],\"scatterternary\":[{\"type\":\"scatterternary\",\"marker\":{\"colorbar\":{\"outlinewidth\":0,\"ticks\":\"\"}}}],\"scattercarpet\":[{\"type\":\"scattercarpet\",\"marker\":{\"colorbar\":{\"outlinewidth\":0,\"ticks\":\"\"}}}],\"carpet\":[{\"aaxis\":{\"endlinecolor\":\"#2a3f5f\",\"gridcolor\":\"white\",\"linecolor\":\"white\",\"minorgridcolor\":\"white\",\"startlinecolor\":\"#2a3f5f\"},\"baxis\":{\"endlinecolor\":\"#2a3f5f\",\"gridcolor\":\"white\",\"linecolor\":\"white\",\"minorgridcolor\":\"white\",\"startlinecolor\":\"#2a3f5f\"},\"type\":\"carpet\"}],\"table\":[{\"cells\":{\"fill\":{\"color\":\"#EBF0F8\"},\"line\":{\"color\":\"white\"}},\"header\":{\"fill\":{\"color\":\"#C8D4E3\"},\"line\":{\"color\":\"white\"}},\"type\":\"table\"}],\"barpolar\":[{\"marker\":{\"line\":{\"color\":\"#E5ECF6\",\"width\":0.5},\"pattern\":{\"fillmode\":\"overlay\",\"size\":10,\"solidity\":0.2}},\"type\":\"barpolar\"}],\"pie\":[{\"automargin\":true,\"type\":\"pie\"}]},\"layout\":{\"autotypenumbers\":\"strict\",\"colorway\":[\"#636efa\",\"#EF553B\",\"#00cc96\",\"#ab63fa\",\"#FFA15A\",\"#19d3f3\",\"#FF6692\",\"#B6E880\",\"#FF97FF\",\"#FECB52\"],\"font\":{\"color\":\"#2a3f5f\"},\"hovermode\":\"closest\",\"hoverlabel\":{\"align\":\"left\"},\"paper_bgcolor\":\"white\",\"plot_bgcolor\":\"#E5ECF6\",\"polar\":{\"bgcolor\":\"#E5ECF6\",\"angularaxis\":{\"gridcolor\":\"white\",\"linecolor\":\"white\",\"ticks\":\"\"},\"radialaxis\":{\"gridcolor\":\"white\",\"linecolor\":\"white\",\"ticks\":\"\"}},\"ternary\":{\"bgcolor\":\"#E5ECF6\",\"aaxis\":{\"gridcolor\":\"white\",\"linecolor\":\"white\",\"ticks\":\"\"},\"baxis\":{\"gridcolor\":\"white\",\"linecolor\":\"white\",\"ticks\":\"\"},\"caxis\":{\"gridcolor\":\"white\",\"linecolor\":\"white\",\"ticks\":\"\"}},\"coloraxis\":{\"colorbar\":{\"outlinewidth\":0,\"ticks\":\"\"}},\"colorscale\":{\"sequential\":[[0.0,\"#0d0887\"],[0.1111111111111111,\"#46039f\"],[0.2222222222222222,\"#7201a8\"],[0.3333333333333333,\"#9c179e\"],[0.4444444444444444,\"#bd3786\"],[0.5555555555555556,\"#d8576b\"],[0.6666666666666666,\"#ed7953\"],[0.7777777777777778,\"#fb9f3a\"],[0.8888888888888888,\"#fdca26\"],[1.0,\"#f0f921\"]],\"sequentialminus\":[[0.0,\"#0d0887\"],[0.1111111111111111,\"#46039f\"],[0.2222222222222222,\"#7201a8\"],[0.3333333333333333,\"#9c179e\"],[0.4444444444444444,\"#bd3786\"],[0.5555555555555556,\"#d8576b\"],[0.6666666666666666,\"#ed7953\"],[0.7777777777777778,\"#fb9f3a\"],[0.8888888888888888,\"#fdca26\"],[1.0,\"#f0f921\"]],\"diverging\":[[0,\"#8e0152\"],[0.1,\"#c51b7d\"],[0.2,\"#de77ae\"],[0.3,\"#f1b6da\"],[0.4,\"#fde0ef\"],[0.5,\"#f7f7f7\"],[0.6,\"#e6f5d0\"],[0.7,\"#b8e186\"],[0.8,\"#7fbc41\"],[0.9,\"#4d9221\"],[1,\"#276419\"]]},\"xaxis\":{\"gridcolor\":\"white\",\"linecolor\":\"white\",\"ticks\":\"\",\"title\":{\"standoff\":15},\"zerolinecolor\":\"white\",\"automargin\":true,\"zerolinewidth\":2},\"yaxis\":{\"gridcolor\":\"white\",\"linecolor\":\"white\",\"ticks\":\"\",\"title\":{\"standoff\":15},\"zerolinecolor\":\"white\",\"automargin\":true,\"zerolinewidth\":2},\"scene\":{\"xaxis\":{\"backgroundcolor\":\"#E5ECF6\",\"gridcolor\":\"white\",\"linecolor\":\"white\",\"showbackground\":true,\"ticks\":\"\",\"zerolinecolor\":\"white\",\"gridwidth\":2},\"yaxis\":{\"backgroundcolor\":\"#E5ECF6\",\"gridcolor\":\"white\",\"linecolor\":\"white\",\"showbackground\":true,\"ticks\":\"\",\"zerolinecolor\":\"white\",\"gridwidth\":2},\"zaxis\":{\"backgroundcolor\":\"#E5ECF6\",\"gridcolor\":\"white\",\"linecolor\":\"white\",\"showbackground\":true,\"ticks\":\"\",\"zerolinecolor\":\"white\",\"gridwidth\":2}},\"shapedefaults\":{\"line\":{\"color\":\"#2a3f5f\"}},\"annotationdefaults\":{\"arrowcolor\":\"#2a3f5f\",\"arrowhead\":0,\"arrowwidth\":1},\"geo\":{\"bgcolor\":\"white\",\"landcolor\":\"#E5ECF6\",\"subunitcolor\":\"white\",\"showland\":true,\"showlakes\":true,\"lakecolor\":\"white\"},\"title\":{\"x\":0.05},\"mapbox\":{\"style\":\"light\"}}},\"xaxis\":{\"anchor\":\"y\",\"domain\":[0.0,1.0],\"title\":{\"text\":\"IMDB_Rating\"}},\"yaxis\":{\"anchor\":\"x\",\"domain\":[0.0,1.0],\"title\":{\"text\":\"Meta_score\"}},\"legend\":{\"tracegroupgap\":0},\"margin\":{\"t\":60}},                        {\"responsive\": true}                    ).then(function(){\n",
       "                            \n",
       "var gd = document.getElementById('72457044-a765-46c8-b16a-3dc4d4ceb032');\n",
       "var x = new MutationObserver(function (mutations, observer) {{\n",
       "        var display = window.getComputedStyle(gd).display;\n",
       "        if (!display || display === 'none') {{\n",
       "            console.log([gd, 'removed!']);\n",
       "            Plotly.purge(gd);\n",
       "            observer.disconnect();\n",
       "        }}\n",
       "}});\n",
       "\n",
       "// Listen for the removal of the full notebook cells\n",
       "var notebookContainer = gd.closest('#notebook-container');\n",
       "if (notebookContainer) {{\n",
       "    x.observe(notebookContainer, {childList: true});\n",
       "}}\n",
       "\n",
       "// Listen for the clearing of the current output cell\n",
       "var outputEl = gd.closest('.output');\n",
       "if (outputEl) {{\n",
       "    x.observe(outputEl, {childList: true});\n",
       "}}\n",
       "\n",
       "                        })                };                });            </script>        </div>"
      ]
     },
     "metadata": {},
     "output_type": "display_data"
    }
   ],
   "source": [
    "px.scatter(data, x=\"IMDB_Rating\", y=\"Meta_score\", hover_data=['Series_Title'])"
   ]
  },
  {
   "cell_type": "code",
   "execution_count": 29,
   "metadata": {},
   "outputs": [
    {
     "data": {
      "application/vnd.plotly.v1+json": {
       "config": {
        "plotlyServerURL": "https://plot.ly"
       },
       "data": [
        {
         "customdata": [
          [
           "The Shawshank Redemption"
          ],
          [
           "The Godfather"
          ],
          [
           "The Dark Knight"
          ],
          [
           "The Godfather: Part II"
          ],
          [
           "12 Angry Men"
          ],
          [
           "The Lord of the Rings: The Return of the King"
          ],
          [
           "Pulp Fiction"
          ],
          [
           "Schindler's List"
          ],
          [
           "Inception"
          ],
          [
           "Fight Club"
          ],
          [
           "The Lord of the Rings: The Fellowship of the Ring"
          ],
          [
           "Forrest Gump"
          ],
          [
           "Il buono, il brutto, il cattivo"
          ],
          [
           "The Lord of the Rings: The Two Towers"
          ],
          [
           "The Matrix"
          ],
          [
           "Goodfellas"
          ],
          [
           "Star Wars: Episode V - The Empire Strikes Back"
          ],
          [
           "One Flew Over the Cuckoo's Nest"
          ],
          [
           "Hamilton"
          ],
          [
           "Gisaengchung"
          ],
          [
           "Soorarai Pottru"
          ],
          [
           "Interstellar"
          ],
          [
           "Cidade de Deus"
          ],
          [
           "Sen to Chihiro no kamikakushi"
          ],
          [
           "Saving Private Ryan"
          ],
          [
           "The Green Mile"
          ],
          [
           "La vita è bella"
          ],
          [
           "Se7en"
          ],
          [
           "The Silence of the Lambs"
          ],
          [
           "Star Wars"
          ],
          [
           "Seppuku"
          ],
          [
           "Shichinin no samurai"
          ],
          [
           "It's a Wonderful Life"
          ],
          [
           "Joker"
          ],
          [
           "Whiplash"
          ],
          [
           "The Intouchables"
          ],
          [
           "The Prestige"
          ],
          [
           "The Departed"
          ],
          [
           "The Pianist"
          ],
          [
           "Gladiator"
          ],
          [
           "American History X"
          ],
          [
           "The Usual Suspects"
          ],
          [
           "Léon"
          ],
          [
           "The Lion King"
          ],
          [
           "Terminator 2: Judgment Day"
          ],
          [
           "Nuovo Cinema Paradiso"
          ],
          [
           "Hotaru no haka"
          ],
          [
           "Back to the Future"
          ],
          [
           "Once Upon a Time in the West"
          ],
          [
           "Psycho"
          ],
          [
           "Casablanca"
          ],
          [
           "Modern Times"
          ],
          [
           "City Lights"
          ],
          [
           "Capharnaüm"
          ],
          [
           "Ayla: The Daughter of War"
          ],
          [
           "Vikram Vedha"
          ],
          [
           "Kimi no na wa."
          ],
          [
           "Dangal"
          ],
          [
           "Spider-Man: Into the Spider-Verse"
          ],
          [
           "Avengers: Endgame"
          ],
          [
           "Avengers: Infinity War"
          ],
          [
           "Coco"
          ],
          [
           "Django Unchained"
          ],
          [
           "The Dark Knight Rises"
          ],
          [
           "3 Idiots"
          ],
          [
           "Taare Zameen Par"
          ],
          [
           "WALL·E"
          ],
          [
           "The Lives of Others"
          ],
          [
           "Oldeuboi"
          ],
          [
           "Memento"
          ],
          [
           "Mononoke-hime"
          ],
          [
           "Once Upon a Time in America"
          ],
          [
           "Raiders of the Lost Ark"
          ],
          [
           "The Shining"
          ],
          [
           "Apocalypse Now"
          ],
          [
           "Alien"
          ],
          [
           "Anand"
          ],
          [
           "Tengoku to jigoku"
          ],
          [
           "Dr. Strangelove or: How I Learned to Stop Worrying and Love the Bomb"
          ],
          [
           "Witness for the Prosecution"
          ],
          [
           "Paths of Glory"
          ],
          [
           "Rear Window"
          ],
          [
           "Sunset Blvd."
          ],
          [
           "The Great Dictator"
          ],
          [
           "1917"
          ],
          [
           "Tumbbad"
          ],
          [
           "Andhadhun"
          ],
          [
           "Drishyam"
          ],
          [
           "Jagten"
          ],
          [
           "Jodaeiye Nader az Simin"
          ],
          [
           "Incendies"
          ],
          [
           "Miracle in cell NO.7"
          ],
          [
           "Babam ve Oglum"
          ],
          [
           "Inglourious Basterds"
          ],
          [
           "Eternal Sunshine of the Spotless Mind"
          ],
          [
           "Amélie"
          ],
          [
           "Snatch"
          ],
          [
           "Requiem for a Dream"
          ],
          [
           "American Beauty"
          ],
          [
           "Good Will Hunting"
          ],
          [
           "Bacheha-Ye aseman"
          ],
          [
           "Toy Story"
          ],
          [
           "Braveheart"
          ],
          [
           "Reservoir Dogs"
          ],
          [
           "Full Metal Jacket"
          ],
          [
           "Idi i smotri"
          ],
          [
           "Aliens"
          ],
          [
           "Amadeus"
          ],
          [
           "Scarface"
          ],
          [
           "Star Wars: Episode VI - Return of the Jedi"
          ],
          [
           "Das Boot"
          ],
          [
           "Taxi Driver"
          ],
          [
           "The Sting"
          ],
          [
           "A Clockwork Orange"
          ],
          [
           "2001: A Space Odyssey"
          ],
          [
           "Per qualche dollaro in più"
          ],
          [
           "Lawrence of Arabia"
          ],
          [
           "The Apartment"
          ],
          [
           "North by Northwest"
          ],
          [
           "Vertigo"
          ],
          [
           "Singin' in the Rain"
          ],
          [
           "Ikiru"
          ],
          [
           "Ladri di biciclette"
          ],
          [
           "Double Indemnity"
          ],
          [
           "Citizen Kane"
          ],
          [
           "M - Eine Stadt sucht einen Mörder"
          ],
          [
           "Metropolis"
          ],
          [
           "The Kid"
          ],
          [
           "Chhichhore"
          ],
          [
           "Uri: The Surgical Strike"
          ],
          [
           "K.G.F: Chapter 1"
          ],
          [
           "Green Book"
          ],
          [
           "Three Billboards Outside Ebbing, Missouri"
          ],
          [
           "Talvar"
          ],
          [
           "Baahubali 2: The Conclusion"
          ],
          [
           "Klaus"
          ],
          [
           "Drishyam"
          ],
          [
           "Queen"
          ],
          [
           "Mandariinid"
          ],
          [
           "Bhaag Milkha Bhaag"
          ],
          [
           "Gangs of Wasseypur"
          ],
          [
           "Udaan"
          ],
          [
           "Paan Singh Tomar"
          ],
          [
           "El secreto de sus ojos"
          ],
          [
           "Warrior"
          ],
          [
           "Shutter Island"
          ],
          [
           "Up"
          ],
          [
           "The Wolf of Wall Street"
          ],
          [
           "Chak De! India"
          ],
          [
           "There Will Be Blood"
          ],
          [
           "Pan's Labyrinth"
          ],
          [
           "Toy Story 3"
          ],
          [
           "V for Vendetta"
          ],
          [
           "Rang De Basanti"
          ],
          [
           "Black"
          ],
          [
           "Batman Begins"
          ],
          [
           "Swades: We, the People"
          ],
          [
           "Der Untergang"
          ],
          [
           "Hauru no ugoku shiro"
          ],
          [
           "A Beautiful Mind"
          ],
          [
           "Hera Pheri"
          ],
          [
           "Lock, Stock and Two Smoking Barrels"
          ],
          [
           "L.A. Confidential"
          ],
          [
           "Eskiya"
          ],
          [
           "Heat"
          ],
          [
           "Casino"
          ],
          [
           "Andaz Apna Apna"
          ],
          [
           "Unforgiven"
          ],
          [
           "Indiana Jones and the Last Crusade"
          ],
          [
           "Dom za vesanje"
          ],
          [
           "Tonari no Totoro"
          ],
          [
           "Die Hard"
          ],
          [
           "Ran"
          ],
          [
           "Raging Bull"
          ],
          [
           "Stalker"
          ],
          [
           "Höstsonaten"
          ],
          [
           "The Message"
          ],
          [
           "Sholay"
          ],
          [
           "Monty Python and the Holy Grail"
          ],
          [
           "The Great Escape"
          ],
          [
           "To Kill a Mockingbird"
          ],
          [
           "Yôjinbô"
          ],
          [
           "Judgment at Nuremberg"
          ],
          [
           "Some Like It Hot"
          ],
          [
           "Smultronstället"
          ],
          [
           "Det sjunde inseglet"
          ],
          [
           "Du rififi chez les hommes"
          ],
          [
           "Dial M for Murder"
          ],
          [
           "Tôkyô monogatari"
          ],
          [
           "Rashômon"
          ],
          [
           "All About Eve"
          ],
          [
           "The Treasure of the Sierra Madre"
          ],
          [
           "To Be or Not to Be"
          ],
          [
           "The Gold Rush"
          ],
          [
           "Sherlock Jr."
          ],
          [
           "Portrait de la jeune fille en feu"
          ],
          [
           "Pink"
          ],
          [
           "Koe no katachi"
          ],
          [
           "Contratiempo"
          ],
          [
           "Ah-ga-ssi"
          ],
          [
           "Mommy"
          ],
          [
           "Haider"
          ],
          [
           "Logan"
          ],
          [
           "Room"
          ],
          [
           "Relatos salvajes"
          ],
          [
           "Soul"
          ],
          [
           "Kis Uykusu"
          ],
          [
           "PK"
          ],
          [
           "OMG: Oh My God!"
          ],
          [
           "The Grand Budapest Hotel"
          ],
          [
           "Gone Girl"
          ],
          [
           "Ôkami kodomo no Ame to Yuki"
          ],
          [
           "Hacksaw Ridge"
          ],
          [
           "Inside Out"
          ],
          [
           "Barfi!"
          ],
          [
           "12 Years a Slave"
          ],
          [
           "Rush"
          ],
          [
           "Ford v Ferrari"
          ],
          [
           "Spotlight"
          ],
          [
           "Song of the Sea"
          ],
          [
           "Kahaani"
          ],
          [
           "Zindagi Na Milegi Dobara"
          ],
          [
           "Prisoners"
          ],
          [
           "Mad Max: Fury Road"
          ],
          [
           "A Wednesday"
          ],
          [
           "Gran Torino"
          ],
          [
           "Harry Potter and the Deathly Hallows: Part 2"
          ],
          [
           "Okuribito"
          ],
          [
           "Hachi: A Dog's Tale"
          ],
          [
           "Mary and Max"
          ],
          [
           "How to Train Your Dragon"
          ],
          [
           "Into the Wild"
          ],
          [
           "No Country for Old Men"
          ],
          [
           "Lage Raho Munna Bhai"
          ],
          [
           "Million Dollar Baby"
          ],
          [
           "Hotel Rwanda"
          ],
          [
           "Taegukgi hwinalrimyeo"
          ],
          [
           "Before Sunset"
          ],
          [
           "Munna Bhai M.B.B.S."
          ],
          [
           "Salinui chueok"
          ],
          [
           "Dil Chahta Hai"
          ],
          [
           "Kill Bill: Vol. 1"
          ],
          [
           "Finding Nemo"
          ],
          [
           "Catch Me If You Can"
          ],
          [
           "Amores perros"
          ],
          [
           "Monsters, Inc."
          ],
          [
           "Shin seiki Evangelion Gekijô-ban: Air/Magokoro wo, kimi ni"
          ],
          [
           "Lagaan: Once Upon a Time in India"
          ],
          [
           "The Sixth Sense"
          ],
          [
           "La leggenda del pianista sull'oceano"
          ],
          [
           "The Truman Show"
          ],
          [
           "Crna macka, beli macor"
          ],
          [
           "The Big Lebowski"
          ],
          [
           "Fa yeung nin wah"
          ],
          [
           "Trainspotting"
          ],
          [
           "Fargo"
          ],
          [
           "Underground"
          ],
          [
           "La haine"
          ],
          [
           "Dilwale Dulhania Le Jayenge"
          ],
          [
           "Before Sunrise"
          ],
          [
           "Trois couleurs: Rouge"
          ],
          [
           "Chung Hing sam lam"
          ],
          [
           "Jurassic Park"
          ],
          [
           "In the Name of the Father"
          ],
          [
           "Ba wang bie ji"
          ],
          [
           "Dà hóng denglong gaogao guà"
          ],
          [
           "Dead Poets Society"
          ],
          [
           "Stand by Me"
          ],
          [
           "Platoon"
          ],
          [
           "Paris, Texas"
          ],
          [
           "Kaze no tani no Naushika"
          ],
          [
           "The Thing"
          ],
          [
           "Pink Floyd: The Wall"
          ],
          [
           "Fitzcarraldo"
          ],
          [
           "Fanny och Alexander"
          ],
          [
           "Blade Runner"
          ],
          [
           "The Elephant Man"
          ],
          [
           "Life of Brian"
          ],
          [
           "The Deer Hunter"
          ],
          [
           "Rocky"
          ],
          [
           "Network"
          ],
          [
           "Barry Lyndon"
          ],
          [
           "Zerkalo"
          ],
          [
           "Chinatown"
          ],
          [
           "Paper Moon"
          ],
          [
           "Viskningar och rop"
          ],
          [
           "Solaris"
          ],
          [
           "Le samouraï"
          ],
          [
           "Cool Hand Luke"
          ],
          [
           "Persona"
          ],
          [
           "Andrei Rublev"
          ],
          [
           "La battaglia di Algeri"
          ],
          [
           "El ángel exterminador"
          ],
          [
           "What Ever Happened to Baby Jane?"
          ],
          [
           "Sanjuro"
          ],
          [
           "The Man Who Shot Liberty Valance"
          ],
          [
           "Ivanovo detstvo"
          ],
          [
           "Jungfrukällan"
          ],
          [
           "Inherit the Wind"
          ],
          [
           "Les quatre cents coups"
          ],
          [
           "Ben-Hur"
          ],
          [
           "Kakushi-toride no san-akunin"
          ],
          [
           "Le notti di Cabiria"
          ],
          [
           "Kumonosu-jô"
          ],
          [
           "The Bridge on the River Kwai"
          ],
          [
           "On the Waterfront"
          ],
          [
           "Le salaire de la peur"
          ],
          [
           "Ace in the Hole"
          ],
          [
           "White Heat"
          ],
          [
           "The Third Man"
          ],
          [
           "The Red Shoes"
          ],
          [
           "The Shop Around the Corner"
          ],
          [
           "Rebecca"
          ],
          [
           "Mr. Smith Goes to Washington"
          ],
          [
           "Gone with the Wind"
          ],
          [
           "La Grande Illusion"
          ],
          [
           "It Happened One Night"
          ],
          [
           "La passion de Jeanne d'Arc"
          ],
          [
           "The Circus"
          ],
          [
           "Sunrise: A Song of Two Humans"
          ],
          [
           "The General"
          ],
          [
           "Das Cabinet des Dr. Caligari"
          ],
          [
           "Badhaai ho"
          ],
          [
           "Togo"
          ],
          [
           "Airlift"
          ],
          [
           "Bajrangi Bhaijaan"
          ],
          [
           "Baby"
          ],
          [
           "La La Land"
          ],
          [
           "Lion"
          ],
          [
           "The Martian"
          ],
          [
           "Zootopia"
          ],
          [
           "Bãhubali: The Beginning"
          ],
          [
           "Kaguyahime no monogatari"
          ],
          [
           "Wonder"
          ],
          [
           "Gully Boy"
          ],
          [
           "Special Chabbis"
          ],
          [
           "Short Term 12"
          ],
          [
           "Serbuan maut 2: Berandal"
          ],
          [
           "The Imitation Game"
          ],
          [
           "Guardians of the Galaxy"
          ],
          [
           "Blade Runner 2049"
          ],
          [
           "Her"
          ],
          [
           "Bohemian Rhapsody"
          ],
          [
           "The Revenant"
          ],
          [
           "The Perks of Being a Wallflower"
          ],
          [
           "Tropa de Elite 2: O Inimigo Agora é Outro"
          ],
          [
           "The King's Speech"
          ],
          [
           "The Help"
          ],
          [
           "Deadpool"
          ],
          [
           "Darbareye Elly"
          ],
          [
           "Dev.D"
          ],
          [
           "Yip Man"
          ],
          [
           "My Name Is Khan"
          ],
          [
           "Nefes: Vatan Sagolsun"
          ],
          [
           "Slumdog Millionaire"
          ],
          [
           "Black Swan"
          ],
          [
           "Tropa de Elite"
          ],
          [
           "The Avengers"
          ],
          [
           "Persepolis"
          ],
          [
           "Dallas Buyers Club"
          ],
          [
           "The Pursuit of Happyness"
          ],
          [
           "Blood Diamond"
          ],
          [
           "The Bourne Ultimatum"
          ],
          [
           "Bin-jip"
          ],
          [
           "Sin City"
          ],
          [
           "Le scaphandre et le papillon"
          ],
          [
           "G.O.R.A."
          ],
          [
           "Ratatouille"
          ],
          [
           "Casino Royale"
          ],
          [
           "Kill Bill: Vol. 2"
          ],
          [
           "Vozvrashchenie"
          ],
          [
           "Bom Yeoareum Gaeul Gyeoul Geurigo Bom"
          ],
          [
           "Mar adentro"
          ],
          [
           "Cinderella Man"
          ],
          [
           "Kal Ho Naa Ho"
          ],
          [
           "Mou gaan dou"
          ],
          [
           "Pirates of the Caribbean: The Curse of the Black Pearl"
          ],
          [
           "Big Fish"
          ],
          [
           "The Incredibles"
          ],
          [
           "Yeopgijeogin geunyeo"
          ],
          [
           "Dogville"
          ],
          [
           "Vizontele"
          ],
          [
           "Donnie Darko"
          ],
          [
           "Magnolia"
          ],
          [
           "Dancer in the Dark"
          ],
          [
           "The Straight Story"
          ],
          [
           "Pâfekuto burû"
          ],
          [
           "Festen"
          ],
          [
           "Central do Brasil"
          ],
          [
           "The Iron Giant"
          ],
          [
           "Knockin' on Heaven's Door"
          ],
          [
           "Sling Blade"
          ],
          [
           "Secrets & Lies"
          ],
          [
           "Twelve Monkeys"
          ],
          [
           "Kôkaku Kidôtai"
          ],
          [
           "The Nightmare Before Christmas"
          ],
          [
           "Groundhog Day"
          ],
          [
           "Bound by Honor"
          ],
          [
           "Scent of a Woman"
          ],
          [
           "Aladdin"
          ],
          [
           "JFK"
          ],
          [
           "Beauty and the Beast"
          ],
          [
           "Dances with Wolves"
          ],
          [
           "Do the Right Thing"
          ],
          [
           "Rain Man"
          ],
          [
           "Akira"
          ],
          [
           "The Princess Bride"
          ],
          [
           "Der Himmel über Berlin"
          ],
          [
           "Au revoir les enfants"
          ],
          [
           "Tenkû no shiro Rapyuta"
          ],
          [
           "The Terminator"
          ],
          [
           "Gandhi"
          ],
          [
           "Kagemusha"
          ],
          [
           "Being There"
          ],
          [
           "Annie Hall"
          ],
          [
           "Jaws"
          ],
          [
           "Dog Day Afternoon"
          ],
          [
           "Young Frankenstein"
          ],
          [
           "Papillon"
          ],
          [
           "The Exorcist"
          ],
          [
           "Sleuth"
          ],
          [
           "The Last Picture Show"
          ],
          [
           "Fiddler on the Roof"
          ],
          [
           "Il conformista"
          ],
          [
           "Butch Cassidy and the Sundance Kid"
          ],
          [
           "Rosemary's Baby"
          ],
          [
           "Planet of the Apes"
          ],
          [
           "The Graduate"
          ],
          [
           "Who's Afraid of Virginia Woolf?"
          ],
          [
           "The Sound of Music"
          ],
          [
           "Doctor Zhivago"
          ],
          [
           "Per un pugno di dollari"
          ],
          [
           "8½"
          ],
          [
           "Vivre sa vie: Film en douze tableaux"
          ],
          [
           "The Hustler"
          ],
          [
           "La dolce vita"
          ],
          [
           "Rio Bravo"
          ],
          [
           "Anatomy of a Murder"
          ],
          [
           "Touch of Evil"
          ],
          [
           "Cat on a Hot Tin Roof"
          ],
          [
           "Sweet Smell of Success"
          ],
          [
           "The Killing"
          ],
          [
           "The Night of the Hunter"
          ],
          [
           "La Strada"
          ],
          [
           "Les diaboliques"
          ],
          [
           "Stalag 17"
          ],
          [
           "Roman Holiday"
          ],
          [
           "A Streetcar Named Desire"
          ],
          [
           "In a Lonely Place"
          ],
          [
           "Kind Hearts and Coronets"
          ],
          [
           "Rope"
          ],
          [
           "Out of the Past"
          ],
          [
           "Brief Encounter"
          ],
          [
           "Laura"
          ],
          [
           "The Best Years of Our Lives"
          ],
          [
           "Arsenic and Old Lace"
          ],
          [
           "The Maltese Falcon"
          ],
          [
           "The Grapes of Wrath"
          ],
          [
           "The Wizard of Oz"
          ],
          [
           "La règle du jeu"
          ],
          [
           "The Thin Man"
          ],
          [
           "All Quiet on the Western Front"
          ],
          [
           "Bronenosets Potemkin"
          ],
          [
           "Knives Out"
          ],
          [
           "Dil Bechara"
          ],
          [
           "Manbiki kazoku"
          ],
          [
           "Marriage Story"
          ],
          [
           "Call Me by Your Name"
          ],
          [
           "I, Daniel Blake"
          ],
          [
           "Isle of Dogs"
          ],
          [
           "Hunt for the Wilderpeople"
          ],
          [
           "Captain Fantastic"
          ],
          [
           "Sing Street"
          ],
          [
           "Thor: Ragnarok"
          ],
          [
           "Nightcrawler"
          ],
          [
           "Jojo Rabbit"
          ],
          [
           "Arrival"
          ],
          [
           "Star Wars: Episode VII - The Force Awakens"
          ],
          [
           "Before Midnight"
          ],
          [
           "X-Men: Days of Future Past"
          ],
          [
           "Bir Zamanlar Anadolu'da"
          ],
          [
           "The Artist"
          ],
          [
           "Edge of Tomorrow"
          ],
          [
           "Amour"
          ],
          [
           "The Irishman"
          ],
          [
           "Un prophète"
          ],
          [
           "Moon"
          ],
          [
           "Låt den rätte komma in"
          ],
          [
           "District 9"
          ],
          [
           "The Wrestler"
          ],
          [
           "Jab We Met"
          ],
          [
           "Boyhood"
          ],
          [
           "4 luni, 3 saptamâni si 2 zile"
          ],
          [
           "Star Trek"
          ],
          [
           "In Bruges"
          ],
          [
           "The Man from Earth"
          ],
          [
           "Letters from Iwo Jima"
          ],
          [
           "The Fall"
          ],
          [
           "Life of Pi"
          ],
          [
           "Fantastic Mr. Fox"
          ],
          [
           "C.R.A.Z.Y."
          ],
          [
           "Les choristes"
          ],
          [
           "Iron Man"
          ],
          [
           "Shaun of the Dead"
          ],
          [
           "Gegen die Wand"
          ],
          [
           "Mystic River"
          ],
          [
           "Harry Potter and the Prisoner of Azkaban"
          ],
          [
           "Ying xiong"
          ],
          [
           "Hable con ella"
          ],
          [
           "No Man's Land"
          ],
          [
           "Cowboy Bebop: Tengoku no tobira"
          ],
          [
           "The Bourne Identity"
          ],
          [
           "Nueve reinas"
          ],
          [
           "Children of Men"
          ],
          [
           "Almost Famous"
          ],
          [
           "Mulholland Dr."
          ],
          [
           "Toy Story 2"
          ],
          [
           "Boogie Nights"
          ],
          [
           "Mimi wo sumaseba"
          ],
          [
           "Once Were Warriors"
          ],
          [
           "True Romance"
          ],
          [
           "Trois couleurs: Bleu"
          ],
          [
           "Jûbê ninpûchô"
          ],
          [
           "Carlito's Way"
          ],
          [
           "Edward Scissorhands"
          ],
          [
           "My Left Foot: The Story of Christy Brown"
          ],
          [
           "Crimes and Misdemeanors"
          ],
          [
           "The Untouchables"
          ],
          [
           "Hannah and Her Sisters"
          ],
          [
           "Brazil"
          ],
          [
           "This Is Spinal Tap"
          ],
          [
           "A Christmas Story"
          ],
          [
           "The Blues Brothers"
          ],
          [
           "Manhattan"
          ],
          [
           "All That Jazz"
          ],
          [
           "Dawn of the Dead"
          ],
          [
           "All the President's Men"
          ],
          [
           "La montaña sagrada"
          ],
          [
           "Amarcord"
          ],
          [
           "Le charme discret de la bourgeoisie"
          ],
          [
           "Aguirre, der Zorn Gottes"
          ],
          [
           "Harold and Maude"
          ],
          [
           "Patton"
          ],
          [
           "The Wild Bunch"
          ],
          [
           "Night of the Living Dead"
          ],
          [
           "The Lion in Winter"
          ],
          [
           "In the Heat of the Night"
          ],
          [
           "Charade"
          ],
          [
           "The Manchurian Candidate"
          ],
          [
           "Spartacus"
          ],
          [
           "L'avventura"
          ],
          [
           "Hiroshima mon amour"
          ],
          [
           "The Ten Commandments"
          ],
          [
           "The Searchers"
          ],
          [
           "East of Eden"
          ],
          [
           "High Noon"
          ],
          [
           "Strangers on a Train"
          ],
          [
           "Harvey"
          ],
          [
           "Miracle on 34th Street"
          ],
          [
           "Notorious"
          ],
          [
           "The Big Sleep"
          ],
          [
           "The Lost Weekend"
          ],
          [
           "The Philadelphia Story"
          ],
          [
           "His Girl Friday"
          ],
          [
           "The Adventures of Robin Hood"
          ],
          [
           "A Night at the Opera"
          ],
          [
           "King Kong"
          ],
          [
           "Freaks"
          ],
          [
           "Nosferatu"
          ],
          [
           "The Gentlemen"
          ],
          [
           "Raazi"
          ],
          [
           "Sound of Metal"
          ],
          [
           "Forushande"
          ],
          [
           "Dunkirk"
          ],
          [
           "Perfetti sconosciuti"
          ],
          [
           "Hidden Figures"
          ],
          [
           "Paddington 2"
          ],
          [
           "Udta Punjab"
          ],
          [
           "Kubo and the Two Strings"
          ],
          [
           "M.S. Dhoni: The Untold Story"
          ],
          [
           "Manchester by the Sea"
          ],
          [
           "Under sandet"
          ],
          [
           "Rogue One"
          ],
          [
           "Captain America: Civil War"
          ],
          [
           "The Hateful Eight"
          ],
          [
           "Little Women"
          ],
          [
           "Loving Vincent"
          ],
          [
           "Pride"
          ],
          [
           "Le passé"
          ],
          [
           "La grande bellezza"
          ],
          [
           "The Lunchbox"
          ],
          [
           "Vicky Donor"
          ],
          [
           "Big Hero 6"
          ],
          [
           "About Time"
          ],
          [
           "English Vinglish"
          ],
          [
           "Kaze tachinu"
          ],
          [
           "Toy Story 4"
          ],
          [
           "La migliore offerta"
          ],
          [
           "Moonrise Kingdom"
          ],
          [
           "How to Train Your Dragon 2"
          ],
          [
           "The Big Short"
          ],
          [
           "Kokuhaku"
          ],
          [
           "Ang-ma-reul bo-at-da"
          ],
          [
           "The Girl with the Dragon Tattoo"
          ],
          [
           "Captain Phillips"
          ],
          [
           "Ajeossi"
          ],
          [
           "Straight Outta Compton"
          ],
          [
           "Madeo"
          ],
          [
           "Chugyeokja"
          ],
          [
           "The Hobbit: The Desolation of Smaug"
          ],
          [
           "Das weiße Band - Eine deutsche Kindergeschichte"
          ],
          [
           "Män som hatar kvinnor"
          ],
          [
           "The Trial of the Chicago 7"
          ],
          [
           "Druk"
          ],
          [
           "The Fighter"
          ],
          [
           "Taken"
          ],
          [
           "The Boy in the Striped Pyjamas"
          ],
          [
           "Once"
          ],
          [
           "The Hobbit: An Unexpected Journey"
          ],
          [
           "Auf der anderen Seite"
          ],
          [
           "Atonement"
          ],
          [
           "Drive"
          ],
          [
           "American Gangster"
          ],
          [
           "Avatar"
          ],
          [
           "Mr. Nobody"
          ],
          [
           "Apocalypto"
          ],
          [
           "Little Miss Sunshine"
          ],
          [
           "Hot Fuzz"
          ],
          [
           "The Curious Case of Benjamin Button"
          ],
          [
           "Veer-Zaara"
          ],
          [
           "Adams æbler"
          ],
          [
           "Pride & Prejudice"
          ],
          [
           "The World's Fastest Indian"
          ],
          [
           "Tôkyô goddofâzâzu"
          ],
          [
           "Serenity"
          ],
          [
           "Walk the Line"
          ],
          [
           "Ondskan"
          ],
          [
           "The Notebook"
          ],
          [
           "Diarios de motocicleta"
          ],
          [
           "Lilja 4-ever"
          ],
          [
           "Les triplettes de Belleville"
          ],
          [
           "Gongdong gyeongbi guyeok JSA"
          ],
          [
           "The Count of Monte Cristo"
          ],
          [
           "Waking Life"
          ],
          [
           "Remember the Titans"
          ],
          [
           "Wo hu cang long"
          ],
          [
           "Todo sobre mi madre"
          ],
          [
           "Cast Away"
          ],
          [
           "The Boondock Saints"
          ],
          [
           "The Insider"
          ],
          [
           "October Sky"
          ],
          [
           "Shrek"
          ],
          [
           "Titanic"
          ],
          [
           "Hana-bi"
          ],
          [
           "Gattaca"
          ],
          [
           "The Game"
          ],
          [
           "Breaking the Waves"
          ],
          [
           "Ed Wood"
          ],
          [
           "What's Eating Gilbert Grape"
          ],
          [
           "Tombstone"
          ],
          [
           "The Sandlot"
          ],
          [
           "The Remains of the Day"
          ],
          [
           "Naked"
          ],
          [
           "The Fugitive"
          ],
          [
           "A Bronx Tale"
          ],
          [
           "Batman: Mask of the Phantasm"
          ],
          [
           "Lat sau san taam"
          ],
          [
           "Night on Earth"
          ],
          [
           "La double vie de Véronique"
          ],
          [
           "Boyz n the Hood"
          ],
          [
           "Misery"
          ],
          [
           "Awakenings"
          ],
          [
           "Majo no takkyûbin"
          ],
          [
           "Glory"
          ],
          [
           "Dip huet seung hung"
          ],
          [
           "Back to the Future Part II"
          ],
          [
           "Mississippi Burning"
          ],
          [
           "Predator"
          ],
          [
           "Evil Dead II"
          ],
          [
           "Ferris Bueller's Day Off"
          ],
          [
           "Down by Law"
          ],
          [
           "The Goonies"
          ],
          [
           "The Color Purple"
          ],
          [
           "The Breakfast Club"
          ],
          [
           "The Killing Fields"
          ],
          [
           "Ghostbusters"
          ],
          [
           "The Right Stuff"
          ],
          [
           "The King of Comedy"
          ],
          [
           "E.T. the Extra-Terrestrial"
          ],
          [
           "Kramer vs. Kramer"
          ],
          [
           "Days of Heaven"
          ],
          [
           "The Outlaw Josey Wales"
          ],
          [
           "The Man Who Would Be King"
          ],
          [
           "The Conversation"
          ],
          [
           "La planète sauvage"
          ],
          [
           "The Day of the Jackal"
          ],
          [
           "Badlands"
          ],
          [
           "Cabaret"
          ],
          [
           "Willy Wonka & the Chocolate Factory"
          ],
          [
           "Midnight Cowboy"
          ],
          [
           "Wait Until Dark"
          ],
          [
           "Guess Who's Coming to Dinner"
          ],
          [
           "Bonnie and Clyde"
          ],
          [
           "My Fair Lady"
          ],
          [
           "Mary Poppins"
          ],
          [
           "The Longest Day"
          ],
          [
           "Jules et Jim"
          ],
          [
           "The Innocents"
          ],
          [
           "À bout de souffle"
          ],
          [
           "Red River"
          ],
          [
           "Key Largo"
          ],
          [
           "To Have and Have Not"
          ],
          [
           "Shadow of a Doubt"
          ],
          [
           "Stagecoach"
          ],
          [
           "The Lady Vanishes"
          ],
          [
           "Bringing Up Baby"
          ],
          [
           "Bride of Frankenstein"
          ],
          [
           "Duck Soup"
          ],
          [
           "Scarface: The Shame of the Nation"
          ],
          [
           "Frankenstein"
          ],
          [
           "Roma"
          ],
          [
           "God's Own Country"
          ],
          [
           "Deadpool 2"
          ],
          [
           "Wind River"
          ],
          [
           "Get Out"
          ],
          [
           "Mission: Impossible - Fallout"
          ],
          [
           "En man som heter Ove"
          ],
          [
           "What We Do in the Shadows"
          ],
          [
           "Omoide no Mânî"
          ],
          [
           "The Theory of Everything"
          ],
          [
           "Kingsman: The Secret Service"
          ],
          [
           "The Fault in Our Stars"
          ],
          [
           "Me and Earl and the Dying Girl"
          ],
          [
           "Birdman or (The Unexpected Virtue of Ignorance)"
          ],
          [
           "La vie d'Adèle"
          ],
          [
           "Kai po che!"
          ],
          [
           "The Broken Circle Breakdown"
          ],
          [
           "Captain America: The Winter Soldier"
          ],
          [
           "Rockstar"
          ],
          [
           "Nebraska"
          ],
          [
           "Wreck-It Ralph"
          ],
          [
           "Le Petit Prince"
          ],
          [
           "Detachment"
          ],
          [
           "Midnight in Paris"
          ],
          [
           "The Lego Movie"
          ],
          [
           "Gravity"
          ],
          [
           "Star Trek Into Darkness"
          ],
          [
           "Beasts of No Nation"
          ],
          [
           "The Social Network"
          ],
          [
           "X: First Class"
          ],
          [
           "The Hangover"
          ],
          [
           "Skyfall"
          ],
          [
           "Silver Linings Playbook"
          ],
          [
           "Argo"
          ],
          [
           "(500) Days of Summer"
          ],
          [
           "Harry Potter and the Deathly Hallows: Part 1"
          ],
          [
           "Gake no ue no Ponyo"
          ],
          [
           "Frost/Nixon"
          ],
          [
           "Papurika"
          ],
          [
           "Changeling"
          ],
          [
           "Flipped"
          ],
          [
           "Toki o kakeru shôjo"
          ],
          [
           "Death Note: Desu nôto"
          ],
          [
           "This Is England"
          ],
          [
           "Ex Machina"
          ],
          [
           "Efter brylluppet"
          ],
          [
           "The Last King of Scotland"
          ],
          [
           "Zodiac"
          ],
          [
           "Lucky Number Slevin"
          ],
          [
           "Joyeux Noël"
          ],
          [
           "Control"
          ],
          [
           "Tangled"
          ],
          [
           "Zwartboek"
          ],
          [
           "Brokeback Mountain"
          ],
          [
           "3:10 to Yuma"
          ],
          [
           "Crash"
          ],
          [
           "Kung fu"
          ],
          [
           "The Bourne Supremacy"
          ],
          [
           "The Machinist"
          ],
          [
           "Ray"
          ],
          [
           "Lost in Translation"
          ],
          [
           "Harry Potter and the Goblet of Fire"
          ],
          [
           "Man on Fire"
          ],
          [
           "Coraline"
          ],
          [
           "The Last Samurai"
          ],
          [
           "The Magdalene Sisters"
          ],
          [
           "Good Bye Lenin!"
          ],
          [
           "In America"
          ],
          [
           "I Am Sam"
          ],
          [
           "Adaptation."
          ],
          [
           "Black Hawk Down"
          ],
          [
           "Road to Perdition"
          ],
          [
           "Das Experiment"
          ],
          [
           "Billy Elliot"
          ],
          [
           "Hedwig and the Angry Inch"
          ],
          [
           "Ocean's Eleven"
          ],
          [
           "Vampire Hunter D: Bloodlust"
          ],
          [
           "O Brother, Where Art Thou?"
          ],
          [
           "Interstate 60: Episodes of the Road"
          ],
          [
           "South Park: Bigger, Longer & Uncut"
          ],
          [
           "Office Space"
          ],
          [
           "Happiness"
          ],
          [
           "Training Day"
          ],
          [
           "Rushmore"
          ],
          [
           "Abre los ojos"
          ],
          [
           "Being John Malkovich"
          ],
          [
           "As Good as It Gets"
          ],
          [
           "The Fifth Element"
          ],
          [
           "Le dîner de cons"
          ],
          [
           "Donnie Brasco"
          ],
          [
           "Shine"
          ],
          [
           "Primal Fear"
          ],
          [
           "Hamlet"
          ],
          [
           "A Little Princess"
          ],
          [
           "Do lok tin si"
          ],
          [
           "Il postino"
          ],
          [
           "Clerks"
          ],
          [
           "Short Cuts"
          ],
          [
           "Philadelphia"
          ],
          [
           "The Muppet Christmas Carol"
          ],
          [
           "Malcolm X"
          ],
          [
           "The Last of the Mohicans"
          ],
          [
           "Kurenai no buta"
          ],
          [
           "Glengarry Glen Ross"
          ],
          [
           "A Few Good Men"
          ],
          [
           "Fried Green Tomatoes"
          ],
          [
           "Barton Fink"
          ],
          [
           "Miller's Crossing"
          ],
          [
           "Who Framed Roger Rabbit"
          ],
          [
           "Spoorloos"
          ],
          [
           "Withnail & I"
          ],
          [
           "The Last Emperor"
          ],
          [
           "Empire of the Sun"
          ],
          [
           "Der Name der Rose"
          ],
          [
           "Blue Velvet"
          ],
          [
           "The Purple Rose of Cairo"
          ],
          [
           "After Hours"
          ],
          [
           "Zelig"
          ],
          [
           "The Verdict"
          ],
          [
           "Star Trek II: The Wrath of Khan"
          ],
          [
           "First Blood"
          ],
          [
           "Ordinary People"
          ],
          [
           "Airplane!"
          ],
          [
           "Rupan sansei: Kariosutoro no shiro"
          ],
          [
           "Halloween"
          ],
          [
           "Le locataire"
          ],
          [
           "Love and Death"
          ],
          [
           "The Taking of Pelham One Two Three"
          ],
          [
           "Blazing Saddles"
          ],
          [
           "Serpico"
          ],
          [
           "Enter the Dragon"
          ],
          [
           "Deliverance"
          ],
          [
           "The French Connection"
          ],
          [
           "Dirty Harry"
          ],
          [
           "Where Eagles Dare"
          ],
          [
           "The Odd Couple"
          ],
          [
           "The Dirty Dozen"
          ],
          [
           "Belle de jour"
          ],
          [
           "A Man for All Seasons"
          ],
          [
           "Repulsion"
          ],
          [
           "Zulu"
          ],
          [
           "Goldfinger"
          ],
          [
           "The Birds"
          ],
          [
           "Cape Fear"
          ],
          [
           "Peeping Tom"
          ],
          [
           "The Magnificent Seven"
          ],
          [
           "Les yeux sans visage"
          ],
          [
           "Invasion of the Body Snatchers"
          ],
          [
           "Rebel Without a Cause"
          ],
          [
           "The Ladykillers"
          ],
          [
           "Sabrina"
          ],
          [
           "The Quiet Man"
          ],
          [
           "The Day the Earth Stood Still"
          ],
          [
           "The African Queen"
          ],
          [
           "Gilda"
          ],
          [
           "Fantasia"
          ],
          [
           "The Invisible Man"
          ],
          [
           "Dark Waters"
          ],
          [
           "Searching"
          ],
          [
           "Once Upon a Time... in Hollywood"
          ],
          [
           "Nelyubov"
          ],
          [
           "The Florida Project"
          ],
          [
           "Just Mercy"
          ],
          [
           "Gifted"
          ],
          [
           "The Peanut Butter Falcon"
          ],
          [
           "Victoria"
          ],
          [
           "Mustang"
          ],
          [
           "Guardians of the Galaxy Vol. 2"
          ],
          [
           "Baby Driver"
          ],
          [
           "Only the Brave"
          ],
          [
           "Bridge of Spies"
          ],
          [
           "Incredibles 2"
          ],
          [
           "Moana"
          ],
          [
           "Sicario"
          ],
          [
           "Creed"
          ],
          [
           "Leviafan"
          ],
          [
           "Hell or High Water"
          ],
          [
           "Philomena"
          ],
          [
           "Dawn of the Planet of the Apes"
          ],
          [
           "El cuerpo"
          ],
          [
           "Serbuan maut"
          ],
          [
           "End of Watch"
          ],
          [
           "Kari-gurashi no Arietti"
          ],
          [
           "A Star Is Born"
          ],
          [
           "True Grit"
          ],
          [
           "Hævnen"
          ],
          [
           "Despicable Me"
          ],
          [
           "50/50"
          ],
          [
           "Kick-Ass"
          ],
          [
           "Celda 211"
          ],
          [
           "Moneyball"
          ],
          [
           "La piel que habito"
          ],
          [
           "Zombieland"
          ],
          [
           "Die Welle"
          ],
          [
           "Sherlock Holmes"
          ],
          [
           "The Blind Side"
          ],
          [
           "The Visitor"
          ],
          [
           "Seven Pounds"
          ],
          [
           "Eastern Promises"
          ],
          [
           "Stardust"
          ],
          [
           "The Secret of Kells"
          ],
          [
           "Inside Man"
          ],
          [
           "Gone Baby Gone"
          ],
          [
           "La Vie En Rose"
          ],
          [
           "Huo Yuan Jia"
          ],
          [
           "The Illusionist"
          ],
          [
           "Dead Man's Shoes"
          ],
          [
           "Harry Potter and the Half-Blood Prince"
          ],
          [
           "300"
          ],
          [
           "Match Point"
          ],
          [
           "Watchmen"
          ],
          [
           "Lord of War"
          ],
          [
           "Saw"
          ],
          [
           "Synecdoche, New York"
          ],
          [
           "Mysterious Skin"
          ],
          [
           "Jeux d'enfants"
          ],
          [
           "Un long dimanche de fiançailles"
          ],
          [
           "The Station Agent"
          ],
          [
           "21 Grams"
          ],
          [
           "Boksuneun naui geot"
          ],
          [
           "Finding Neverland"
          ],
          [
           "25th Hour"
          ],
          [
           "The Butterfly Effect"
          ],
          [
           "28 Days Later..."
          ],
          [
           "Batoru rowaiaru"
          ],
          [
           "The Royal Tenenbaums"
          ],
          [
           "Y tu mamá también"
          ],
          [
           "Harry Potter and the Sorcerer's Stone"
          ],
          [
           "The Others"
          ],
          [
           "Blow"
          ],
          [
           "Enemy at the Gates"
          ],
          [
           "Minority Report"
          ],
          [
           "The Hurricane"
          ],
          [
           "American Psycho"
          ],
          [
           "Lola rennt"
          ],
          [
           "The Thin Red Line"
          ],
          [
           "Mulan"
          ],
          [
           "Fear and Loathing in Las Vegas"
          ],
          [
           "Funny Games"
          ],
          [
           "Dark City"
          ],
          [
           "Sleepers"
          ],
          [
           "Lost Highway"
          ],
          [
           "Sense and Sensibility"
          ],
          [
           "Die Hard: With a Vengeance"
          ],
          [
           "Dead Man"
          ],
          [
           "The Bridges of Madison County"
          ],
          [
           "Apollo 13"
          ],
          [
           "Trois couleurs: Blanc"
          ],
          [
           "Falling Down"
          ],
          [
           "Dazed and Confused"
          ],
          [
           "My Cousin Vinny"
          ],
          [
           "Omohide poro poro"
          ],
          [
           "Delicatessen"
          ],
          [
           "Home Alone"
          ],
          [
           "The Godfather: Part III"
          ],
          [
           "When Harry Met Sally..."
          ],
          [
           "The Little Mermaid"
          ],
          [
           "The Naked Gun: From the Files of Police Squad!"
          ],
          [
           "Planes, Trains & Automobiles"
          ],
          [
           "Lethal Weapon"
          ],
          [
           "Blood Simple"
          ],
          [
           "On Golden Pond"
          ],
          [
           "Mad Max 2"
          ],
          [
           "The Warriors"
          ],
          [
           "The Muppet Movie"
          ],
          [
           "Escape from Alcatraz"
          ],
          [
           "Watership Down"
          ],
          [
           "Midnight Express"
          ],
          [
           "Close Encounters of the Third Kind"
          ],
          [
           "The Long Goodbye"
          ],
          [
           "Giù la testa"
          ],
          [
           "Kelly's Heroes"
          ],
          [
           "The Jungle Book"
          ],
          [
           "Blowup"
          ],
          [
           "A Hard Day's Night"
          ],
          [
           "Breakfast at Tiffany's"
          ],
          [
           "Giant"
          ],
          [
           "From Here to Eternity"
          ],
          [
           "Lifeboat"
          ],
          [
           "The 39 Steps"
          ]
         ],
         "hovertemplate": "IMDB_Rating=%{x}<br>No_of_Votes=%{y}<br>Series_Title=%{customdata[0]}<extra></extra>",
         "legendgroup": "",
         "marker": {
          "color": "#636efa",
          "symbol": "circle"
         },
         "mode": "markers",
         "name": "",
         "orientation": "v",
         "showlegend": false,
         "type": "scatter",
         "x": [
          9.3,
          9.2,
          9,
          9,
          9,
          8.9,
          8.9,
          8.9,
          8.8,
          8.8,
          8.8,
          8.8,
          8.8,
          8.7,
          8.7,
          8.7,
          8.7,
          8.7,
          8.6,
          8.6,
          8.6,
          8.6,
          8.6,
          8.6,
          8.6,
          8.6,
          8.6,
          8.6,
          8.6,
          8.6,
          8.6,
          8.6,
          8.6,
          8.5,
          8.5,
          8.5,
          8.5,
          8.5,
          8.5,
          8.5,
          8.5,
          8.5,
          8.5,
          8.5,
          8.5,
          8.5,
          8.5,
          8.5,
          8.5,
          8.5,
          8.5,
          8.5,
          8.5,
          8.4,
          8.4,
          8.4,
          8.4,
          8.4,
          8.4,
          8.4,
          8.4,
          8.4,
          8.4,
          8.4,
          8.4,
          8.4,
          8.4,
          8.4,
          8.4,
          8.4,
          8.4,
          8.4,
          8.4,
          8.4,
          8.4,
          8.4,
          8.4,
          8.4,
          8.4,
          8.4,
          8.4,
          8.4,
          8.4,
          8.4,
          8.3,
          8.3,
          8.3,
          8.3,
          8.3,
          8.3,
          8.3,
          8.3,
          8.3,
          8.3,
          8.3,
          8.3,
          8.3,
          8.3,
          8.3,
          8.3,
          8.3,
          8.3,
          8.3,
          8.3,
          8.3,
          8.3,
          8.3,
          8.3,
          8.3,
          8.3,
          8.3,
          8.3,
          8.3,
          8.3,
          8.3,
          8.3,
          8.3,
          8.3,
          8.3,
          8.3,
          8.3,
          8.3,
          8.3,
          8.3,
          8.3,
          8.3,
          8.3,
          8.3,
          8.2,
          8.2,
          8.2,
          8.2,
          8.2,
          8.2,
          8.2,
          8.2,
          8.2,
          8.2,
          8.2,
          8.2,
          8.2,
          8.2,
          8.2,
          8.2,
          8.2,
          8.2,
          8.2,
          8.2,
          8.2,
          8.2,
          8.2,
          8.2,
          8.2,
          8.2,
          8.2,
          8.2,
          8.2,
          8.2,
          8.2,
          8.2,
          8.2,
          8.2,
          8.2,
          8.2,
          8.2,
          8.2,
          8.2,
          8.2,
          8.2,
          8.2,
          8.2,
          8.2,
          8.2,
          8.2,
          8.2,
          8.2,
          8.2,
          8.2,
          8.2,
          8.2,
          8.2,
          8.2,
          8.2,
          8.2,
          8.2,
          8.2,
          8.2,
          8.2,
          8.2,
          8.2,
          8.2,
          8.2,
          8.2,
          8.2,
          8.2,
          8.1,
          8.1,
          8.1,
          8.1,
          8.1,
          8.1,
          8.1,
          8.1,
          8.1,
          8.1,
          8.1,
          8.1,
          8.1,
          8.1,
          8.1,
          8.1,
          8.1,
          8.1,
          8.1,
          8.1,
          8.1,
          8.1,
          8.1,
          8.1,
          8.1,
          8.1,
          8.1,
          8.1,
          8.1,
          8.1,
          8.1,
          8.1,
          8.1,
          8.1,
          8.1,
          8.1,
          8.1,
          8.1,
          8.1,
          8.1,
          8.1,
          8.1,
          8.1,
          8.1,
          8.1,
          8.1,
          8.1,
          8.1,
          8.1,
          8.1,
          8.1,
          8.1,
          8.1,
          8.1,
          8.1,
          8.1,
          8.1,
          8.1,
          8.1,
          8.1,
          8.1,
          8.1,
          8.1,
          8.1,
          8.1,
          8.1,
          8.1,
          8.1,
          8.1,
          8.1,
          8.1,
          8.1,
          8.1,
          8.1,
          8.1,
          8.1,
          8.1,
          8.1,
          8.1,
          8.1,
          8.1,
          8.1,
          8.1,
          8.1,
          8.1,
          8.1,
          8.1,
          8.1,
          8.1,
          8.1,
          8.1,
          8.1,
          8.1,
          8.1,
          8.1,
          8.1,
          8.1,
          8.1,
          8.1,
          8.1,
          8.1,
          8.1,
          8.1,
          8.1,
          8.1,
          8.1,
          8.1,
          8.1,
          8.1,
          8.1,
          8.1,
          8.1,
          8.1,
          8.1,
          8.1,
          8.1,
          8.1,
          8.1,
          8.1,
          8.1,
          8.1,
          8.1,
          8.1,
          8.1,
          8.1,
          8.1,
          8.1,
          8,
          8,
          8,
          8,
          8,
          8,
          8,
          8,
          8,
          8,
          8,
          8,
          8,
          8,
          8,
          8,
          8,
          8,
          8,
          8,
          8,
          8,
          8,
          8,
          8,
          8,
          8,
          8,
          8,
          8,
          8,
          8,
          8,
          8,
          8,
          8,
          8,
          8,
          8,
          8,
          8,
          8,
          8,
          8,
          8,
          8,
          8,
          8,
          8,
          8,
          8,
          8,
          8,
          8,
          8,
          8,
          8,
          8,
          8,
          8,
          8,
          8,
          8,
          8,
          8,
          8,
          8,
          8,
          8,
          8,
          8,
          8,
          8,
          8,
          8,
          8,
          8,
          8,
          8,
          8,
          8,
          8,
          8,
          8,
          8,
          8,
          8,
          8,
          8,
          8,
          8,
          8,
          8,
          8,
          8,
          8,
          8,
          8,
          8,
          8,
          8,
          8,
          8,
          8,
          8,
          8,
          8,
          8,
          8,
          8,
          8,
          8,
          8,
          8,
          8,
          8,
          8,
          8,
          8,
          8,
          8,
          8,
          8,
          8,
          8,
          8,
          8,
          8,
          8,
          8,
          8,
          8,
          8,
          8,
          8,
          8,
          8,
          8,
          8,
          8,
          8,
          7.9,
          7.9,
          7.9,
          7.9,
          7.9,
          7.9,
          7.9,
          7.9,
          7.9,
          7.9,
          7.9,
          7.9,
          7.9,
          7.9,
          7.9,
          7.9,
          7.9,
          7.9,
          7.9,
          7.9,
          7.9,
          7.9,
          7.9,
          7.9,
          7.9,
          7.9,
          7.9,
          7.9,
          7.9,
          7.9,
          7.9,
          7.9,
          7.9,
          7.9,
          7.9,
          7.9,
          7.9,
          7.9,
          7.9,
          7.9,
          7.9,
          7.9,
          7.9,
          7.9,
          7.9,
          7.9,
          7.9,
          7.9,
          7.9,
          7.9,
          7.9,
          7.9,
          7.9,
          7.9,
          7.9,
          7.9,
          7.9,
          7.9,
          7.9,
          7.9,
          7.9,
          7.9,
          7.9,
          7.9,
          7.9,
          7.9,
          7.9,
          7.9,
          7.9,
          7.9,
          7.9,
          7.9,
          7.9,
          7.9,
          7.9,
          7.9,
          7.9,
          7.9,
          7.9,
          7.9,
          7.9,
          7.9,
          7.9,
          7.9,
          7.9,
          7.9,
          7.9,
          7.9,
          7.9,
          7.9,
          7.9,
          7.9,
          7.9,
          7.9,
          7.9,
          7.9,
          7.9,
          7.9,
          7.9,
          7.9,
          7.9,
          7.9,
          7.9,
          7.9,
          7.9,
          7.9,
          7.8,
          7.8,
          7.8,
          7.8,
          7.8,
          7.8,
          7.8,
          7.8,
          7.8,
          7.8,
          7.8,
          7.8,
          7.8,
          7.8,
          7.8,
          7.8,
          7.8,
          7.8,
          7.8,
          7.8,
          7.8,
          7.8,
          7.8,
          7.8,
          7.8,
          7.8,
          7.8,
          7.8,
          7.8,
          7.8,
          7.8,
          7.8,
          7.8,
          7.8,
          7.8,
          7.8,
          7.8,
          7.8,
          7.8,
          7.8,
          7.8,
          7.8,
          7.8,
          7.8,
          7.8,
          7.8,
          7.8,
          7.8,
          7.8,
          7.8,
          7.8,
          7.8,
          7.8,
          7.8,
          7.8,
          7.8,
          7.8,
          7.8,
          7.8,
          7.8,
          7.8,
          7.8,
          7.8,
          7.8,
          7.8,
          7.8,
          7.8,
          7.8,
          7.8,
          7.8,
          7.8,
          7.8,
          7.8,
          7.8,
          7.8,
          7.8,
          7.8,
          7.8,
          7.8,
          7.8,
          7.8,
          7.8,
          7.8,
          7.8,
          7.8,
          7.8,
          7.8,
          7.8,
          7.8,
          7.8,
          7.8,
          7.8,
          7.8,
          7.8,
          7.8,
          7.8,
          7.8,
          7.8,
          7.8,
          7.8,
          7.8,
          7.8,
          7.8,
          7.8,
          7.8,
          7.8,
          7.8,
          7.8,
          7.8,
          7.8,
          7.8,
          7.8,
          7.8,
          7.8,
          7.8,
          7.8,
          7.8,
          7.8,
          7.8,
          7.8,
          7.8,
          7.8,
          7.8,
          7.8,
          7.8,
          7.8,
          7.8,
          7.8,
          7.8,
          7.8,
          7.8,
          7.8,
          7.8,
          7.8,
          7.8,
          7.8,
          7.8,
          7.8,
          7.8,
          7.8,
          7.8,
          7.8,
          7.8,
          7.8,
          7.8,
          7.8,
          7.8,
          7.8,
          7.8,
          7.8,
          7.8,
          7.7,
          7.7,
          7.7,
          7.7,
          7.7,
          7.7,
          7.7,
          7.7,
          7.7,
          7.7,
          7.7,
          7.7,
          7.7,
          7.7,
          7.7,
          7.7,
          7.7,
          7.7,
          7.7,
          7.7,
          7.7,
          7.7,
          7.7,
          7.7,
          7.7,
          7.7,
          7.7,
          7.7,
          7.7,
          7.7,
          7.7,
          7.7,
          7.7,
          7.7,
          7.7,
          7.7,
          7.7,
          7.7,
          7.7,
          7.7,
          7.7,
          7.7,
          7.7,
          7.7,
          7.7,
          7.7,
          7.7,
          7.7,
          7.7,
          7.7,
          7.7,
          7.7,
          7.7,
          7.7,
          7.7,
          7.7,
          7.7,
          7.7,
          7.7,
          7.7,
          7.7,
          7.7,
          7.7,
          7.7,
          7.7,
          7.7,
          7.7,
          7.7,
          7.7,
          7.7,
          7.7,
          7.7,
          7.7,
          7.7,
          7.7,
          7.7,
          7.7,
          7.7,
          7.7,
          7.7,
          7.7,
          7.7,
          7.7,
          7.7,
          7.7,
          7.7,
          7.7,
          7.7,
          7.7,
          7.7,
          7.7,
          7.7,
          7.7,
          7.7,
          7.7,
          7.7,
          7.7,
          7.7,
          7.7,
          7.7,
          7.7,
          7.7,
          7.7,
          7.7,
          7.7,
          7.7,
          7.7,
          7.7,
          7.7,
          7.7,
          7.7,
          7.7,
          7.7,
          7.7,
          7.7,
          7.7,
          7.7,
          7.7,
          7.7,
          7.7,
          7.7,
          7.7,
          7.7,
          7.7,
          7.7,
          7.7,
          7.7,
          7.7,
          7.7,
          7.7,
          7.7,
          7.7,
          7.7,
          7.7,
          7.7,
          7.7,
          7.7,
          7.7,
          7.7,
          7.7,
          7.7,
          7.7,
          7.7,
          7.7,
          7.7,
          7.7,
          7.7,
          7.7,
          7.7,
          7.7,
          7.7,
          7.7,
          7.7,
          7.7,
          7.7,
          7.7,
          7.7,
          7.6,
          7.6,
          7.6,
          7.6,
          7.6,
          7.6,
          7.6,
          7.6,
          7.6,
          7.6,
          7.6,
          7.6,
          7.6,
          7.6,
          7.6,
          7.6,
          7.6,
          7.6,
          7.6,
          7.6,
          7.6,
          7.6,
          7.6,
          7.6,
          7.6,
          7.6,
          7.6,
          7.6,
          7.6,
          7.6,
          7.6,
          7.6,
          7.6,
          7.6,
          7.6,
          7.6,
          7.6,
          7.6,
          7.6,
          7.6,
          7.6,
          7.6,
          7.6,
          7.6,
          7.6,
          7.6,
          7.6,
          7.6,
          7.6,
          7.6,
          7.6,
          7.6,
          7.6,
          7.6,
          7.6,
          7.6,
          7.6,
          7.6,
          7.6,
          7.6,
          7.6,
          7.6,
          7.6,
          7.6,
          7.6,
          7.6,
          7.6,
          7.6,
          7.6,
          7.6,
          7.6,
          7.6,
          7.6,
          7.6,
          7.6,
          7.6,
          7.6,
          7.6,
          7.6,
          7.6,
          7.6,
          7.6,
          7.6,
          7.6,
          7.6,
          7.6,
          7.6,
          7.6,
          7.6,
          7.6,
          7.6,
          7.6,
          7.6,
          7.6,
          7.6,
          7.6,
          7.6,
          7.6,
          7.6,
          7.6,
          7.6,
          7.6,
          7.6,
          7.6,
          7.6,
          7.6,
          7.6,
          7.6,
          7.6,
          7.6,
          7.6,
          7.6,
          7.6,
          7.6,
          7.6,
          7.6,
          7.6,
          7.6,
          7.6,
          7.6,
          7.6,
          7.6,
          7.6
         ],
         "xaxis": "x",
         "y": [
          2343110,
          1620367,
          2303232,
          1129952,
          689845,
          1642758,
          1826188,
          1213505,
          2067042,
          1854740,
          1661481,
          1809221,
          688390,
          1485555,
          1676426,
          1020727,
          1159315,
          918088,
          55291,
          552778,
          54995,
          1512360,
          699256,
          651376,
          1235804,
          1147794,
          623629,
          1445096,
          1270197,
          1231473,
          42004,
          315744,
          405801,
          939252,
          717585,
          760360,
          1190259,
          1189773,
          729603,
          1341460,
          1034705,
          991208,
          1035236,
          942045,
          995506,
          230763,
          235231,
          1058081,
          302844,
          604211,
          522093,
          217881,
          167839,
          62635,
          34112,
          28401,
          194838,
          156479,
          375110,
          809955,
          834477,
          384171,
          1357682,
          1516346,
          344445,
          168895,
          999790,
          358685,
          515451,
          1125712,
          343171,
          311365,
          884112,
          898237,
          606398,
          787806,
          30273,
          34357,
          450474,
          108862,
          178092,
          444074,
          201632,
          203150,
          425844,
          27793,
          71875,
          30722,
          281623,
          220002,
          150023,
          33935,
          78925,
          1267869,
          911664,
          703810,
          782001,
          766870,
          1069738,
          861606,
          65341,
          887429,
          959181,
          918562,
          675146,
          59056,
          652719,
          369007,
          740911,
          950470,
          231855,
          724636,
          241513,
          757904,
          603517,
          232772,
          268085,
          164363,
          299198,
          364368,
          218957,
          68463,
          146427,
          143525,
          403351,
          143434,
          159992,
          113314,
          33893,
          43444,
          36680,
          377884,
          432610,
          31142,
          75348,
          104761,
          70367,
          60701,
          40382,
          61137,
          82365,
          42341,
          33237,
          193217,
          435950,
          1129894,
          935507,
          1187498,
          74129,
          517359,
          618623,
          757032,
          1032749,
          111937,
          33354,
          1308302,
          83005,
          331308,
          333915,
          848920,
          57057,
          535216,
          531967,
          64118,
          577113,
          466276,
          49300,
          375935,
          692366,
          26402,
          291180,
          793164,
          112505,
          321860,
          116945,
          26875,
          43885,
          51284,
          500875,
          224730,
          293811,
          111244,
          69458,
          243943,
          96381,
          164939,
          28810,
          158335,
          53153,
          152572,
          120539,
          114304,
          29915,
          101053,
          41985,
          63134,
          39216,
          47708,
          141516,
          113649,
          50700,
          50445,
          647884,
          371538,
          177059,
          159171,
          46547,
          163061,
          51739,
          707630,
          859695,
          38803,
          435928,
          616228,
          75721,
          640533,
          432811,
          291289,
          420316,
          51679,
          57806,
          67927,
          601149,
          882316,
          73891,
          720450,
          764493,
          48582,
          253575,
          164462,
          666773,
          572921,
          856916,
          43137,
          635975,
          334320,
          37820,
          236311,
          73992,
          139558,
          66803,
          1000639,
          949565,
          832846,
          223741,
          815505,
          38847,
          105036,
          911573,
          59020,
          939631,
          50862,
          732620,
          124383,
          634716,
          617444,
          55220,
          150345,
          63516,
          272291,
          90729,
          63122,
          867615,
          156842,
          25088,
          29662,
          425457,
          363401,
          381222,
          91188,
          150924,
          371271,
          76081,
          31595,
          57784,
          693827,
          220078,
          367250,
          311361,
          518546,
          144911,
          149843,
          40081,
          294230,
          42285,
          30206,
          81021,
          45434,
          161984,
          103191,
          46947,
          53089,
          29682,
          50058,
          33044,
          68827,
          31728,
          26697,
          27254,
          105291,
          219466,
          34797,
          42940,
          46678,
          203463,
          142107,
          54588,
          31568,
          29807,
          158731,
          30935,
          28450,
          123942,
          107017,
          290074,
          33829,
          94016,
          47676,
          30205,
          46865,
          81156,
          57428,
          27978,
          37556,
          52897,
          72245,
          52848,
          505918,
          213970,
          760094,
          434143,
          102972,
          38746,
          141923,
          31886,
          51069,
          81770,
          114316,
          685201,
          1043455,
          461823,
          540772,
          450349,
          705589,
          462252,
          79200,
          639603,
          428521,
          902669,
          45803,
          28749,
          211427,
          98575,
          31838,
          798882,
          699673,
          98097,
          1260806,
          88656,
          441614,
          448930,
          499439,
          604694,
          50610,
          738512,
          103284,
          56960,
          641645,
          582239,
          683900,
          42399,
          77520,
          77554,
          176151,
          63460,
          117857,
          1015122,
          415218,
          657047,
          45403,
          137963,
          33592,
          740086,
          289742,
          102285,
          82002,
          58192,
          78341,
          36419,
          172083,
          27721,
          86838,
          37564,
          578443,
          129231,
          300208,
          577991,
          28825,
          263918,
          373845,
          142110,
          417178,
          240266,
          89429,
          473064,
          164918,
          393899,
          64722,
          31163,
          150140,
          799795,
          217664,
          32195,
          65625,
          251823,
          543388,
          235652,
          143359,
          121627,
          362393,
          44748,
          42456,
          39491,
          27067,
          201888,
          193674,
          165167,
          253676,
          68926,
          205425,
          69903,
          198219,
          108844,
          28057,
          75067,
          66621,
          56305,
          59847,
          98431,
          45062,
          28137,
          81702,
          81980,
          58314,
          61503,
          51046,
          127256,
          99182,
          26784,
          34485,
          129783,
          32784,
          35601,
          42725,
          57259,
          65101,
          148928,
          85559,
          371379,
          26725,
          26642,
          57318,
          53054,
          454203,
          111478,
          62754,
          246644,
          212651,
          53818,
          139114,
          111483,
          189400,
          85109,
          587775,
          466134,
          297918,
          594181,
          860823,
          141457,
          659763,
          41995,
          230624,
          600004,
          93090,
          324720,
          93560,
          335152,
          205609,
          638202,
          289415,
          47720,
          335533,
          56625,
          577336,
          390334,
          174125,
          154011,
          107290,
          580708,
          199696,
          31476,
          57430,
          939644,
          512249,
          51325,
          419420,
          552493,
          173999,
          104691,
          44618,
          42897,
          508771,
          49721,
          465113,
          252586,
          322031,
          527512,
          239473,
          51943,
          31590,
          206918,
          89836,
          34529,
          201000,
          447368,
          68076,
          54670,
          281842,
          67176,
          187567,
          128812,
          132947,
          183182,
          131436,
          28223,
          111512,
          103031,
          37183,
          39897,
          38737,
          52397,
          70826,
          93741,
          77401,
          116557,
          29003,
          67804,
          68689,
          71122,
          124339,
          26542,
          28421,
          63560,
          80316,
          40313,
          97222,
          123341,
          52573,
          41625,
          92306,
          78796,
          33549,
          63550,
          53667,
          47175,
          30580,
          78991,
          42117,
          88794,
          237392,
          25344,
          27187,
          51240,
          555092,
          57168,
          200876,
          61594,
          27175,
          118035,
          40416,
          246963,
          35539,
          556608,
          663649,
          517059,
          143250,
          50778,
          51841,
          45002,
          81125,
          50523,
          39710,
          410983,
          303032,
          33618,
          73690,
          203177,
          108399,
          318789,
          305611,
          362942,
          35713,
          111252,
          423010,
          421244,
          62848,
          179264,
          52758,
          58468,
          601408,
          68715,
          208994,
          89896,
          33931,
          340584,
          564791,
          190748,
          110656,
          757377,
          30827,
          251370,
          571571,
          392449,
          1118998,
          216421,
          291018,
          439856,
          463466,
          589160,
          49050,
          45717,
          258924,
          51980,
          31658,
          283310,
          234207,
          35682,
          520284,
          96703,
          42673,
          50622,
          26518,
          129022,
          60684,
          198089,
          253228,
          89058,
          524235,
          227143,
          159886,
          82855,
          613941,
          1046089,
          27712,
          280845,
          345096,
          62428,
          164937,
          215034,
          126871,
          78963,
          66065,
          34635,
          267684,
          128171,
          43690,
          46700,
          55362,
          42376,
          126082,
          184740,
          125276,
          124193,
          122779,
          45624,
          481918,
          88214,
          371387,
          148359,
          321382,
          47834,
          244430,
          78321,
          357026,
          51585,
          355413,
          56235,
          88511,
          372490,
          133351,
          52852,
          65659,
          44917,
          98611,
          25229,
          37445,
          66009,
          48334,
          178731,
          101124,
          27733,
          39642,
          102415,
          86525,
          158029,
          52141,
          37605,
          27007,
          73251,
          28167,
          36995,
          31053,
          59556,
          43621,
          47400,
          55163,
          43542,
          55581,
          25312,
          65341,
          140375,
          25198,
          478586,
          205444,
          492851,
          291257,
          47444,
          157498,
          32798,
          404182,
          590440,
          344312,
          123210,
          580291,
          138741,
          32628,
          39379,
          736182,
          39501,
          112298,
          380195,
          56720,
          77071,
          388089,
          323982,
          769145,
          463188,
          73964,
          624982,
          645512,
          717559,
          630614,
          661871,
          572581,
          472242,
          479120,
          125317,
          103330,
          71379,
          239203,
          81446,
          60368,
          28630,
          115576,
          474141,
          32001,
          175355,
          466080,
          299524,
          28003,
          61609,
          405922,
          72643,
          323103,
          288797,
          419483,
          127250,
          434841,
          358432,
          138356,
          415074,
          548619,
          329592,
          197761,
          400049,
          25938,
          137981,
          40403,
          142863,
          178565,
          364254,
          246840,
          90842,
          126770,
          31957,
          516372,
          29210,
          286742,
          29999,
          192112,
          241575,
          66408,
          390247,
          169229,
          64082,
          312542,
          275755,
          434125,
          37424,
          279318,
          51350,
          189716,
          35991,
          32236,
          26429,
          33600,
          211450,
          42275,
          224169,
          50298,
          85819,
          150409,
          77798,
          95826,
          235388,
          66941,
          113240,
          125822,
          182009,
          33982,
          40396,
          94326,
          115677,
          102031,
          181285,
          47102,
          59635,
          39881,
          36096,
          112704,
          226541,
          47099,
          214882,
          27014,
          233106,
          39889,
          36037,
          26729,
          125993,
          109941,
          96561,
          98740,
          110075,
          143292,
          51913,
          31572,
          67183,
          40274,
          31222,
          48883,
          35999,
          174119,
          171739,
          26457,
          31354,
          87719,
          27620,
          44839,
          83363,
          26464,
          59415,
          34677,
          76315,
          71481,
          27991,
          88662,
          30683,
          60408,
          140840,
          551309,
          29765,
          95181,
          46739,
          99643,
          66346,
          52903,
          35785,
          569974,
          439406,
          58371,
          287659,
          250057,
          272784,
          371291,
          247666,
          49397,
          204175,
          94212,
          411599,
          57549,
          190531,
          228132,
          80939,
          334312,
          311822,
          38491,
          500851,
          315426,
          524081,
          63882,
          369529,
          138959,
          520041,
          102742,
          583158,
          293266,
          41544,
          286770,
          227760,
          255036,
          31779,
          339757,
          250590,
          82781,
          72863,
          354728,
          49728,
          474827,
          732876,
          206294,
          500799,
          294140,
          379020,
          83158,
          65939,
          67360,
          70925,
          67370,
          224545,
          62659,
          198677,
          169708,
          451479,
          376853,
          169091,
          266842,
          115827,
          658185,
          337651,
          240714,
          243729,
          508417,
          91557,
          490062,
          188317,
          172710,
          256906,
          259753,
          65058,
          187927,
          186734,
          131101,
          102598,
          364420,
          90442,
          73172,
          269197,
          64390,
          171640,
          165465,
          107325,
          27071,
          80487,
          488817,
          359809,
          195663,
          237696,
          152871,
          124773,
          236894,
          87745,
          27650,
          166588,
          93878,
          32802,
          121731,
          33656,
          73662,
          184966,
          26337,
          30144,
          45338,
          166409,
          56513,
          40351,
          166544,
          34075,
          43374,
          26471,
          51853
         ],
         "yaxis": "y"
        }
       ],
       "layout": {
        "legend": {
         "tracegroupgap": 0
        },
        "margin": {
         "t": 60
        },
        "template": {
         "data": {
          "bar": [
           {
            "error_x": {
             "color": "#2a3f5f"
            },
            "error_y": {
             "color": "#2a3f5f"
            },
            "marker": {
             "line": {
              "color": "#E5ECF6",
              "width": 0.5
             },
             "pattern": {
              "fillmode": "overlay",
              "size": 10,
              "solidity": 0.2
             }
            },
            "type": "bar"
           }
          ],
          "barpolar": [
           {
            "marker": {
             "line": {
              "color": "#E5ECF6",
              "width": 0.5
             },
             "pattern": {
              "fillmode": "overlay",
              "size": 10,
              "solidity": 0.2
             }
            },
            "type": "barpolar"
           }
          ],
          "carpet": [
           {
            "aaxis": {
             "endlinecolor": "#2a3f5f",
             "gridcolor": "white",
             "linecolor": "white",
             "minorgridcolor": "white",
             "startlinecolor": "#2a3f5f"
            },
            "baxis": {
             "endlinecolor": "#2a3f5f",
             "gridcolor": "white",
             "linecolor": "white",
             "minorgridcolor": "white",
             "startlinecolor": "#2a3f5f"
            },
            "type": "carpet"
           }
          ],
          "choropleth": [
           {
            "colorbar": {
             "outlinewidth": 0,
             "ticks": ""
            },
            "type": "choropleth"
           }
          ],
          "contour": [
           {
            "colorbar": {
             "outlinewidth": 0,
             "ticks": ""
            },
            "colorscale": [
             [
              0,
              "#0d0887"
             ],
             [
              0.1111111111111111,
              "#46039f"
             ],
             [
              0.2222222222222222,
              "#7201a8"
             ],
             [
              0.3333333333333333,
              "#9c179e"
             ],
             [
              0.4444444444444444,
              "#bd3786"
             ],
             [
              0.5555555555555556,
              "#d8576b"
             ],
             [
              0.6666666666666666,
              "#ed7953"
             ],
             [
              0.7777777777777778,
              "#fb9f3a"
             ],
             [
              0.8888888888888888,
              "#fdca26"
             ],
             [
              1,
              "#f0f921"
             ]
            ],
            "type": "contour"
           }
          ],
          "contourcarpet": [
           {
            "colorbar": {
             "outlinewidth": 0,
             "ticks": ""
            },
            "type": "contourcarpet"
           }
          ],
          "heatmap": [
           {
            "colorbar": {
             "outlinewidth": 0,
             "ticks": ""
            },
            "colorscale": [
             [
              0,
              "#0d0887"
             ],
             [
              0.1111111111111111,
              "#46039f"
             ],
             [
              0.2222222222222222,
              "#7201a8"
             ],
             [
              0.3333333333333333,
              "#9c179e"
             ],
             [
              0.4444444444444444,
              "#bd3786"
             ],
             [
              0.5555555555555556,
              "#d8576b"
             ],
             [
              0.6666666666666666,
              "#ed7953"
             ],
             [
              0.7777777777777778,
              "#fb9f3a"
             ],
             [
              0.8888888888888888,
              "#fdca26"
             ],
             [
              1,
              "#f0f921"
             ]
            ],
            "type": "heatmap"
           }
          ],
          "heatmapgl": [
           {
            "colorbar": {
             "outlinewidth": 0,
             "ticks": ""
            },
            "colorscale": [
             [
              0,
              "#0d0887"
             ],
             [
              0.1111111111111111,
              "#46039f"
             ],
             [
              0.2222222222222222,
              "#7201a8"
             ],
             [
              0.3333333333333333,
              "#9c179e"
             ],
             [
              0.4444444444444444,
              "#bd3786"
             ],
             [
              0.5555555555555556,
              "#d8576b"
             ],
             [
              0.6666666666666666,
              "#ed7953"
             ],
             [
              0.7777777777777778,
              "#fb9f3a"
             ],
             [
              0.8888888888888888,
              "#fdca26"
             ],
             [
              1,
              "#f0f921"
             ]
            ],
            "type": "heatmapgl"
           }
          ],
          "histogram": [
           {
            "marker": {
             "pattern": {
              "fillmode": "overlay",
              "size": 10,
              "solidity": 0.2
             }
            },
            "type": "histogram"
           }
          ],
          "histogram2d": [
           {
            "colorbar": {
             "outlinewidth": 0,
             "ticks": ""
            },
            "colorscale": [
             [
              0,
              "#0d0887"
             ],
             [
              0.1111111111111111,
              "#46039f"
             ],
             [
              0.2222222222222222,
              "#7201a8"
             ],
             [
              0.3333333333333333,
              "#9c179e"
             ],
             [
              0.4444444444444444,
              "#bd3786"
             ],
             [
              0.5555555555555556,
              "#d8576b"
             ],
             [
              0.6666666666666666,
              "#ed7953"
             ],
             [
              0.7777777777777778,
              "#fb9f3a"
             ],
             [
              0.8888888888888888,
              "#fdca26"
             ],
             [
              1,
              "#f0f921"
             ]
            ],
            "type": "histogram2d"
           }
          ],
          "histogram2dcontour": [
           {
            "colorbar": {
             "outlinewidth": 0,
             "ticks": ""
            },
            "colorscale": [
             [
              0,
              "#0d0887"
             ],
             [
              0.1111111111111111,
              "#46039f"
             ],
             [
              0.2222222222222222,
              "#7201a8"
             ],
             [
              0.3333333333333333,
              "#9c179e"
             ],
             [
              0.4444444444444444,
              "#bd3786"
             ],
             [
              0.5555555555555556,
              "#d8576b"
             ],
             [
              0.6666666666666666,
              "#ed7953"
             ],
             [
              0.7777777777777778,
              "#fb9f3a"
             ],
             [
              0.8888888888888888,
              "#fdca26"
             ],
             [
              1,
              "#f0f921"
             ]
            ],
            "type": "histogram2dcontour"
           }
          ],
          "mesh3d": [
           {
            "colorbar": {
             "outlinewidth": 0,
             "ticks": ""
            },
            "type": "mesh3d"
           }
          ],
          "parcoords": [
           {
            "line": {
             "colorbar": {
              "outlinewidth": 0,
              "ticks": ""
             }
            },
            "type": "parcoords"
           }
          ],
          "pie": [
           {
            "automargin": true,
            "type": "pie"
           }
          ],
          "scatter": [
           {
            "fillpattern": {
             "fillmode": "overlay",
             "size": 10,
             "solidity": 0.2
            },
            "type": "scatter"
           }
          ],
          "scatter3d": [
           {
            "line": {
             "colorbar": {
              "outlinewidth": 0,
              "ticks": ""
             }
            },
            "marker": {
             "colorbar": {
              "outlinewidth": 0,
              "ticks": ""
             }
            },
            "type": "scatter3d"
           }
          ],
          "scattercarpet": [
           {
            "marker": {
             "colorbar": {
              "outlinewidth": 0,
              "ticks": ""
             }
            },
            "type": "scattercarpet"
           }
          ],
          "scattergeo": [
           {
            "marker": {
             "colorbar": {
              "outlinewidth": 0,
              "ticks": ""
             }
            },
            "type": "scattergeo"
           }
          ],
          "scattergl": [
           {
            "marker": {
             "colorbar": {
              "outlinewidth": 0,
              "ticks": ""
             }
            },
            "type": "scattergl"
           }
          ],
          "scattermapbox": [
           {
            "marker": {
             "colorbar": {
              "outlinewidth": 0,
              "ticks": ""
             }
            },
            "type": "scattermapbox"
           }
          ],
          "scatterpolar": [
           {
            "marker": {
             "colorbar": {
              "outlinewidth": 0,
              "ticks": ""
             }
            },
            "type": "scatterpolar"
           }
          ],
          "scatterpolargl": [
           {
            "marker": {
             "colorbar": {
              "outlinewidth": 0,
              "ticks": ""
             }
            },
            "type": "scatterpolargl"
           }
          ],
          "scatterternary": [
           {
            "marker": {
             "colorbar": {
              "outlinewidth": 0,
              "ticks": ""
             }
            },
            "type": "scatterternary"
           }
          ],
          "surface": [
           {
            "colorbar": {
             "outlinewidth": 0,
             "ticks": ""
            },
            "colorscale": [
             [
              0,
              "#0d0887"
             ],
             [
              0.1111111111111111,
              "#46039f"
             ],
             [
              0.2222222222222222,
              "#7201a8"
             ],
             [
              0.3333333333333333,
              "#9c179e"
             ],
             [
              0.4444444444444444,
              "#bd3786"
             ],
             [
              0.5555555555555556,
              "#d8576b"
             ],
             [
              0.6666666666666666,
              "#ed7953"
             ],
             [
              0.7777777777777778,
              "#fb9f3a"
             ],
             [
              0.8888888888888888,
              "#fdca26"
             ],
             [
              1,
              "#f0f921"
             ]
            ],
            "type": "surface"
           }
          ],
          "table": [
           {
            "cells": {
             "fill": {
              "color": "#EBF0F8"
             },
             "line": {
              "color": "white"
             }
            },
            "header": {
             "fill": {
              "color": "#C8D4E3"
             },
             "line": {
              "color": "white"
             }
            },
            "type": "table"
           }
          ]
         },
         "layout": {
          "annotationdefaults": {
           "arrowcolor": "#2a3f5f",
           "arrowhead": 0,
           "arrowwidth": 1
          },
          "autotypenumbers": "strict",
          "coloraxis": {
           "colorbar": {
            "outlinewidth": 0,
            "ticks": ""
           }
          },
          "colorscale": {
           "diverging": [
            [
             0,
             "#8e0152"
            ],
            [
             0.1,
             "#c51b7d"
            ],
            [
             0.2,
             "#de77ae"
            ],
            [
             0.3,
             "#f1b6da"
            ],
            [
             0.4,
             "#fde0ef"
            ],
            [
             0.5,
             "#f7f7f7"
            ],
            [
             0.6,
             "#e6f5d0"
            ],
            [
             0.7,
             "#b8e186"
            ],
            [
             0.8,
             "#7fbc41"
            ],
            [
             0.9,
             "#4d9221"
            ],
            [
             1,
             "#276419"
            ]
           ],
           "sequential": [
            [
             0,
             "#0d0887"
            ],
            [
             0.1111111111111111,
             "#46039f"
            ],
            [
             0.2222222222222222,
             "#7201a8"
            ],
            [
             0.3333333333333333,
             "#9c179e"
            ],
            [
             0.4444444444444444,
             "#bd3786"
            ],
            [
             0.5555555555555556,
             "#d8576b"
            ],
            [
             0.6666666666666666,
             "#ed7953"
            ],
            [
             0.7777777777777778,
             "#fb9f3a"
            ],
            [
             0.8888888888888888,
             "#fdca26"
            ],
            [
             1,
             "#f0f921"
            ]
           ],
           "sequentialminus": [
            [
             0,
             "#0d0887"
            ],
            [
             0.1111111111111111,
             "#46039f"
            ],
            [
             0.2222222222222222,
             "#7201a8"
            ],
            [
             0.3333333333333333,
             "#9c179e"
            ],
            [
             0.4444444444444444,
             "#bd3786"
            ],
            [
             0.5555555555555556,
             "#d8576b"
            ],
            [
             0.6666666666666666,
             "#ed7953"
            ],
            [
             0.7777777777777778,
             "#fb9f3a"
            ],
            [
             0.8888888888888888,
             "#fdca26"
            ],
            [
             1,
             "#f0f921"
            ]
           ]
          },
          "colorway": [
           "#636efa",
           "#EF553B",
           "#00cc96",
           "#ab63fa",
           "#FFA15A",
           "#19d3f3",
           "#FF6692",
           "#B6E880",
           "#FF97FF",
           "#FECB52"
          ],
          "font": {
           "color": "#2a3f5f"
          },
          "geo": {
           "bgcolor": "white",
           "lakecolor": "white",
           "landcolor": "#E5ECF6",
           "showlakes": true,
           "showland": true,
           "subunitcolor": "white"
          },
          "hoverlabel": {
           "align": "left"
          },
          "hovermode": "closest",
          "mapbox": {
           "style": "light"
          },
          "paper_bgcolor": "white",
          "plot_bgcolor": "#E5ECF6",
          "polar": {
           "angularaxis": {
            "gridcolor": "white",
            "linecolor": "white",
            "ticks": ""
           },
           "bgcolor": "#E5ECF6",
           "radialaxis": {
            "gridcolor": "white",
            "linecolor": "white",
            "ticks": ""
           }
          },
          "scene": {
           "xaxis": {
            "backgroundcolor": "#E5ECF6",
            "gridcolor": "white",
            "gridwidth": 2,
            "linecolor": "white",
            "showbackground": true,
            "ticks": "",
            "zerolinecolor": "white"
           },
           "yaxis": {
            "backgroundcolor": "#E5ECF6",
            "gridcolor": "white",
            "gridwidth": 2,
            "linecolor": "white",
            "showbackground": true,
            "ticks": "",
            "zerolinecolor": "white"
           },
           "zaxis": {
            "backgroundcolor": "#E5ECF6",
            "gridcolor": "white",
            "gridwidth": 2,
            "linecolor": "white",
            "showbackground": true,
            "ticks": "",
            "zerolinecolor": "white"
           }
          },
          "shapedefaults": {
           "line": {
            "color": "#2a3f5f"
           }
          },
          "ternary": {
           "aaxis": {
            "gridcolor": "white",
            "linecolor": "white",
            "ticks": ""
           },
           "baxis": {
            "gridcolor": "white",
            "linecolor": "white",
            "ticks": ""
           },
           "bgcolor": "#E5ECF6",
           "caxis": {
            "gridcolor": "white",
            "linecolor": "white",
            "ticks": ""
           }
          },
          "title": {
           "x": 0.05
          },
          "xaxis": {
           "automargin": true,
           "gridcolor": "white",
           "linecolor": "white",
           "ticks": "",
           "title": {
            "standoff": 15
           },
           "zerolinecolor": "white",
           "zerolinewidth": 2
          },
          "yaxis": {
           "automargin": true,
           "gridcolor": "white",
           "linecolor": "white",
           "ticks": "",
           "title": {
            "standoff": 15
           },
           "zerolinecolor": "white",
           "zerolinewidth": 2
          }
         }
        },
        "xaxis": {
         "anchor": "y",
         "domain": [
          0,
          1
         ],
         "title": {
          "text": "IMDB_Rating"
         }
        },
        "yaxis": {
         "anchor": "x",
         "domain": [
          0,
          1
         ],
         "title": {
          "text": "No_of_Votes"
         }
        }
       }
      },
      "text/html": [
       "<div>                            <div id=\"d15948e1-028c-442b-9a8f-8fe859ef2b0b\" class=\"plotly-graph-div\" style=\"height:525px; width:100%;\"></div>            <script type=\"text/javascript\">                require([\"plotly\"], function(Plotly) {                    window.PLOTLYENV=window.PLOTLYENV || {};                                    if (document.getElementById(\"d15948e1-028c-442b-9a8f-8fe859ef2b0b\")) {                    Plotly.newPlot(                        \"d15948e1-028c-442b-9a8f-8fe859ef2b0b\",                        [{\"customdata\":[[\"The Shawshank Redemption\"],[\"The Godfather\"],[\"The Dark Knight\"],[\"The Godfather: Part II\"],[\"12 Angry Men\"],[\"The Lord of the Rings: The Return of the King\"],[\"Pulp Fiction\"],[\"Schindler's List\"],[\"Inception\"],[\"Fight Club\"],[\"The Lord of the Rings: The Fellowship of the Ring\"],[\"Forrest Gump\"],[\"Il buono, il brutto, il cattivo\"],[\"The Lord of the Rings: The Two Towers\"],[\"The Matrix\"],[\"Goodfellas\"],[\"Star Wars: Episode V - The Empire Strikes Back\"],[\"One Flew Over the Cuckoo's Nest\"],[\"Hamilton\"],[\"Gisaengchung\"],[\"Soorarai Pottru\"],[\"Interstellar\"],[\"Cidade de Deus\"],[\"Sen to Chihiro no kamikakushi\"],[\"Saving Private Ryan\"],[\"The Green Mile\"],[\"La vita \\u00e8 bella\"],[\"Se7en\"],[\"The Silence of the Lambs\"],[\"Star Wars\"],[\"Seppuku\"],[\"Shichinin no samurai\"],[\"It's a Wonderful Life\"],[\"Joker\"],[\"Whiplash\"],[\"The Intouchables\"],[\"The Prestige\"],[\"The Departed\"],[\"The Pianist\"],[\"Gladiator\"],[\"American History X\"],[\"The Usual Suspects\"],[\"L\\u00e9on\"],[\"The Lion King\"],[\"Terminator 2: Judgment Day\"],[\"Nuovo Cinema Paradiso\"],[\"Hotaru no haka\"],[\"Back to the Future\"],[\"Once Upon a Time in the West\"],[\"Psycho\"],[\"Casablanca\"],[\"Modern Times\"],[\"City Lights\"],[\"Capharna\\u00fcm\"],[\"Ayla: The Daughter of War\"],[\"Vikram Vedha\"],[\"Kimi no na wa.\"],[\"Dangal\"],[\"Spider-Man: Into the Spider-Verse\"],[\"Avengers: Endgame\"],[\"Avengers: Infinity War\"],[\"Coco\"],[\"Django Unchained\"],[\"The Dark Knight Rises\"],[\"3 Idiots\"],[\"Taare Zameen Par\"],[\"WALL\\u00b7E\"],[\"The Lives of Others\"],[\"Oldeuboi\"],[\"Memento\"],[\"Mononoke-hime\"],[\"Once Upon a Time in America\"],[\"Raiders of the Lost Ark\"],[\"The Shining\"],[\"Apocalypse Now\"],[\"Alien\"],[\"Anand\"],[\"Tengoku to jigoku\"],[\"Dr. Strangelove or: How I Learned to Stop Worrying and Love the Bomb\"],[\"Witness for the Prosecution\"],[\"Paths of Glory\"],[\"Rear Window\"],[\"Sunset Blvd.\"],[\"The Great Dictator\"],[\"1917\"],[\"Tumbbad\"],[\"Andhadhun\"],[\"Drishyam\"],[\"Jagten\"],[\"Jodaeiye Nader az Simin\"],[\"Incendies\"],[\"Miracle in cell NO.7\"],[\"Babam ve Oglum\"],[\"Inglourious Basterds\"],[\"Eternal Sunshine of the Spotless Mind\"],[\"Am\\u00e9lie\"],[\"Snatch\"],[\"Requiem for a Dream\"],[\"American Beauty\"],[\"Good Will Hunting\"],[\"Bacheha-Ye aseman\"],[\"Toy Story\"],[\"Braveheart\"],[\"Reservoir Dogs\"],[\"Full Metal Jacket\"],[\"Idi i smotri\"],[\"Aliens\"],[\"Amadeus\"],[\"Scarface\"],[\"Star Wars: Episode VI - Return of the Jedi\"],[\"Das Boot\"],[\"Taxi Driver\"],[\"The Sting\"],[\"A Clockwork Orange\"],[\"2001: A Space Odyssey\"],[\"Per qualche dollaro in pi\\u00f9\"],[\"Lawrence of Arabia\"],[\"The Apartment\"],[\"North by Northwest\"],[\"Vertigo\"],[\"Singin' in the Rain\"],[\"Ikiru\"],[\"Ladri di biciclette\"],[\"Double Indemnity\"],[\"Citizen Kane\"],[\"M - Eine Stadt sucht einen M\\u00f6rder\"],[\"Metropolis\"],[\"The Kid\"],[\"Chhichhore\"],[\"Uri: The Surgical Strike\"],[\"K.G.F: Chapter 1\"],[\"Green Book\"],[\"Three Billboards Outside Ebbing, Missouri\"],[\"Talvar\"],[\"Baahubali 2: The Conclusion\"],[\"Klaus\"],[\"Drishyam\"],[\"Queen\"],[\"Mandariinid\"],[\"Bhaag Milkha Bhaag\"],[\"Gangs of Wasseypur\"],[\"Udaan\"],[\"Paan Singh Tomar\"],[\"El secreto de sus ojos\"],[\"Warrior\"],[\"Shutter Island\"],[\"Up\"],[\"The Wolf of Wall Street\"],[\"Chak De! India\"],[\"There Will Be Blood\"],[\"Pan's Labyrinth\"],[\"Toy Story 3\"],[\"V for Vendetta\"],[\"Rang De Basanti\"],[\"Black\"],[\"Batman Begins\"],[\"Swades: We, the People\"],[\"Der Untergang\"],[\"Hauru no ugoku shiro\"],[\"A Beautiful Mind\"],[\"Hera Pheri\"],[\"Lock, Stock and Two Smoking Barrels\"],[\"L.A. Confidential\"],[\"Eskiya\"],[\"Heat\"],[\"Casino\"],[\"Andaz Apna Apna\"],[\"Unforgiven\"],[\"Indiana Jones and the Last Crusade\"],[\"Dom za vesanje\"],[\"Tonari no Totoro\"],[\"Die Hard\"],[\"Ran\"],[\"Raging Bull\"],[\"Stalker\"],[\"H\\u00f6stsonaten\"],[\"The Message\"],[\"Sholay\"],[\"Monty Python and the Holy Grail\"],[\"The Great Escape\"],[\"To Kill a Mockingbird\"],[\"Y\\u00f4jinb\\u00f4\"],[\"Judgment at Nuremberg\"],[\"Some Like It Hot\"],[\"Smultronst\\u00e4llet\"],[\"Det sjunde inseglet\"],[\"Du rififi chez les hommes\"],[\"Dial M for Murder\"],[\"T\\u00f4ky\\u00f4 monogatari\"],[\"Rash\\u00f4mon\"],[\"All About Eve\"],[\"The Treasure of the Sierra Madre\"],[\"To Be or Not to Be\"],[\"The Gold Rush\"],[\"Sherlock Jr.\"],[\"Portrait de la jeune fille en feu\"],[\"Pink\"],[\"Koe no katachi\"],[\"Contratiempo\"],[\"Ah-ga-ssi\"],[\"Mommy\"],[\"Haider\"],[\"Logan\"],[\"Room\"],[\"Relatos salvajes\"],[\"Soul\"],[\"Kis Uykusu\"],[\"PK\"],[\"OMG: Oh My God!\"],[\"The Grand Budapest Hotel\"],[\"Gone Girl\"],[\"\\u00d4kami kodomo no Ame to Yuki\"],[\"Hacksaw Ridge\"],[\"Inside Out\"],[\"Barfi!\"],[\"12 Years a Slave\"],[\"Rush\"],[\"Ford v Ferrari\"],[\"Spotlight\"],[\"Song of the Sea\"],[\"Kahaani\"],[\"Zindagi Na Milegi Dobara\"],[\"Prisoners\"],[\"Mad Max: Fury Road\"],[\"A Wednesday\"],[\"Gran Torino\"],[\"Harry Potter and the Deathly Hallows: Part 2\"],[\"Okuribito\"],[\"Hachi: A Dog's Tale\"],[\"Mary and Max\"],[\"How to Train Your Dragon\"],[\"Into the Wild\"],[\"No Country for Old Men\"],[\"Lage Raho Munna Bhai\"],[\"Million Dollar Baby\"],[\"Hotel Rwanda\"],[\"Taegukgi hwinalrimyeo\"],[\"Before Sunset\"],[\"Munna Bhai M.B.B.S.\"],[\"Salinui chueok\"],[\"Dil Chahta Hai\"],[\"Kill Bill: Vol. 1\"],[\"Finding Nemo\"],[\"Catch Me If You Can\"],[\"Amores perros\"],[\"Monsters, Inc.\"],[\"Shin seiki Evangelion Gekij\\u00f4-ban: Air/Magokoro wo, kimi ni\"],[\"Lagaan: Once Upon a Time in India\"],[\"The Sixth Sense\"],[\"La leggenda del pianista sull'oceano\"],[\"The Truman Show\"],[\"Crna macka, beli macor\"],[\"The Big Lebowski\"],[\"Fa yeung nin wah\"],[\"Trainspotting\"],[\"Fargo\"],[\"Underground\"],[\"La haine\"],[\"Dilwale Dulhania Le Jayenge\"],[\"Before Sunrise\"],[\"Trois couleurs: Rouge\"],[\"Chung Hing sam lam\"],[\"Jurassic Park\"],[\"In the Name of the Father\"],[\"Ba wang bie ji\"],[\"D\\u00e0 h\\u00f3ng denglong gaogao gu\\u00e0\"],[\"Dead Poets Society\"],[\"Stand by Me\"],[\"Platoon\"],[\"Paris, Texas\"],[\"Kaze no tani no Naushika\"],[\"The Thing\"],[\"Pink Floyd: The Wall\"],[\"Fitzcarraldo\"],[\"Fanny och Alexander\"],[\"Blade Runner\"],[\"The Elephant Man\"],[\"Life of Brian\"],[\"The Deer Hunter\"],[\"Rocky\"],[\"Network\"],[\"Barry Lyndon\"],[\"Zerkalo\"],[\"Chinatown\"],[\"Paper Moon\"],[\"Viskningar och rop\"],[\"Solaris\"],[\"Le samoura\\u00ef\"],[\"Cool Hand Luke\"],[\"Persona\"],[\"Andrei Rublev\"],[\"La battaglia di Algeri\"],[\"El \\u00e1ngel exterminador\"],[\"What Ever Happened to Baby Jane?\"],[\"Sanjuro\"],[\"The Man Who Shot Liberty Valance\"],[\"Ivanovo detstvo\"],[\"Jungfruk\\u00e4llan\"],[\"Inherit the Wind\"],[\"Les quatre cents coups\"],[\"Ben-Hur\"],[\"Kakushi-toride no san-akunin\"],[\"Le notti di Cabiria\"],[\"Kumonosu-j\\u00f4\"],[\"The Bridge on the River Kwai\"],[\"On the Waterfront\"],[\"Le salaire de la peur\"],[\"Ace in the Hole\"],[\"White Heat\"],[\"The Third Man\"],[\"The Red Shoes\"],[\"The Shop Around the Corner\"],[\"Rebecca\"],[\"Mr. Smith Goes to Washington\"],[\"Gone with the Wind\"],[\"La Grande Illusion\"],[\"It Happened One Night\"],[\"La passion de Jeanne d'Arc\"],[\"The Circus\"],[\"Sunrise: A Song of Two Humans\"],[\"The General\"],[\"Das Cabinet des Dr. Caligari\"],[\"Badhaai ho\"],[\"Togo\"],[\"Airlift\"],[\"Bajrangi Bhaijaan\"],[\"Baby\"],[\"La La Land\"],[\"Lion\"],[\"The Martian\"],[\"Zootopia\"],[\"B\\u00e3hubali: The Beginning\"],[\"Kaguyahime no monogatari\"],[\"Wonder\"],[\"Gully Boy\"],[\"Special Chabbis\"],[\"Short Term 12\"],[\"Serbuan maut 2: Berandal\"],[\"The Imitation Game\"],[\"Guardians of the Galaxy\"],[\"Blade Runner 2049\"],[\"Her\"],[\"Bohemian Rhapsody\"],[\"The Revenant\"],[\"The Perks of Being a Wallflower\"],[\"Tropa de Elite 2: O Inimigo Agora \\u00e9 Outro\"],[\"The King's Speech\"],[\"The Help\"],[\"Deadpool\"],[\"Darbareye Elly\"],[\"Dev.D\"],[\"Yip Man\"],[\"My Name Is Khan\"],[\"Nefes: Vatan Sagolsun\"],[\"Slumdog Millionaire\"],[\"Black Swan\"],[\"Tropa de Elite\"],[\"The Avengers\"],[\"Persepolis\"],[\"Dallas Buyers Club\"],[\"The Pursuit of Happyness\"],[\"Blood Diamond\"],[\"The Bourne Ultimatum\"],[\"Bin-jip\"],[\"Sin City\"],[\"Le scaphandre et le papillon\"],[\"G.O.R.A.\"],[\"Ratatouille\"],[\"Casino Royale\"],[\"Kill Bill: Vol. 2\"],[\"Vozvrashchenie\"],[\"Bom Yeoareum Gaeul Gyeoul Geurigo Bom\"],[\"Mar adentro\"],[\"Cinderella Man\"],[\"Kal Ho Naa Ho\"],[\"Mou gaan dou\"],[\"Pirates of the Caribbean: The Curse of the Black Pearl\"],[\"Big Fish\"],[\"The Incredibles\"],[\"Yeopgijeogin geunyeo\"],[\"Dogville\"],[\"Vizontele\"],[\"Donnie Darko\"],[\"Magnolia\"],[\"Dancer in the Dark\"],[\"The Straight Story\"],[\"P\\u00e2fekuto bur\\u00fb\"],[\"Festen\"],[\"Central do Brasil\"],[\"The Iron Giant\"],[\"Knockin' on Heaven's Door\"],[\"Sling Blade\"],[\"Secrets & Lies\"],[\"Twelve Monkeys\"],[\"K\\u00f4kaku Kid\\u00f4tai\"],[\"The Nightmare Before Christmas\"],[\"Groundhog Day\"],[\"Bound by Honor\"],[\"Scent of a Woman\"],[\"Aladdin\"],[\"JFK\"],[\"Beauty and the Beast\"],[\"Dances with Wolves\"],[\"Do the Right Thing\"],[\"Rain Man\"],[\"Akira\"],[\"The Princess Bride\"],[\"Der Himmel \\u00fcber Berlin\"],[\"Au revoir les enfants\"],[\"Tenk\\u00fb no shiro Rapyuta\"],[\"The Terminator\"],[\"Gandhi\"],[\"Kagemusha\"],[\"Being There\"],[\"Annie Hall\"],[\"Jaws\"],[\"Dog Day Afternoon\"],[\"Young Frankenstein\"],[\"Papillon\"],[\"The Exorcist\"],[\"Sleuth\"],[\"The Last Picture Show\"],[\"Fiddler on the Roof\"],[\"Il conformista\"],[\"Butch Cassidy and the Sundance Kid\"],[\"Rosemary's Baby\"],[\"Planet of the Apes\"],[\"The Graduate\"],[\"Who's Afraid of Virginia Woolf?\"],[\"The Sound of Music\"],[\"Doctor Zhivago\"],[\"Per un pugno di dollari\"],[\"8\\u00bd\"],[\"Vivre sa vie: Film en douze tableaux\"],[\"The Hustler\"],[\"La dolce vita\"],[\"Rio Bravo\"],[\"Anatomy of a Murder\"],[\"Touch of Evil\"],[\"Cat on a Hot Tin Roof\"],[\"Sweet Smell of Success\"],[\"The Killing\"],[\"The Night of the Hunter\"],[\"La Strada\"],[\"Les diaboliques\"],[\"Stalag 17\"],[\"Roman Holiday\"],[\"A Streetcar Named Desire\"],[\"In a Lonely Place\"],[\"Kind Hearts and Coronets\"],[\"Rope\"],[\"Out of the Past\"],[\"Brief Encounter\"],[\"Laura\"],[\"The Best Years of Our Lives\"],[\"Arsenic and Old Lace\"],[\"The Maltese Falcon\"],[\"The Grapes of Wrath\"],[\"The Wizard of Oz\"],[\"La r\\u00e8gle du jeu\"],[\"The Thin Man\"],[\"All Quiet on the Western Front\"],[\"Bronenosets Potemkin\"],[\"Knives Out\"],[\"Dil Bechara\"],[\"Manbiki kazoku\"],[\"Marriage Story\"],[\"Call Me by Your Name\"],[\"I, Daniel Blake\"],[\"Isle of Dogs\"],[\"Hunt for the Wilderpeople\"],[\"Captain Fantastic\"],[\"Sing Street\"],[\"Thor: Ragnarok\"],[\"Nightcrawler\"],[\"Jojo Rabbit\"],[\"Arrival\"],[\"Star Wars: Episode VII - The Force Awakens\"],[\"Before Midnight\"],[\"X-Men: Days of Future Past\"],[\"Bir Zamanlar Anadolu'da\"],[\"The Artist\"],[\"Edge of Tomorrow\"],[\"Amour\"],[\"The Irishman\"],[\"Un proph\\u00e8te\"],[\"Moon\"],[\"L\\u00e5t den r\\u00e4tte komma in\"],[\"District 9\"],[\"The Wrestler\"],[\"Jab We Met\"],[\"Boyhood\"],[\"4 luni, 3 saptam\\u00e2ni si 2 zile\"],[\"Star Trek\"],[\"In Bruges\"],[\"The Man from Earth\"],[\"Letters from Iwo Jima\"],[\"The Fall\"],[\"Life of Pi\"],[\"Fantastic Mr. Fox\"],[\"C.R.A.Z.Y.\"],[\"Les choristes\"],[\"Iron Man\"],[\"Shaun of the Dead\"],[\"Gegen die Wand\"],[\"Mystic River\"],[\"Harry Potter and the Prisoner of Azkaban\"],[\"Ying xiong\"],[\"Hable con ella\"],[\"No Man's Land\"],[\"Cowboy Bebop: Tengoku no tobira\"],[\"The Bourne Identity\"],[\"Nueve reinas\"],[\"Children of Men\"],[\"Almost Famous\"],[\"Mulholland Dr.\"],[\"Toy Story 2\"],[\"Boogie Nights\"],[\"Mimi wo sumaseba\"],[\"Once Were Warriors\"],[\"True Romance\"],[\"Trois couleurs: Bleu\"],[\"J\\u00fbb\\u00ea ninp\\u00fbch\\u00f4\"],[\"Carlito's Way\"],[\"Edward Scissorhands\"],[\"My Left Foot: The Story of Christy Brown\"],[\"Crimes and Misdemeanors\"],[\"The Untouchables\"],[\"Hannah and Her Sisters\"],[\"Brazil\"],[\"This Is Spinal Tap\"],[\"A Christmas Story\"],[\"The Blues Brothers\"],[\"Manhattan\"],[\"All That Jazz\"],[\"Dawn of the Dead\"],[\"All the President's Men\"],[\"La monta\\u00f1a sagrada\"],[\"Amarcord\"],[\"Le charme discret de la bourgeoisie\"],[\"Aguirre, der Zorn Gottes\"],[\"Harold and Maude\"],[\"Patton\"],[\"The Wild Bunch\"],[\"Night of the Living Dead\"],[\"The Lion in Winter\"],[\"In the Heat of the Night\"],[\"Charade\"],[\"The Manchurian Candidate\"],[\"Spartacus\"],[\"L'avventura\"],[\"Hiroshima mon amour\"],[\"The Ten Commandments\"],[\"The Searchers\"],[\"East of Eden\"],[\"High Noon\"],[\"Strangers on a Train\"],[\"Harvey\"],[\"Miracle on 34th Street\"],[\"Notorious\"],[\"The Big Sleep\"],[\"The Lost Weekend\"],[\"The Philadelphia Story\"],[\"His Girl Friday\"],[\"The Adventures of Robin Hood\"],[\"A Night at the Opera\"],[\"King Kong\"],[\"Freaks\"],[\"Nosferatu\"],[\"The Gentlemen\"],[\"Raazi\"],[\"Sound of Metal\"],[\"Forushande\"],[\"Dunkirk\"],[\"Perfetti sconosciuti\"],[\"Hidden Figures\"],[\"Paddington 2\"],[\"Udta Punjab\"],[\"Kubo and the Two Strings\"],[\"M.S. Dhoni: The Untold Story\"],[\"Manchester by the Sea\"],[\"Under sandet\"],[\"Rogue One\"],[\"Captain America: Civil War\"],[\"The Hateful Eight\"],[\"Little Women\"],[\"Loving Vincent\"],[\"Pride\"],[\"Le pass\\u00e9\"],[\"La grande bellezza\"],[\"The Lunchbox\"],[\"Vicky Donor\"],[\"Big Hero 6\"],[\"About Time\"],[\"English Vinglish\"],[\"Kaze tachinu\"],[\"Toy Story 4\"],[\"La migliore offerta\"],[\"Moonrise Kingdom\"],[\"How to Train Your Dragon 2\"],[\"The Big Short\"],[\"Kokuhaku\"],[\"Ang-ma-reul bo-at-da\"],[\"The Girl with the Dragon Tattoo\"],[\"Captain Phillips\"],[\"Ajeossi\"],[\"Straight Outta Compton\"],[\"Madeo\"],[\"Chugyeokja\"],[\"The Hobbit: The Desolation of Smaug\"],[\"Das wei\\u00dfe Band - Eine deutsche Kindergeschichte\"],[\"M\\u00e4n som hatar kvinnor\"],[\"The Trial of the Chicago 7\"],[\"Druk\"],[\"The Fighter\"],[\"Taken\"],[\"The Boy in the Striped Pyjamas\"],[\"Once\"],[\"The Hobbit: An Unexpected Journey\"],[\"Auf der anderen Seite\"],[\"Atonement\"],[\"Drive\"],[\"American Gangster\"],[\"Avatar\"],[\"Mr. Nobody\"],[\"Apocalypto\"],[\"Little Miss Sunshine\"],[\"Hot Fuzz\"],[\"The Curious Case of Benjamin Button\"],[\"Veer-Zaara\"],[\"Adams \\u00e6bler\"],[\"Pride & Prejudice\"],[\"The World's Fastest Indian\"],[\"T\\u00f4ky\\u00f4 goddof\\u00e2z\\u00e2zu\"],[\"Serenity\"],[\"Walk the Line\"],[\"Ondskan\"],[\"The Notebook\"],[\"Diarios de motocicleta\"],[\"Lilja 4-ever\"],[\"Les triplettes de Belleville\"],[\"Gongdong gyeongbi guyeok JSA\"],[\"The Count of Monte Cristo\"],[\"Waking Life\"],[\"Remember the Titans\"],[\"Wo hu cang long\"],[\"Todo sobre mi madre\"],[\"Cast Away\"],[\"The Boondock Saints\"],[\"The Insider\"],[\"October Sky\"],[\"Shrek\"],[\"Titanic\"],[\"Hana-bi\"],[\"Gattaca\"],[\"The Game\"],[\"Breaking the Waves\"],[\"Ed Wood\"],[\"What's Eating Gilbert Grape\"],[\"Tombstone\"],[\"The Sandlot\"],[\"The Remains of the Day\"],[\"Naked\"],[\"The Fugitive\"],[\"A Bronx Tale\"],[\"Batman: Mask of the Phantasm\"],[\"Lat sau san taam\"],[\"Night on Earth\"],[\"La double vie de V\\u00e9ronique\"],[\"Boyz n the Hood\"],[\"Misery\"],[\"Awakenings\"],[\"Majo no takky\\u00fbbin\"],[\"Glory\"],[\"Dip huet seung hung\"],[\"Back to the Future Part II\"],[\"Mississippi Burning\"],[\"Predator\"],[\"Evil Dead II\"],[\"Ferris Bueller's Day Off\"],[\"Down by Law\"],[\"The Goonies\"],[\"The Color Purple\"],[\"The Breakfast Club\"],[\"The Killing Fields\"],[\"Ghostbusters\"],[\"The Right Stuff\"],[\"The King of Comedy\"],[\"E.T. the Extra-Terrestrial\"],[\"Kramer vs. Kramer\"],[\"Days of Heaven\"],[\"The Outlaw Josey Wales\"],[\"The Man Who Would Be King\"],[\"The Conversation\"],[\"La plan\\u00e8te sauvage\"],[\"The Day of the Jackal\"],[\"Badlands\"],[\"Cabaret\"],[\"Willy Wonka & the Chocolate Factory\"],[\"Midnight Cowboy\"],[\"Wait Until Dark\"],[\"Guess Who's Coming to Dinner\"],[\"Bonnie and Clyde\"],[\"My Fair Lady\"],[\"Mary Poppins\"],[\"The Longest Day\"],[\"Jules et Jim\"],[\"The Innocents\"],[\"\\u00c0 bout de souffle\"],[\"Red River\"],[\"Key Largo\"],[\"To Have and Have Not\"],[\"Shadow of a Doubt\"],[\"Stagecoach\"],[\"The Lady Vanishes\"],[\"Bringing Up Baby\"],[\"Bride of Frankenstein\"],[\"Duck Soup\"],[\"Scarface: The Shame of the Nation\"],[\"Frankenstein\"],[\"Roma\"],[\"God's Own Country\"],[\"Deadpool 2\"],[\"Wind River\"],[\"Get Out\"],[\"Mission: Impossible - Fallout\"],[\"En man som heter Ove\"],[\"What We Do in the Shadows\"],[\"Omoide no M\\u00e2n\\u00ee\"],[\"The Theory of Everything\"],[\"Kingsman: The Secret Service\"],[\"The Fault in Our Stars\"],[\"Me and Earl and the Dying Girl\"],[\"Birdman or (The Unexpected Virtue of Ignorance)\"],[\"La vie d'Ad\\u00e8le\"],[\"Kai po che!\"],[\"The Broken Circle Breakdown\"],[\"Captain America: The Winter Soldier\"],[\"Rockstar\"],[\"Nebraska\"],[\"Wreck-It Ralph\"],[\"Le Petit Prince\"],[\"Detachment\"],[\"Midnight in Paris\"],[\"The Lego Movie\"],[\"Gravity\"],[\"Star Trek Into Darkness\"],[\"Beasts of No Nation\"],[\"The Social Network\"],[\"X: First Class\"],[\"The Hangover\"],[\"Skyfall\"],[\"Silver Linings Playbook\"],[\"Argo\"],[\"(500) Days of Summer\"],[\"Harry Potter and the Deathly Hallows: Part 1\"],[\"Gake no ue no Ponyo\"],[\"Frost/Nixon\"],[\"Papurika\"],[\"Changeling\"],[\"Flipped\"],[\"Toki o kakeru sh\\u00f4jo\"],[\"Death Note: Desu n\\u00f4to\"],[\"This Is England\"],[\"Ex Machina\"],[\"Efter brylluppet\"],[\"The Last King of Scotland\"],[\"Zodiac\"],[\"Lucky Number Slevin\"],[\"Joyeux No\\u00ebl\"],[\"Control\"],[\"Tangled\"],[\"Zwartboek\"],[\"Brokeback Mountain\"],[\"3:10 to Yuma\"],[\"Crash\"],[\"Kung fu\"],[\"The Bourne Supremacy\"],[\"The Machinist\"],[\"Ray\"],[\"Lost in Translation\"],[\"Harry Potter and the Goblet of Fire\"],[\"Man on Fire\"],[\"Coraline\"],[\"The Last Samurai\"],[\"The Magdalene Sisters\"],[\"Good Bye Lenin!\"],[\"In America\"],[\"I Am Sam\"],[\"Adaptation.\"],[\"Black Hawk Down\"],[\"Road to Perdition\"],[\"Das Experiment\"],[\"Billy Elliot\"],[\"Hedwig and the Angry Inch\"],[\"Ocean's Eleven\"],[\"Vampire Hunter D: Bloodlust\"],[\"O Brother, Where Art Thou?\"],[\"Interstate 60: Episodes of the Road\"],[\"South Park: Bigger, Longer & Uncut\"],[\"Office Space\"],[\"Happiness\"],[\"Training Day\"],[\"Rushmore\"],[\"Abre los ojos\"],[\"Being John Malkovich\"],[\"As Good as It Gets\"],[\"The Fifth Element\"],[\"Le d\\u00eener de cons\"],[\"Donnie Brasco\"],[\"Shine\"],[\"Primal Fear\"],[\"Hamlet\"],[\"A Little Princess\"],[\"Do lok tin si\"],[\"Il postino\"],[\"Clerks\"],[\"Short Cuts\"],[\"Philadelphia\"],[\"The Muppet Christmas Carol\"],[\"Malcolm X\"],[\"The Last of the Mohicans\"],[\"Kurenai no buta\"],[\"Glengarry Glen Ross\"],[\"A Few Good Men\"],[\"Fried Green Tomatoes\"],[\"Barton Fink\"],[\"Miller's Crossing\"],[\"Who Framed Roger Rabbit\"],[\"Spoorloos\"],[\"Withnail & I\"],[\"The Last Emperor\"],[\"Empire of the Sun\"],[\"Der Name der Rose\"],[\"Blue Velvet\"],[\"The Purple Rose of Cairo\"],[\"After Hours\"],[\"Zelig\"],[\"The Verdict\"],[\"Star Trek II: The Wrath of Khan\"],[\"First Blood\"],[\"Ordinary People\"],[\"Airplane!\"],[\"Rupan sansei: Kariosutoro no shiro\"],[\"Halloween\"],[\"Le locataire\"],[\"Love and Death\"],[\"The Taking of Pelham One Two Three\"],[\"Blazing Saddles\"],[\"Serpico\"],[\"Enter the Dragon\"],[\"Deliverance\"],[\"The French Connection\"],[\"Dirty Harry\"],[\"Where Eagles Dare\"],[\"The Odd Couple\"],[\"The Dirty Dozen\"],[\"Belle de jour\"],[\"A Man for All Seasons\"],[\"Repulsion\"],[\"Zulu\"],[\"Goldfinger\"],[\"The Birds\"],[\"Cape Fear\"],[\"Peeping Tom\"],[\"The Magnificent Seven\"],[\"Les yeux sans visage\"],[\"Invasion of the Body Snatchers\"],[\"Rebel Without a Cause\"],[\"The Ladykillers\"],[\"Sabrina\"],[\"The Quiet Man\"],[\"The Day the Earth Stood Still\"],[\"The African Queen\"],[\"Gilda\"],[\"Fantasia\"],[\"The Invisible Man\"],[\"Dark Waters\"],[\"Searching\"],[\"Once Upon a Time... in Hollywood\"],[\"Nelyubov\"],[\"The Florida Project\"],[\"Just Mercy\"],[\"Gifted\"],[\"The Peanut Butter Falcon\"],[\"Victoria\"],[\"Mustang\"],[\"Guardians of the Galaxy Vol. 2\"],[\"Baby Driver\"],[\"Only the Brave\"],[\"Bridge of Spies\"],[\"Incredibles 2\"],[\"Moana\"],[\"Sicario\"],[\"Creed\"],[\"Leviafan\"],[\"Hell or High Water\"],[\"Philomena\"],[\"Dawn of the Planet of the Apes\"],[\"El cuerpo\"],[\"Serbuan maut\"],[\"End of Watch\"],[\"Kari-gurashi no Arietti\"],[\"A Star Is Born\"],[\"True Grit\"],[\"H\\u00e6vnen\"],[\"Despicable Me\"],[\"50/50\"],[\"Kick-Ass\"],[\"Celda 211\"],[\"Moneyball\"],[\"La piel que habito\"],[\"Zombieland\"],[\"Die Welle\"],[\"Sherlock Holmes\"],[\"The Blind Side\"],[\"The Visitor\"],[\"Seven Pounds\"],[\"Eastern Promises\"],[\"Stardust\"],[\"The Secret of Kells\"],[\"Inside Man\"],[\"Gone Baby Gone\"],[\"La Vie En Rose\"],[\"Huo Yuan Jia\"],[\"The Illusionist\"],[\"Dead Man's Shoes\"],[\"Harry Potter and the Half-Blood Prince\"],[\"300\"],[\"Match Point\"],[\"Watchmen\"],[\"Lord of War\"],[\"Saw\"],[\"Synecdoche, New York\"],[\"Mysterious Skin\"],[\"Jeux d'enfants\"],[\"Un long dimanche de fian\\u00e7ailles\"],[\"The Station Agent\"],[\"21 Grams\"],[\"Boksuneun naui geot\"],[\"Finding Neverland\"],[\"25th Hour\"],[\"The Butterfly Effect\"],[\"28 Days Later...\"],[\"Batoru rowaiaru\"],[\"The Royal Tenenbaums\"],[\"Y tu mam\\u00e1 tambi\\u00e9n\"],[\"Harry Potter and the Sorcerer's Stone\"],[\"The Others\"],[\"Blow\"],[\"Enemy at the Gates\"],[\"Minority Report\"],[\"The Hurricane\"],[\"American Psycho\"],[\"Lola rennt\"],[\"The Thin Red Line\"],[\"Mulan\"],[\"Fear and Loathing in Las Vegas\"],[\"Funny Games\"],[\"Dark City\"],[\"Sleepers\"],[\"Lost Highway\"],[\"Sense and Sensibility\"],[\"Die Hard: With a Vengeance\"],[\"Dead Man\"],[\"The Bridges of Madison County\"],[\"Apollo 13\"],[\"Trois couleurs: Blanc\"],[\"Falling Down\"],[\"Dazed and Confused\"],[\"My Cousin Vinny\"],[\"Omohide poro poro\"],[\"Delicatessen\"],[\"Home Alone\"],[\"The Godfather: Part III\"],[\"When Harry Met Sally...\"],[\"The Little Mermaid\"],[\"The Naked Gun: From the Files of Police Squad!\"],[\"Planes, Trains & Automobiles\"],[\"Lethal Weapon\"],[\"Blood Simple\"],[\"On Golden Pond\"],[\"Mad Max 2\"],[\"The Warriors\"],[\"The Muppet Movie\"],[\"Escape from Alcatraz\"],[\"Watership Down\"],[\"Midnight Express\"],[\"Close Encounters of the Third Kind\"],[\"The Long Goodbye\"],[\"Gi\\u00f9 la testa\"],[\"Kelly's Heroes\"],[\"The Jungle Book\"],[\"Blowup\"],[\"A Hard Day's Night\"],[\"Breakfast at Tiffany's\"],[\"Giant\"],[\"From Here to Eternity\"],[\"Lifeboat\"],[\"The 39 Steps\"]],\"hovertemplate\":\"IMDB_Rating=%{x}<br>No_of_Votes=%{y}<br>Series_Title=%{customdata[0]}<extra></extra>\",\"legendgroup\":\"\",\"marker\":{\"color\":\"#636efa\",\"symbol\":\"circle\"},\"mode\":\"markers\",\"name\":\"\",\"orientation\":\"v\",\"showlegend\":false,\"x\":[9.3,9.2,9.0,9.0,9.0,8.9,8.9,8.9,8.8,8.8,8.8,8.8,8.8,8.7,8.7,8.7,8.7,8.7,8.6,8.6,8.6,8.6,8.6,8.6,8.6,8.6,8.6,8.6,8.6,8.6,8.6,8.6,8.6,8.5,8.5,8.5,8.5,8.5,8.5,8.5,8.5,8.5,8.5,8.5,8.5,8.5,8.5,8.5,8.5,8.5,8.5,8.5,8.5,8.4,8.4,8.4,8.4,8.4,8.4,8.4,8.4,8.4,8.4,8.4,8.4,8.4,8.4,8.4,8.4,8.4,8.4,8.4,8.4,8.4,8.4,8.4,8.4,8.4,8.4,8.4,8.4,8.4,8.4,8.4,8.3,8.3,8.3,8.3,8.3,8.3,8.3,8.3,8.3,8.3,8.3,8.3,8.3,8.3,8.3,8.3,8.3,8.3,8.3,8.3,8.3,8.3,8.3,8.3,8.3,8.3,8.3,8.3,8.3,8.3,8.3,8.3,8.3,8.3,8.3,8.3,8.3,8.3,8.3,8.3,8.3,8.3,8.3,8.3,8.2,8.2,8.2,8.2,8.2,8.2,8.2,8.2,8.2,8.2,8.2,8.2,8.2,8.2,8.2,8.2,8.2,8.2,8.2,8.2,8.2,8.2,8.2,8.2,8.2,8.2,8.2,8.2,8.2,8.2,8.2,8.2,8.2,8.2,8.2,8.2,8.2,8.2,8.2,8.2,8.2,8.2,8.2,8.2,8.2,8.2,8.2,8.2,8.2,8.2,8.2,8.2,8.2,8.2,8.2,8.2,8.2,8.2,8.2,8.2,8.2,8.2,8.2,8.2,8.2,8.2,8.2,8.1,8.1,8.1,8.1,8.1,8.1,8.1,8.1,8.1,8.1,8.1,8.1,8.1,8.1,8.1,8.1,8.1,8.1,8.1,8.1,8.1,8.1,8.1,8.1,8.1,8.1,8.1,8.1,8.1,8.1,8.1,8.1,8.1,8.1,8.1,8.1,8.1,8.1,8.1,8.1,8.1,8.1,8.1,8.1,8.1,8.1,8.1,8.1,8.1,8.1,8.1,8.1,8.1,8.1,8.1,8.1,8.1,8.1,8.1,8.1,8.1,8.1,8.1,8.1,8.1,8.1,8.1,8.1,8.1,8.1,8.1,8.1,8.1,8.1,8.1,8.1,8.1,8.1,8.1,8.1,8.1,8.1,8.1,8.1,8.1,8.1,8.1,8.1,8.1,8.1,8.1,8.1,8.1,8.1,8.1,8.1,8.1,8.1,8.1,8.1,8.1,8.1,8.1,8.1,8.1,8.1,8.1,8.1,8.1,8.1,8.1,8.1,8.1,8.1,8.1,8.1,8.1,8.1,8.1,8.1,8.1,8.1,8.1,8.1,8.1,8.1,8.1,8.0,8.0,8.0,8.0,8.0,8.0,8.0,8.0,8.0,8.0,8.0,8.0,8.0,8.0,8.0,8.0,8.0,8.0,8.0,8.0,8.0,8.0,8.0,8.0,8.0,8.0,8.0,8.0,8.0,8.0,8.0,8.0,8.0,8.0,8.0,8.0,8.0,8.0,8.0,8.0,8.0,8.0,8.0,8.0,8.0,8.0,8.0,8.0,8.0,8.0,8.0,8.0,8.0,8.0,8.0,8.0,8.0,8.0,8.0,8.0,8.0,8.0,8.0,8.0,8.0,8.0,8.0,8.0,8.0,8.0,8.0,8.0,8.0,8.0,8.0,8.0,8.0,8.0,8.0,8.0,8.0,8.0,8.0,8.0,8.0,8.0,8.0,8.0,8.0,8.0,8.0,8.0,8.0,8.0,8.0,8.0,8.0,8.0,8.0,8.0,8.0,8.0,8.0,8.0,8.0,8.0,8.0,8.0,8.0,8.0,8.0,8.0,8.0,8.0,8.0,8.0,8.0,8.0,8.0,8.0,8.0,8.0,8.0,8.0,8.0,8.0,8.0,8.0,8.0,8.0,8.0,8.0,8.0,8.0,8.0,8.0,8.0,8.0,8.0,8.0,8.0,7.9,7.9,7.9,7.9,7.9,7.9,7.9,7.9,7.9,7.9,7.9,7.9,7.9,7.9,7.9,7.9,7.9,7.9,7.9,7.9,7.9,7.9,7.9,7.9,7.9,7.9,7.9,7.9,7.9,7.9,7.9,7.9,7.9,7.9,7.9,7.9,7.9,7.9,7.9,7.9,7.9,7.9,7.9,7.9,7.9,7.9,7.9,7.9,7.9,7.9,7.9,7.9,7.9,7.9,7.9,7.9,7.9,7.9,7.9,7.9,7.9,7.9,7.9,7.9,7.9,7.9,7.9,7.9,7.9,7.9,7.9,7.9,7.9,7.9,7.9,7.9,7.9,7.9,7.9,7.9,7.9,7.9,7.9,7.9,7.9,7.9,7.9,7.9,7.9,7.9,7.9,7.9,7.9,7.9,7.9,7.9,7.9,7.9,7.9,7.9,7.9,7.9,7.9,7.9,7.9,7.9,7.8,7.8,7.8,7.8,7.8,7.8,7.8,7.8,7.8,7.8,7.8,7.8,7.8,7.8,7.8,7.8,7.8,7.8,7.8,7.8,7.8,7.8,7.8,7.8,7.8,7.8,7.8,7.8,7.8,7.8,7.8,7.8,7.8,7.8,7.8,7.8,7.8,7.8,7.8,7.8,7.8,7.8,7.8,7.8,7.8,7.8,7.8,7.8,7.8,7.8,7.8,7.8,7.8,7.8,7.8,7.8,7.8,7.8,7.8,7.8,7.8,7.8,7.8,7.8,7.8,7.8,7.8,7.8,7.8,7.8,7.8,7.8,7.8,7.8,7.8,7.8,7.8,7.8,7.8,7.8,7.8,7.8,7.8,7.8,7.8,7.8,7.8,7.8,7.8,7.8,7.8,7.8,7.8,7.8,7.8,7.8,7.8,7.8,7.8,7.8,7.8,7.8,7.8,7.8,7.8,7.8,7.8,7.8,7.8,7.8,7.8,7.8,7.8,7.8,7.8,7.8,7.8,7.8,7.8,7.8,7.8,7.8,7.8,7.8,7.8,7.8,7.8,7.8,7.8,7.8,7.8,7.8,7.8,7.8,7.8,7.8,7.8,7.8,7.8,7.8,7.8,7.8,7.8,7.8,7.8,7.8,7.8,7.8,7.8,7.8,7.8,7.7,7.7,7.7,7.7,7.7,7.7,7.7,7.7,7.7,7.7,7.7,7.7,7.7,7.7,7.7,7.7,7.7,7.7,7.7,7.7,7.7,7.7,7.7,7.7,7.7,7.7,7.7,7.7,7.7,7.7,7.7,7.7,7.7,7.7,7.7,7.7,7.7,7.7,7.7,7.7,7.7,7.7,7.7,7.7,7.7,7.7,7.7,7.7,7.7,7.7,7.7,7.7,7.7,7.7,7.7,7.7,7.7,7.7,7.7,7.7,7.7,7.7,7.7,7.7,7.7,7.7,7.7,7.7,7.7,7.7,7.7,7.7,7.7,7.7,7.7,7.7,7.7,7.7,7.7,7.7,7.7,7.7,7.7,7.7,7.7,7.7,7.7,7.7,7.7,7.7,7.7,7.7,7.7,7.7,7.7,7.7,7.7,7.7,7.7,7.7,7.7,7.7,7.7,7.7,7.7,7.7,7.7,7.7,7.7,7.7,7.7,7.7,7.7,7.7,7.7,7.7,7.7,7.7,7.7,7.7,7.7,7.7,7.7,7.7,7.7,7.7,7.7,7.7,7.7,7.7,7.7,7.7,7.7,7.7,7.7,7.7,7.7,7.7,7.7,7.7,7.7,7.7,7.7,7.7,7.7,7.7,7.7,7.7,7.7,7.7,7.7,7.7,7.7,7.7,7.7,7.7,7.7,7.6,7.6,7.6,7.6,7.6,7.6,7.6,7.6,7.6,7.6,7.6,7.6,7.6,7.6,7.6,7.6,7.6,7.6,7.6,7.6,7.6,7.6,7.6,7.6,7.6,7.6,7.6,7.6,7.6,7.6,7.6,7.6,7.6,7.6,7.6,7.6,7.6,7.6,7.6,7.6,7.6,7.6,7.6,7.6,7.6,7.6,7.6,7.6,7.6,7.6,7.6,7.6,7.6,7.6,7.6,7.6,7.6,7.6,7.6,7.6,7.6,7.6,7.6,7.6,7.6,7.6,7.6,7.6,7.6,7.6,7.6,7.6,7.6,7.6,7.6,7.6,7.6,7.6,7.6,7.6,7.6,7.6,7.6,7.6,7.6,7.6,7.6,7.6,7.6,7.6,7.6,7.6,7.6,7.6,7.6,7.6,7.6,7.6,7.6,7.6,7.6,7.6,7.6,7.6,7.6,7.6,7.6,7.6,7.6,7.6,7.6,7.6,7.6,7.6,7.6,7.6,7.6,7.6,7.6,7.6,7.6,7.6,7.6],\"xaxis\":\"x\",\"y\":[2343110,1620367,2303232,1129952,689845,1642758,1826188,1213505,2067042,1854740,1661481,1809221,688390,1485555,1676426,1020727,1159315,918088,55291,552778,54995,1512360,699256,651376,1235804,1147794,623629,1445096,1270197,1231473,42004,315744,405801,939252,717585,760360,1190259,1189773,729603,1341460,1034705,991208,1035236,942045,995506,230763,235231,1058081,302844,604211,522093,217881,167839,62635,34112,28401,194838,156479,375110,809955,834477,384171,1357682,1516346,344445,168895,999790,358685,515451,1125712,343171,311365,884112,898237,606398,787806,30273,34357,450474,108862,178092,444074,201632,203150,425844,27793,71875,30722,281623,220002,150023,33935,78925,1267869,911664,703810,782001,766870,1069738,861606,65341,887429,959181,918562,675146,59056,652719,369007,740911,950470,231855,724636,241513,757904,603517,232772,268085,164363,299198,364368,218957,68463,146427,143525,403351,143434,159992,113314,33893,43444,36680,377884,432610,31142,75348,104761,70367,60701,40382,61137,82365,42341,33237,193217,435950,1129894,935507,1187498,74129,517359,618623,757032,1032749,111937,33354,1308302,83005,331308,333915,848920,57057,535216,531967,64118,577113,466276,49300,375935,692366,26402,291180,793164,112505,321860,116945,26875,43885,51284,500875,224730,293811,111244,69458,243943,96381,164939,28810,158335,53153,152572,120539,114304,29915,101053,41985,63134,39216,47708,141516,113649,50700,50445,647884,371538,177059,159171,46547,163061,51739,707630,859695,38803,435928,616228,75721,640533,432811,291289,420316,51679,57806,67927,601149,882316,73891,720450,764493,48582,253575,164462,666773,572921,856916,43137,635975,334320,37820,236311,73992,139558,66803,1000639,949565,832846,223741,815505,38847,105036,911573,59020,939631,50862,732620,124383,634716,617444,55220,150345,63516,272291,90729,63122,867615,156842,25088,29662,425457,363401,381222,91188,150924,371271,76081,31595,57784,693827,220078,367250,311361,518546,144911,149843,40081,294230,42285,30206,81021,45434,161984,103191,46947,53089,29682,50058,33044,68827,31728,26697,27254,105291,219466,34797,42940,46678,203463,142107,54588,31568,29807,158731,30935,28450,123942,107017,290074,33829,94016,47676,30205,46865,81156,57428,27978,37556,52897,72245,52848,505918,213970,760094,434143,102972,38746,141923,31886,51069,81770,114316,685201,1043455,461823,540772,450349,705589,462252,79200,639603,428521,902669,45803,28749,211427,98575,31838,798882,699673,98097,1260806,88656,441614,448930,499439,604694,50610,738512,103284,56960,641645,582239,683900,42399,77520,77554,176151,63460,117857,1015122,415218,657047,45403,137963,33592,740086,289742,102285,82002,58192,78341,36419,172083,27721,86838,37564,578443,129231,300208,577991,28825,263918,373845,142110,417178,240266,89429,473064,164918,393899,64722,31163,150140,799795,217664,32195,65625,251823,543388,235652,143359,121627,362393,44748,42456,39491,27067,201888,193674,165167,253676,68926,205425,69903,198219,108844,28057,75067,66621,56305,59847,98431,45062,28137,81702,81980,58314,61503,51046,127256,99182,26784,34485,129783,32784,35601,42725,57259,65101,148928,85559,371379,26725,26642,57318,53054,454203,111478,62754,246644,212651,53818,139114,111483,189400,85109,587775,466134,297918,594181,860823,141457,659763,41995,230624,600004,93090,324720,93560,335152,205609,638202,289415,47720,335533,56625,577336,390334,174125,154011,107290,580708,199696,31476,57430,939644,512249,51325,419420,552493,173999,104691,44618,42897,508771,49721,465113,252586,322031,527512,239473,51943,31590,206918,89836,34529,201000,447368,68076,54670,281842,67176,187567,128812,132947,183182,131436,28223,111512,103031,37183,39897,38737,52397,70826,93741,77401,116557,29003,67804,68689,71122,124339,26542,28421,63560,80316,40313,97222,123341,52573,41625,92306,78796,33549,63550,53667,47175,30580,78991,42117,88794,237392,25344,27187,51240,555092,57168,200876,61594,27175,118035,40416,246963,35539,556608,663649,517059,143250,50778,51841,45002,81125,50523,39710,410983,303032,33618,73690,203177,108399,318789,305611,362942,35713,111252,423010,421244,62848,179264,52758,58468,601408,68715,208994,89896,33931,340584,564791,190748,110656,757377,30827,251370,571571,392449,1118998,216421,291018,439856,463466,589160,49050,45717,258924,51980,31658,283310,234207,35682,520284,96703,42673,50622,26518,129022,60684,198089,253228,89058,524235,227143,159886,82855,613941,1046089,27712,280845,345096,62428,164937,215034,126871,78963,66065,34635,267684,128171,43690,46700,55362,42376,126082,184740,125276,124193,122779,45624,481918,88214,371387,148359,321382,47834,244430,78321,357026,51585,355413,56235,88511,372490,133351,52852,65659,44917,98611,25229,37445,66009,48334,178731,101124,27733,39642,102415,86525,158029,52141,37605,27007,73251,28167,36995,31053,59556,43621,47400,55163,43542,55581,25312,65341,140375,25198,478586,205444,492851,291257,47444,157498,32798,404182,590440,344312,123210,580291,138741,32628,39379,736182,39501,112298,380195,56720,77071,388089,323982,769145,463188,73964,624982,645512,717559,630614,661871,572581,472242,479120,125317,103330,71379,239203,81446,60368,28630,115576,474141,32001,175355,466080,299524,28003,61609,405922,72643,323103,288797,419483,127250,434841,358432,138356,415074,548619,329592,197761,400049,25938,137981,40403,142863,178565,364254,246840,90842,126770,31957,516372,29210,286742,29999,192112,241575,66408,390247,169229,64082,312542,275755,434125,37424,279318,51350,189716,35991,32236,26429,33600,211450,42275,224169,50298,85819,150409,77798,95826,235388,66941,113240,125822,182009,33982,40396,94326,115677,102031,181285,47102,59635,39881,36096,112704,226541,47099,214882,27014,233106,39889,36037,26729,125993,109941,96561,98740,110075,143292,51913,31572,67183,40274,31222,48883,35999,174119,171739,26457,31354,87719,27620,44839,83363,26464,59415,34677,76315,71481,27991,88662,30683,60408,140840,551309,29765,95181,46739,99643,66346,52903,35785,569974,439406,58371,287659,250057,272784,371291,247666,49397,204175,94212,411599,57549,190531,228132,80939,334312,311822,38491,500851,315426,524081,63882,369529,138959,520041,102742,583158,293266,41544,286770,227760,255036,31779,339757,250590,82781,72863,354728,49728,474827,732876,206294,500799,294140,379020,83158,65939,67360,70925,67370,224545,62659,198677,169708,451479,376853,169091,266842,115827,658185,337651,240714,243729,508417,91557,490062,188317,172710,256906,259753,65058,187927,186734,131101,102598,364420,90442,73172,269197,64390,171640,165465,107325,27071,80487,488817,359809,195663,237696,152871,124773,236894,87745,27650,166588,93878,32802,121731,33656,73662,184966,26337,30144,45338,166409,56513,40351,166544,34075,43374,26471,51853],\"yaxis\":\"y\",\"type\":\"scatter\"}],                        {\"template\":{\"data\":{\"histogram2dcontour\":[{\"type\":\"histogram2dcontour\",\"colorbar\":{\"outlinewidth\":0,\"ticks\":\"\"},\"colorscale\":[[0.0,\"#0d0887\"],[0.1111111111111111,\"#46039f\"],[0.2222222222222222,\"#7201a8\"],[0.3333333333333333,\"#9c179e\"],[0.4444444444444444,\"#bd3786\"],[0.5555555555555556,\"#d8576b\"],[0.6666666666666666,\"#ed7953\"],[0.7777777777777778,\"#fb9f3a\"],[0.8888888888888888,\"#fdca26\"],[1.0,\"#f0f921\"]]}],\"choropleth\":[{\"type\":\"choropleth\",\"colorbar\":{\"outlinewidth\":0,\"ticks\":\"\"}}],\"histogram2d\":[{\"type\":\"histogram2d\",\"colorbar\":{\"outlinewidth\":0,\"ticks\":\"\"},\"colorscale\":[[0.0,\"#0d0887\"],[0.1111111111111111,\"#46039f\"],[0.2222222222222222,\"#7201a8\"],[0.3333333333333333,\"#9c179e\"],[0.4444444444444444,\"#bd3786\"],[0.5555555555555556,\"#d8576b\"],[0.6666666666666666,\"#ed7953\"],[0.7777777777777778,\"#fb9f3a\"],[0.8888888888888888,\"#fdca26\"],[1.0,\"#f0f921\"]]}],\"heatmap\":[{\"type\":\"heatmap\",\"colorbar\":{\"outlinewidth\":0,\"ticks\":\"\"},\"colorscale\":[[0.0,\"#0d0887\"],[0.1111111111111111,\"#46039f\"],[0.2222222222222222,\"#7201a8\"],[0.3333333333333333,\"#9c179e\"],[0.4444444444444444,\"#bd3786\"],[0.5555555555555556,\"#d8576b\"],[0.6666666666666666,\"#ed7953\"],[0.7777777777777778,\"#fb9f3a\"],[0.8888888888888888,\"#fdca26\"],[1.0,\"#f0f921\"]]}],\"heatmapgl\":[{\"type\":\"heatmapgl\",\"colorbar\":{\"outlinewidth\":0,\"ticks\":\"\"},\"colorscale\":[[0.0,\"#0d0887\"],[0.1111111111111111,\"#46039f\"],[0.2222222222222222,\"#7201a8\"],[0.3333333333333333,\"#9c179e\"],[0.4444444444444444,\"#bd3786\"],[0.5555555555555556,\"#d8576b\"],[0.6666666666666666,\"#ed7953\"],[0.7777777777777778,\"#fb9f3a\"],[0.8888888888888888,\"#fdca26\"],[1.0,\"#f0f921\"]]}],\"contourcarpet\":[{\"type\":\"contourcarpet\",\"colorbar\":{\"outlinewidth\":0,\"ticks\":\"\"}}],\"contour\":[{\"type\":\"contour\",\"colorbar\":{\"outlinewidth\":0,\"ticks\":\"\"},\"colorscale\":[[0.0,\"#0d0887\"],[0.1111111111111111,\"#46039f\"],[0.2222222222222222,\"#7201a8\"],[0.3333333333333333,\"#9c179e\"],[0.4444444444444444,\"#bd3786\"],[0.5555555555555556,\"#d8576b\"],[0.6666666666666666,\"#ed7953\"],[0.7777777777777778,\"#fb9f3a\"],[0.8888888888888888,\"#fdca26\"],[1.0,\"#f0f921\"]]}],\"surface\":[{\"type\":\"surface\",\"colorbar\":{\"outlinewidth\":0,\"ticks\":\"\"},\"colorscale\":[[0.0,\"#0d0887\"],[0.1111111111111111,\"#46039f\"],[0.2222222222222222,\"#7201a8\"],[0.3333333333333333,\"#9c179e\"],[0.4444444444444444,\"#bd3786\"],[0.5555555555555556,\"#d8576b\"],[0.6666666666666666,\"#ed7953\"],[0.7777777777777778,\"#fb9f3a\"],[0.8888888888888888,\"#fdca26\"],[1.0,\"#f0f921\"]]}],\"mesh3d\":[{\"type\":\"mesh3d\",\"colorbar\":{\"outlinewidth\":0,\"ticks\":\"\"}}],\"scatter\":[{\"fillpattern\":{\"fillmode\":\"overlay\",\"size\":10,\"solidity\":0.2},\"type\":\"scatter\"}],\"parcoords\":[{\"type\":\"parcoords\",\"line\":{\"colorbar\":{\"outlinewidth\":0,\"ticks\":\"\"}}}],\"scatterpolargl\":[{\"type\":\"scatterpolargl\",\"marker\":{\"colorbar\":{\"outlinewidth\":0,\"ticks\":\"\"}}}],\"bar\":[{\"error_x\":{\"color\":\"#2a3f5f\"},\"error_y\":{\"color\":\"#2a3f5f\"},\"marker\":{\"line\":{\"color\":\"#E5ECF6\",\"width\":0.5},\"pattern\":{\"fillmode\":\"overlay\",\"size\":10,\"solidity\":0.2}},\"type\":\"bar\"}],\"scattergeo\":[{\"type\":\"scattergeo\",\"marker\":{\"colorbar\":{\"outlinewidth\":0,\"ticks\":\"\"}}}],\"scatterpolar\":[{\"type\":\"scatterpolar\",\"marker\":{\"colorbar\":{\"outlinewidth\":0,\"ticks\":\"\"}}}],\"histogram\":[{\"marker\":{\"pattern\":{\"fillmode\":\"overlay\",\"size\":10,\"solidity\":0.2}},\"type\":\"histogram\"}],\"scattergl\":[{\"type\":\"scattergl\",\"marker\":{\"colorbar\":{\"outlinewidth\":0,\"ticks\":\"\"}}}],\"scatter3d\":[{\"type\":\"scatter3d\",\"line\":{\"colorbar\":{\"outlinewidth\":0,\"ticks\":\"\"}},\"marker\":{\"colorbar\":{\"outlinewidth\":0,\"ticks\":\"\"}}}],\"scattermapbox\":[{\"type\":\"scattermapbox\",\"marker\":{\"colorbar\":{\"outlinewidth\":0,\"ticks\":\"\"}}}],\"scatterternary\":[{\"type\":\"scatterternary\",\"marker\":{\"colorbar\":{\"outlinewidth\":0,\"ticks\":\"\"}}}],\"scattercarpet\":[{\"type\":\"scattercarpet\",\"marker\":{\"colorbar\":{\"outlinewidth\":0,\"ticks\":\"\"}}}],\"carpet\":[{\"aaxis\":{\"endlinecolor\":\"#2a3f5f\",\"gridcolor\":\"white\",\"linecolor\":\"white\",\"minorgridcolor\":\"white\",\"startlinecolor\":\"#2a3f5f\"},\"baxis\":{\"endlinecolor\":\"#2a3f5f\",\"gridcolor\":\"white\",\"linecolor\":\"white\",\"minorgridcolor\":\"white\",\"startlinecolor\":\"#2a3f5f\"},\"type\":\"carpet\"}],\"table\":[{\"cells\":{\"fill\":{\"color\":\"#EBF0F8\"},\"line\":{\"color\":\"white\"}},\"header\":{\"fill\":{\"color\":\"#C8D4E3\"},\"line\":{\"color\":\"white\"}},\"type\":\"table\"}],\"barpolar\":[{\"marker\":{\"line\":{\"color\":\"#E5ECF6\",\"width\":0.5},\"pattern\":{\"fillmode\":\"overlay\",\"size\":10,\"solidity\":0.2}},\"type\":\"barpolar\"}],\"pie\":[{\"automargin\":true,\"type\":\"pie\"}]},\"layout\":{\"autotypenumbers\":\"strict\",\"colorway\":[\"#636efa\",\"#EF553B\",\"#00cc96\",\"#ab63fa\",\"#FFA15A\",\"#19d3f3\",\"#FF6692\",\"#B6E880\",\"#FF97FF\",\"#FECB52\"],\"font\":{\"color\":\"#2a3f5f\"},\"hovermode\":\"closest\",\"hoverlabel\":{\"align\":\"left\"},\"paper_bgcolor\":\"white\",\"plot_bgcolor\":\"#E5ECF6\",\"polar\":{\"bgcolor\":\"#E5ECF6\",\"angularaxis\":{\"gridcolor\":\"white\",\"linecolor\":\"white\",\"ticks\":\"\"},\"radialaxis\":{\"gridcolor\":\"white\",\"linecolor\":\"white\",\"ticks\":\"\"}},\"ternary\":{\"bgcolor\":\"#E5ECF6\",\"aaxis\":{\"gridcolor\":\"white\",\"linecolor\":\"white\",\"ticks\":\"\"},\"baxis\":{\"gridcolor\":\"white\",\"linecolor\":\"white\",\"ticks\":\"\"},\"caxis\":{\"gridcolor\":\"white\",\"linecolor\":\"white\",\"ticks\":\"\"}},\"coloraxis\":{\"colorbar\":{\"outlinewidth\":0,\"ticks\":\"\"}},\"colorscale\":{\"sequential\":[[0.0,\"#0d0887\"],[0.1111111111111111,\"#46039f\"],[0.2222222222222222,\"#7201a8\"],[0.3333333333333333,\"#9c179e\"],[0.4444444444444444,\"#bd3786\"],[0.5555555555555556,\"#d8576b\"],[0.6666666666666666,\"#ed7953\"],[0.7777777777777778,\"#fb9f3a\"],[0.8888888888888888,\"#fdca26\"],[1.0,\"#f0f921\"]],\"sequentialminus\":[[0.0,\"#0d0887\"],[0.1111111111111111,\"#46039f\"],[0.2222222222222222,\"#7201a8\"],[0.3333333333333333,\"#9c179e\"],[0.4444444444444444,\"#bd3786\"],[0.5555555555555556,\"#d8576b\"],[0.6666666666666666,\"#ed7953\"],[0.7777777777777778,\"#fb9f3a\"],[0.8888888888888888,\"#fdca26\"],[1.0,\"#f0f921\"]],\"diverging\":[[0,\"#8e0152\"],[0.1,\"#c51b7d\"],[0.2,\"#de77ae\"],[0.3,\"#f1b6da\"],[0.4,\"#fde0ef\"],[0.5,\"#f7f7f7\"],[0.6,\"#e6f5d0\"],[0.7,\"#b8e186\"],[0.8,\"#7fbc41\"],[0.9,\"#4d9221\"],[1,\"#276419\"]]},\"xaxis\":{\"gridcolor\":\"white\",\"linecolor\":\"white\",\"ticks\":\"\",\"title\":{\"standoff\":15},\"zerolinecolor\":\"white\",\"automargin\":true,\"zerolinewidth\":2},\"yaxis\":{\"gridcolor\":\"white\",\"linecolor\":\"white\",\"ticks\":\"\",\"title\":{\"standoff\":15},\"zerolinecolor\":\"white\",\"automargin\":true,\"zerolinewidth\":2},\"scene\":{\"xaxis\":{\"backgroundcolor\":\"#E5ECF6\",\"gridcolor\":\"white\",\"linecolor\":\"white\",\"showbackground\":true,\"ticks\":\"\",\"zerolinecolor\":\"white\",\"gridwidth\":2},\"yaxis\":{\"backgroundcolor\":\"#E5ECF6\",\"gridcolor\":\"white\",\"linecolor\":\"white\",\"showbackground\":true,\"ticks\":\"\",\"zerolinecolor\":\"white\",\"gridwidth\":2},\"zaxis\":{\"backgroundcolor\":\"#E5ECF6\",\"gridcolor\":\"white\",\"linecolor\":\"white\",\"showbackground\":true,\"ticks\":\"\",\"zerolinecolor\":\"white\",\"gridwidth\":2}},\"shapedefaults\":{\"line\":{\"color\":\"#2a3f5f\"}},\"annotationdefaults\":{\"arrowcolor\":\"#2a3f5f\",\"arrowhead\":0,\"arrowwidth\":1},\"geo\":{\"bgcolor\":\"white\",\"landcolor\":\"#E5ECF6\",\"subunitcolor\":\"white\",\"showland\":true,\"showlakes\":true,\"lakecolor\":\"white\"},\"title\":{\"x\":0.05},\"mapbox\":{\"style\":\"light\"}}},\"xaxis\":{\"anchor\":\"y\",\"domain\":[0.0,1.0],\"title\":{\"text\":\"IMDB_Rating\"}},\"yaxis\":{\"anchor\":\"x\",\"domain\":[0.0,1.0],\"title\":{\"text\":\"No_of_Votes\"}},\"legend\":{\"tracegroupgap\":0},\"margin\":{\"t\":60}},                        {\"responsive\": true}                    ).then(function(){\n",
       "                            \n",
       "var gd = document.getElementById('d15948e1-028c-442b-9a8f-8fe859ef2b0b');\n",
       "var x = new MutationObserver(function (mutations, observer) {{\n",
       "        var display = window.getComputedStyle(gd).display;\n",
       "        if (!display || display === 'none') {{\n",
       "            console.log([gd, 'removed!']);\n",
       "            Plotly.purge(gd);\n",
       "            observer.disconnect();\n",
       "        }}\n",
       "}});\n",
       "\n",
       "// Listen for the removal of the full notebook cells\n",
       "var notebookContainer = gd.closest('#notebook-container');\n",
       "if (notebookContainer) {{\n",
       "    x.observe(notebookContainer, {childList: true});\n",
       "}}\n",
       "\n",
       "// Listen for the clearing of the current output cell\n",
       "var outputEl = gd.closest('.output');\n",
       "if (outputEl) {{\n",
       "    x.observe(outputEl, {childList: true});\n",
       "}}\n",
       "\n",
       "                        })                };                });            </script>        </div>"
      ]
     },
     "metadata": {},
     "output_type": "display_data"
    }
   ],
   "source": [
    "px.scatter(data, x=\"IMDB_Rating\", y=\"No_of_Votes\", hover_data=['Series_Title'])"
   ]
  },
  {
   "cell_type": "markdown",
   "metadata": {},
   "source": [
    "## Submitted by: Yashwin Tapdiya\n",
    "## email: yashwintapdiya@gmail.com"
   ]
  }
 ],
 "metadata": {
  "colab": {
   "provenance": []
  },
  "kernelspec": {
   "display_name": "Python 3 (ipykernel)",
   "language": "python",
   "name": "python3"
  },
  "language_info": {
   "codemirror_mode": {
    "name": "ipython",
    "version": 3
   },
   "file_extension": ".py",
   "mimetype": "text/x-python",
   "name": "python",
   "nbconvert_exporter": "python",
   "pygments_lexer": "ipython3",
   "version": "3.9.13"
  }
 },
 "nbformat": 4,
 "nbformat_minor": 1
}
