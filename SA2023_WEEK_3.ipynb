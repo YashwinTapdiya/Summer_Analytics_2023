{
 "cells": [
  {
   "cell_type": "markdown",
   "metadata": {
    "datalore": {
     "hide_input_from_viewers": true,
     "hide_output_from_viewers": true,
     "node_id": "zGa7mCHaDDruHtkm7dEPtv",
     "type": "MD"
    },
    "id": "VqgSFO9qwVkn"
   },
   "source": [
    "# Week 3 SA"
   ]
  },
  {
   "cell_type": "markdown",
   "metadata": {
    "datalore": {
     "hide_input_from_viewers": true,
     "hide_output_from_viewers": true,
     "node_id": "U1ZcRPN3LUr8T0AFox9HNj",
     "type": "MD"
    },
    "id": "uWr3f_yvwVks"
   },
   "source": [
    "Hey Everyone!! \n",
    "We hope that you are excited to apply your newly acquired knowledge and test it on this notebook.\n",
    "In this assignment, we will be walking through creating an email classifier based the content the mail has."
   ]
  },
  {
   "cell_type": "markdown",
   "metadata": {
    "datalore": {
     "hide_input_from_viewers": true,
     "hide_output_from_viewers": true,
     "node_id": "z4auZFCdOYmoX3bMIniLkV",
     "type": "MD"
    },
    "id": "8feuK5mQwVkt"
   },
   "source": [
    "## About the data"
   ]
  },
  {
   "cell_type": "markdown",
   "metadata": {
    "datalore": {
     "hide_input_from_viewers": true,
     "hide_output_from_viewers": true,
     "node_id": "oqqW6dUiQklEDKoCWXWv5O",
     "type": "MD"
    },
    "id": "dp6QOwtDwVkt"
   },
   "source": [
    "The data \"email.csv\" has a few rows and about 3K columns including <b>Email_no.</b> and <b>spam</b>. <br>\n",
    "Email_no. is like a unique id for an email and spam denotes whether the given mail is a spam or not (0 = not spam, 1 = spam)<br>\n",
    "Rest of the columns are words in english with the values being equal to the frequency of that word in the email.\n",
    "<br>Our goal is to predict whether the given mail is spam or not"
   ]
  },
  {
   "cell_type": "markdown",
   "metadata": {
    "datalore": {
     "hide_input_from_viewers": true,
     "hide_output_from_viewers": true,
     "node_id": "JAyWVZVGuGxuIiAHDsq61b",
     "type": "MD"
    },
    "id": "BcHynwY6wVku"
   },
   "source": [
    "## Importing useful libraries"
   ]
  },
  {
   "cell_type": "code",
   "execution_count": 1,
   "metadata": {
    "datalore": {
     "hide_input_from_viewers": true,
     "hide_output_from_viewers": true,
     "node_id": "MGF6Kw4xf8SePOYMc0lIF1",
     "type": "CODE"
    },
    "id": "Rrehad9xwVku"
   },
   "outputs": [],
   "source": [
    "import pandas as pd\n",
    "import numpy as np\n",
    "import matplotlib.pyplot as plt"
   ]
  },
  {
   "cell_type": "markdown",
   "metadata": {
    "datalore": {
     "hide_input_from_viewers": true,
     "hide_output_from_viewers": true,
     "node_id": "8QlDKKKCWpgnkoXHPYswvd",
     "type": "MD"
    },
    "id": "M37ZdPJewVkw"
   },
   "source": [
    "## Loading the data\n",
    "### If you are using Datalore, you may use the csv file directly. Otherwise you may download it from <a href = \"https://drive.google.com/file/d/1OxJ6SSuPypg-AfLbMRl0O9So9aDDNzbC/view?usp=sharing\">this link</a>"
   ]
  },
  {
   "cell_type": "code",
   "execution_count": 2,
   "metadata": {
    "datalore": {
     "hide_input_from_viewers": true,
     "hide_output_from_viewers": true,
     "node_id": "awQRzUu3t4PZmOtlTbPn44",
     "type": "CODE"
    },
    "id": "MPlxiedJwVkw"
   },
   "outputs": [
    {
     "data": {
      "text/plain": [
       "(5172, 3002)"
      ]
     },
     "execution_count": 2,
     "metadata": {},
     "output_type": "execute_result"
    }
   ],
   "source": [
    "df = pd.read_csv('Dataset/emails.csv')\n",
    "df.shape"
   ]
  },
  {
   "cell_type": "markdown",
   "metadata": {
    "datalore": {
     "hide_input_from_viewers": true,
     "hide_output_from_viewers": true,
     "node_id": "ex2R3oVXRwyZaziX9HkcGp",
     "type": "MD"
    },
    "id": "Lj8JOGPFwVkx"
   },
   "source": [
    "## Describe the data and generate some basic insights unsing methods like .info"
   ]
  },
  {
   "cell_type": "code",
   "execution_count": 3,
   "metadata": {
    "datalore": {
     "hide_input_from_viewers": true,
     "hide_output_from_viewers": true,
     "node_id": "yfyNpm25jyzCNCFOWtDwlM",
     "type": "CODE"
    },
    "id": "GNZb24ZmwVkx",
    "outputId": "8b0807e8-00e1-4db5-f347-ccafb52ee860"
   },
   "outputs": [
    {
     "name": "stdout",
     "output_type": "stream",
     "text": [
      "<class 'pandas.core.frame.DataFrame'>\n",
      "RangeIndex: 5172 entries, 0 to 5171\n",
      "Columns: 3002 entries, Email No. to Prediction\n",
      "dtypes: int64(3001), object(1)\n",
      "memory usage: 118.5+ MB\n",
      "None\n",
      "               the           to          ect          and          for  \\\n",
      "count  5172.000000  5172.000000  5172.000000  5172.000000  5172.000000   \n",
      "mean      6.640565     6.188128     5.143852     3.075599     3.124710   \n",
      "std      11.745009     9.534576    14.101142     6.045970     4.680522   \n",
      "min       0.000000     0.000000     1.000000     0.000000     0.000000   \n",
      "25%       0.000000     1.000000     1.000000     0.000000     1.000000   \n",
      "50%       3.000000     3.000000     1.000000     1.000000     2.000000   \n",
      "75%       8.000000     7.000000     4.000000     3.000000     4.000000   \n",
      "max     210.000000   132.000000   344.000000    89.000000    47.000000   \n",
      "\n",
      "                of            a          you          hou           in  ...  \\\n",
      "count  5172.000000  5172.000000  5172.000000  5172.000000  5172.000000  ...   \n",
      "mean      2.627030    55.517401     2.466551     2.024362    10.600155  ...   \n",
      "std       6.229845    87.574172     4.314444     6.967878    19.281892  ...   \n",
      "min       0.000000     0.000000     0.000000     0.000000     0.000000  ...   \n",
      "25%       0.000000    12.000000     0.000000     0.000000     1.000000  ...   \n",
      "50%       1.000000    28.000000     1.000000     0.000000     5.000000  ...   \n",
      "75%       2.000000    62.250000     3.000000     1.000000    12.000000  ...   \n",
      "max      77.000000  1898.000000    70.000000   167.000000   223.000000  ...   \n",
      "\n",
      "          connevey          jay       valued          lay  infrastructure  \\\n",
      "count  5172.000000  5172.000000  5172.000000  5172.000000     5172.000000   \n",
      "mean      0.005027     0.012568     0.010634     0.098028        0.004254   \n",
      "std       0.105788     0.199682     0.116693     0.569532        0.096252   \n",
      "min       0.000000     0.000000     0.000000     0.000000        0.000000   \n",
      "25%       0.000000     0.000000     0.000000     0.000000        0.000000   \n",
      "50%       0.000000     0.000000     0.000000     0.000000        0.000000   \n",
      "75%       0.000000     0.000000     0.000000     0.000000        0.000000   \n",
      "max       4.000000     7.000000     2.000000    12.000000        3.000000   \n",
      "\n",
      "          military     allowing           ff          dry   Prediction  \n",
      "count  5172.000000  5172.000000  5172.000000  5172.000000  5172.000000  \n",
      "mean      0.006574     0.004060     0.914733     0.006961     0.290023  \n",
      "std       0.138908     0.072145     2.780203     0.098086     0.453817  \n",
      "min       0.000000     0.000000     0.000000     0.000000     0.000000  \n",
      "25%       0.000000     0.000000     0.000000     0.000000     0.000000  \n",
      "50%       0.000000     0.000000     0.000000     0.000000     0.000000  \n",
      "75%       0.000000     0.000000     1.000000     0.000000     1.000000  \n",
      "max       4.000000     3.000000   114.000000     4.000000     1.000000  \n",
      "\n",
      "[8 rows x 3001 columns]\n"
     ]
    }
   ],
   "source": [
    "print(df.info())\n",
    "#df.head()\n",
    "print(df.describe())\n",
    "#df.groupby(\"Prediction\").describe()"
   ]
  },
  {
   "cell_type": "markdown",
   "metadata": {
    "datalore": {
     "hide_input_from_viewers": true,
     "hide_output_from_viewers": true,
     "node_id": "zvjpKUkrIVkahpty2eoRva",
     "type": "MD"
    },
    "id": "q8DOXwk2wVkz"
   },
   "source": [
    "## Looking at the data"
   ]
  },
  {
   "cell_type": "code",
   "execution_count": 4,
   "metadata": {
    "datalore": {
     "hide_input_from_viewers": true,
     "hide_output_from_viewers": true,
     "node_id": "CFY6hpEHnTNc05xveVXitg",
     "type": "CODE"
    },
    "id": "k79w8TjVwVkz"
   },
   "outputs": [
    {
     "data": {
      "image/png": "[encoded data removed]",
      "text/plain": [
       "<Figure size 640x480 with 1 Axes>"
      ]
     },
     "metadata": {},
     "output_type": "display_data"
    },
    {
     "data": {
      "image/png": "[encoded data removed]",
      "text/plain": [
       "<Figure size 640x480 with 1 Axes>"
      ]
     },
     "metadata": {},
     "output_type": "display_data"
    }
   ],
   "source": [
    "# Plot histogram to visualize the top 5 common words in spam mail and non-spam mails seperately.\n",
    "spam_emails = df[df['spam'] == 1]\n",
    "non_spam_emails = df[df['spam'] == 0]\n",
    "spam_words_freq = spam_emails.drop(['Email No.', 'spam'], axis=1).sum().sort_values(ascending=False)\n",
    "non_spam_words_freq = non_spam_emails.drop(['Email No.', 'spam'], axis=1).sum().sort_values(ascending=False)\n",
    "top_5_spam = spam_words_freq.head(5)\n",
    "\n",
    "plt.bar(top_5_spam.index, top_5_spam)\n",
    "plt.xlabel('Words')\n",
    "plt.ylabel('Frequency')\n",
    "plt.title('Top 5 Common Words in Spam Emails')\n",
    "plt.show()\n",
    "\n",
    "top_5_non_spam = non_spam_words_freq.head(5)\n",
    "\n",
    "plt.bar(top_5_non_spam.index, top_5_non_spam)\n",
    "plt.xlabel('Words')\n",
    "plt.ylabel('Frequency')\n",
    "plt.title('Top 5 Common Words in Non-Spam Emails')\n",
    "plt.show()"
   ]
  },
  {
   "cell_type": "markdown",
   "metadata": {
    "datalore": {
     "hide_input_from_viewers": true,
     "hide_output_from_viewers": true,
     "node_id": "C3PCd8f8vDpy1xh1S0jLnr",
     "type": "MD"
    },
    "id": "G-hqvyErwVk0"
   },
   "source": [
    "## Figuring out some comparatively more important features"
   ]
  },
  {
   "cell_type": "code",
   "execution_count": 5,
   "metadata": {
    "datalore": {
     "hide_input_from_viewers": true,
     "hide_output_from_viewers": true,
     "node_id": "2ZKzjK3mKBGSfxz73JEBVF",
     "type": "CODE"
    },
    "id": "naPdv1xdwVk0"
   },
   "outputs": [
    {
     "name": "stdout",
     "output_type": "stream",
     "text": [
      "(5172, 1502)\n"
     ]
    },
    {
     "data": {
      "text/html": [
       "<div>\n",
       "<style scoped>\n",
       "    .dataframe tbody tr th:only-of-type {\n",
       "        vertical-align: middle;\n",
       "    }\n",
       "\n",
       "    .dataframe tbody tr th {\n",
       "        vertical-align: top;\n",
       "    }\n",
       "\n",
       "    .dataframe thead th {\n",
       "        text-align: right;\n",
       "    }\n",
       "</style>\n",
       "<table border=\"1\" class=\"dataframe\">\n",
       "  <thead>\n",
       "    <tr style=\"text-align: right;\">\n",
       "      <th></th>\n",
       "      <th>Email No.</th>\n",
       "      <th>the</th>\n",
       "      <th>to</th>\n",
       "      <th>ect</th>\n",
       "      <th>and</th>\n",
       "      <th>for</th>\n",
       "      <th>of</th>\n",
       "      <th>a</th>\n",
       "      <th>you</th>\n",
       "      <th>hou</th>\n",
       "      <th>...</th>\n",
       "      <th>tue</th>\n",
       "      <th>fire</th>\n",
       "      <th>tm</th>\n",
       "      <th>del</th>\n",
       "      <th>trial</th>\n",
       "      <th>ended</th>\n",
       "      <th>plain</th>\n",
       "      <th>lay</th>\n",
       "      <th>ff</th>\n",
       "      <th>Prediction</th>\n",
       "    </tr>\n",
       "  </thead>\n",
       "  <tbody>\n",
       "    <tr>\n",
       "      <th>0</th>\n",
       "      <td>Email 1</td>\n",
       "      <td>0</td>\n",
       "      <td>0</td>\n",
       "      <td>1</td>\n",
       "      <td>0</td>\n",
       "      <td>0</td>\n",
       "      <td>0</td>\n",
       "      <td>2</td>\n",
       "      <td>0</td>\n",
       "      <td>0</td>\n",
       "      <td>...</td>\n",
       "      <td>0</td>\n",
       "      <td>0</td>\n",
       "      <td>1</td>\n",
       "      <td>0</td>\n",
       "      <td>0</td>\n",
       "      <td>0</td>\n",
       "      <td>0</td>\n",
       "      <td>0</td>\n",
       "      <td>0</td>\n",
       "      <td>0</td>\n",
       "    </tr>\n",
       "    <tr>\n",
       "      <th>1</th>\n",
       "      <td>Email 2</td>\n",
       "      <td>8</td>\n",
       "      <td>13</td>\n",
       "      <td>24</td>\n",
       "      <td>6</td>\n",
       "      <td>6</td>\n",
       "      <td>2</td>\n",
       "      <td>102</td>\n",
       "      <td>1</td>\n",
       "      <td>27</td>\n",
       "      <td>...</td>\n",
       "      <td>0</td>\n",
       "      <td>0</td>\n",
       "      <td>0</td>\n",
       "      <td>0</td>\n",
       "      <td>0</td>\n",
       "      <td>0</td>\n",
       "      <td>0</td>\n",
       "      <td>0</td>\n",
       "      <td>1</td>\n",
       "      <td>0</td>\n",
       "    </tr>\n",
       "    <tr>\n",
       "      <th>2</th>\n",
       "      <td>Email 3</td>\n",
       "      <td>0</td>\n",
       "      <td>0</td>\n",
       "      <td>1</td>\n",
       "      <td>0</td>\n",
       "      <td>0</td>\n",
       "      <td>0</td>\n",
       "      <td>8</td>\n",
       "      <td>0</td>\n",
       "      <td>0</td>\n",
       "      <td>...</td>\n",
       "      <td>0</td>\n",
       "      <td>0</td>\n",
       "      <td>0</td>\n",
       "      <td>0</td>\n",
       "      <td>0</td>\n",
       "      <td>0</td>\n",
       "      <td>0</td>\n",
       "      <td>0</td>\n",
       "      <td>0</td>\n",
       "      <td>0</td>\n",
       "    </tr>\n",
       "    <tr>\n",
       "      <th>3</th>\n",
       "      <td>Email 4</td>\n",
       "      <td>0</td>\n",
       "      <td>5</td>\n",
       "      <td>22</td>\n",
       "      <td>0</td>\n",
       "      <td>5</td>\n",
       "      <td>1</td>\n",
       "      <td>51</td>\n",
       "      <td>2</td>\n",
       "      <td>10</td>\n",
       "      <td>...</td>\n",
       "      <td>0</td>\n",
       "      <td>0</td>\n",
       "      <td>0</td>\n",
       "      <td>0</td>\n",
       "      <td>0</td>\n",
       "      <td>0</td>\n",
       "      <td>0</td>\n",
       "      <td>0</td>\n",
       "      <td>0</td>\n",
       "      <td>0</td>\n",
       "    </tr>\n",
       "    <tr>\n",
       "      <th>4</th>\n",
       "      <td>Email 5</td>\n",
       "      <td>7</td>\n",
       "      <td>6</td>\n",
       "      <td>17</td>\n",
       "      <td>1</td>\n",
       "      <td>5</td>\n",
       "      <td>2</td>\n",
       "      <td>57</td>\n",
       "      <td>0</td>\n",
       "      <td>9</td>\n",
       "      <td>...</td>\n",
       "      <td>0</td>\n",
       "      <td>0</td>\n",
       "      <td>0</td>\n",
       "      <td>0</td>\n",
       "      <td>0</td>\n",
       "      <td>0</td>\n",
       "      <td>0</td>\n",
       "      <td>0</td>\n",
       "      <td>1</td>\n",
       "      <td>0</td>\n",
       "    </tr>\n",
       "  </tbody>\n",
       "</table>\n",
       "<p>5 rows × 1502 columns</p>\n",
       "</div>"
      ],
      "text/plain": [
       "  Email No.  the  to  ect  and  for  of    a  you  hou  ...  tue  fire  tm  \\\n",
       "0   Email 1    0   0    1    0    0   0    2    0    0  ...    0     0   1   \n",
       "1   Email 2    8  13   24    6    6   2  102    1   27  ...    0     0   0   \n",
       "2   Email 3    0   0    1    0    0   0    8    0    0  ...    0     0   0   \n",
       "3   Email 4    0   5   22    0    5   1   51    2   10  ...    0     0   0   \n",
       "4   Email 5    7   6   17    1    5   2   57    0    9  ...    0     0   0   \n",
       "\n",
       "   del  trial  ended  plain  lay  ff  Prediction  \n",
       "0    0      0      0      0    0   0           0  \n",
       "1    0      0      0      0    0   1           0  \n",
       "2    0      0      0      0    0   0           0  \n",
       "3    0      0      0      0    0   0           0  \n",
       "4    0      0      0      0    0   1           0  \n",
       "\n",
       "[5 rows x 1502 columns]"
      ]
     },
     "execution_count": 5,
     "metadata": {},
     "output_type": "execute_result"
    }
   ],
   "source": [
    "# There are 3K rows given in this dataset, can you think of some method to reduce the number of columns in the dataset? \n",
    "# Try taking only top 1.5K that will comprise of some of the most \"deciding factors\" \n",
    "cols = sorted(list(df.columns[1:-1]),key=lambda col:(df[col].sum() ),reverse=True)[1500:]\n",
    "df = df.drop(cols,axis=1)\n",
    "print(df.shape)\n",
    "df.head()"
   ]
  },
  {
   "cell_type": "markdown",
   "metadata": {
    "datalore": {
     "hide_input_from_viewers": true,
     "hide_output_from_viewers": true,
     "node_id": "5xGBoaQ3gyqscgTKblwyrX",
     "type": "MD"
    },
    "id": "kTekuGK9wVk0"
   },
   "source": [
    "## Train - Test Split"
   ]
  },
  {
   "cell_type": "code",
   "execution_count": 6,
   "metadata": {
    "datalore": {
     "hide_input_from_viewers": true,
     "hide_output_from_viewers": true,
     "node_id": "DIQmF7EKujPfytxRg3YCI7",
     "type": "CODE"
    },
    "id": "VlCEhlF2wVk0"
   },
   "outputs": [],
   "source": [
    "# Create trianing and testing data\n",
    "col_to_drop = ['Prediction','Email No.']\n",
    "X = df.drop(col_to_drop, axis=1)\n",
    "Y = df['Prediction']\n",
    "from sklearn.model_selection import train_test_split\n",
    "X_train, X_test, Y_train, Y_test = train_test_split(X, Y, test_size=0.3,random_state=42)"
   ]
  },
  {
   "cell_type": "markdown",
   "metadata": {
    "datalore": {
     "hide_input_from_viewers": true,
     "hide_output_from_viewers": true,
     "node_id": "UN8loYrBwgtFXUDewcXM17",
     "type": "MD"
    },
    "id": "CG4h2gVFwVk1"
   },
   "source": [
    "## Making Predictions using Multinomial NB Classifier"
   ]
  },
  {
   "cell_type": "code",
   "execution_count": 7,
   "metadata": {
    "datalore": {
     "hide_input_from_viewers": true,
     "hide_output_from_viewers": true,
     "node_id": "6yp042arvwnqg0LGrmuWWV",
     "type": "CODE"
    },
    "id": "LQYiDzkRwVk1"
   },
   "outputs": [
    {
     "data": {
      "text/html": [
       "<style>#sk-container-id-1 {color: black;background-color: white;}#sk-container-id-1 pre{padding: 0;}#sk-container-id-1 div.sk-toggleable {background-color: white;}#sk-container-id-1 label.sk-toggleable__label {cursor: pointer;display: block;width: 100%;margin-bottom: 0;padding: 0.3em;box-sizing: border-box;text-align: center;}#sk-container-id-1 label.sk-toggleable__label-arrow:before {content: \"▸\";float: left;margin-right: 0.25em;color: #696969;}#sk-container-id-1 label.sk-toggleable__label-arrow:hover:before {color: black;}#sk-container-id-1 div.sk-estimator:hover label.sk-toggleable__label-arrow:before {color: black;}#sk-container-id-1 div.sk-toggleable__content {max-height: 0;max-width: 0;overflow: hidden;text-align: left;background-color: #f0f8ff;}#sk-container-id-1 div.sk-toggleable__content pre {margin: 0.2em;color: black;border-radius: 0.25em;background-color: #f0f8ff;}#sk-container-id-1 input.sk-toggleable__control:checked~div.sk-toggleable__content {max-height: 200px;max-width: 100%;overflow: auto;}#sk-container-id-1 input.sk-toggleable__control:checked~label.sk-toggleable__label-arrow:before {content: \"▾\";}#sk-container-id-1 div.sk-estimator input.sk-toggleable__control:checked~label.sk-toggleable__label {background-color: #d4ebff;}#sk-container-id-1 div.sk-label input.sk-toggleable__control:checked~label.sk-toggleable__label {background-color: #d4ebff;}#sk-container-id-1 input.sk-hidden--visually {border: 0;clip: rect(1px 1px 1px 1px);clip: rect(1px, 1px, 1px, 1px);height: 1px;margin: -1px;overflow: hidden;padding: 0;position: absolute;width: 1px;}#sk-container-id-1 div.sk-estimator {font-family: monospace;background-color: #f0f8ff;border: 1px dotted black;border-radius: 0.25em;box-sizing: border-box;margin-bottom: 0.5em;}#sk-container-id-1 div.sk-estimator:hover {background-color: #d4ebff;}#sk-container-id-1 div.sk-parallel-item::after {content: \"\";width: 100%;border-bottom: 1px solid gray;flex-grow: 1;}#sk-container-id-1 div.sk-label:hover label.sk-toggleable__label {background-color: #d4ebff;}#sk-container-id-1 div.sk-serial::before {content: \"\";position: absolute;border-left: 1px solid gray;box-sizing: border-box;top: 0;bottom: 0;left: 50%;z-index: 0;}#sk-container-id-1 div.sk-serial {display: flex;flex-direction: column;align-items: center;background-color: white;padding-right: 0.2em;padding-left: 0.2em;position: relative;}#sk-container-id-1 div.sk-item {position: relative;z-index: 1;}#sk-container-id-1 div.sk-parallel {display: flex;align-items: stretch;justify-content: center;background-color: white;position: relative;}#sk-container-id-1 div.sk-item::before, #sk-container-id-1 div.sk-parallel-item::before {content: \"\";position: absolute;border-left: 1px solid gray;box-sizing: border-box;top: 0;bottom: 0;left: 50%;z-index: -1;}#sk-container-id-1 div.sk-parallel-item {display: flex;flex-direction: column;z-index: 1;position: relative;background-color: white;}#sk-container-id-1 div.sk-parallel-item:first-child::after {align-self: flex-end;width: 50%;}#sk-container-id-1 div.sk-parallel-item:last-child::after {align-self: flex-start;width: 50%;}#sk-container-id-1 div.sk-parallel-item:only-child::after {width: 0;}#sk-container-id-1 div.sk-dashed-wrapped {border: 1px dashed gray;margin: 0 0.4em 0.5em 0.4em;box-sizing: border-box;padding-bottom: 0.4em;background-color: white;}#sk-container-id-1 div.sk-label label {font-family: monospace;font-weight: bold;display: inline-block;line-height: 1.2em;}#sk-container-id-1 div.sk-label-container {text-align: center;}#sk-container-id-1 div.sk-container {/* jupyter's `normalize.less` sets `[hidden] { display: none; }` but bootstrap.min.css set `[hidden] { display: none !important; }` so we also need the `!important` here to be able to override the default hidden behavior on the sphinx rendered scikit-learn.org. See: https://github.com/scikit-learn/scikit-learn/issues/21755 */display: inline-block !important;position: relative;}#sk-container-id-1 div.sk-text-repr-fallback {display: none;}</style><div id=\"sk-container-id-1\" class=\"sk-top-container\"><div class=\"sk-text-repr-fallback\"><pre>MultinomialNB()</pre><b>In a Jupyter environment, please rerun this cell to show the HTML representation or trust the notebook. <br />On GitHub, the HTML representation is unable to render, please try loading this page with nbviewer.org.</b></div><div class=\"sk-container\" hidden><div class=\"sk-item\"><div class=\"sk-estimator sk-toggleable\"><input class=\"sk-toggleable__control sk-hidden--visually\" id=\"sk-estimator-id-1\" type=\"checkbox\" checked><label for=\"sk-estimator-id-1\" class=\"sk-toggleable__label sk-toggleable__label-arrow\">MultinomialNB</label><div class=\"sk-toggleable__content\"><pre>MultinomialNB()</pre></div></div></div></div></div>"
      ],
      "text/plain": [
       "MultinomialNB()"
      ]
     },
     "execution_count": 7,
     "metadata": {},
     "output_type": "execute_result"
    }
   ],
   "source": [
    "# Feed the train data into multinomial naive bias classifier\n",
    "from sklearn.naive_bayes import MultinomialNB\n",
    "model = MultinomialNB()\n",
    "model.fit(X_train,Y_train.values.reshape(-1))"
   ]
  },
  {
   "cell_type": "code",
   "execution_count": 8,
   "metadata": {
    "datalore": {
     "hide_input_from_viewers": true,
     "hide_output_from_viewers": true,
     "node_id": "wtCFPWcgIz4aAXhzKV6wE8",
     "type": "CODE"
    },
    "id": "nbkuho-vwVk1"
   },
   "outputs": [
    {
     "data": {
      "text/plain": [
       "0.9420103092783505"
      ]
     },
     "execution_count": 8,
     "metadata": {},
     "output_type": "execute_result"
    }
   ],
   "source": [
    "# Check the model's accuracy of test data and plot the ROC-AUC curve\n",
    "model.score(X_test,Y_test.values.reshape(-1))"
   ]
  },
  {
   "cell_type": "markdown",
   "metadata": {
    "datalore": {
     "hide_input_from_viewers": true,
     "hide_output_from_viewers": true,
     "node_id": "g6MfgE1AdZhjcc50qcKU1s",
     "type": "MD"
    },
    "id": "Xovvo5PswVk1"
   },
   "source": [
    "## Plot the confusion Matrix"
   ]
  },
  {
   "cell_type": "code",
   "execution_count": 9,
   "metadata": {
    "datalore": {
     "hide_input_from_viewers": true,
     "hide_output_from_viewers": true,
     "node_id": "tiAhIiHk0VOWiKcZY5FLXw",
     "type": "CODE"
    },
    "id": "KCbEiVACwVk2"
   },
   "outputs": [
    {
     "data": {
      "image/png": "[encoded data removed]",
      "text/plain": [
       "<Figure size 640x480 with 2 Axes>"
      ]
     },
     "metadata": {},
     "output_type": "display_data"
    }
   ],
   "source": [
    "# Print Confusion Matrix using any 5 words of your choice with the column 'spam'\n",
    "from sklearn.metrics import confusion_matrix\n",
    "import seaborn as sns\n",
    "Y_pred = model.predict(X_test)\n",
    "cm = confusion_matrix(Y_test, Y_pred)\n",
    "sns.heatmap(cm, annot=True,fmt = 'd', cmap='Blues')\n",
    "plt.xlabel('Predicted')\n",
    "plt.ylabel('Actual')\n",
    "plt.title('Confusion Matrix')\n",
    "plt.show()"
   ]
  },
  {
   "cell_type": "markdown",
   "metadata": {
    "datalore": {
     "hide_input_from_viewers": true,
     "hide_output_from_viewers": true,
     "node_id": "HF7SHfRsuivs31MT5QEdYU",
     "type": "MD"
    },
    "id": "f8shRISswVk2"
   },
   "source": [
    "## Trying out with SVMs"
   ]
  },
  {
   "cell_type": "code",
   "execution_count": 10,
   "metadata": {
    "datalore": {
     "hide_input_from_viewers": true,
     "hide_output_from_viewers": true,
     "node_id": "dharQLmMD4LOZurvenkdom",
     "type": "CODE"
    },
    "id": "tAclPgSvwVk3"
   },
   "outputs": [
    {
     "data": {
      "text/html": [
       "<style>#sk-container-id-2 {color: black;background-color: white;}#sk-container-id-2 pre{padding: 0;}#sk-container-id-2 div.sk-toggleable {background-color: white;}#sk-container-id-2 label.sk-toggleable__label {cursor: pointer;display: block;width: 100%;margin-bottom: 0;padding: 0.3em;box-sizing: border-box;text-align: center;}#sk-container-id-2 label.sk-toggleable__label-arrow:before {content: \"▸\";float: left;margin-right: 0.25em;color: #696969;}#sk-container-id-2 label.sk-toggleable__label-arrow:hover:before {color: black;}#sk-container-id-2 div.sk-estimator:hover label.sk-toggleable__label-arrow:before {color: black;}#sk-container-id-2 div.sk-toggleable__content {max-height: 0;max-width: 0;overflow: hidden;text-align: left;background-color: #f0f8ff;}#sk-container-id-2 div.sk-toggleable__content pre {margin: 0.2em;color: black;border-radius: 0.25em;background-color: #f0f8ff;}#sk-container-id-2 input.sk-toggleable__control:checked~div.sk-toggleable__content {max-height: 200px;max-width: 100%;overflow: auto;}#sk-container-id-2 input.sk-toggleable__control:checked~label.sk-toggleable__label-arrow:before {content: \"▾\";}#sk-container-id-2 div.sk-estimator input.sk-toggleable__control:checked~label.sk-toggleable__label {background-color: #d4ebff;}#sk-container-id-2 div.sk-label input.sk-toggleable__control:checked~label.sk-toggleable__label {background-color: #d4ebff;}#sk-container-id-2 input.sk-hidden--visually {border: 0;clip: rect(1px 1px 1px 1px);clip: rect(1px, 1px, 1px, 1px);height: 1px;margin: -1px;overflow: hidden;padding: 0;position: absolute;width: 1px;}#sk-container-id-2 div.sk-estimator {font-family: monospace;background-color: #f0f8ff;border: 1px dotted black;border-radius: 0.25em;box-sizing: border-box;margin-bottom: 0.5em;}#sk-container-id-2 div.sk-estimator:hover {background-color: #d4ebff;}#sk-container-id-2 div.sk-parallel-item::after {content: \"\";width: 100%;border-bottom: 1px solid gray;flex-grow: 1;}#sk-container-id-2 div.sk-label:hover label.sk-toggleable__label {background-color: #d4ebff;}#sk-container-id-2 div.sk-serial::before {content: \"\";position: absolute;border-left: 1px solid gray;box-sizing: border-box;top: 0;bottom: 0;left: 50%;z-index: 0;}#sk-container-id-2 div.sk-serial {display: flex;flex-direction: column;align-items: center;background-color: white;padding-right: 0.2em;padding-left: 0.2em;position: relative;}#sk-container-id-2 div.sk-item {position: relative;z-index: 1;}#sk-container-id-2 div.sk-parallel {display: flex;align-items: stretch;justify-content: center;background-color: white;position: relative;}#sk-container-id-2 div.sk-item::before, #sk-container-id-2 div.sk-parallel-item::before {content: \"\";position: absolute;border-left: 1px solid gray;box-sizing: border-box;top: 0;bottom: 0;left: 50%;z-index: -1;}#sk-container-id-2 div.sk-parallel-item {display: flex;flex-direction: column;z-index: 1;position: relative;background-color: white;}#sk-container-id-2 div.sk-parallel-item:first-child::after {align-self: flex-end;width: 50%;}#sk-container-id-2 div.sk-parallel-item:last-child::after {align-self: flex-start;width: 50%;}#sk-container-id-2 div.sk-parallel-item:only-child::after {width: 0;}#sk-container-id-2 div.sk-dashed-wrapped {border: 1px dashed gray;margin: 0 0.4em 0.5em 0.4em;box-sizing: border-box;padding-bottom: 0.4em;background-color: white;}#sk-container-id-2 div.sk-label label {font-family: monospace;font-weight: bold;display: inline-block;line-height: 1.2em;}#sk-container-id-2 div.sk-label-container {text-align: center;}#sk-container-id-2 div.sk-container {/* jupyter's `normalize.less` sets `[hidden] { display: none; }` but bootstrap.min.css set `[hidden] { display: none !important; }` so we also need the `!important` here to be able to override the default hidden behavior on the sphinx rendered scikit-learn.org. See: https://github.com/scikit-learn/scikit-learn/issues/21755 */display: inline-block !important;position: relative;}#sk-container-id-2 div.sk-text-repr-fallback {display: none;}</style><div id=\"sk-container-id-2\" class=\"sk-top-container\"><div class=\"sk-text-repr-fallback\"><pre>SVC(kernel=&#x27;linear&#x27;)</pre><b>In a Jupyter environment, please rerun this cell to show the HTML representation or trust the notebook. <br />On GitHub, the HTML representation is unable to render, please try loading this page with nbviewer.org.</b></div><div class=\"sk-container\" hidden><div class=\"sk-item\"><div class=\"sk-estimator sk-toggleable\"><input class=\"sk-toggleable__control sk-hidden--visually\" id=\"sk-estimator-id-2\" type=\"checkbox\" checked><label for=\"sk-estimator-id-2\" class=\"sk-toggleable__label sk-toggleable__label-arrow\">SVC</label><div class=\"sk-toggleable__content\"><pre>SVC(kernel=&#x27;linear&#x27;)</pre></div></div></div></div></div>"
      ],
      "text/plain": [
       "SVC(kernel='linear')"
      ]
     },
     "execution_count": 10,
     "metadata": {},
     "output_type": "execute_result"
    }
   ],
   "source": [
    "# Try using Support Vector Classifier (SVC) from scikit-learn\n",
    "# Apply similar processes as above through SVC i.e., Make prediction, check accuacy and plot confusion matrix\n",
    "from sklearn.svm import SVC\n",
    "from sklearn.metrics import accuracy_score, confusion_matrix\n",
    "df = pd.read_csv('Dataset/emails.csv')\n",
    "X_train, X_test, y_train, y_test = train_test_split(df.drop(['Email No.', 'Prediction'], axis=1), df.Prediction, test_size=0.33, random_state=52)\n",
    "classifier = SVC(kernel = 'linear')\n",
    "classifier.fit(X_train, y_train.values.reshape(-1))"
   ]
  },
  {
   "cell_type": "code",
   "execution_count": 11,
   "metadata": {},
   "outputs": [
    {
     "name": "stdout",
     "output_type": "stream",
     "text": [
      "Accuracy: 0.9543057996485061\n"
     ]
    }
   ],
   "source": [
    "y_pred = classifier.predict(X_test)\n",
    "accuracy = accuracy_score(y_test, y_pred)\n",
    "print(\"Accuracy:\", accuracy)"
   ]
  },
  {
   "cell_type": "code",
   "execution_count": 12,
   "metadata": {},
   "outputs": [
    {
     "data": {
      "image/png": "[encoded data removed]",
      "text/plain": [
       "<Figure size 640x480 with 2 Axes>"
      ]
     },
     "metadata": {},
     "output_type": "display_data"
    }
   ],
   "source": [
    "cm = confusion_matrix(y_test, y_pred)\n",
    "sns.heatmap(cm, annot=True, fmt='d', cmap='Reds')\n",
    "plt.xlabel('Predicted')\n",
    "plt.ylabel('Actual')\n",
    "plt.title('Confusion Matrix')\n",
    "plt.show()"
   ]
  },
  {
   "cell_type": "markdown",
   "metadata": {
    "datalore": {
     "hide_input_from_viewers": true,
     "hide_output_from_viewers": true,
     "node_id": "rDs3zZmLCuEMozF6sE4QdY",
     "type": "MD"
    },
    "id": "17xnKwHJwVk3"
   },
   "source": [
    "## Comparing the models"
   ]
  },
  {
   "cell_type": "code",
   "execution_count": 13,
   "metadata": {
    "datalore": {
     "hide_input_from_viewers": true,
     "hide_output_from_viewers": true,
     "node_id": "OXkV2RFBF1Ld7DQFVa6083",
     "type": "CODE"
    },
    "id": "tdXtE7E-wVk4"
   },
   "outputs": [],
   "source": [
    "# Which model performed better?"
   ]
  },
  {
   "cell_type": "markdown",
   "metadata": {},
   "source": [
    "Multinomial NB Classifier has score of : 0.9420103092783505\n",
    "while SVC moded has score of: 0.9543057996485061\n",
    "we can see that svc model performs slight better compared to NB classifer"
   ]
  },
  {
   "cell_type": "code",
   "execution_count": 14,
   "metadata": {},
   "outputs": [],
   "source": [
    "# Can you suggest some reason for better performance of one model over the other?"
   ]
  },
  {
   "cell_type": "markdown",
   "metadata": {},
   "source": [
    "The reason could be SVC is less sensitive to irrelevant features compared to NB.\n",
    "The performance of SVC can be highly dependent on the choice of hyperparameters, such as the kernel type and here i have used linear kernel which has increased the score for svc model."
   ]
  },
  {
   "cell_type": "markdown",
   "metadata": {
    "datalore": {
     "hide_input_from_viewers": true,
     "hide_output_from_viewers": true,
     "node_id": "ZaqRxhVmJPCcmG1rd2ksQs",
     "type": "MD"
    },
    "id": "zKZDL-3xwVk4"
   },
   "source": [
    "## Bonus Question"
   ]
  },
  {
   "cell_type": "code",
   "execution_count": 15,
   "metadata": {
    "datalore": {
     "hide_input_from_viewers": true,
     "hide_output_from_viewers": true,
     "node_id": "AlYkiwHK5HWuVKBPZBPTuj",
     "type": "CODE"
    },
    "id": "aRjatCPTwVk4"
   },
   "outputs": [],
   "source": [
    "# Given a string. Try to create the dataset having each word of dataset as column and row values as the frequency of that word.\n",
    "# For example \n",
    "# s = \"I am a Python developer and currently working on a project to classify mails\"\n",
    "# dataframe = {\"I\" : 1,\n",
    "#              \"am\" :1,\n",
    "#              \"a\" : 2,\n",
    "#               ...}"
   ]
  },
  {
   "cell_type": "code",
   "execution_count": 15,
   "metadata": {},
   "outputs": [
    {
     "name": "stdout",
     "output_type": "stream",
     "text": [
      "         Word  Frequency\n",
      "0          am          1\n",
      "1         and          1\n",
      "2    classify          1\n",
      "3   currently          1\n",
      "4   developer          1\n",
      "5       mails          1\n",
      "6          on          1\n",
      "7     project          1\n",
      "8      python          1\n",
      "9          to          1\n",
      "10    working          1\n"
     ]
    }
   ],
   "source": [
    "from sklearn.feature_extraction.text import CountVectorizer\n",
    "s = \"I am a Python developer and currently working on a project to classify mails\"\n",
    "vectorizer = CountVectorizer()\n",
    "X = vectorizer.fit_transform([s])\n",
    "vocabulary = vectorizer.get_feature_names_out()\n",
    "frequencies = X.toarray()[0]\n",
    "df = pd.DataFrame({'Word': vocabulary, 'Frequency': frequencies})\n",
    "print(df)"
   ]
  },
  {
   "cell_type": "markdown",
   "metadata": {},
   "source": [
    "## Submitted by: Yashwin Tapdiya\n",
    "## yashwintapdiya@gmail.com"
   ]
  }
 ],
 "metadata": {
  "colab": {
   "provenance": []
  },
  "datalore": {
   "base_environment": "default",
   "computation_mode": "JUPYTER",
   "package_manager": "pip",
   "packages": [],
   "report_row_ids": [],
   "version": 3
  },
  "kernelspec": {
   "display_name": "Python 3 (ipykernel)",
   "language": "python",
   "name": "python3"
  },
  "language_info": {
   "codemirror_mode": {
    "name": "ipython",
    "version": 3
   },
   "file_extension": ".py",
   "mimetype": "text/x-python",
   "name": "python",
   "nbconvert_exporter": "python",
   "pygments_lexer": "ipython3",
   "version": "3.9.13"
  }
 },
 "nbformat": 4,
 "nbformat_minor": 1
}
